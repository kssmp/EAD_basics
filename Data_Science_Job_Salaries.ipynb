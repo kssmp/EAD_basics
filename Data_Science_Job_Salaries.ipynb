{
  "nbformat": 4,
  "nbformat_minor": 0,
  "metadata": {
    "colab": {
      "provenance": [],
      "authorship_tag": "ABX9TyPTlaxiHIYxSNt9n6a/nip/",
      "include_colab_link": true
    },
    "kernelspec": {
      "name": "python3",
      "display_name": "Python 3"
    },
    "language_info": {
      "name": "python"
    }
  },
  "cells": [
    {
      "cell_type": "markdown",
      "metadata": {
        "id": "view-in-github",
        "colab_type": "text"
      },
      "source": [
        "<a href=\"https://colab.research.google.com/github/kssmp/EAD_basics/blob/main/Data_Science_Job_Salaries.ipynb\" target=\"_parent\"><img src=\"https://colab.research.google.com/assets/colab-badge.svg\" alt=\"Open In Colab\"/></a>"
      ]
    },
    {
      "cell_type": "markdown",
      "source": [
        "# **Exploratory Data Analysis on Data Science Jobs and Salaries**\n",
        "\n",
        "Information about Dataset :\n",
        "\n",
        "\n",
        "*   Contains 600+ entries on different Data Science Streams and their respective salaries\n",
        "*   Source : https://shorturl.at/nyAE0\n",
        "\n",
        "Objectives :\n",
        "\n",
        "\n",
        "*   Visualize various factors like employee locations and various positions and their effects on Salaries\n",
        "\n",
        "\n",
        "\n",
        "\n"
      ],
      "metadata": {
        "id": "pefAc8AhcQSa"
      }
    },
    {
      "cell_type": "code",
      "execution_count": 1,
      "metadata": {
        "id": "_0sSAtVVKRvg",
        "colab": {
          "base_uri": "https://localhost:8080/",
          "height": 17
        },
        "outputId": "2f18ea3b-b624-427a-9c99-303e9562f2da"
      },
      "outputs": [
        {
          "output_type": "display_data",
          "data": {
            "text/html": [
              "        <script type=\"text/javascript\">\n",
              "        window.PlotlyConfig = {MathJaxConfig: 'local'};\n",
              "        if (window.MathJax && window.MathJax.Hub && window.MathJax.Hub.Config) {window.MathJax.Hub.Config({SVG: {font: \"STIX-Web\"}});}\n",
              "        if (typeof require !== 'undefined') {\n",
              "        require.undef(\"plotly\");\n",
              "        requirejs.config({\n",
              "            paths: {\n",
              "                'plotly': ['https://cdn.plot.ly/plotly-2.18.2.min']\n",
              "            }\n",
              "        });\n",
              "        require(['plotly'], function(Plotly) {\n",
              "            window._Plotly = Plotly;\n",
              "        });\n",
              "        }\n",
              "        </script>\n",
              "        "
            ]
          },
          "metadata": {}
        }
      ],
      "source": [
        "# Importing various Libraries needed for data management and visualization\n",
        "#!pip install country_converter\n",
        "import pandas as pd\n",
        "import numpy as np\n",
        "import matplotlib.pyplot as plt\n",
        "import country_converter as coco\n",
        "import seaborn as sns\n",
        "import plotly.express as px\n",
        "import plotly.figure_factory as ff\n",
        "import plotly.graph_objects as go\n",
        "from plotly.offline import plot, iplot, init_notebook_mode\n",
        "init_notebook_mode(connected=True)\n",
        "%matplotlib inline\n",
        "sns.set_style('darkgrid')\n",
        "import warnings\n",
        "warnings.filterwarnings(\"ignore\")"
      ]
    },
    {
      "cell_type": "code",
      "source": [
        "df = pd.read_csv(\"ds_salaries.csv\")\n",
        "df.sample(5).reset_index(drop= True).style.set_properties(**{'background-color' : '#fabee9','color':'black', 'border-color' : '#000000'})"
      ],
      "metadata": {
        "colab": {
          "base_uri": "https://localhost:8080/",
          "height": 330
        },
        "id": "_vTMIweRKurX",
        "outputId": "b39c81d3-3232-48d0-8505-e606d926939f"
      },
      "execution_count": 2,
      "outputs": [
        {
          "output_type": "execute_result",
          "data": {
            "text/plain": [
              "<pandas.io.formats.style.Styler at 0x7ff80186afe0>"
            ],
            "text/html": [
              "<style type=\"text/css\">\n",
              "#T_119a9_row0_col0, #T_119a9_row0_col1, #T_119a9_row0_col2, #T_119a9_row0_col3, #T_119a9_row0_col4, #T_119a9_row0_col5, #T_119a9_row0_col6, #T_119a9_row0_col7, #T_119a9_row0_col8, #T_119a9_row0_col9, #T_119a9_row0_col10, #T_119a9_row0_col11, #T_119a9_row1_col0, #T_119a9_row1_col1, #T_119a9_row1_col2, #T_119a9_row1_col3, #T_119a9_row1_col4, #T_119a9_row1_col5, #T_119a9_row1_col6, #T_119a9_row1_col7, #T_119a9_row1_col8, #T_119a9_row1_col9, #T_119a9_row1_col10, #T_119a9_row1_col11, #T_119a9_row2_col0, #T_119a9_row2_col1, #T_119a9_row2_col2, #T_119a9_row2_col3, #T_119a9_row2_col4, #T_119a9_row2_col5, #T_119a9_row2_col6, #T_119a9_row2_col7, #T_119a9_row2_col8, #T_119a9_row2_col9, #T_119a9_row2_col10, #T_119a9_row2_col11, #T_119a9_row3_col0, #T_119a9_row3_col1, #T_119a9_row3_col2, #T_119a9_row3_col3, #T_119a9_row3_col4, #T_119a9_row3_col5, #T_119a9_row3_col6, #T_119a9_row3_col7, #T_119a9_row3_col8, #T_119a9_row3_col9, #T_119a9_row3_col10, #T_119a9_row3_col11, #T_119a9_row4_col0, #T_119a9_row4_col1, #T_119a9_row4_col2, #T_119a9_row4_col3, #T_119a9_row4_col4, #T_119a9_row4_col5, #T_119a9_row4_col6, #T_119a9_row4_col7, #T_119a9_row4_col8, #T_119a9_row4_col9, #T_119a9_row4_col10, #T_119a9_row4_col11 {\n",
              "  background-color: #fabee9;\n",
              "  color: black;\n",
              "  border-color: #000000;\n",
              "}\n",
              "</style>\n",
              "<table id=\"T_119a9\" class=\"dataframe\">\n",
              "  <thead>\n",
              "    <tr>\n",
              "      <th class=\"blank level0\" >&nbsp;</th>\n",
              "      <th id=\"T_119a9_level0_col0\" class=\"col_heading level0 col0\" >Unnamed: 0</th>\n",
              "      <th id=\"T_119a9_level0_col1\" class=\"col_heading level0 col1\" >work_year</th>\n",
              "      <th id=\"T_119a9_level0_col2\" class=\"col_heading level0 col2\" >experience_level</th>\n",
              "      <th id=\"T_119a9_level0_col3\" class=\"col_heading level0 col3\" >employment_type</th>\n",
              "      <th id=\"T_119a9_level0_col4\" class=\"col_heading level0 col4\" >job_title</th>\n",
              "      <th id=\"T_119a9_level0_col5\" class=\"col_heading level0 col5\" >salary</th>\n",
              "      <th id=\"T_119a9_level0_col6\" class=\"col_heading level0 col6\" >salary_currency</th>\n",
              "      <th id=\"T_119a9_level0_col7\" class=\"col_heading level0 col7\" >salary_in_usd</th>\n",
              "      <th id=\"T_119a9_level0_col8\" class=\"col_heading level0 col8\" >employee_residence</th>\n",
              "      <th id=\"T_119a9_level0_col9\" class=\"col_heading level0 col9\" >remote_ratio</th>\n",
              "      <th id=\"T_119a9_level0_col10\" class=\"col_heading level0 col10\" >company_location</th>\n",
              "      <th id=\"T_119a9_level0_col11\" class=\"col_heading level0 col11\" >company_size</th>\n",
              "    </tr>\n",
              "  </thead>\n",
              "  <tbody>\n",
              "    <tr>\n",
              "      <th id=\"T_119a9_level0_row0\" class=\"row_heading level0 row0\" >0</th>\n",
              "      <td id=\"T_119a9_row0_col0\" class=\"data row0 col0\" >562</td>\n",
              "      <td id=\"T_119a9_row0_col1\" class=\"data row0 col1\" >2022</td>\n",
              "      <td id=\"T_119a9_row0_col2\" class=\"data row0 col2\" >SE</td>\n",
              "      <td id=\"T_119a9_row0_col3\" class=\"data row0 col3\" >FT</td>\n",
              "      <td id=\"T_119a9_row0_col4\" class=\"data row0 col4\" >Data Engineer</td>\n",
              "      <td id=\"T_119a9_row0_col5\" class=\"data row0 col5\" >175100</td>\n",
              "      <td id=\"T_119a9_row0_col6\" class=\"data row0 col6\" >USD</td>\n",
              "      <td id=\"T_119a9_row0_col7\" class=\"data row0 col7\" >175100</td>\n",
              "      <td id=\"T_119a9_row0_col8\" class=\"data row0 col8\" >US</td>\n",
              "      <td id=\"T_119a9_row0_col9\" class=\"data row0 col9\" >100</td>\n",
              "      <td id=\"T_119a9_row0_col10\" class=\"data row0 col10\" >US</td>\n",
              "      <td id=\"T_119a9_row0_col11\" class=\"data row0 col11\" >M</td>\n",
              "    </tr>\n",
              "    <tr>\n",
              "      <th id=\"T_119a9_level0_row1\" class=\"row_heading level0 row1\" >1</th>\n",
              "      <td id=\"T_119a9_row1_col0\" class=\"data row1 col0\" >332</td>\n",
              "      <td id=\"T_119a9_row1_col1\" class=\"data row1 col1\" >2022</td>\n",
              "      <td id=\"T_119a9_row1_col2\" class=\"data row1 col2\" >SE</td>\n",
              "      <td id=\"T_119a9_row1_col3\" class=\"data row1 col3\" >FT</td>\n",
              "      <td id=\"T_119a9_row1_col4\" class=\"data row1 col4\" >Data Analyst</td>\n",
              "      <td id=\"T_119a9_row1_col5\" class=\"data row1 col5\" >112900</td>\n",
              "      <td id=\"T_119a9_row1_col6\" class=\"data row1 col6\" >USD</td>\n",
              "      <td id=\"T_119a9_row1_col7\" class=\"data row1 col7\" >112900</td>\n",
              "      <td id=\"T_119a9_row1_col8\" class=\"data row1 col8\" >US</td>\n",
              "      <td id=\"T_119a9_row1_col9\" class=\"data row1 col9\" >100</td>\n",
              "      <td id=\"T_119a9_row1_col10\" class=\"data row1 col10\" >US</td>\n",
              "      <td id=\"T_119a9_row1_col11\" class=\"data row1 col11\" >M</td>\n",
              "    </tr>\n",
              "    <tr>\n",
              "      <th id=\"T_119a9_level0_row2\" class=\"row_heading level0 row2\" >2</th>\n",
              "      <td id=\"T_119a9_row2_col0\" class=\"data row2 col0\" >598</td>\n",
              "      <td id=\"T_119a9_row2_col1\" class=\"data row2 col1\" >2022</td>\n",
              "      <td id=\"T_119a9_row2_col2\" class=\"data row2 col2\" >MI</td>\n",
              "      <td id=\"T_119a9_row2_col3\" class=\"data row2 col3\" >FT</td>\n",
              "      <td id=\"T_119a9_row2_col4\" class=\"data row2 col4\" >Data Scientist</td>\n",
              "      <td id=\"T_119a9_row2_col5\" class=\"data row2 col5\" >160000</td>\n",
              "      <td id=\"T_119a9_row2_col6\" class=\"data row2 col6\" >USD</td>\n",
              "      <td id=\"T_119a9_row2_col7\" class=\"data row2 col7\" >160000</td>\n",
              "      <td id=\"T_119a9_row2_col8\" class=\"data row2 col8\" >US</td>\n",
              "      <td id=\"T_119a9_row2_col9\" class=\"data row2 col9\" >100</td>\n",
              "      <td id=\"T_119a9_row2_col10\" class=\"data row2 col10\" >US</td>\n",
              "      <td id=\"T_119a9_row2_col11\" class=\"data row2 col11\" >M</td>\n",
              "    </tr>\n",
              "    <tr>\n",
              "      <th id=\"T_119a9_level0_row3\" class=\"row_heading level0 row3\" >3</th>\n",
              "      <td id=\"T_119a9_row3_col0\" class=\"data row3 col0\" >180</td>\n",
              "      <td id=\"T_119a9_row3_col1\" class=\"data row3 col1\" >2021</td>\n",
              "      <td id=\"T_119a9_row3_col2\" class=\"data row3 col2\" >MI</td>\n",
              "      <td id=\"T_119a9_row3_col3\" class=\"data row3 col3\" >FT</td>\n",
              "      <td id=\"T_119a9_row3_col4\" class=\"data row3 col4\" >Big Data Engineer</td>\n",
              "      <td id=\"T_119a9_row3_col5\" class=\"data row3 col5\" >1672000</td>\n",
              "      <td id=\"T_119a9_row3_col6\" class=\"data row3 col6\" >INR</td>\n",
              "      <td id=\"T_119a9_row3_col7\" class=\"data row3 col7\" >22611</td>\n",
              "      <td id=\"T_119a9_row3_col8\" class=\"data row3 col8\" >IN</td>\n",
              "      <td id=\"T_119a9_row3_col9\" class=\"data row3 col9\" >0</td>\n",
              "      <td id=\"T_119a9_row3_col10\" class=\"data row3 col10\" >IN</td>\n",
              "      <td id=\"T_119a9_row3_col11\" class=\"data row3 col11\" >L</td>\n",
              "    </tr>\n",
              "    <tr>\n",
              "      <th id=\"T_119a9_level0_row4\" class=\"row_heading level0 row4\" >4</th>\n",
              "      <td id=\"T_119a9_row4_col0\" class=\"data row4 col0\" >236</td>\n",
              "      <td id=\"T_119a9_row4_col1\" class=\"data row4 col1\" >2021</td>\n",
              "      <td id=\"T_119a9_row4_col2\" class=\"data row4 col2\" >MI</td>\n",
              "      <td id=\"T_119a9_row4_col3\" class=\"data row4 col3\" >FT</td>\n",
              "      <td id=\"T_119a9_row4_col4\" class=\"data row4 col4\" >Research Scientist</td>\n",
              "      <td id=\"T_119a9_row4_col5\" class=\"data row4 col5\" >80000</td>\n",
              "      <td id=\"T_119a9_row4_col6\" class=\"data row4 col6\" >CAD</td>\n",
              "      <td id=\"T_119a9_row4_col7\" class=\"data row4 col7\" >63810</td>\n",
              "      <td id=\"T_119a9_row4_col8\" class=\"data row4 col8\" >CA</td>\n",
              "      <td id=\"T_119a9_row4_col9\" class=\"data row4 col9\" >100</td>\n",
              "      <td id=\"T_119a9_row4_col10\" class=\"data row4 col10\" >CA</td>\n",
              "      <td id=\"T_119a9_row4_col11\" class=\"data row4 col11\" >M</td>\n",
              "    </tr>\n",
              "  </tbody>\n",
              "</table>\n"
            ]
          },
          "metadata": {},
          "execution_count": 2
        }
      ]
    },
    {
      "cell_type": "code",
      "source": [
        "# Checking for any missing values\n",
        "pd.isna(df).any().sum()"
      ],
      "metadata": {
        "colab": {
          "base_uri": "https://localhost:8080/"
        },
        "id": "qOFZSNacLXkA",
        "outputId": "3694cf46-a9b2-4c8a-bf9b-936c45671fa4"
      },
      "execution_count": 3,
      "outputs": [
        {
          "output_type": "execute_result",
          "data": {
            "text/plain": [
              "0"
            ]
          },
          "metadata": {},
          "execution_count": 3
        }
      ]
    },
    {
      "cell_type": "code",
      "source": [
        "df.info()"
      ],
      "metadata": {
        "colab": {
          "base_uri": "https://localhost:8080/"
        },
        "id": "fsZHA7GCQ2zI",
        "outputId": "df638c62-3ab5-4b6b-b70d-cf4ee59ea50a"
      },
      "execution_count": 4,
      "outputs": [
        {
          "output_type": "stream",
          "name": "stdout",
          "text": [
            "<class 'pandas.core.frame.DataFrame'>\n",
            "RangeIndex: 607 entries, 0 to 606\n",
            "Data columns (total 12 columns):\n",
            " #   Column              Non-Null Count  Dtype \n",
            "---  ------              --------------  ----- \n",
            " 0   Unnamed: 0          607 non-null    int64 \n",
            " 1   work_year           607 non-null    int64 \n",
            " 2   experience_level    607 non-null    object\n",
            " 3   employment_type     607 non-null    object\n",
            " 4   job_title           607 non-null    object\n",
            " 5   salary              607 non-null    int64 \n",
            " 6   salary_currency     607 non-null    object\n",
            " 7   salary_in_usd       607 non-null    int64 \n",
            " 8   employee_residence  607 non-null    object\n",
            " 9   remote_ratio        607 non-null    int64 \n",
            " 10  company_location    607 non-null    object\n",
            " 11  company_size        607 non-null    object\n",
            "dtypes: int64(5), object(7)\n",
            "memory usage: 57.0+ KB\n"
          ]
        }
      ]
    },
    {
      "cell_type": "code",
      "source": [
        "# replacing some values so as to make subsequent tables more understandable\n",
        "df.remote_ratio.replace([100,50,0],['Fully Remote','Partially Remote', 'On-site'],inplace = True)\n",
        "df.experience_level.replace(['EN','MI','SE','EX'],['Entry','Mid','Senior','Executive'],inplace = True)\n",
        "df.employment_type.replace(['FT','PT','CT','FL'],['Full Time','Part Time','Contract','Freelance'],inplace = True)"
      ],
      "metadata": {
        "id": "_TuPRcbNPV9W"
      },
      "execution_count": 5,
      "outputs": []
    },
    {
      "cell_type": "code",
      "source": [
        "df.head()"
      ],
      "metadata": {
        "colab": {
          "base_uri": "https://localhost:8080/",
          "height": 426
        },
        "id": "DVu-9Z_0QYcR",
        "outputId": "68a5261a-f8eb-4ac5-ab37-d2b0e71f4607"
      },
      "execution_count": 6,
      "outputs": [
        {
          "output_type": "execute_result",
          "data": {
            "text/plain": [
              "   Unnamed: 0  work_year experience_level employment_type  \\\n",
              "0           0       2020              Mid       Full Time   \n",
              "1           1       2020           Senior       Full Time   \n",
              "2           2       2020           Senior       Full Time   \n",
              "3           3       2020              Mid       Full Time   \n",
              "4           4       2020           Senior       Full Time   \n",
              "\n",
              "                    job_title  salary salary_currency  salary_in_usd  \\\n",
              "0              Data Scientist   70000             EUR          79833   \n",
              "1  Machine Learning Scientist  260000             USD         260000   \n",
              "2           Big Data Engineer   85000             GBP         109024   \n",
              "3        Product Data Analyst   20000             USD          20000   \n",
              "4   Machine Learning Engineer  150000             USD         150000   \n",
              "\n",
              "  employee_residence      remote_ratio company_location company_size  \n",
              "0                 DE           On-site               DE            L  \n",
              "1                 JP           On-site               JP            S  \n",
              "2                 GB  Partially Remote               GB            M  \n",
              "3                 HN           On-site               HN            S  \n",
              "4                 US  Partially Remote               US            L  "
            ],
            "text/html": [
              "\n",
              "  <div id=\"df-917898e9-4f9d-4fbd-b529-8356127e0291\">\n",
              "    <div class=\"colab-df-container\">\n",
              "      <div>\n",
              "<style scoped>\n",
              "    .dataframe tbody tr th:only-of-type {\n",
              "        vertical-align: middle;\n",
              "    }\n",
              "\n",
              "    .dataframe tbody tr th {\n",
              "        vertical-align: top;\n",
              "    }\n",
              "\n",
              "    .dataframe thead th {\n",
              "        text-align: right;\n",
              "    }\n",
              "</style>\n",
              "<table border=\"1\" class=\"dataframe\">\n",
              "  <thead>\n",
              "    <tr style=\"text-align: right;\">\n",
              "      <th></th>\n",
              "      <th>Unnamed: 0</th>\n",
              "      <th>work_year</th>\n",
              "      <th>experience_level</th>\n",
              "      <th>employment_type</th>\n",
              "      <th>job_title</th>\n",
              "      <th>salary</th>\n",
              "      <th>salary_currency</th>\n",
              "      <th>salary_in_usd</th>\n",
              "      <th>employee_residence</th>\n",
              "      <th>remote_ratio</th>\n",
              "      <th>company_location</th>\n",
              "      <th>company_size</th>\n",
              "    </tr>\n",
              "  </thead>\n",
              "  <tbody>\n",
              "    <tr>\n",
              "      <th>0</th>\n",
              "      <td>0</td>\n",
              "      <td>2020</td>\n",
              "      <td>Mid</td>\n",
              "      <td>Full Time</td>\n",
              "      <td>Data Scientist</td>\n",
              "      <td>70000</td>\n",
              "      <td>EUR</td>\n",
              "      <td>79833</td>\n",
              "      <td>DE</td>\n",
              "      <td>On-site</td>\n",
              "      <td>DE</td>\n",
              "      <td>L</td>\n",
              "    </tr>\n",
              "    <tr>\n",
              "      <th>1</th>\n",
              "      <td>1</td>\n",
              "      <td>2020</td>\n",
              "      <td>Senior</td>\n",
              "      <td>Full Time</td>\n",
              "      <td>Machine Learning Scientist</td>\n",
              "      <td>260000</td>\n",
              "      <td>USD</td>\n",
              "      <td>260000</td>\n",
              "      <td>JP</td>\n",
              "      <td>On-site</td>\n",
              "      <td>JP</td>\n",
              "      <td>S</td>\n",
              "    </tr>\n",
              "    <tr>\n",
              "      <th>2</th>\n",
              "      <td>2</td>\n",
              "      <td>2020</td>\n",
              "      <td>Senior</td>\n",
              "      <td>Full Time</td>\n",
              "      <td>Big Data Engineer</td>\n",
              "      <td>85000</td>\n",
              "      <td>GBP</td>\n",
              "      <td>109024</td>\n",
              "      <td>GB</td>\n",
              "      <td>Partially Remote</td>\n",
              "      <td>GB</td>\n",
              "      <td>M</td>\n",
              "    </tr>\n",
              "    <tr>\n",
              "      <th>3</th>\n",
              "      <td>3</td>\n",
              "      <td>2020</td>\n",
              "      <td>Mid</td>\n",
              "      <td>Full Time</td>\n",
              "      <td>Product Data Analyst</td>\n",
              "      <td>20000</td>\n",
              "      <td>USD</td>\n",
              "      <td>20000</td>\n",
              "      <td>HN</td>\n",
              "      <td>On-site</td>\n",
              "      <td>HN</td>\n",
              "      <td>S</td>\n",
              "    </tr>\n",
              "    <tr>\n",
              "      <th>4</th>\n",
              "      <td>4</td>\n",
              "      <td>2020</td>\n",
              "      <td>Senior</td>\n",
              "      <td>Full Time</td>\n",
              "      <td>Machine Learning Engineer</td>\n",
              "      <td>150000</td>\n",
              "      <td>USD</td>\n",
              "      <td>150000</td>\n",
              "      <td>US</td>\n",
              "      <td>Partially Remote</td>\n",
              "      <td>US</td>\n",
              "      <td>L</td>\n",
              "    </tr>\n",
              "  </tbody>\n",
              "</table>\n",
              "</div>\n",
              "      <button class=\"colab-df-convert\" onclick=\"convertToInteractive('df-917898e9-4f9d-4fbd-b529-8356127e0291')\"\n",
              "              title=\"Convert this dataframe to an interactive table.\"\n",
              "              style=\"display:none;\">\n",
              "        \n",
              "  <svg xmlns=\"http://www.w3.org/2000/svg\" height=\"24px\"viewBox=\"0 0 24 24\"\n",
              "       width=\"24px\">\n",
              "    <path d=\"M0 0h24v24H0V0z\" fill=\"none\"/>\n",
              "    <path d=\"M18.56 5.44l.94 2.06.94-2.06 2.06-.94-2.06-.94-.94-2.06-.94 2.06-2.06.94zm-11 1L8.5 8.5l.94-2.06 2.06-.94-2.06-.94L8.5 2.5l-.94 2.06-2.06.94zm10 10l.94 2.06.94-2.06 2.06-.94-2.06-.94-.94-2.06-.94 2.06-2.06.94z\"/><path d=\"M17.41 7.96l-1.37-1.37c-.4-.4-.92-.59-1.43-.59-.52 0-1.04.2-1.43.59L10.3 9.45l-7.72 7.72c-.78.78-.78 2.05 0 2.83L4 21.41c.39.39.9.59 1.41.59.51 0 1.02-.2 1.41-.59l7.78-7.78 2.81-2.81c.8-.78.8-2.07 0-2.86zM5.41 20L4 18.59l7.72-7.72 1.47 1.35L5.41 20z\"/>\n",
              "  </svg>\n",
              "      </button>\n",
              "      \n",
              "  <style>\n",
              "    .colab-df-container {\n",
              "      display:flex;\n",
              "      flex-wrap:wrap;\n",
              "      gap: 12px;\n",
              "    }\n",
              "\n",
              "    .colab-df-convert {\n",
              "      background-color: #E8F0FE;\n",
              "      border: none;\n",
              "      border-radius: 50%;\n",
              "      cursor: pointer;\n",
              "      display: none;\n",
              "      fill: #1967D2;\n",
              "      height: 32px;\n",
              "      padding: 0 0 0 0;\n",
              "      width: 32px;\n",
              "    }\n",
              "\n",
              "    .colab-df-convert:hover {\n",
              "      background-color: #E2EBFA;\n",
              "      box-shadow: 0px 1px 2px rgba(60, 64, 67, 0.3), 0px 1px 3px 1px rgba(60, 64, 67, 0.15);\n",
              "      fill: #174EA6;\n",
              "    }\n",
              "\n",
              "    [theme=dark] .colab-df-convert {\n",
              "      background-color: #3B4455;\n",
              "      fill: #D2E3FC;\n",
              "    }\n",
              "\n",
              "    [theme=dark] .colab-df-convert:hover {\n",
              "      background-color: #434B5C;\n",
              "      box-shadow: 0px 1px 3px 1px rgba(0, 0, 0, 0.15);\n",
              "      filter: drop-shadow(0px 1px 2px rgba(0, 0, 0, 0.3));\n",
              "      fill: #FFFFFF;\n",
              "    }\n",
              "  </style>\n",
              "\n",
              "      <script>\n",
              "        const buttonEl =\n",
              "          document.querySelector('#df-917898e9-4f9d-4fbd-b529-8356127e0291 button.colab-df-convert');\n",
              "        buttonEl.style.display =\n",
              "          google.colab.kernel.accessAllowed ? 'block' : 'none';\n",
              "\n",
              "        async function convertToInteractive(key) {\n",
              "          const element = document.querySelector('#df-917898e9-4f9d-4fbd-b529-8356127e0291');\n",
              "          const dataTable =\n",
              "            await google.colab.kernel.invokeFunction('convertToInteractive',\n",
              "                                                     [key], {});\n",
              "          if (!dataTable) return;\n",
              "\n",
              "          const docLinkHtml = 'Like what you see? Visit the ' +\n",
              "            '<a target=\"_blank\" href=https://colab.research.google.com/notebooks/data_table.ipynb>data table notebook</a>'\n",
              "            + ' to learn more about interactive tables.';\n",
              "          element.innerHTML = '';\n",
              "          dataTable['output_type'] = 'display_data';\n",
              "          await google.colab.output.renderOutput(dataTable, element);\n",
              "          const docLink = document.createElement('div');\n",
              "          docLink.innerHTML = docLinkHtml;\n",
              "          element.appendChild(docLink);\n",
              "        }\n",
              "      </script>\n",
              "    </div>\n",
              "  </div>\n",
              "  "
            ]
          },
          "metadata": {},
          "execution_count": 6
        }
      ]
    },
    {
      "cell_type": "code",
      "source": [
        "df.shape"
      ],
      "metadata": {
        "colab": {
          "base_uri": "https://localhost:8080/"
        },
        "id": "iO7o4MQ6QwxZ",
        "outputId": "a98ce493-3e35-4149-b65b-4c708c6a2fd4"
      },
      "execution_count": 7,
      "outputs": [
        {
          "output_type": "execute_result",
          "data": {
            "text/plain": [
              "(607, 12)"
            ]
          },
          "metadata": {},
          "execution_count": 7
        }
      ]
    },
    {
      "cell_type": "code",
      "source": [
        "df.describe()"
      ],
      "metadata": {
        "colab": {
          "base_uri": "https://localhost:8080/",
          "height": 300
        },
        "id": "HxhtUBeWRqCp",
        "outputId": "71f393f8-e03c-4600-dd04-e6113a333d08"
      },
      "execution_count": 8,
      "outputs": [
        {
          "output_type": "execute_result",
          "data": {
            "text/plain": [
              "       Unnamed: 0    work_year        salary  salary_in_usd\n",
              "count  607.000000   607.000000  6.070000e+02     607.000000\n",
              "mean   303.000000  2021.405272  3.240001e+05  112297.869852\n",
              "std    175.370085     0.692133  1.544357e+06   70957.259411\n",
              "min      0.000000  2020.000000  4.000000e+03    2859.000000\n",
              "25%    151.500000  2021.000000  7.000000e+04   62726.000000\n",
              "50%    303.000000  2022.000000  1.150000e+05  101570.000000\n",
              "75%    454.500000  2022.000000  1.650000e+05  150000.000000\n",
              "max    606.000000  2022.000000  3.040000e+07  600000.000000"
            ],
            "text/html": [
              "\n",
              "  <div id=\"df-d466d20a-1853-46b8-96c4-b73375cb70fc\">\n",
              "    <div class=\"colab-df-container\">\n",
              "      <div>\n",
              "<style scoped>\n",
              "    .dataframe tbody tr th:only-of-type {\n",
              "        vertical-align: middle;\n",
              "    }\n",
              "\n",
              "    .dataframe tbody tr th {\n",
              "        vertical-align: top;\n",
              "    }\n",
              "\n",
              "    .dataframe thead th {\n",
              "        text-align: right;\n",
              "    }\n",
              "</style>\n",
              "<table border=\"1\" class=\"dataframe\">\n",
              "  <thead>\n",
              "    <tr style=\"text-align: right;\">\n",
              "      <th></th>\n",
              "      <th>Unnamed: 0</th>\n",
              "      <th>work_year</th>\n",
              "      <th>salary</th>\n",
              "      <th>salary_in_usd</th>\n",
              "    </tr>\n",
              "  </thead>\n",
              "  <tbody>\n",
              "    <tr>\n",
              "      <th>count</th>\n",
              "      <td>607.000000</td>\n",
              "      <td>607.000000</td>\n",
              "      <td>6.070000e+02</td>\n",
              "      <td>607.000000</td>\n",
              "    </tr>\n",
              "    <tr>\n",
              "      <th>mean</th>\n",
              "      <td>303.000000</td>\n",
              "      <td>2021.405272</td>\n",
              "      <td>3.240001e+05</td>\n",
              "      <td>112297.869852</td>\n",
              "    </tr>\n",
              "    <tr>\n",
              "      <th>std</th>\n",
              "      <td>175.370085</td>\n",
              "      <td>0.692133</td>\n",
              "      <td>1.544357e+06</td>\n",
              "      <td>70957.259411</td>\n",
              "    </tr>\n",
              "    <tr>\n",
              "      <th>min</th>\n",
              "      <td>0.000000</td>\n",
              "      <td>2020.000000</td>\n",
              "      <td>4.000000e+03</td>\n",
              "      <td>2859.000000</td>\n",
              "    </tr>\n",
              "    <tr>\n",
              "      <th>25%</th>\n",
              "      <td>151.500000</td>\n",
              "      <td>2021.000000</td>\n",
              "      <td>7.000000e+04</td>\n",
              "      <td>62726.000000</td>\n",
              "    </tr>\n",
              "    <tr>\n",
              "      <th>50%</th>\n",
              "      <td>303.000000</td>\n",
              "      <td>2022.000000</td>\n",
              "      <td>1.150000e+05</td>\n",
              "      <td>101570.000000</td>\n",
              "    </tr>\n",
              "    <tr>\n",
              "      <th>75%</th>\n",
              "      <td>454.500000</td>\n",
              "      <td>2022.000000</td>\n",
              "      <td>1.650000e+05</td>\n",
              "      <td>150000.000000</td>\n",
              "    </tr>\n",
              "    <tr>\n",
              "      <th>max</th>\n",
              "      <td>606.000000</td>\n",
              "      <td>2022.000000</td>\n",
              "      <td>3.040000e+07</td>\n",
              "      <td>600000.000000</td>\n",
              "    </tr>\n",
              "  </tbody>\n",
              "</table>\n",
              "</div>\n",
              "      <button class=\"colab-df-convert\" onclick=\"convertToInteractive('df-d466d20a-1853-46b8-96c4-b73375cb70fc')\"\n",
              "              title=\"Convert this dataframe to an interactive table.\"\n",
              "              style=\"display:none;\">\n",
              "        \n",
              "  <svg xmlns=\"http://www.w3.org/2000/svg\" height=\"24px\"viewBox=\"0 0 24 24\"\n",
              "       width=\"24px\">\n",
              "    <path d=\"M0 0h24v24H0V0z\" fill=\"none\"/>\n",
              "    <path d=\"M18.56 5.44l.94 2.06.94-2.06 2.06-.94-2.06-.94-.94-2.06-.94 2.06-2.06.94zm-11 1L8.5 8.5l.94-2.06 2.06-.94-2.06-.94L8.5 2.5l-.94 2.06-2.06.94zm10 10l.94 2.06.94-2.06 2.06-.94-2.06-.94-.94-2.06-.94 2.06-2.06.94z\"/><path d=\"M17.41 7.96l-1.37-1.37c-.4-.4-.92-.59-1.43-.59-.52 0-1.04.2-1.43.59L10.3 9.45l-7.72 7.72c-.78.78-.78 2.05 0 2.83L4 21.41c.39.39.9.59 1.41.59.51 0 1.02-.2 1.41-.59l7.78-7.78 2.81-2.81c.8-.78.8-2.07 0-2.86zM5.41 20L4 18.59l7.72-7.72 1.47 1.35L5.41 20z\"/>\n",
              "  </svg>\n",
              "      </button>\n",
              "      \n",
              "  <style>\n",
              "    .colab-df-container {\n",
              "      display:flex;\n",
              "      flex-wrap:wrap;\n",
              "      gap: 12px;\n",
              "    }\n",
              "\n",
              "    .colab-df-convert {\n",
              "      background-color: #E8F0FE;\n",
              "      border: none;\n",
              "      border-radius: 50%;\n",
              "      cursor: pointer;\n",
              "      display: none;\n",
              "      fill: #1967D2;\n",
              "      height: 32px;\n",
              "      padding: 0 0 0 0;\n",
              "      width: 32px;\n",
              "    }\n",
              "\n",
              "    .colab-df-convert:hover {\n",
              "      background-color: #E2EBFA;\n",
              "      box-shadow: 0px 1px 2px rgba(60, 64, 67, 0.3), 0px 1px 3px 1px rgba(60, 64, 67, 0.15);\n",
              "      fill: #174EA6;\n",
              "    }\n",
              "\n",
              "    [theme=dark] .colab-df-convert {\n",
              "      background-color: #3B4455;\n",
              "      fill: #D2E3FC;\n",
              "    }\n",
              "\n",
              "    [theme=dark] .colab-df-convert:hover {\n",
              "      background-color: #434B5C;\n",
              "      box-shadow: 0px 1px 3px 1px rgba(0, 0, 0, 0.15);\n",
              "      filter: drop-shadow(0px 1px 2px rgba(0, 0, 0, 0.3));\n",
              "      fill: #FFFFFF;\n",
              "    }\n",
              "  </style>\n",
              "\n",
              "      <script>\n",
              "        const buttonEl =\n",
              "          document.querySelector('#df-d466d20a-1853-46b8-96c4-b73375cb70fc button.colab-df-convert');\n",
              "        buttonEl.style.display =\n",
              "          google.colab.kernel.accessAllowed ? 'block' : 'none';\n",
              "\n",
              "        async function convertToInteractive(key) {\n",
              "          const element = document.querySelector('#df-d466d20a-1853-46b8-96c4-b73375cb70fc');\n",
              "          const dataTable =\n",
              "            await google.colab.kernel.invokeFunction('convertToInteractive',\n",
              "                                                     [key], {});\n",
              "          if (!dataTable) return;\n",
              "\n",
              "          const docLinkHtml = 'Like what you see? Visit the ' +\n",
              "            '<a target=\"_blank\" href=https://colab.research.google.com/notebooks/data_table.ipynb>data table notebook</a>'\n",
              "            + ' to learn more about interactive tables.';\n",
              "          element.innerHTML = '';\n",
              "          dataTable['output_type'] = 'display_data';\n",
              "          await google.colab.output.renderOutput(dataTable, element);\n",
              "          const docLink = document.createElement('div');\n",
              "          docLink.innerHTML = docLinkHtml;\n",
              "          element.appendChild(docLink);\n",
              "        }\n",
              "      </script>\n",
              "    </div>\n",
              "  </div>\n",
              "  "
            ]
          },
          "metadata": {},
          "execution_count": 8
        }
      ]
    },
    {
      "cell_type": "code",
      "source": [
        "df.nunique()"
      ],
      "metadata": {
        "colab": {
          "base_uri": "https://localhost:8080/"
        },
        "id": "QtNi8R_oR0JE",
        "outputId": "7f908e30-2a02-4720-8b14-c67e9fa12351"
      },
      "execution_count": 9,
      "outputs": [
        {
          "output_type": "execute_result",
          "data": {
            "text/plain": [
              "Unnamed: 0            607\n",
              "work_year               3\n",
              "experience_level        4\n",
              "employment_type         4\n",
              "job_title              50\n",
              "salary                272\n",
              "salary_currency        17\n",
              "salary_in_usd         369\n",
              "employee_residence     57\n",
              "remote_ratio            3\n",
              "company_location       50\n",
              "company_size            3\n",
              "dtype: int64"
            ]
          },
          "metadata": {},
          "execution_count": 9
        }
      ]
    },
    {
      "cell_type": "code",
      "source": [
        "# Creating a Tree map plot to visualize Experience level percentage in each Position of Responsibility\n",
        "ex_level = df['experience_level'].value_counts()\n",
        "ex_level_percentage = (ex_level / len(df) * 100).round(2)\n",
        "\n",
        "fig = go.Figure(go.Treemap(\n",
        "    labels=ex_level.index,\n",
        "    parents=[\"\"] * len(ex_level),\n",
        "    values=ex_level.values,\n",
        "    text=[f\"{count} ({percentage:.2f}%)\" for count, percentage in zip(ex_level.values, ex_level_percentage)],\n",
        "    textposition=\"middle center\"\n",
        "))\n",
        "\n",
        "fig.update_traces(textfont_size=15)\n",
        "fig.update_layout(\n",
        "    title=\"Experience Level\",\n",
        "    width=800,\n",
        "    height=500,\n",
        "    title_x=0.5,\n",
        ")\n",
        "\n",
        "fig.show()"
      ],
      "metadata": {
        "colab": {
          "base_uri": "https://localhost:8080/",
          "height": 517
        },
        "id": "rayqZ-53SPh_",
        "outputId": "e12e8fd7-4df8-4faa-fbda-923271001b43"
      },
      "execution_count": 10,
      "outputs": [
        {
          "output_type": "display_data",
          "data": {
            "application/vnd.plotly.v1+json": {
              "data": [
                {
                  "labels": [
                    "Senior",
                    "Mid",
                    "Entry",
                    "Executive"
                  ],
                  "parents": [
                    "",
                    "",
                    "",
                    ""
                  ],
                  "text": [
                    "280 (46.13%)",
                    "213 (35.09%)",
                    "88 (14.50%)",
                    "26 (4.28%)"
                  ],
                  "textposition": "middle center",
                  "values": [
                    280,
                    213,
                    88,
                    26
                  ],
                  "type": "treemap",
                  "textfont": {
                    "size": 15
                  }
                }
              ],
              "layout": {
                "template": {
                  "data": {
                    "histogram2dcontour": [
                      {
                        "type": "histogram2dcontour",
                        "colorbar": {
                          "outlinewidth": 0,
                          "ticks": ""
                        },
                        "colorscale": [
                          [
                            0,
                            "#0d0887"
                          ],
                          [
                            0.1111111111111111,
                            "#46039f"
                          ],
                          [
                            0.2222222222222222,
                            "#7201a8"
                          ],
                          [
                            0.3333333333333333,
                            "#9c179e"
                          ],
                          [
                            0.4444444444444444,
                            "#bd3786"
                          ],
                          [
                            0.5555555555555556,
                            "#d8576b"
                          ],
                          [
                            0.6666666666666666,
                            "#ed7953"
                          ],
                          [
                            0.7777777777777778,
                            "#fb9f3a"
                          ],
                          [
                            0.8888888888888888,
                            "#fdca26"
                          ],
                          [
                            1,
                            "#f0f921"
                          ]
                        ]
                      }
                    ],
                    "choropleth": [
                      {
                        "type": "choropleth",
                        "colorbar": {
                          "outlinewidth": 0,
                          "ticks": ""
                        }
                      }
                    ],
                    "histogram2d": [
                      {
                        "type": "histogram2d",
                        "colorbar": {
                          "outlinewidth": 0,
                          "ticks": ""
                        },
                        "colorscale": [
                          [
                            0,
                            "#0d0887"
                          ],
                          [
                            0.1111111111111111,
                            "#46039f"
                          ],
                          [
                            0.2222222222222222,
                            "#7201a8"
                          ],
                          [
                            0.3333333333333333,
                            "#9c179e"
                          ],
                          [
                            0.4444444444444444,
                            "#bd3786"
                          ],
                          [
                            0.5555555555555556,
                            "#d8576b"
                          ],
                          [
                            0.6666666666666666,
                            "#ed7953"
                          ],
                          [
                            0.7777777777777778,
                            "#fb9f3a"
                          ],
                          [
                            0.8888888888888888,
                            "#fdca26"
                          ],
                          [
                            1,
                            "#f0f921"
                          ]
                        ]
                      }
                    ],
                    "heatmap": [
                      {
                        "type": "heatmap",
                        "colorbar": {
                          "outlinewidth": 0,
                          "ticks": ""
                        },
                        "colorscale": [
                          [
                            0,
                            "#0d0887"
                          ],
                          [
                            0.1111111111111111,
                            "#46039f"
                          ],
                          [
                            0.2222222222222222,
                            "#7201a8"
                          ],
                          [
                            0.3333333333333333,
                            "#9c179e"
                          ],
                          [
                            0.4444444444444444,
                            "#bd3786"
                          ],
                          [
                            0.5555555555555556,
                            "#d8576b"
                          ],
                          [
                            0.6666666666666666,
                            "#ed7953"
                          ],
                          [
                            0.7777777777777778,
                            "#fb9f3a"
                          ],
                          [
                            0.8888888888888888,
                            "#fdca26"
                          ],
                          [
                            1,
                            "#f0f921"
                          ]
                        ]
                      }
                    ],
                    "heatmapgl": [
                      {
                        "type": "heatmapgl",
                        "colorbar": {
                          "outlinewidth": 0,
                          "ticks": ""
                        },
                        "colorscale": [
                          [
                            0,
                            "#0d0887"
                          ],
                          [
                            0.1111111111111111,
                            "#46039f"
                          ],
                          [
                            0.2222222222222222,
                            "#7201a8"
                          ],
                          [
                            0.3333333333333333,
                            "#9c179e"
                          ],
                          [
                            0.4444444444444444,
                            "#bd3786"
                          ],
                          [
                            0.5555555555555556,
                            "#d8576b"
                          ],
                          [
                            0.6666666666666666,
                            "#ed7953"
                          ],
                          [
                            0.7777777777777778,
                            "#fb9f3a"
                          ],
                          [
                            0.8888888888888888,
                            "#fdca26"
                          ],
                          [
                            1,
                            "#f0f921"
                          ]
                        ]
                      }
                    ],
                    "contourcarpet": [
                      {
                        "type": "contourcarpet",
                        "colorbar": {
                          "outlinewidth": 0,
                          "ticks": ""
                        }
                      }
                    ],
                    "contour": [
                      {
                        "type": "contour",
                        "colorbar": {
                          "outlinewidth": 0,
                          "ticks": ""
                        },
                        "colorscale": [
                          [
                            0,
                            "#0d0887"
                          ],
                          [
                            0.1111111111111111,
                            "#46039f"
                          ],
                          [
                            0.2222222222222222,
                            "#7201a8"
                          ],
                          [
                            0.3333333333333333,
                            "#9c179e"
                          ],
                          [
                            0.4444444444444444,
                            "#bd3786"
                          ],
                          [
                            0.5555555555555556,
                            "#d8576b"
                          ],
                          [
                            0.6666666666666666,
                            "#ed7953"
                          ],
                          [
                            0.7777777777777778,
                            "#fb9f3a"
                          ],
                          [
                            0.8888888888888888,
                            "#fdca26"
                          ],
                          [
                            1,
                            "#f0f921"
                          ]
                        ]
                      }
                    ],
                    "surface": [
                      {
                        "type": "surface",
                        "colorbar": {
                          "outlinewidth": 0,
                          "ticks": ""
                        },
                        "colorscale": [
                          [
                            0,
                            "#0d0887"
                          ],
                          [
                            0.1111111111111111,
                            "#46039f"
                          ],
                          [
                            0.2222222222222222,
                            "#7201a8"
                          ],
                          [
                            0.3333333333333333,
                            "#9c179e"
                          ],
                          [
                            0.4444444444444444,
                            "#bd3786"
                          ],
                          [
                            0.5555555555555556,
                            "#d8576b"
                          ],
                          [
                            0.6666666666666666,
                            "#ed7953"
                          ],
                          [
                            0.7777777777777778,
                            "#fb9f3a"
                          ],
                          [
                            0.8888888888888888,
                            "#fdca26"
                          ],
                          [
                            1,
                            "#f0f921"
                          ]
                        ]
                      }
                    ],
                    "mesh3d": [
                      {
                        "type": "mesh3d",
                        "colorbar": {
                          "outlinewidth": 0,
                          "ticks": ""
                        }
                      }
                    ],
                    "scatter": [
                      {
                        "fillpattern": {
                          "fillmode": "overlay",
                          "size": 10,
                          "solidity": 0.2
                        },
                        "type": "scatter"
                      }
                    ],
                    "parcoords": [
                      {
                        "type": "parcoords",
                        "line": {
                          "colorbar": {
                            "outlinewidth": 0,
                            "ticks": ""
                          }
                        }
                      }
                    ],
                    "scatterpolargl": [
                      {
                        "type": "scatterpolargl",
                        "marker": {
                          "colorbar": {
                            "outlinewidth": 0,
                            "ticks": ""
                          }
                        }
                      }
                    ],
                    "bar": [
                      {
                        "error_x": {
                          "color": "#2a3f5f"
                        },
                        "error_y": {
                          "color": "#2a3f5f"
                        },
                        "marker": {
                          "line": {
                            "color": "#E5ECF6",
                            "width": 0.5
                          },
                          "pattern": {
                            "fillmode": "overlay",
                            "size": 10,
                            "solidity": 0.2
                          }
                        },
                        "type": "bar"
                      }
                    ],
                    "scattergeo": [
                      {
                        "type": "scattergeo",
                        "marker": {
                          "colorbar": {
                            "outlinewidth": 0,
                            "ticks": ""
                          }
                        }
                      }
                    ],
                    "scatterpolar": [
                      {
                        "type": "scatterpolar",
                        "marker": {
                          "colorbar": {
                            "outlinewidth": 0,
                            "ticks": ""
                          }
                        }
                      }
                    ],
                    "histogram": [
                      {
                        "marker": {
                          "pattern": {
                            "fillmode": "overlay",
                            "size": 10,
                            "solidity": 0.2
                          }
                        },
                        "type": "histogram"
                      }
                    ],
                    "scattergl": [
                      {
                        "type": "scattergl",
                        "marker": {
                          "colorbar": {
                            "outlinewidth": 0,
                            "ticks": ""
                          }
                        }
                      }
                    ],
                    "scatter3d": [
                      {
                        "type": "scatter3d",
                        "line": {
                          "colorbar": {
                            "outlinewidth": 0,
                            "ticks": ""
                          }
                        },
                        "marker": {
                          "colorbar": {
                            "outlinewidth": 0,
                            "ticks": ""
                          }
                        }
                      }
                    ],
                    "scattermapbox": [
                      {
                        "type": "scattermapbox",
                        "marker": {
                          "colorbar": {
                            "outlinewidth": 0,
                            "ticks": ""
                          }
                        }
                      }
                    ],
                    "scatterternary": [
                      {
                        "type": "scatterternary",
                        "marker": {
                          "colorbar": {
                            "outlinewidth": 0,
                            "ticks": ""
                          }
                        }
                      }
                    ],
                    "scattercarpet": [
                      {
                        "type": "scattercarpet",
                        "marker": {
                          "colorbar": {
                            "outlinewidth": 0,
                            "ticks": ""
                          }
                        }
                      }
                    ],
                    "carpet": [
                      {
                        "aaxis": {
                          "endlinecolor": "#2a3f5f",
                          "gridcolor": "white",
                          "linecolor": "white",
                          "minorgridcolor": "white",
                          "startlinecolor": "#2a3f5f"
                        },
                        "baxis": {
                          "endlinecolor": "#2a3f5f",
                          "gridcolor": "white",
                          "linecolor": "white",
                          "minorgridcolor": "white",
                          "startlinecolor": "#2a3f5f"
                        },
                        "type": "carpet"
                      }
                    ],
                    "table": [
                      {
                        "cells": {
                          "fill": {
                            "color": "#EBF0F8"
                          },
                          "line": {
                            "color": "white"
                          }
                        },
                        "header": {
                          "fill": {
                            "color": "#C8D4E3"
                          },
                          "line": {
                            "color": "white"
                          }
                        },
                        "type": "table"
                      }
                    ],
                    "barpolar": [
                      {
                        "marker": {
                          "line": {
                            "color": "#E5ECF6",
                            "width": 0.5
                          },
                          "pattern": {
                            "fillmode": "overlay",
                            "size": 10,
                            "solidity": 0.2
                          }
                        },
                        "type": "barpolar"
                      }
                    ],
                    "pie": [
                      {
                        "automargin": true,
                        "type": "pie"
                      }
                    ]
                  },
                  "layout": {
                    "autotypenumbers": "strict",
                    "colorway": [
                      "#636efa",
                      "#EF553B",
                      "#00cc96",
                      "#ab63fa",
                      "#FFA15A",
                      "#19d3f3",
                      "#FF6692",
                      "#B6E880",
                      "#FF97FF",
                      "#FECB52"
                    ],
                    "font": {
                      "color": "#2a3f5f"
                    },
                    "hovermode": "closest",
                    "hoverlabel": {
                      "align": "left"
                    },
                    "paper_bgcolor": "white",
                    "plot_bgcolor": "#E5ECF6",
                    "polar": {
                      "bgcolor": "#E5ECF6",
                      "angularaxis": {
                        "gridcolor": "white",
                        "linecolor": "white",
                        "ticks": ""
                      },
                      "radialaxis": {
                        "gridcolor": "white",
                        "linecolor": "white",
                        "ticks": ""
                      }
                    },
                    "ternary": {
                      "bgcolor": "#E5ECF6",
                      "aaxis": {
                        "gridcolor": "white",
                        "linecolor": "white",
                        "ticks": ""
                      },
                      "baxis": {
                        "gridcolor": "white",
                        "linecolor": "white",
                        "ticks": ""
                      },
                      "caxis": {
                        "gridcolor": "white",
                        "linecolor": "white",
                        "ticks": ""
                      }
                    },
                    "coloraxis": {
                      "colorbar": {
                        "outlinewidth": 0,
                        "ticks": ""
                      }
                    },
                    "colorscale": {
                      "sequential": [
                        [
                          0,
                          "#0d0887"
                        ],
                        [
                          0.1111111111111111,
                          "#46039f"
                        ],
                        [
                          0.2222222222222222,
                          "#7201a8"
                        ],
                        [
                          0.3333333333333333,
                          "#9c179e"
                        ],
                        [
                          0.4444444444444444,
                          "#bd3786"
                        ],
                        [
                          0.5555555555555556,
                          "#d8576b"
                        ],
                        [
                          0.6666666666666666,
                          "#ed7953"
                        ],
                        [
                          0.7777777777777778,
                          "#fb9f3a"
                        ],
                        [
                          0.8888888888888888,
                          "#fdca26"
                        ],
                        [
                          1,
                          "#f0f921"
                        ]
                      ],
                      "sequentialminus": [
                        [
                          0,
                          "#0d0887"
                        ],
                        [
                          0.1111111111111111,
                          "#46039f"
                        ],
                        [
                          0.2222222222222222,
                          "#7201a8"
                        ],
                        [
                          0.3333333333333333,
                          "#9c179e"
                        ],
                        [
                          0.4444444444444444,
                          "#bd3786"
                        ],
                        [
                          0.5555555555555556,
                          "#d8576b"
                        ],
                        [
                          0.6666666666666666,
                          "#ed7953"
                        ],
                        [
                          0.7777777777777778,
                          "#fb9f3a"
                        ],
                        [
                          0.8888888888888888,
                          "#fdca26"
                        ],
                        [
                          1,
                          "#f0f921"
                        ]
                      ],
                      "diverging": [
                        [
                          0,
                          "#8e0152"
                        ],
                        [
                          0.1,
                          "#c51b7d"
                        ],
                        [
                          0.2,
                          "#de77ae"
                        ],
                        [
                          0.3,
                          "#f1b6da"
                        ],
                        [
                          0.4,
                          "#fde0ef"
                        ],
                        [
                          0.5,
                          "#f7f7f7"
                        ],
                        [
                          0.6,
                          "#e6f5d0"
                        ],
                        [
                          0.7,
                          "#b8e186"
                        ],
                        [
                          0.8,
                          "#7fbc41"
                        ],
                        [
                          0.9,
                          "#4d9221"
                        ],
                        [
                          1,
                          "#276419"
                        ]
                      ]
                    },
                    "xaxis": {
                      "gridcolor": "white",
                      "linecolor": "white",
                      "ticks": "",
                      "title": {
                        "standoff": 15
                      },
                      "zerolinecolor": "white",
                      "automargin": true,
                      "zerolinewidth": 2
                    },
                    "yaxis": {
                      "gridcolor": "white",
                      "linecolor": "white",
                      "ticks": "",
                      "title": {
                        "standoff": 15
                      },
                      "zerolinecolor": "white",
                      "automargin": true,
                      "zerolinewidth": 2
                    },
                    "scene": {
                      "xaxis": {
                        "backgroundcolor": "#E5ECF6",
                        "gridcolor": "white",
                        "linecolor": "white",
                        "showbackground": true,
                        "ticks": "",
                        "zerolinecolor": "white",
                        "gridwidth": 2
                      },
                      "yaxis": {
                        "backgroundcolor": "#E5ECF6",
                        "gridcolor": "white",
                        "linecolor": "white",
                        "showbackground": true,
                        "ticks": "",
                        "zerolinecolor": "white",
                        "gridwidth": 2
                      },
                      "zaxis": {
                        "backgroundcolor": "#E5ECF6",
                        "gridcolor": "white",
                        "linecolor": "white",
                        "showbackground": true,
                        "ticks": "",
                        "zerolinecolor": "white",
                        "gridwidth": 2
                      }
                    },
                    "shapedefaults": {
                      "line": {
                        "color": "#2a3f5f"
                      }
                    },
                    "annotationdefaults": {
                      "arrowcolor": "#2a3f5f",
                      "arrowhead": 0,
                      "arrowwidth": 1
                    },
                    "geo": {
                      "bgcolor": "white",
                      "landcolor": "#E5ECF6",
                      "subunitcolor": "white",
                      "showland": true,
                      "showlakes": true,
                      "lakecolor": "white"
                    },
                    "title": {
                      "x": 0.05
                    },
                    "mapbox": {
                      "style": "light"
                    }
                  }
                },
                "title": {
                  "text": "Experience Level",
                  "x": 0.5
                },
                "width": 800,
                "height": 500
              },
              "config": {
                "plotlyServerURL": "https://plot.ly"
              }
            },
            "text/html": [
              "<div>                            <div id=\"c4b0f02a-763f-4720-b777-781908a4587a\" class=\"plotly-graph-div\" style=\"height:500px; width:800px;\"></div>            <script type=\"text/javascript\">                require([\"plotly\"], function(Plotly) {                    window.PLOTLYENV=window.PLOTLYENV || {};                                    if (document.getElementById(\"c4b0f02a-763f-4720-b777-781908a4587a\")) {                    Plotly.newPlot(                        \"c4b0f02a-763f-4720-b777-781908a4587a\",                        [{\"labels\":[\"Senior\",\"Mid\",\"Entry\",\"Executive\"],\"parents\":[\"\",\"\",\"\",\"\"],\"text\":[\"280 (46.13%)\",\"213 (35.09%)\",\"88 (14.50%)\",\"26 (4.28%)\"],\"textposition\":\"middle center\",\"values\":[280,213,88,26],\"type\":\"treemap\",\"textfont\":{\"size\":15}}],                        {\"template\":{\"data\":{\"histogram2dcontour\":[{\"type\":\"histogram2dcontour\",\"colorbar\":{\"outlinewidth\":0,\"ticks\":\"\"},\"colorscale\":[[0.0,\"#0d0887\"],[0.1111111111111111,\"#46039f\"],[0.2222222222222222,\"#7201a8\"],[0.3333333333333333,\"#9c179e\"],[0.4444444444444444,\"#bd3786\"],[0.5555555555555556,\"#d8576b\"],[0.6666666666666666,\"#ed7953\"],[0.7777777777777778,\"#fb9f3a\"],[0.8888888888888888,\"#fdca26\"],[1.0,\"#f0f921\"]]}],\"choropleth\":[{\"type\":\"choropleth\",\"colorbar\":{\"outlinewidth\":0,\"ticks\":\"\"}}],\"histogram2d\":[{\"type\":\"histogram2d\",\"colorbar\":{\"outlinewidth\":0,\"ticks\":\"\"},\"colorscale\":[[0.0,\"#0d0887\"],[0.1111111111111111,\"#46039f\"],[0.2222222222222222,\"#7201a8\"],[0.3333333333333333,\"#9c179e\"],[0.4444444444444444,\"#bd3786\"],[0.5555555555555556,\"#d8576b\"],[0.6666666666666666,\"#ed7953\"],[0.7777777777777778,\"#fb9f3a\"],[0.8888888888888888,\"#fdca26\"],[1.0,\"#f0f921\"]]}],\"heatmap\":[{\"type\":\"heatmap\",\"colorbar\":{\"outlinewidth\":0,\"ticks\":\"\"},\"colorscale\":[[0.0,\"#0d0887\"],[0.1111111111111111,\"#46039f\"],[0.2222222222222222,\"#7201a8\"],[0.3333333333333333,\"#9c179e\"],[0.4444444444444444,\"#bd3786\"],[0.5555555555555556,\"#d8576b\"],[0.6666666666666666,\"#ed7953\"],[0.7777777777777778,\"#fb9f3a\"],[0.8888888888888888,\"#fdca26\"],[1.0,\"#f0f921\"]]}],\"heatmapgl\":[{\"type\":\"heatmapgl\",\"colorbar\":{\"outlinewidth\":0,\"ticks\":\"\"},\"colorscale\":[[0.0,\"#0d0887\"],[0.1111111111111111,\"#46039f\"],[0.2222222222222222,\"#7201a8\"],[0.3333333333333333,\"#9c179e\"],[0.4444444444444444,\"#bd3786\"],[0.5555555555555556,\"#d8576b\"],[0.6666666666666666,\"#ed7953\"],[0.7777777777777778,\"#fb9f3a\"],[0.8888888888888888,\"#fdca26\"],[1.0,\"#f0f921\"]]}],\"contourcarpet\":[{\"type\":\"contourcarpet\",\"colorbar\":{\"outlinewidth\":0,\"ticks\":\"\"}}],\"contour\":[{\"type\":\"contour\",\"colorbar\":{\"outlinewidth\":0,\"ticks\":\"\"},\"colorscale\":[[0.0,\"#0d0887\"],[0.1111111111111111,\"#46039f\"],[0.2222222222222222,\"#7201a8\"],[0.3333333333333333,\"#9c179e\"],[0.4444444444444444,\"#bd3786\"],[0.5555555555555556,\"#d8576b\"],[0.6666666666666666,\"#ed7953\"],[0.7777777777777778,\"#fb9f3a\"],[0.8888888888888888,\"#fdca26\"],[1.0,\"#f0f921\"]]}],\"surface\":[{\"type\":\"surface\",\"colorbar\":{\"outlinewidth\":0,\"ticks\":\"\"},\"colorscale\":[[0.0,\"#0d0887\"],[0.1111111111111111,\"#46039f\"],[0.2222222222222222,\"#7201a8\"],[0.3333333333333333,\"#9c179e\"],[0.4444444444444444,\"#bd3786\"],[0.5555555555555556,\"#d8576b\"],[0.6666666666666666,\"#ed7953\"],[0.7777777777777778,\"#fb9f3a\"],[0.8888888888888888,\"#fdca26\"],[1.0,\"#f0f921\"]]}],\"mesh3d\":[{\"type\":\"mesh3d\",\"colorbar\":{\"outlinewidth\":0,\"ticks\":\"\"}}],\"scatter\":[{\"fillpattern\":{\"fillmode\":\"overlay\",\"size\":10,\"solidity\":0.2},\"type\":\"scatter\"}],\"parcoords\":[{\"type\":\"parcoords\",\"line\":{\"colorbar\":{\"outlinewidth\":0,\"ticks\":\"\"}}}],\"scatterpolargl\":[{\"type\":\"scatterpolargl\",\"marker\":{\"colorbar\":{\"outlinewidth\":0,\"ticks\":\"\"}}}],\"bar\":[{\"error_x\":{\"color\":\"#2a3f5f\"},\"error_y\":{\"color\":\"#2a3f5f\"},\"marker\":{\"line\":{\"color\":\"#E5ECF6\",\"width\":0.5},\"pattern\":{\"fillmode\":\"overlay\",\"size\":10,\"solidity\":0.2}},\"type\":\"bar\"}],\"scattergeo\":[{\"type\":\"scattergeo\",\"marker\":{\"colorbar\":{\"outlinewidth\":0,\"ticks\":\"\"}}}],\"scatterpolar\":[{\"type\":\"scatterpolar\",\"marker\":{\"colorbar\":{\"outlinewidth\":0,\"ticks\":\"\"}}}],\"histogram\":[{\"marker\":{\"pattern\":{\"fillmode\":\"overlay\",\"size\":10,\"solidity\":0.2}},\"type\":\"histogram\"}],\"scattergl\":[{\"type\":\"scattergl\",\"marker\":{\"colorbar\":{\"outlinewidth\":0,\"ticks\":\"\"}}}],\"scatter3d\":[{\"type\":\"scatter3d\",\"line\":{\"colorbar\":{\"outlinewidth\":0,\"ticks\":\"\"}},\"marker\":{\"colorbar\":{\"outlinewidth\":0,\"ticks\":\"\"}}}],\"scattermapbox\":[{\"type\":\"scattermapbox\",\"marker\":{\"colorbar\":{\"outlinewidth\":0,\"ticks\":\"\"}}}],\"scatterternary\":[{\"type\":\"scatterternary\",\"marker\":{\"colorbar\":{\"outlinewidth\":0,\"ticks\":\"\"}}}],\"scattercarpet\":[{\"type\":\"scattercarpet\",\"marker\":{\"colorbar\":{\"outlinewidth\":0,\"ticks\":\"\"}}}],\"carpet\":[{\"aaxis\":{\"endlinecolor\":\"#2a3f5f\",\"gridcolor\":\"white\",\"linecolor\":\"white\",\"minorgridcolor\":\"white\",\"startlinecolor\":\"#2a3f5f\"},\"baxis\":{\"endlinecolor\":\"#2a3f5f\",\"gridcolor\":\"white\",\"linecolor\":\"white\",\"minorgridcolor\":\"white\",\"startlinecolor\":\"#2a3f5f\"},\"type\":\"carpet\"}],\"table\":[{\"cells\":{\"fill\":{\"color\":\"#EBF0F8\"},\"line\":{\"color\":\"white\"}},\"header\":{\"fill\":{\"color\":\"#C8D4E3\"},\"line\":{\"color\":\"white\"}},\"type\":\"table\"}],\"barpolar\":[{\"marker\":{\"line\":{\"color\":\"#E5ECF6\",\"width\":0.5},\"pattern\":{\"fillmode\":\"overlay\",\"size\":10,\"solidity\":0.2}},\"type\":\"barpolar\"}],\"pie\":[{\"automargin\":true,\"type\":\"pie\"}]},\"layout\":{\"autotypenumbers\":\"strict\",\"colorway\":[\"#636efa\",\"#EF553B\",\"#00cc96\",\"#ab63fa\",\"#FFA15A\",\"#19d3f3\",\"#FF6692\",\"#B6E880\",\"#FF97FF\",\"#FECB52\"],\"font\":{\"color\":\"#2a3f5f\"},\"hovermode\":\"closest\",\"hoverlabel\":{\"align\":\"left\"},\"paper_bgcolor\":\"white\",\"plot_bgcolor\":\"#E5ECF6\",\"polar\":{\"bgcolor\":\"#E5ECF6\",\"angularaxis\":{\"gridcolor\":\"white\",\"linecolor\":\"white\",\"ticks\":\"\"},\"radialaxis\":{\"gridcolor\":\"white\",\"linecolor\":\"white\",\"ticks\":\"\"}},\"ternary\":{\"bgcolor\":\"#E5ECF6\",\"aaxis\":{\"gridcolor\":\"white\",\"linecolor\":\"white\",\"ticks\":\"\"},\"baxis\":{\"gridcolor\":\"white\",\"linecolor\":\"white\",\"ticks\":\"\"},\"caxis\":{\"gridcolor\":\"white\",\"linecolor\":\"white\",\"ticks\":\"\"}},\"coloraxis\":{\"colorbar\":{\"outlinewidth\":0,\"ticks\":\"\"}},\"colorscale\":{\"sequential\":[[0.0,\"#0d0887\"],[0.1111111111111111,\"#46039f\"],[0.2222222222222222,\"#7201a8\"],[0.3333333333333333,\"#9c179e\"],[0.4444444444444444,\"#bd3786\"],[0.5555555555555556,\"#d8576b\"],[0.6666666666666666,\"#ed7953\"],[0.7777777777777778,\"#fb9f3a\"],[0.8888888888888888,\"#fdca26\"],[1.0,\"#f0f921\"]],\"sequentialminus\":[[0.0,\"#0d0887\"],[0.1111111111111111,\"#46039f\"],[0.2222222222222222,\"#7201a8\"],[0.3333333333333333,\"#9c179e\"],[0.4444444444444444,\"#bd3786\"],[0.5555555555555556,\"#d8576b\"],[0.6666666666666666,\"#ed7953\"],[0.7777777777777778,\"#fb9f3a\"],[0.8888888888888888,\"#fdca26\"],[1.0,\"#f0f921\"]],\"diverging\":[[0,\"#8e0152\"],[0.1,\"#c51b7d\"],[0.2,\"#de77ae\"],[0.3,\"#f1b6da\"],[0.4,\"#fde0ef\"],[0.5,\"#f7f7f7\"],[0.6,\"#e6f5d0\"],[0.7,\"#b8e186\"],[0.8,\"#7fbc41\"],[0.9,\"#4d9221\"],[1,\"#276419\"]]},\"xaxis\":{\"gridcolor\":\"white\",\"linecolor\":\"white\",\"ticks\":\"\",\"title\":{\"standoff\":15},\"zerolinecolor\":\"white\",\"automargin\":true,\"zerolinewidth\":2},\"yaxis\":{\"gridcolor\":\"white\",\"linecolor\":\"white\",\"ticks\":\"\",\"title\":{\"standoff\":15},\"zerolinecolor\":\"white\",\"automargin\":true,\"zerolinewidth\":2},\"scene\":{\"xaxis\":{\"backgroundcolor\":\"#E5ECF6\",\"gridcolor\":\"white\",\"linecolor\":\"white\",\"showbackground\":true,\"ticks\":\"\",\"zerolinecolor\":\"white\",\"gridwidth\":2},\"yaxis\":{\"backgroundcolor\":\"#E5ECF6\",\"gridcolor\":\"white\",\"linecolor\":\"white\",\"showbackground\":true,\"ticks\":\"\",\"zerolinecolor\":\"white\",\"gridwidth\":2},\"zaxis\":{\"backgroundcolor\":\"#E5ECF6\",\"gridcolor\":\"white\",\"linecolor\":\"white\",\"showbackground\":true,\"ticks\":\"\",\"zerolinecolor\":\"white\",\"gridwidth\":2}},\"shapedefaults\":{\"line\":{\"color\":\"#2a3f5f\"}},\"annotationdefaults\":{\"arrowcolor\":\"#2a3f5f\",\"arrowhead\":0,\"arrowwidth\":1},\"geo\":{\"bgcolor\":\"white\",\"landcolor\":\"#E5ECF6\",\"subunitcolor\":\"white\",\"showland\":true,\"showlakes\":true,\"lakecolor\":\"white\"},\"title\":{\"x\":0.05},\"mapbox\":{\"style\":\"light\"}}},\"title\":{\"text\":\"Experience Level\",\"x\":0.5},\"width\":800,\"height\":500},                        {\"responsive\": true}                    ).then(function(){\n",
              "                            \n",
              "var gd = document.getElementById('c4b0f02a-763f-4720-b777-781908a4587a');\n",
              "var x = new MutationObserver(function (mutations, observer) {{\n",
              "        var display = window.getComputedStyle(gd).display;\n",
              "        if (!display || display === 'none') {{\n",
              "            console.log([gd, 'removed!']);\n",
              "            Plotly.purge(gd);\n",
              "            observer.disconnect();\n",
              "        }}\n",
              "}});\n",
              "\n",
              "// Listen for the removal of the full notebook cells\n",
              "var notebookContainer = gd.closest('#notebook-container');\n",
              "if (notebookContainer) {{\n",
              "    x.observe(notebookContainer, {childList: true});\n",
              "}}\n",
              "\n",
              "// Listen for the clearing of the current output cell\n",
              "var outputEl = gd.closest('.output');\n",
              "if (outputEl) {{\n",
              "    x.observe(outputEl, {childList: true});\n",
              "}}\n",
              "\n",
              "                        })                };                });            </script>        </div>"
            ]
          },
          "metadata": {}
        }
      ]
    },
    {
      "cell_type": "markdown",
      "source": [
        "Based on the provided treemap, it is apparent that the Senior-level/Expert category holds the highest position, followed by the Mid-level/Intermediate category. The Entry Level category follows next, while interestingly, the Executive category is placed at the bottom.\n"
      ],
      "metadata": {
        "id": "TrLl53RCp-M1"
      }
    },
    {
      "cell_type": "code",
      "source": [
        "# Visualizing the number of Jobs in each Data Science stream\n",
        "\n",
        "top_jobs = df['job_title'].value_counts()[:10]\n",
        "fig = px.bar(x=top_jobs.index,\n",
        "             y=top_jobs.values,\n",
        "             orientation='v',\n",
        "             color = top_jobs.index,\n",
        "             text = top_jobs.values,\n",
        "             title='Top Job Titles w.r.t to number of Jobs')\n",
        "\n",
        "fig.update_layout(yaxis_title='Count',\n",
        "                  xaxis_title='Job Titles',\n",
        "                  title_x=0.5,\n",
        "                  font = dict(size = 14))\n",
        "fig.show()"
      ],
      "metadata": {
        "colab": {
          "base_uri": "https://localhost:8080/",
          "height": 542
        },
        "id": "HTiBMA5OTW4n",
        "outputId": "4b96869f-c411-4982-a9c9-bd7742b81224"
      },
      "execution_count": 11,
      "outputs": [
        {
          "output_type": "display_data",
          "data": {
            "application/vnd.plotly.v1+json": {
              "data": [
                {
                  "alignmentgroup": "True",
                  "hovertemplate": "color=Data Scientist<br>x=%{x}<br>y=%{y}<br>text=%{text}<extra></extra>",
                  "legendgroup": "Data Scientist",
                  "marker": {
                    "color": "#636efa",
                    "pattern": {
                      "shape": ""
                    }
                  },
                  "name": "Data Scientist",
                  "offsetgroup": "Data Scientist",
                  "orientation": "v",
                  "showlegend": true,
                  "text": [
                    143
                  ],
                  "textposition": "auto",
                  "x": [
                    "Data Scientist"
                  ],
                  "xaxis": "x",
                  "y": [
                    143
                  ],
                  "yaxis": "y",
                  "type": "bar"
                },
                {
                  "alignmentgroup": "True",
                  "hovertemplate": "color=Data Engineer<br>x=%{x}<br>y=%{y}<br>text=%{text}<extra></extra>",
                  "legendgroup": "Data Engineer",
                  "marker": {
                    "color": "#EF553B",
                    "pattern": {
                      "shape": ""
                    }
                  },
                  "name": "Data Engineer",
                  "offsetgroup": "Data Engineer",
                  "orientation": "v",
                  "showlegend": true,
                  "text": [
                    132
                  ],
                  "textposition": "auto",
                  "x": [
                    "Data Engineer"
                  ],
                  "xaxis": "x",
                  "y": [
                    132
                  ],
                  "yaxis": "y",
                  "type": "bar"
                },
                {
                  "alignmentgroup": "True",
                  "hovertemplate": "color=Data Analyst<br>x=%{x}<br>y=%{y}<br>text=%{text}<extra></extra>",
                  "legendgroup": "Data Analyst",
                  "marker": {
                    "color": "#00cc96",
                    "pattern": {
                      "shape": ""
                    }
                  },
                  "name": "Data Analyst",
                  "offsetgroup": "Data Analyst",
                  "orientation": "v",
                  "showlegend": true,
                  "text": [
                    97
                  ],
                  "textposition": "auto",
                  "x": [
                    "Data Analyst"
                  ],
                  "xaxis": "x",
                  "y": [
                    97
                  ],
                  "yaxis": "y",
                  "type": "bar"
                },
                {
                  "alignmentgroup": "True",
                  "hovertemplate": "color=Machine Learning Engineer<br>x=%{x}<br>y=%{y}<br>text=%{text}<extra></extra>",
                  "legendgroup": "Machine Learning Engineer",
                  "marker": {
                    "color": "#ab63fa",
                    "pattern": {
                      "shape": ""
                    }
                  },
                  "name": "Machine Learning Engineer",
                  "offsetgroup": "Machine Learning Engineer",
                  "orientation": "v",
                  "showlegend": true,
                  "text": [
                    41
                  ],
                  "textposition": "auto",
                  "x": [
                    "Machine Learning Engineer"
                  ],
                  "xaxis": "x",
                  "y": [
                    41
                  ],
                  "yaxis": "y",
                  "type": "bar"
                },
                {
                  "alignmentgroup": "True",
                  "hovertemplate": "color=Research Scientist<br>x=%{x}<br>y=%{y}<br>text=%{text}<extra></extra>",
                  "legendgroup": "Research Scientist",
                  "marker": {
                    "color": "#FFA15A",
                    "pattern": {
                      "shape": ""
                    }
                  },
                  "name": "Research Scientist",
                  "offsetgroup": "Research Scientist",
                  "orientation": "v",
                  "showlegend": true,
                  "text": [
                    16
                  ],
                  "textposition": "auto",
                  "x": [
                    "Research Scientist"
                  ],
                  "xaxis": "x",
                  "y": [
                    16
                  ],
                  "yaxis": "y",
                  "type": "bar"
                },
                {
                  "alignmentgroup": "True",
                  "hovertemplate": "color=Data Science Manager<br>x=%{x}<br>y=%{y}<br>text=%{text}<extra></extra>",
                  "legendgroup": "Data Science Manager",
                  "marker": {
                    "color": "#19d3f3",
                    "pattern": {
                      "shape": ""
                    }
                  },
                  "name": "Data Science Manager",
                  "offsetgroup": "Data Science Manager",
                  "orientation": "v",
                  "showlegend": true,
                  "text": [
                    12
                  ],
                  "textposition": "auto",
                  "x": [
                    "Data Science Manager"
                  ],
                  "xaxis": "x",
                  "y": [
                    12
                  ],
                  "yaxis": "y",
                  "type": "bar"
                },
                {
                  "alignmentgroup": "True",
                  "hovertemplate": "color=Data Architect<br>x=%{x}<br>y=%{y}<br>text=%{text}<extra></extra>",
                  "legendgroup": "Data Architect",
                  "marker": {
                    "color": "#FF6692",
                    "pattern": {
                      "shape": ""
                    }
                  },
                  "name": "Data Architect",
                  "offsetgroup": "Data Architect",
                  "orientation": "v",
                  "showlegend": true,
                  "text": [
                    11
                  ],
                  "textposition": "auto",
                  "x": [
                    "Data Architect"
                  ],
                  "xaxis": "x",
                  "y": [
                    11
                  ],
                  "yaxis": "y",
                  "type": "bar"
                },
                {
                  "alignmentgroup": "True",
                  "hovertemplate": "color=Big Data Engineer<br>x=%{x}<br>y=%{y}<br>text=%{text}<extra></extra>",
                  "legendgroup": "Big Data Engineer",
                  "marker": {
                    "color": "#B6E880",
                    "pattern": {
                      "shape": ""
                    }
                  },
                  "name": "Big Data Engineer",
                  "offsetgroup": "Big Data Engineer",
                  "orientation": "v",
                  "showlegend": true,
                  "text": [
                    8
                  ],
                  "textposition": "auto",
                  "x": [
                    "Big Data Engineer"
                  ],
                  "xaxis": "x",
                  "y": [
                    8
                  ],
                  "yaxis": "y",
                  "type": "bar"
                },
                {
                  "alignmentgroup": "True",
                  "hovertemplate": "color=Machine Learning Scientist<br>x=%{x}<br>y=%{y}<br>text=%{text}<extra></extra>",
                  "legendgroup": "Machine Learning Scientist",
                  "marker": {
                    "color": "#FF97FF",
                    "pattern": {
                      "shape": ""
                    }
                  },
                  "name": "Machine Learning Scientist",
                  "offsetgroup": "Machine Learning Scientist",
                  "orientation": "v",
                  "showlegend": true,
                  "text": [
                    8
                  ],
                  "textposition": "auto",
                  "x": [
                    "Machine Learning Scientist"
                  ],
                  "xaxis": "x",
                  "y": [
                    8
                  ],
                  "yaxis": "y",
                  "type": "bar"
                },
                {
                  "alignmentgroup": "True",
                  "hovertemplate": "color=Principal Data Scientist<br>x=%{x}<br>y=%{y}<br>text=%{text}<extra></extra>",
                  "legendgroup": "Principal Data Scientist",
                  "marker": {
                    "color": "#FECB52",
                    "pattern": {
                      "shape": ""
                    }
                  },
                  "name": "Principal Data Scientist",
                  "offsetgroup": "Principal Data Scientist",
                  "orientation": "v",
                  "showlegend": true,
                  "text": [
                    7
                  ],
                  "textposition": "auto",
                  "x": [
                    "Principal Data Scientist"
                  ],
                  "xaxis": "x",
                  "y": [
                    7
                  ],
                  "yaxis": "y",
                  "type": "bar"
                }
              ],
              "layout": {
                "template": {
                  "data": {
                    "histogram2dcontour": [
                      {
                        "type": "histogram2dcontour",
                        "colorbar": {
                          "outlinewidth": 0,
                          "ticks": ""
                        },
                        "colorscale": [
                          [
                            0,
                            "#0d0887"
                          ],
                          [
                            0.1111111111111111,
                            "#46039f"
                          ],
                          [
                            0.2222222222222222,
                            "#7201a8"
                          ],
                          [
                            0.3333333333333333,
                            "#9c179e"
                          ],
                          [
                            0.4444444444444444,
                            "#bd3786"
                          ],
                          [
                            0.5555555555555556,
                            "#d8576b"
                          ],
                          [
                            0.6666666666666666,
                            "#ed7953"
                          ],
                          [
                            0.7777777777777778,
                            "#fb9f3a"
                          ],
                          [
                            0.8888888888888888,
                            "#fdca26"
                          ],
                          [
                            1,
                            "#f0f921"
                          ]
                        ]
                      }
                    ],
                    "choropleth": [
                      {
                        "type": "choropleth",
                        "colorbar": {
                          "outlinewidth": 0,
                          "ticks": ""
                        }
                      }
                    ],
                    "histogram2d": [
                      {
                        "type": "histogram2d",
                        "colorbar": {
                          "outlinewidth": 0,
                          "ticks": ""
                        },
                        "colorscale": [
                          [
                            0,
                            "#0d0887"
                          ],
                          [
                            0.1111111111111111,
                            "#46039f"
                          ],
                          [
                            0.2222222222222222,
                            "#7201a8"
                          ],
                          [
                            0.3333333333333333,
                            "#9c179e"
                          ],
                          [
                            0.4444444444444444,
                            "#bd3786"
                          ],
                          [
                            0.5555555555555556,
                            "#d8576b"
                          ],
                          [
                            0.6666666666666666,
                            "#ed7953"
                          ],
                          [
                            0.7777777777777778,
                            "#fb9f3a"
                          ],
                          [
                            0.8888888888888888,
                            "#fdca26"
                          ],
                          [
                            1,
                            "#f0f921"
                          ]
                        ]
                      }
                    ],
                    "heatmap": [
                      {
                        "type": "heatmap",
                        "colorbar": {
                          "outlinewidth": 0,
                          "ticks": ""
                        },
                        "colorscale": [
                          [
                            0,
                            "#0d0887"
                          ],
                          [
                            0.1111111111111111,
                            "#46039f"
                          ],
                          [
                            0.2222222222222222,
                            "#7201a8"
                          ],
                          [
                            0.3333333333333333,
                            "#9c179e"
                          ],
                          [
                            0.4444444444444444,
                            "#bd3786"
                          ],
                          [
                            0.5555555555555556,
                            "#d8576b"
                          ],
                          [
                            0.6666666666666666,
                            "#ed7953"
                          ],
                          [
                            0.7777777777777778,
                            "#fb9f3a"
                          ],
                          [
                            0.8888888888888888,
                            "#fdca26"
                          ],
                          [
                            1,
                            "#f0f921"
                          ]
                        ]
                      }
                    ],
                    "heatmapgl": [
                      {
                        "type": "heatmapgl",
                        "colorbar": {
                          "outlinewidth": 0,
                          "ticks": ""
                        },
                        "colorscale": [
                          [
                            0,
                            "#0d0887"
                          ],
                          [
                            0.1111111111111111,
                            "#46039f"
                          ],
                          [
                            0.2222222222222222,
                            "#7201a8"
                          ],
                          [
                            0.3333333333333333,
                            "#9c179e"
                          ],
                          [
                            0.4444444444444444,
                            "#bd3786"
                          ],
                          [
                            0.5555555555555556,
                            "#d8576b"
                          ],
                          [
                            0.6666666666666666,
                            "#ed7953"
                          ],
                          [
                            0.7777777777777778,
                            "#fb9f3a"
                          ],
                          [
                            0.8888888888888888,
                            "#fdca26"
                          ],
                          [
                            1,
                            "#f0f921"
                          ]
                        ]
                      }
                    ],
                    "contourcarpet": [
                      {
                        "type": "contourcarpet",
                        "colorbar": {
                          "outlinewidth": 0,
                          "ticks": ""
                        }
                      }
                    ],
                    "contour": [
                      {
                        "type": "contour",
                        "colorbar": {
                          "outlinewidth": 0,
                          "ticks": ""
                        },
                        "colorscale": [
                          [
                            0,
                            "#0d0887"
                          ],
                          [
                            0.1111111111111111,
                            "#46039f"
                          ],
                          [
                            0.2222222222222222,
                            "#7201a8"
                          ],
                          [
                            0.3333333333333333,
                            "#9c179e"
                          ],
                          [
                            0.4444444444444444,
                            "#bd3786"
                          ],
                          [
                            0.5555555555555556,
                            "#d8576b"
                          ],
                          [
                            0.6666666666666666,
                            "#ed7953"
                          ],
                          [
                            0.7777777777777778,
                            "#fb9f3a"
                          ],
                          [
                            0.8888888888888888,
                            "#fdca26"
                          ],
                          [
                            1,
                            "#f0f921"
                          ]
                        ]
                      }
                    ],
                    "surface": [
                      {
                        "type": "surface",
                        "colorbar": {
                          "outlinewidth": 0,
                          "ticks": ""
                        },
                        "colorscale": [
                          [
                            0,
                            "#0d0887"
                          ],
                          [
                            0.1111111111111111,
                            "#46039f"
                          ],
                          [
                            0.2222222222222222,
                            "#7201a8"
                          ],
                          [
                            0.3333333333333333,
                            "#9c179e"
                          ],
                          [
                            0.4444444444444444,
                            "#bd3786"
                          ],
                          [
                            0.5555555555555556,
                            "#d8576b"
                          ],
                          [
                            0.6666666666666666,
                            "#ed7953"
                          ],
                          [
                            0.7777777777777778,
                            "#fb9f3a"
                          ],
                          [
                            0.8888888888888888,
                            "#fdca26"
                          ],
                          [
                            1,
                            "#f0f921"
                          ]
                        ]
                      }
                    ],
                    "mesh3d": [
                      {
                        "type": "mesh3d",
                        "colorbar": {
                          "outlinewidth": 0,
                          "ticks": ""
                        }
                      }
                    ],
                    "scatter": [
                      {
                        "fillpattern": {
                          "fillmode": "overlay",
                          "size": 10,
                          "solidity": 0.2
                        },
                        "type": "scatter"
                      }
                    ],
                    "parcoords": [
                      {
                        "type": "parcoords",
                        "line": {
                          "colorbar": {
                            "outlinewidth": 0,
                            "ticks": ""
                          }
                        }
                      }
                    ],
                    "scatterpolargl": [
                      {
                        "type": "scatterpolargl",
                        "marker": {
                          "colorbar": {
                            "outlinewidth": 0,
                            "ticks": ""
                          }
                        }
                      }
                    ],
                    "bar": [
                      {
                        "error_x": {
                          "color": "#2a3f5f"
                        },
                        "error_y": {
                          "color": "#2a3f5f"
                        },
                        "marker": {
                          "line": {
                            "color": "#E5ECF6",
                            "width": 0.5
                          },
                          "pattern": {
                            "fillmode": "overlay",
                            "size": 10,
                            "solidity": 0.2
                          }
                        },
                        "type": "bar"
                      }
                    ],
                    "scattergeo": [
                      {
                        "type": "scattergeo",
                        "marker": {
                          "colorbar": {
                            "outlinewidth": 0,
                            "ticks": ""
                          }
                        }
                      }
                    ],
                    "scatterpolar": [
                      {
                        "type": "scatterpolar",
                        "marker": {
                          "colorbar": {
                            "outlinewidth": 0,
                            "ticks": ""
                          }
                        }
                      }
                    ],
                    "histogram": [
                      {
                        "marker": {
                          "pattern": {
                            "fillmode": "overlay",
                            "size": 10,
                            "solidity": 0.2
                          }
                        },
                        "type": "histogram"
                      }
                    ],
                    "scattergl": [
                      {
                        "type": "scattergl",
                        "marker": {
                          "colorbar": {
                            "outlinewidth": 0,
                            "ticks": ""
                          }
                        }
                      }
                    ],
                    "scatter3d": [
                      {
                        "type": "scatter3d",
                        "line": {
                          "colorbar": {
                            "outlinewidth": 0,
                            "ticks": ""
                          }
                        },
                        "marker": {
                          "colorbar": {
                            "outlinewidth": 0,
                            "ticks": ""
                          }
                        }
                      }
                    ],
                    "scattermapbox": [
                      {
                        "type": "scattermapbox",
                        "marker": {
                          "colorbar": {
                            "outlinewidth": 0,
                            "ticks": ""
                          }
                        }
                      }
                    ],
                    "scatterternary": [
                      {
                        "type": "scatterternary",
                        "marker": {
                          "colorbar": {
                            "outlinewidth": 0,
                            "ticks": ""
                          }
                        }
                      }
                    ],
                    "scattercarpet": [
                      {
                        "type": "scattercarpet",
                        "marker": {
                          "colorbar": {
                            "outlinewidth": 0,
                            "ticks": ""
                          }
                        }
                      }
                    ],
                    "carpet": [
                      {
                        "aaxis": {
                          "endlinecolor": "#2a3f5f",
                          "gridcolor": "white",
                          "linecolor": "white",
                          "minorgridcolor": "white",
                          "startlinecolor": "#2a3f5f"
                        },
                        "baxis": {
                          "endlinecolor": "#2a3f5f",
                          "gridcolor": "white",
                          "linecolor": "white",
                          "minorgridcolor": "white",
                          "startlinecolor": "#2a3f5f"
                        },
                        "type": "carpet"
                      }
                    ],
                    "table": [
                      {
                        "cells": {
                          "fill": {
                            "color": "#EBF0F8"
                          },
                          "line": {
                            "color": "white"
                          }
                        },
                        "header": {
                          "fill": {
                            "color": "#C8D4E3"
                          },
                          "line": {
                            "color": "white"
                          }
                        },
                        "type": "table"
                      }
                    ],
                    "barpolar": [
                      {
                        "marker": {
                          "line": {
                            "color": "#E5ECF6",
                            "width": 0.5
                          },
                          "pattern": {
                            "fillmode": "overlay",
                            "size": 10,
                            "solidity": 0.2
                          }
                        },
                        "type": "barpolar"
                      }
                    ],
                    "pie": [
                      {
                        "automargin": true,
                        "type": "pie"
                      }
                    ]
                  },
                  "layout": {
                    "autotypenumbers": "strict",
                    "colorway": [
                      "#636efa",
                      "#EF553B",
                      "#00cc96",
                      "#ab63fa",
                      "#FFA15A",
                      "#19d3f3",
                      "#FF6692",
                      "#B6E880",
                      "#FF97FF",
                      "#FECB52"
                    ],
                    "font": {
                      "color": "#2a3f5f"
                    },
                    "hovermode": "closest",
                    "hoverlabel": {
                      "align": "left"
                    },
                    "paper_bgcolor": "white",
                    "plot_bgcolor": "#E5ECF6",
                    "polar": {
                      "bgcolor": "#E5ECF6",
                      "angularaxis": {
                        "gridcolor": "white",
                        "linecolor": "white",
                        "ticks": ""
                      },
                      "radialaxis": {
                        "gridcolor": "white",
                        "linecolor": "white",
                        "ticks": ""
                      }
                    },
                    "ternary": {
                      "bgcolor": "#E5ECF6",
                      "aaxis": {
                        "gridcolor": "white",
                        "linecolor": "white",
                        "ticks": ""
                      },
                      "baxis": {
                        "gridcolor": "white",
                        "linecolor": "white",
                        "ticks": ""
                      },
                      "caxis": {
                        "gridcolor": "white",
                        "linecolor": "white",
                        "ticks": ""
                      }
                    },
                    "coloraxis": {
                      "colorbar": {
                        "outlinewidth": 0,
                        "ticks": ""
                      }
                    },
                    "colorscale": {
                      "sequential": [
                        [
                          0,
                          "#0d0887"
                        ],
                        [
                          0.1111111111111111,
                          "#46039f"
                        ],
                        [
                          0.2222222222222222,
                          "#7201a8"
                        ],
                        [
                          0.3333333333333333,
                          "#9c179e"
                        ],
                        [
                          0.4444444444444444,
                          "#bd3786"
                        ],
                        [
                          0.5555555555555556,
                          "#d8576b"
                        ],
                        [
                          0.6666666666666666,
                          "#ed7953"
                        ],
                        [
                          0.7777777777777778,
                          "#fb9f3a"
                        ],
                        [
                          0.8888888888888888,
                          "#fdca26"
                        ],
                        [
                          1,
                          "#f0f921"
                        ]
                      ],
                      "sequentialminus": [
                        [
                          0,
                          "#0d0887"
                        ],
                        [
                          0.1111111111111111,
                          "#46039f"
                        ],
                        [
                          0.2222222222222222,
                          "#7201a8"
                        ],
                        [
                          0.3333333333333333,
                          "#9c179e"
                        ],
                        [
                          0.4444444444444444,
                          "#bd3786"
                        ],
                        [
                          0.5555555555555556,
                          "#d8576b"
                        ],
                        [
                          0.6666666666666666,
                          "#ed7953"
                        ],
                        [
                          0.7777777777777778,
                          "#fb9f3a"
                        ],
                        [
                          0.8888888888888888,
                          "#fdca26"
                        ],
                        [
                          1,
                          "#f0f921"
                        ]
                      ],
                      "diverging": [
                        [
                          0,
                          "#8e0152"
                        ],
                        [
                          0.1,
                          "#c51b7d"
                        ],
                        [
                          0.2,
                          "#de77ae"
                        ],
                        [
                          0.3,
                          "#f1b6da"
                        ],
                        [
                          0.4,
                          "#fde0ef"
                        ],
                        [
                          0.5,
                          "#f7f7f7"
                        ],
                        [
                          0.6,
                          "#e6f5d0"
                        ],
                        [
                          0.7,
                          "#b8e186"
                        ],
                        [
                          0.8,
                          "#7fbc41"
                        ],
                        [
                          0.9,
                          "#4d9221"
                        ],
                        [
                          1,
                          "#276419"
                        ]
                      ]
                    },
                    "xaxis": {
                      "gridcolor": "white",
                      "linecolor": "white",
                      "ticks": "",
                      "title": {
                        "standoff": 15
                      },
                      "zerolinecolor": "white",
                      "automargin": true,
                      "zerolinewidth": 2
                    },
                    "yaxis": {
                      "gridcolor": "white",
                      "linecolor": "white",
                      "ticks": "",
                      "title": {
                        "standoff": 15
                      },
                      "zerolinecolor": "white",
                      "automargin": true,
                      "zerolinewidth": 2
                    },
                    "scene": {
                      "xaxis": {
                        "backgroundcolor": "#E5ECF6",
                        "gridcolor": "white",
                        "linecolor": "white",
                        "showbackground": true,
                        "ticks": "",
                        "zerolinecolor": "white",
                        "gridwidth": 2
                      },
                      "yaxis": {
                        "backgroundcolor": "#E5ECF6",
                        "gridcolor": "white",
                        "linecolor": "white",
                        "showbackground": true,
                        "ticks": "",
                        "zerolinecolor": "white",
                        "gridwidth": 2
                      },
                      "zaxis": {
                        "backgroundcolor": "#E5ECF6",
                        "gridcolor": "white",
                        "linecolor": "white",
                        "showbackground": true,
                        "ticks": "",
                        "zerolinecolor": "white",
                        "gridwidth": 2
                      }
                    },
                    "shapedefaults": {
                      "line": {
                        "color": "#2a3f5f"
                      }
                    },
                    "annotationdefaults": {
                      "arrowcolor": "#2a3f5f",
                      "arrowhead": 0,
                      "arrowwidth": 1
                    },
                    "geo": {
                      "bgcolor": "white",
                      "landcolor": "#E5ECF6",
                      "subunitcolor": "white",
                      "showland": true,
                      "showlakes": true,
                      "lakecolor": "white"
                    },
                    "title": {
                      "x": 0.05
                    },
                    "mapbox": {
                      "style": "light"
                    }
                  }
                },
                "xaxis": {
                  "anchor": "y",
                  "domain": [
                    0,
                    1
                  ],
                  "title": {
                    "text": "Job Titles"
                  }
                },
                "yaxis": {
                  "anchor": "x",
                  "domain": [
                    0,
                    1
                  ],
                  "title": {
                    "text": "Count"
                  }
                },
                "legend": {
                  "title": {
                    "text": "color"
                  },
                  "tracegroupgap": 0
                },
                "title": {
                  "text": "Top Job Titles w.r.t to number of Jobs",
                  "x": 0.5
                },
                "barmode": "relative",
                "font": {
                  "size": 14
                }
              },
              "config": {
                "plotlyServerURL": "https://plot.ly"
              }
            },
            "text/html": [
              "<div>                            <div id=\"04068e4f-1f3b-45b3-b332-4b706965d1ca\" class=\"plotly-graph-div\" style=\"height:525px; width:100%;\"></div>            <script type=\"text/javascript\">                require([\"plotly\"], function(Plotly) {                    window.PLOTLYENV=window.PLOTLYENV || {};                                    if (document.getElementById(\"04068e4f-1f3b-45b3-b332-4b706965d1ca\")) {                    Plotly.newPlot(                        \"04068e4f-1f3b-45b3-b332-4b706965d1ca\",                        [{\"alignmentgroup\":\"True\",\"hovertemplate\":\"color=Data Scientist<br>x=%{x}<br>y=%{y}<br>text=%{text}<extra></extra>\",\"legendgroup\":\"Data Scientist\",\"marker\":{\"color\":\"#636efa\",\"pattern\":{\"shape\":\"\"}},\"name\":\"Data Scientist\",\"offsetgroup\":\"Data Scientist\",\"orientation\":\"v\",\"showlegend\":true,\"text\":[143.0],\"textposition\":\"auto\",\"x\":[\"Data Scientist\"],\"xaxis\":\"x\",\"y\":[143],\"yaxis\":\"y\",\"type\":\"bar\"},{\"alignmentgroup\":\"True\",\"hovertemplate\":\"color=Data Engineer<br>x=%{x}<br>y=%{y}<br>text=%{text}<extra></extra>\",\"legendgroup\":\"Data Engineer\",\"marker\":{\"color\":\"#EF553B\",\"pattern\":{\"shape\":\"\"}},\"name\":\"Data Engineer\",\"offsetgroup\":\"Data Engineer\",\"orientation\":\"v\",\"showlegend\":true,\"text\":[132.0],\"textposition\":\"auto\",\"x\":[\"Data Engineer\"],\"xaxis\":\"x\",\"y\":[132],\"yaxis\":\"y\",\"type\":\"bar\"},{\"alignmentgroup\":\"True\",\"hovertemplate\":\"color=Data Analyst<br>x=%{x}<br>y=%{y}<br>text=%{text}<extra></extra>\",\"legendgroup\":\"Data Analyst\",\"marker\":{\"color\":\"#00cc96\",\"pattern\":{\"shape\":\"\"}},\"name\":\"Data Analyst\",\"offsetgroup\":\"Data Analyst\",\"orientation\":\"v\",\"showlegend\":true,\"text\":[97.0],\"textposition\":\"auto\",\"x\":[\"Data Analyst\"],\"xaxis\":\"x\",\"y\":[97],\"yaxis\":\"y\",\"type\":\"bar\"},{\"alignmentgroup\":\"True\",\"hovertemplate\":\"color=Machine Learning Engineer<br>x=%{x}<br>y=%{y}<br>text=%{text}<extra></extra>\",\"legendgroup\":\"Machine Learning Engineer\",\"marker\":{\"color\":\"#ab63fa\",\"pattern\":{\"shape\":\"\"}},\"name\":\"Machine Learning Engineer\",\"offsetgroup\":\"Machine Learning Engineer\",\"orientation\":\"v\",\"showlegend\":true,\"text\":[41.0],\"textposition\":\"auto\",\"x\":[\"Machine Learning Engineer\"],\"xaxis\":\"x\",\"y\":[41],\"yaxis\":\"y\",\"type\":\"bar\"},{\"alignmentgroup\":\"True\",\"hovertemplate\":\"color=Research Scientist<br>x=%{x}<br>y=%{y}<br>text=%{text}<extra></extra>\",\"legendgroup\":\"Research Scientist\",\"marker\":{\"color\":\"#FFA15A\",\"pattern\":{\"shape\":\"\"}},\"name\":\"Research Scientist\",\"offsetgroup\":\"Research Scientist\",\"orientation\":\"v\",\"showlegend\":true,\"text\":[16.0],\"textposition\":\"auto\",\"x\":[\"Research Scientist\"],\"xaxis\":\"x\",\"y\":[16],\"yaxis\":\"y\",\"type\":\"bar\"},{\"alignmentgroup\":\"True\",\"hovertemplate\":\"color=Data Science Manager<br>x=%{x}<br>y=%{y}<br>text=%{text}<extra></extra>\",\"legendgroup\":\"Data Science Manager\",\"marker\":{\"color\":\"#19d3f3\",\"pattern\":{\"shape\":\"\"}},\"name\":\"Data Science Manager\",\"offsetgroup\":\"Data Science Manager\",\"orientation\":\"v\",\"showlegend\":true,\"text\":[12.0],\"textposition\":\"auto\",\"x\":[\"Data Science Manager\"],\"xaxis\":\"x\",\"y\":[12],\"yaxis\":\"y\",\"type\":\"bar\"},{\"alignmentgroup\":\"True\",\"hovertemplate\":\"color=Data Architect<br>x=%{x}<br>y=%{y}<br>text=%{text}<extra></extra>\",\"legendgroup\":\"Data Architect\",\"marker\":{\"color\":\"#FF6692\",\"pattern\":{\"shape\":\"\"}},\"name\":\"Data Architect\",\"offsetgroup\":\"Data Architect\",\"orientation\":\"v\",\"showlegend\":true,\"text\":[11.0],\"textposition\":\"auto\",\"x\":[\"Data Architect\"],\"xaxis\":\"x\",\"y\":[11],\"yaxis\":\"y\",\"type\":\"bar\"},{\"alignmentgroup\":\"True\",\"hovertemplate\":\"color=Big Data Engineer<br>x=%{x}<br>y=%{y}<br>text=%{text}<extra></extra>\",\"legendgroup\":\"Big Data Engineer\",\"marker\":{\"color\":\"#B6E880\",\"pattern\":{\"shape\":\"\"}},\"name\":\"Big Data Engineer\",\"offsetgroup\":\"Big Data Engineer\",\"orientation\":\"v\",\"showlegend\":true,\"text\":[8.0],\"textposition\":\"auto\",\"x\":[\"Big Data Engineer\"],\"xaxis\":\"x\",\"y\":[8],\"yaxis\":\"y\",\"type\":\"bar\"},{\"alignmentgroup\":\"True\",\"hovertemplate\":\"color=Machine Learning Scientist<br>x=%{x}<br>y=%{y}<br>text=%{text}<extra></extra>\",\"legendgroup\":\"Machine Learning Scientist\",\"marker\":{\"color\":\"#FF97FF\",\"pattern\":{\"shape\":\"\"}},\"name\":\"Machine Learning Scientist\",\"offsetgroup\":\"Machine Learning Scientist\",\"orientation\":\"v\",\"showlegend\":true,\"text\":[8.0],\"textposition\":\"auto\",\"x\":[\"Machine Learning Scientist\"],\"xaxis\":\"x\",\"y\":[8],\"yaxis\":\"y\",\"type\":\"bar\"},{\"alignmentgroup\":\"True\",\"hovertemplate\":\"color=Principal Data Scientist<br>x=%{x}<br>y=%{y}<br>text=%{text}<extra></extra>\",\"legendgroup\":\"Principal Data Scientist\",\"marker\":{\"color\":\"#FECB52\",\"pattern\":{\"shape\":\"\"}},\"name\":\"Principal Data Scientist\",\"offsetgroup\":\"Principal Data Scientist\",\"orientation\":\"v\",\"showlegend\":true,\"text\":[7.0],\"textposition\":\"auto\",\"x\":[\"Principal Data Scientist\"],\"xaxis\":\"x\",\"y\":[7],\"yaxis\":\"y\",\"type\":\"bar\"}],                        {\"template\":{\"data\":{\"histogram2dcontour\":[{\"type\":\"histogram2dcontour\",\"colorbar\":{\"outlinewidth\":0,\"ticks\":\"\"},\"colorscale\":[[0.0,\"#0d0887\"],[0.1111111111111111,\"#46039f\"],[0.2222222222222222,\"#7201a8\"],[0.3333333333333333,\"#9c179e\"],[0.4444444444444444,\"#bd3786\"],[0.5555555555555556,\"#d8576b\"],[0.6666666666666666,\"#ed7953\"],[0.7777777777777778,\"#fb9f3a\"],[0.8888888888888888,\"#fdca26\"],[1.0,\"#f0f921\"]]}],\"choropleth\":[{\"type\":\"choropleth\",\"colorbar\":{\"outlinewidth\":0,\"ticks\":\"\"}}],\"histogram2d\":[{\"type\":\"histogram2d\",\"colorbar\":{\"outlinewidth\":0,\"ticks\":\"\"},\"colorscale\":[[0.0,\"#0d0887\"],[0.1111111111111111,\"#46039f\"],[0.2222222222222222,\"#7201a8\"],[0.3333333333333333,\"#9c179e\"],[0.4444444444444444,\"#bd3786\"],[0.5555555555555556,\"#d8576b\"],[0.6666666666666666,\"#ed7953\"],[0.7777777777777778,\"#fb9f3a\"],[0.8888888888888888,\"#fdca26\"],[1.0,\"#f0f921\"]]}],\"heatmap\":[{\"type\":\"heatmap\",\"colorbar\":{\"outlinewidth\":0,\"ticks\":\"\"},\"colorscale\":[[0.0,\"#0d0887\"],[0.1111111111111111,\"#46039f\"],[0.2222222222222222,\"#7201a8\"],[0.3333333333333333,\"#9c179e\"],[0.4444444444444444,\"#bd3786\"],[0.5555555555555556,\"#d8576b\"],[0.6666666666666666,\"#ed7953\"],[0.7777777777777778,\"#fb9f3a\"],[0.8888888888888888,\"#fdca26\"],[1.0,\"#f0f921\"]]}],\"heatmapgl\":[{\"type\":\"heatmapgl\",\"colorbar\":{\"outlinewidth\":0,\"ticks\":\"\"},\"colorscale\":[[0.0,\"#0d0887\"],[0.1111111111111111,\"#46039f\"],[0.2222222222222222,\"#7201a8\"],[0.3333333333333333,\"#9c179e\"],[0.4444444444444444,\"#bd3786\"],[0.5555555555555556,\"#d8576b\"],[0.6666666666666666,\"#ed7953\"],[0.7777777777777778,\"#fb9f3a\"],[0.8888888888888888,\"#fdca26\"],[1.0,\"#f0f921\"]]}],\"contourcarpet\":[{\"type\":\"contourcarpet\",\"colorbar\":{\"outlinewidth\":0,\"ticks\":\"\"}}],\"contour\":[{\"type\":\"contour\",\"colorbar\":{\"outlinewidth\":0,\"ticks\":\"\"},\"colorscale\":[[0.0,\"#0d0887\"],[0.1111111111111111,\"#46039f\"],[0.2222222222222222,\"#7201a8\"],[0.3333333333333333,\"#9c179e\"],[0.4444444444444444,\"#bd3786\"],[0.5555555555555556,\"#d8576b\"],[0.6666666666666666,\"#ed7953\"],[0.7777777777777778,\"#fb9f3a\"],[0.8888888888888888,\"#fdca26\"],[1.0,\"#f0f921\"]]}],\"surface\":[{\"type\":\"surface\",\"colorbar\":{\"outlinewidth\":0,\"ticks\":\"\"},\"colorscale\":[[0.0,\"#0d0887\"],[0.1111111111111111,\"#46039f\"],[0.2222222222222222,\"#7201a8\"],[0.3333333333333333,\"#9c179e\"],[0.4444444444444444,\"#bd3786\"],[0.5555555555555556,\"#d8576b\"],[0.6666666666666666,\"#ed7953\"],[0.7777777777777778,\"#fb9f3a\"],[0.8888888888888888,\"#fdca26\"],[1.0,\"#f0f921\"]]}],\"mesh3d\":[{\"type\":\"mesh3d\",\"colorbar\":{\"outlinewidth\":0,\"ticks\":\"\"}}],\"scatter\":[{\"fillpattern\":{\"fillmode\":\"overlay\",\"size\":10,\"solidity\":0.2},\"type\":\"scatter\"}],\"parcoords\":[{\"type\":\"parcoords\",\"line\":{\"colorbar\":{\"outlinewidth\":0,\"ticks\":\"\"}}}],\"scatterpolargl\":[{\"type\":\"scatterpolargl\",\"marker\":{\"colorbar\":{\"outlinewidth\":0,\"ticks\":\"\"}}}],\"bar\":[{\"error_x\":{\"color\":\"#2a3f5f\"},\"error_y\":{\"color\":\"#2a3f5f\"},\"marker\":{\"line\":{\"color\":\"#E5ECF6\",\"width\":0.5},\"pattern\":{\"fillmode\":\"overlay\",\"size\":10,\"solidity\":0.2}},\"type\":\"bar\"}],\"scattergeo\":[{\"type\":\"scattergeo\",\"marker\":{\"colorbar\":{\"outlinewidth\":0,\"ticks\":\"\"}}}],\"scatterpolar\":[{\"type\":\"scatterpolar\",\"marker\":{\"colorbar\":{\"outlinewidth\":0,\"ticks\":\"\"}}}],\"histogram\":[{\"marker\":{\"pattern\":{\"fillmode\":\"overlay\",\"size\":10,\"solidity\":0.2}},\"type\":\"histogram\"}],\"scattergl\":[{\"type\":\"scattergl\",\"marker\":{\"colorbar\":{\"outlinewidth\":0,\"ticks\":\"\"}}}],\"scatter3d\":[{\"type\":\"scatter3d\",\"line\":{\"colorbar\":{\"outlinewidth\":0,\"ticks\":\"\"}},\"marker\":{\"colorbar\":{\"outlinewidth\":0,\"ticks\":\"\"}}}],\"scattermapbox\":[{\"type\":\"scattermapbox\",\"marker\":{\"colorbar\":{\"outlinewidth\":0,\"ticks\":\"\"}}}],\"scatterternary\":[{\"type\":\"scatterternary\",\"marker\":{\"colorbar\":{\"outlinewidth\":0,\"ticks\":\"\"}}}],\"scattercarpet\":[{\"type\":\"scattercarpet\",\"marker\":{\"colorbar\":{\"outlinewidth\":0,\"ticks\":\"\"}}}],\"carpet\":[{\"aaxis\":{\"endlinecolor\":\"#2a3f5f\",\"gridcolor\":\"white\",\"linecolor\":\"white\",\"minorgridcolor\":\"white\",\"startlinecolor\":\"#2a3f5f\"},\"baxis\":{\"endlinecolor\":\"#2a3f5f\",\"gridcolor\":\"white\",\"linecolor\":\"white\",\"minorgridcolor\":\"white\",\"startlinecolor\":\"#2a3f5f\"},\"type\":\"carpet\"}],\"table\":[{\"cells\":{\"fill\":{\"color\":\"#EBF0F8\"},\"line\":{\"color\":\"white\"}},\"header\":{\"fill\":{\"color\":\"#C8D4E3\"},\"line\":{\"color\":\"white\"}},\"type\":\"table\"}],\"barpolar\":[{\"marker\":{\"line\":{\"color\":\"#E5ECF6\",\"width\":0.5},\"pattern\":{\"fillmode\":\"overlay\",\"size\":10,\"solidity\":0.2}},\"type\":\"barpolar\"}],\"pie\":[{\"automargin\":true,\"type\":\"pie\"}]},\"layout\":{\"autotypenumbers\":\"strict\",\"colorway\":[\"#636efa\",\"#EF553B\",\"#00cc96\",\"#ab63fa\",\"#FFA15A\",\"#19d3f3\",\"#FF6692\",\"#B6E880\",\"#FF97FF\",\"#FECB52\"],\"font\":{\"color\":\"#2a3f5f\"},\"hovermode\":\"closest\",\"hoverlabel\":{\"align\":\"left\"},\"paper_bgcolor\":\"white\",\"plot_bgcolor\":\"#E5ECF6\",\"polar\":{\"bgcolor\":\"#E5ECF6\",\"angularaxis\":{\"gridcolor\":\"white\",\"linecolor\":\"white\",\"ticks\":\"\"},\"radialaxis\":{\"gridcolor\":\"white\",\"linecolor\":\"white\",\"ticks\":\"\"}},\"ternary\":{\"bgcolor\":\"#E5ECF6\",\"aaxis\":{\"gridcolor\":\"white\",\"linecolor\":\"white\",\"ticks\":\"\"},\"baxis\":{\"gridcolor\":\"white\",\"linecolor\":\"white\",\"ticks\":\"\"},\"caxis\":{\"gridcolor\":\"white\",\"linecolor\":\"white\",\"ticks\":\"\"}},\"coloraxis\":{\"colorbar\":{\"outlinewidth\":0,\"ticks\":\"\"}},\"colorscale\":{\"sequential\":[[0.0,\"#0d0887\"],[0.1111111111111111,\"#46039f\"],[0.2222222222222222,\"#7201a8\"],[0.3333333333333333,\"#9c179e\"],[0.4444444444444444,\"#bd3786\"],[0.5555555555555556,\"#d8576b\"],[0.6666666666666666,\"#ed7953\"],[0.7777777777777778,\"#fb9f3a\"],[0.8888888888888888,\"#fdca26\"],[1.0,\"#f0f921\"]],\"sequentialminus\":[[0.0,\"#0d0887\"],[0.1111111111111111,\"#46039f\"],[0.2222222222222222,\"#7201a8\"],[0.3333333333333333,\"#9c179e\"],[0.4444444444444444,\"#bd3786\"],[0.5555555555555556,\"#d8576b\"],[0.6666666666666666,\"#ed7953\"],[0.7777777777777778,\"#fb9f3a\"],[0.8888888888888888,\"#fdca26\"],[1.0,\"#f0f921\"]],\"diverging\":[[0,\"#8e0152\"],[0.1,\"#c51b7d\"],[0.2,\"#de77ae\"],[0.3,\"#f1b6da\"],[0.4,\"#fde0ef\"],[0.5,\"#f7f7f7\"],[0.6,\"#e6f5d0\"],[0.7,\"#b8e186\"],[0.8,\"#7fbc41\"],[0.9,\"#4d9221\"],[1,\"#276419\"]]},\"xaxis\":{\"gridcolor\":\"white\",\"linecolor\":\"white\",\"ticks\":\"\",\"title\":{\"standoff\":15},\"zerolinecolor\":\"white\",\"automargin\":true,\"zerolinewidth\":2},\"yaxis\":{\"gridcolor\":\"white\",\"linecolor\":\"white\",\"ticks\":\"\",\"title\":{\"standoff\":15},\"zerolinecolor\":\"white\",\"automargin\":true,\"zerolinewidth\":2},\"scene\":{\"xaxis\":{\"backgroundcolor\":\"#E5ECF6\",\"gridcolor\":\"white\",\"linecolor\":\"white\",\"showbackground\":true,\"ticks\":\"\",\"zerolinecolor\":\"white\",\"gridwidth\":2},\"yaxis\":{\"backgroundcolor\":\"#E5ECF6\",\"gridcolor\":\"white\",\"linecolor\":\"white\",\"showbackground\":true,\"ticks\":\"\",\"zerolinecolor\":\"white\",\"gridwidth\":2},\"zaxis\":{\"backgroundcolor\":\"#E5ECF6\",\"gridcolor\":\"white\",\"linecolor\":\"white\",\"showbackground\":true,\"ticks\":\"\",\"zerolinecolor\":\"white\",\"gridwidth\":2}},\"shapedefaults\":{\"line\":{\"color\":\"#2a3f5f\"}},\"annotationdefaults\":{\"arrowcolor\":\"#2a3f5f\",\"arrowhead\":0,\"arrowwidth\":1},\"geo\":{\"bgcolor\":\"white\",\"landcolor\":\"#E5ECF6\",\"subunitcolor\":\"white\",\"showland\":true,\"showlakes\":true,\"lakecolor\":\"white\"},\"title\":{\"x\":0.05},\"mapbox\":{\"style\":\"light\"}}},\"xaxis\":{\"anchor\":\"y\",\"domain\":[0.0,1.0],\"title\":{\"text\":\"Job Titles\"}},\"yaxis\":{\"anchor\":\"x\",\"domain\":[0.0,1.0],\"title\":{\"text\":\"Count\"}},\"legend\":{\"title\":{\"text\":\"color\"},\"tracegroupgap\":0},\"title\":{\"text\":\"Top Job Titles w.r.t to number of Jobs\",\"x\":0.5},\"barmode\":\"relative\",\"font\":{\"size\":14}},                        {\"responsive\": true}                    ).then(function(){\n",
              "                            \n",
              "var gd = document.getElementById('04068e4f-1f3b-45b3-b332-4b706965d1ca');\n",
              "var x = new MutationObserver(function (mutations, observer) {{\n",
              "        var display = window.getComputedStyle(gd).display;\n",
              "        if (!display || display === 'none') {{\n",
              "            console.log([gd, 'removed!']);\n",
              "            Plotly.purge(gd);\n",
              "            observer.disconnect();\n",
              "        }}\n",
              "}});\n",
              "\n",
              "// Listen for the removal of the full notebook cells\n",
              "var notebookContainer = gd.closest('#notebook-container');\n",
              "if (notebookContainer) {{\n",
              "    x.observe(notebookContainer, {childList: true});\n",
              "}}\n",
              "\n",
              "// Listen for the clearing of the current output cell\n",
              "var outputEl = gd.closest('.output');\n",
              "if (outputEl) {{\n",
              "    x.observe(outputEl, {childList: true});\n",
              "}}\n",
              "\n",
              "                        })                };                });            </script>        </div>"
            ]
          },
          "metadata": {}
        }
      ]
    },
    {
      "cell_type": "markdown",
      "source": [
        "As per the usual trend, the top two positions are occupied by Data Engineer and Data Scientist, with Data Analyst and Machine Learning Engineer following closely behind."
      ],
      "metadata": {
        "id": "Fnej9YtjqczY"
      }
    },
    {
      "cell_type": "code",
      "source": [
        "# Employment Type Distribution using Pie Chart\n",
        "fig = px.pie(df, values=df['employment_type'].value_counts(normalize=True) * 100, names=df['employment_type'].unique(), title='Employment Type Distribution')\n",
        "fig.update_traces(textposition='outside', textinfo='percent+label', pull=[0.1]*len(df['employment_type'].unique()))\n",
        "fig.update_layout(legend=dict(x=0.85, y=0.5),title_x=0.2)\n",
        "\n",
        "fig.show()"
      ],
      "metadata": {
        "colab": {
          "base_uri": "https://localhost:8080/",
          "height": 542
        },
        "id": "orGilgQzZ8RE",
        "outputId": "98502d56-af11-4052-9697-477c22d19667"
      },
      "execution_count": 12,
      "outputs": [
        {
          "output_type": "display_data",
          "data": {
            "application/vnd.plotly.v1+json": {
              "data": [
                {
                  "domain": {
                    "x": [
                      0,
                      1
                    ],
                    "y": [
                      0,
                      1
                    ]
                  },
                  "hovertemplate": "label=%{label}<br>value=%{value}<extra></extra>",
                  "labels": [
                    "Full Time",
                    "Contract",
                    "Part Time",
                    "Freelance"
                  ],
                  "legendgroup": "",
                  "name": "",
                  "showlegend": true,
                  "values": [
                    96.86985172981878,
                    1.6474464579901154,
                    0.8237232289950577,
                    0.6589785831960462
                  ],
                  "type": "pie",
                  "pull": [
                    0.1,
                    0.1,
                    0.1,
                    0.1
                  ],
                  "textinfo": "percent+label",
                  "textposition": "outside"
                }
              ],
              "layout": {
                "template": {
                  "data": {
                    "histogram2dcontour": [
                      {
                        "type": "histogram2dcontour",
                        "colorbar": {
                          "outlinewidth": 0,
                          "ticks": ""
                        },
                        "colorscale": [
                          [
                            0,
                            "#0d0887"
                          ],
                          [
                            0.1111111111111111,
                            "#46039f"
                          ],
                          [
                            0.2222222222222222,
                            "#7201a8"
                          ],
                          [
                            0.3333333333333333,
                            "#9c179e"
                          ],
                          [
                            0.4444444444444444,
                            "#bd3786"
                          ],
                          [
                            0.5555555555555556,
                            "#d8576b"
                          ],
                          [
                            0.6666666666666666,
                            "#ed7953"
                          ],
                          [
                            0.7777777777777778,
                            "#fb9f3a"
                          ],
                          [
                            0.8888888888888888,
                            "#fdca26"
                          ],
                          [
                            1,
                            "#f0f921"
                          ]
                        ]
                      }
                    ],
                    "choropleth": [
                      {
                        "type": "choropleth",
                        "colorbar": {
                          "outlinewidth": 0,
                          "ticks": ""
                        }
                      }
                    ],
                    "histogram2d": [
                      {
                        "type": "histogram2d",
                        "colorbar": {
                          "outlinewidth": 0,
                          "ticks": ""
                        },
                        "colorscale": [
                          [
                            0,
                            "#0d0887"
                          ],
                          [
                            0.1111111111111111,
                            "#46039f"
                          ],
                          [
                            0.2222222222222222,
                            "#7201a8"
                          ],
                          [
                            0.3333333333333333,
                            "#9c179e"
                          ],
                          [
                            0.4444444444444444,
                            "#bd3786"
                          ],
                          [
                            0.5555555555555556,
                            "#d8576b"
                          ],
                          [
                            0.6666666666666666,
                            "#ed7953"
                          ],
                          [
                            0.7777777777777778,
                            "#fb9f3a"
                          ],
                          [
                            0.8888888888888888,
                            "#fdca26"
                          ],
                          [
                            1,
                            "#f0f921"
                          ]
                        ]
                      }
                    ],
                    "heatmap": [
                      {
                        "type": "heatmap",
                        "colorbar": {
                          "outlinewidth": 0,
                          "ticks": ""
                        },
                        "colorscale": [
                          [
                            0,
                            "#0d0887"
                          ],
                          [
                            0.1111111111111111,
                            "#46039f"
                          ],
                          [
                            0.2222222222222222,
                            "#7201a8"
                          ],
                          [
                            0.3333333333333333,
                            "#9c179e"
                          ],
                          [
                            0.4444444444444444,
                            "#bd3786"
                          ],
                          [
                            0.5555555555555556,
                            "#d8576b"
                          ],
                          [
                            0.6666666666666666,
                            "#ed7953"
                          ],
                          [
                            0.7777777777777778,
                            "#fb9f3a"
                          ],
                          [
                            0.8888888888888888,
                            "#fdca26"
                          ],
                          [
                            1,
                            "#f0f921"
                          ]
                        ]
                      }
                    ],
                    "heatmapgl": [
                      {
                        "type": "heatmapgl",
                        "colorbar": {
                          "outlinewidth": 0,
                          "ticks": ""
                        },
                        "colorscale": [
                          [
                            0,
                            "#0d0887"
                          ],
                          [
                            0.1111111111111111,
                            "#46039f"
                          ],
                          [
                            0.2222222222222222,
                            "#7201a8"
                          ],
                          [
                            0.3333333333333333,
                            "#9c179e"
                          ],
                          [
                            0.4444444444444444,
                            "#bd3786"
                          ],
                          [
                            0.5555555555555556,
                            "#d8576b"
                          ],
                          [
                            0.6666666666666666,
                            "#ed7953"
                          ],
                          [
                            0.7777777777777778,
                            "#fb9f3a"
                          ],
                          [
                            0.8888888888888888,
                            "#fdca26"
                          ],
                          [
                            1,
                            "#f0f921"
                          ]
                        ]
                      }
                    ],
                    "contourcarpet": [
                      {
                        "type": "contourcarpet",
                        "colorbar": {
                          "outlinewidth": 0,
                          "ticks": ""
                        }
                      }
                    ],
                    "contour": [
                      {
                        "type": "contour",
                        "colorbar": {
                          "outlinewidth": 0,
                          "ticks": ""
                        },
                        "colorscale": [
                          [
                            0,
                            "#0d0887"
                          ],
                          [
                            0.1111111111111111,
                            "#46039f"
                          ],
                          [
                            0.2222222222222222,
                            "#7201a8"
                          ],
                          [
                            0.3333333333333333,
                            "#9c179e"
                          ],
                          [
                            0.4444444444444444,
                            "#bd3786"
                          ],
                          [
                            0.5555555555555556,
                            "#d8576b"
                          ],
                          [
                            0.6666666666666666,
                            "#ed7953"
                          ],
                          [
                            0.7777777777777778,
                            "#fb9f3a"
                          ],
                          [
                            0.8888888888888888,
                            "#fdca26"
                          ],
                          [
                            1,
                            "#f0f921"
                          ]
                        ]
                      }
                    ],
                    "surface": [
                      {
                        "type": "surface",
                        "colorbar": {
                          "outlinewidth": 0,
                          "ticks": ""
                        },
                        "colorscale": [
                          [
                            0,
                            "#0d0887"
                          ],
                          [
                            0.1111111111111111,
                            "#46039f"
                          ],
                          [
                            0.2222222222222222,
                            "#7201a8"
                          ],
                          [
                            0.3333333333333333,
                            "#9c179e"
                          ],
                          [
                            0.4444444444444444,
                            "#bd3786"
                          ],
                          [
                            0.5555555555555556,
                            "#d8576b"
                          ],
                          [
                            0.6666666666666666,
                            "#ed7953"
                          ],
                          [
                            0.7777777777777778,
                            "#fb9f3a"
                          ],
                          [
                            0.8888888888888888,
                            "#fdca26"
                          ],
                          [
                            1,
                            "#f0f921"
                          ]
                        ]
                      }
                    ],
                    "mesh3d": [
                      {
                        "type": "mesh3d",
                        "colorbar": {
                          "outlinewidth": 0,
                          "ticks": ""
                        }
                      }
                    ],
                    "scatter": [
                      {
                        "fillpattern": {
                          "fillmode": "overlay",
                          "size": 10,
                          "solidity": 0.2
                        },
                        "type": "scatter"
                      }
                    ],
                    "parcoords": [
                      {
                        "type": "parcoords",
                        "line": {
                          "colorbar": {
                            "outlinewidth": 0,
                            "ticks": ""
                          }
                        }
                      }
                    ],
                    "scatterpolargl": [
                      {
                        "type": "scatterpolargl",
                        "marker": {
                          "colorbar": {
                            "outlinewidth": 0,
                            "ticks": ""
                          }
                        }
                      }
                    ],
                    "bar": [
                      {
                        "error_x": {
                          "color": "#2a3f5f"
                        },
                        "error_y": {
                          "color": "#2a3f5f"
                        },
                        "marker": {
                          "line": {
                            "color": "#E5ECF6",
                            "width": 0.5
                          },
                          "pattern": {
                            "fillmode": "overlay",
                            "size": 10,
                            "solidity": 0.2
                          }
                        },
                        "type": "bar"
                      }
                    ],
                    "scattergeo": [
                      {
                        "type": "scattergeo",
                        "marker": {
                          "colorbar": {
                            "outlinewidth": 0,
                            "ticks": ""
                          }
                        }
                      }
                    ],
                    "scatterpolar": [
                      {
                        "type": "scatterpolar",
                        "marker": {
                          "colorbar": {
                            "outlinewidth": 0,
                            "ticks": ""
                          }
                        }
                      }
                    ],
                    "histogram": [
                      {
                        "marker": {
                          "pattern": {
                            "fillmode": "overlay",
                            "size": 10,
                            "solidity": 0.2
                          }
                        },
                        "type": "histogram"
                      }
                    ],
                    "scattergl": [
                      {
                        "type": "scattergl",
                        "marker": {
                          "colorbar": {
                            "outlinewidth": 0,
                            "ticks": ""
                          }
                        }
                      }
                    ],
                    "scatter3d": [
                      {
                        "type": "scatter3d",
                        "line": {
                          "colorbar": {
                            "outlinewidth": 0,
                            "ticks": ""
                          }
                        },
                        "marker": {
                          "colorbar": {
                            "outlinewidth": 0,
                            "ticks": ""
                          }
                        }
                      }
                    ],
                    "scattermapbox": [
                      {
                        "type": "scattermapbox",
                        "marker": {
                          "colorbar": {
                            "outlinewidth": 0,
                            "ticks": ""
                          }
                        }
                      }
                    ],
                    "scatterternary": [
                      {
                        "type": "scatterternary",
                        "marker": {
                          "colorbar": {
                            "outlinewidth": 0,
                            "ticks": ""
                          }
                        }
                      }
                    ],
                    "scattercarpet": [
                      {
                        "type": "scattercarpet",
                        "marker": {
                          "colorbar": {
                            "outlinewidth": 0,
                            "ticks": ""
                          }
                        }
                      }
                    ],
                    "carpet": [
                      {
                        "aaxis": {
                          "endlinecolor": "#2a3f5f",
                          "gridcolor": "white",
                          "linecolor": "white",
                          "minorgridcolor": "white",
                          "startlinecolor": "#2a3f5f"
                        },
                        "baxis": {
                          "endlinecolor": "#2a3f5f",
                          "gridcolor": "white",
                          "linecolor": "white",
                          "minorgridcolor": "white",
                          "startlinecolor": "#2a3f5f"
                        },
                        "type": "carpet"
                      }
                    ],
                    "table": [
                      {
                        "cells": {
                          "fill": {
                            "color": "#EBF0F8"
                          },
                          "line": {
                            "color": "white"
                          }
                        },
                        "header": {
                          "fill": {
                            "color": "#C8D4E3"
                          },
                          "line": {
                            "color": "white"
                          }
                        },
                        "type": "table"
                      }
                    ],
                    "barpolar": [
                      {
                        "marker": {
                          "line": {
                            "color": "#E5ECF6",
                            "width": 0.5
                          },
                          "pattern": {
                            "fillmode": "overlay",
                            "size": 10,
                            "solidity": 0.2
                          }
                        },
                        "type": "barpolar"
                      }
                    ],
                    "pie": [
                      {
                        "automargin": true,
                        "type": "pie"
                      }
                    ]
                  },
                  "layout": {
                    "autotypenumbers": "strict",
                    "colorway": [
                      "#636efa",
                      "#EF553B",
                      "#00cc96",
                      "#ab63fa",
                      "#FFA15A",
                      "#19d3f3",
                      "#FF6692",
                      "#B6E880",
                      "#FF97FF",
                      "#FECB52"
                    ],
                    "font": {
                      "color": "#2a3f5f"
                    },
                    "hovermode": "closest",
                    "hoverlabel": {
                      "align": "left"
                    },
                    "paper_bgcolor": "white",
                    "plot_bgcolor": "#E5ECF6",
                    "polar": {
                      "bgcolor": "#E5ECF6",
                      "angularaxis": {
                        "gridcolor": "white",
                        "linecolor": "white",
                        "ticks": ""
                      },
                      "radialaxis": {
                        "gridcolor": "white",
                        "linecolor": "white",
                        "ticks": ""
                      }
                    },
                    "ternary": {
                      "bgcolor": "#E5ECF6",
                      "aaxis": {
                        "gridcolor": "white",
                        "linecolor": "white",
                        "ticks": ""
                      },
                      "baxis": {
                        "gridcolor": "white",
                        "linecolor": "white",
                        "ticks": ""
                      },
                      "caxis": {
                        "gridcolor": "white",
                        "linecolor": "white",
                        "ticks": ""
                      }
                    },
                    "coloraxis": {
                      "colorbar": {
                        "outlinewidth": 0,
                        "ticks": ""
                      }
                    },
                    "colorscale": {
                      "sequential": [
                        [
                          0,
                          "#0d0887"
                        ],
                        [
                          0.1111111111111111,
                          "#46039f"
                        ],
                        [
                          0.2222222222222222,
                          "#7201a8"
                        ],
                        [
                          0.3333333333333333,
                          "#9c179e"
                        ],
                        [
                          0.4444444444444444,
                          "#bd3786"
                        ],
                        [
                          0.5555555555555556,
                          "#d8576b"
                        ],
                        [
                          0.6666666666666666,
                          "#ed7953"
                        ],
                        [
                          0.7777777777777778,
                          "#fb9f3a"
                        ],
                        [
                          0.8888888888888888,
                          "#fdca26"
                        ],
                        [
                          1,
                          "#f0f921"
                        ]
                      ],
                      "sequentialminus": [
                        [
                          0,
                          "#0d0887"
                        ],
                        [
                          0.1111111111111111,
                          "#46039f"
                        ],
                        [
                          0.2222222222222222,
                          "#7201a8"
                        ],
                        [
                          0.3333333333333333,
                          "#9c179e"
                        ],
                        [
                          0.4444444444444444,
                          "#bd3786"
                        ],
                        [
                          0.5555555555555556,
                          "#d8576b"
                        ],
                        [
                          0.6666666666666666,
                          "#ed7953"
                        ],
                        [
                          0.7777777777777778,
                          "#fb9f3a"
                        ],
                        [
                          0.8888888888888888,
                          "#fdca26"
                        ],
                        [
                          1,
                          "#f0f921"
                        ]
                      ],
                      "diverging": [
                        [
                          0,
                          "#8e0152"
                        ],
                        [
                          0.1,
                          "#c51b7d"
                        ],
                        [
                          0.2,
                          "#de77ae"
                        ],
                        [
                          0.3,
                          "#f1b6da"
                        ],
                        [
                          0.4,
                          "#fde0ef"
                        ],
                        [
                          0.5,
                          "#f7f7f7"
                        ],
                        [
                          0.6,
                          "#e6f5d0"
                        ],
                        [
                          0.7,
                          "#b8e186"
                        ],
                        [
                          0.8,
                          "#7fbc41"
                        ],
                        [
                          0.9,
                          "#4d9221"
                        ],
                        [
                          1,
                          "#276419"
                        ]
                      ]
                    },
                    "xaxis": {
                      "gridcolor": "white",
                      "linecolor": "white",
                      "ticks": "",
                      "title": {
                        "standoff": 15
                      },
                      "zerolinecolor": "white",
                      "automargin": true,
                      "zerolinewidth": 2
                    },
                    "yaxis": {
                      "gridcolor": "white",
                      "linecolor": "white",
                      "ticks": "",
                      "title": {
                        "standoff": 15
                      },
                      "zerolinecolor": "white",
                      "automargin": true,
                      "zerolinewidth": 2
                    },
                    "scene": {
                      "xaxis": {
                        "backgroundcolor": "#E5ECF6",
                        "gridcolor": "white",
                        "linecolor": "white",
                        "showbackground": true,
                        "ticks": "",
                        "zerolinecolor": "white",
                        "gridwidth": 2
                      },
                      "yaxis": {
                        "backgroundcolor": "#E5ECF6",
                        "gridcolor": "white",
                        "linecolor": "white",
                        "showbackground": true,
                        "ticks": "",
                        "zerolinecolor": "white",
                        "gridwidth": 2
                      },
                      "zaxis": {
                        "backgroundcolor": "#E5ECF6",
                        "gridcolor": "white",
                        "linecolor": "white",
                        "showbackground": true,
                        "ticks": "",
                        "zerolinecolor": "white",
                        "gridwidth": 2
                      }
                    },
                    "shapedefaults": {
                      "line": {
                        "color": "#2a3f5f"
                      }
                    },
                    "annotationdefaults": {
                      "arrowcolor": "#2a3f5f",
                      "arrowhead": 0,
                      "arrowwidth": 1
                    },
                    "geo": {
                      "bgcolor": "white",
                      "landcolor": "#E5ECF6",
                      "subunitcolor": "white",
                      "showland": true,
                      "showlakes": true,
                      "lakecolor": "white"
                    },
                    "title": {
                      "x": 0.05
                    },
                    "mapbox": {
                      "style": "light"
                    }
                  }
                },
                "legend": {
                  "tracegroupgap": 0,
                  "x": 0.85,
                  "y": 0.5
                },
                "title": {
                  "text": "Employment Type Distribution",
                  "x": 0.2
                }
              },
              "config": {
                "plotlyServerURL": "https://plot.ly"
              }
            },
            "text/html": [
              "<div>                            <div id=\"d249518d-8aee-4205-bd82-bc0130b92844\" class=\"plotly-graph-div\" style=\"height:525px; width:100%;\"></div>            <script type=\"text/javascript\">                require([\"plotly\"], function(Plotly) {                    window.PLOTLYENV=window.PLOTLYENV || {};                                    if (document.getElementById(\"d249518d-8aee-4205-bd82-bc0130b92844\")) {                    Plotly.newPlot(                        \"d249518d-8aee-4205-bd82-bc0130b92844\",                        [{\"domain\":{\"x\":[0.0,1.0],\"y\":[0.0,1.0]},\"hovertemplate\":\"label=%{label}<br>value=%{value}<extra></extra>\",\"labels\":[\"Full Time\",\"Contract\",\"Part Time\",\"Freelance\"],\"legendgroup\":\"\",\"name\":\"\",\"showlegend\":true,\"values\":[96.86985172981878,1.6474464579901154,0.8237232289950577,0.6589785831960462],\"type\":\"pie\",\"pull\":[0.1,0.1,0.1,0.1],\"textinfo\":\"percent+label\",\"textposition\":\"outside\"}],                        {\"template\":{\"data\":{\"histogram2dcontour\":[{\"type\":\"histogram2dcontour\",\"colorbar\":{\"outlinewidth\":0,\"ticks\":\"\"},\"colorscale\":[[0.0,\"#0d0887\"],[0.1111111111111111,\"#46039f\"],[0.2222222222222222,\"#7201a8\"],[0.3333333333333333,\"#9c179e\"],[0.4444444444444444,\"#bd3786\"],[0.5555555555555556,\"#d8576b\"],[0.6666666666666666,\"#ed7953\"],[0.7777777777777778,\"#fb9f3a\"],[0.8888888888888888,\"#fdca26\"],[1.0,\"#f0f921\"]]}],\"choropleth\":[{\"type\":\"choropleth\",\"colorbar\":{\"outlinewidth\":0,\"ticks\":\"\"}}],\"histogram2d\":[{\"type\":\"histogram2d\",\"colorbar\":{\"outlinewidth\":0,\"ticks\":\"\"},\"colorscale\":[[0.0,\"#0d0887\"],[0.1111111111111111,\"#46039f\"],[0.2222222222222222,\"#7201a8\"],[0.3333333333333333,\"#9c179e\"],[0.4444444444444444,\"#bd3786\"],[0.5555555555555556,\"#d8576b\"],[0.6666666666666666,\"#ed7953\"],[0.7777777777777778,\"#fb9f3a\"],[0.8888888888888888,\"#fdca26\"],[1.0,\"#f0f921\"]]}],\"heatmap\":[{\"type\":\"heatmap\",\"colorbar\":{\"outlinewidth\":0,\"ticks\":\"\"},\"colorscale\":[[0.0,\"#0d0887\"],[0.1111111111111111,\"#46039f\"],[0.2222222222222222,\"#7201a8\"],[0.3333333333333333,\"#9c179e\"],[0.4444444444444444,\"#bd3786\"],[0.5555555555555556,\"#d8576b\"],[0.6666666666666666,\"#ed7953\"],[0.7777777777777778,\"#fb9f3a\"],[0.8888888888888888,\"#fdca26\"],[1.0,\"#f0f921\"]]}],\"heatmapgl\":[{\"type\":\"heatmapgl\",\"colorbar\":{\"outlinewidth\":0,\"ticks\":\"\"},\"colorscale\":[[0.0,\"#0d0887\"],[0.1111111111111111,\"#46039f\"],[0.2222222222222222,\"#7201a8\"],[0.3333333333333333,\"#9c179e\"],[0.4444444444444444,\"#bd3786\"],[0.5555555555555556,\"#d8576b\"],[0.6666666666666666,\"#ed7953\"],[0.7777777777777778,\"#fb9f3a\"],[0.8888888888888888,\"#fdca26\"],[1.0,\"#f0f921\"]]}],\"contourcarpet\":[{\"type\":\"contourcarpet\",\"colorbar\":{\"outlinewidth\":0,\"ticks\":\"\"}}],\"contour\":[{\"type\":\"contour\",\"colorbar\":{\"outlinewidth\":0,\"ticks\":\"\"},\"colorscale\":[[0.0,\"#0d0887\"],[0.1111111111111111,\"#46039f\"],[0.2222222222222222,\"#7201a8\"],[0.3333333333333333,\"#9c179e\"],[0.4444444444444444,\"#bd3786\"],[0.5555555555555556,\"#d8576b\"],[0.6666666666666666,\"#ed7953\"],[0.7777777777777778,\"#fb9f3a\"],[0.8888888888888888,\"#fdca26\"],[1.0,\"#f0f921\"]]}],\"surface\":[{\"type\":\"surface\",\"colorbar\":{\"outlinewidth\":0,\"ticks\":\"\"},\"colorscale\":[[0.0,\"#0d0887\"],[0.1111111111111111,\"#46039f\"],[0.2222222222222222,\"#7201a8\"],[0.3333333333333333,\"#9c179e\"],[0.4444444444444444,\"#bd3786\"],[0.5555555555555556,\"#d8576b\"],[0.6666666666666666,\"#ed7953\"],[0.7777777777777778,\"#fb9f3a\"],[0.8888888888888888,\"#fdca26\"],[1.0,\"#f0f921\"]]}],\"mesh3d\":[{\"type\":\"mesh3d\",\"colorbar\":{\"outlinewidth\":0,\"ticks\":\"\"}}],\"scatter\":[{\"fillpattern\":{\"fillmode\":\"overlay\",\"size\":10,\"solidity\":0.2},\"type\":\"scatter\"}],\"parcoords\":[{\"type\":\"parcoords\",\"line\":{\"colorbar\":{\"outlinewidth\":0,\"ticks\":\"\"}}}],\"scatterpolargl\":[{\"type\":\"scatterpolargl\",\"marker\":{\"colorbar\":{\"outlinewidth\":0,\"ticks\":\"\"}}}],\"bar\":[{\"error_x\":{\"color\":\"#2a3f5f\"},\"error_y\":{\"color\":\"#2a3f5f\"},\"marker\":{\"line\":{\"color\":\"#E5ECF6\",\"width\":0.5},\"pattern\":{\"fillmode\":\"overlay\",\"size\":10,\"solidity\":0.2}},\"type\":\"bar\"}],\"scattergeo\":[{\"type\":\"scattergeo\",\"marker\":{\"colorbar\":{\"outlinewidth\":0,\"ticks\":\"\"}}}],\"scatterpolar\":[{\"type\":\"scatterpolar\",\"marker\":{\"colorbar\":{\"outlinewidth\":0,\"ticks\":\"\"}}}],\"histogram\":[{\"marker\":{\"pattern\":{\"fillmode\":\"overlay\",\"size\":10,\"solidity\":0.2}},\"type\":\"histogram\"}],\"scattergl\":[{\"type\":\"scattergl\",\"marker\":{\"colorbar\":{\"outlinewidth\":0,\"ticks\":\"\"}}}],\"scatter3d\":[{\"type\":\"scatter3d\",\"line\":{\"colorbar\":{\"outlinewidth\":0,\"ticks\":\"\"}},\"marker\":{\"colorbar\":{\"outlinewidth\":0,\"ticks\":\"\"}}}],\"scattermapbox\":[{\"type\":\"scattermapbox\",\"marker\":{\"colorbar\":{\"outlinewidth\":0,\"ticks\":\"\"}}}],\"scatterternary\":[{\"type\":\"scatterternary\",\"marker\":{\"colorbar\":{\"outlinewidth\":0,\"ticks\":\"\"}}}],\"scattercarpet\":[{\"type\":\"scattercarpet\",\"marker\":{\"colorbar\":{\"outlinewidth\":0,\"ticks\":\"\"}}}],\"carpet\":[{\"aaxis\":{\"endlinecolor\":\"#2a3f5f\",\"gridcolor\":\"white\",\"linecolor\":\"white\",\"minorgridcolor\":\"white\",\"startlinecolor\":\"#2a3f5f\"},\"baxis\":{\"endlinecolor\":\"#2a3f5f\",\"gridcolor\":\"white\",\"linecolor\":\"white\",\"minorgridcolor\":\"white\",\"startlinecolor\":\"#2a3f5f\"},\"type\":\"carpet\"}],\"table\":[{\"cells\":{\"fill\":{\"color\":\"#EBF0F8\"},\"line\":{\"color\":\"white\"}},\"header\":{\"fill\":{\"color\":\"#C8D4E3\"},\"line\":{\"color\":\"white\"}},\"type\":\"table\"}],\"barpolar\":[{\"marker\":{\"line\":{\"color\":\"#E5ECF6\",\"width\":0.5},\"pattern\":{\"fillmode\":\"overlay\",\"size\":10,\"solidity\":0.2}},\"type\":\"barpolar\"}],\"pie\":[{\"automargin\":true,\"type\":\"pie\"}]},\"layout\":{\"autotypenumbers\":\"strict\",\"colorway\":[\"#636efa\",\"#EF553B\",\"#00cc96\",\"#ab63fa\",\"#FFA15A\",\"#19d3f3\",\"#FF6692\",\"#B6E880\",\"#FF97FF\",\"#FECB52\"],\"font\":{\"color\":\"#2a3f5f\"},\"hovermode\":\"closest\",\"hoverlabel\":{\"align\":\"left\"},\"paper_bgcolor\":\"white\",\"plot_bgcolor\":\"#E5ECF6\",\"polar\":{\"bgcolor\":\"#E5ECF6\",\"angularaxis\":{\"gridcolor\":\"white\",\"linecolor\":\"white\",\"ticks\":\"\"},\"radialaxis\":{\"gridcolor\":\"white\",\"linecolor\":\"white\",\"ticks\":\"\"}},\"ternary\":{\"bgcolor\":\"#E5ECF6\",\"aaxis\":{\"gridcolor\":\"white\",\"linecolor\":\"white\",\"ticks\":\"\"},\"baxis\":{\"gridcolor\":\"white\",\"linecolor\":\"white\",\"ticks\":\"\"},\"caxis\":{\"gridcolor\":\"white\",\"linecolor\":\"white\",\"ticks\":\"\"}},\"coloraxis\":{\"colorbar\":{\"outlinewidth\":0,\"ticks\":\"\"}},\"colorscale\":{\"sequential\":[[0.0,\"#0d0887\"],[0.1111111111111111,\"#46039f\"],[0.2222222222222222,\"#7201a8\"],[0.3333333333333333,\"#9c179e\"],[0.4444444444444444,\"#bd3786\"],[0.5555555555555556,\"#d8576b\"],[0.6666666666666666,\"#ed7953\"],[0.7777777777777778,\"#fb9f3a\"],[0.8888888888888888,\"#fdca26\"],[1.0,\"#f0f921\"]],\"sequentialminus\":[[0.0,\"#0d0887\"],[0.1111111111111111,\"#46039f\"],[0.2222222222222222,\"#7201a8\"],[0.3333333333333333,\"#9c179e\"],[0.4444444444444444,\"#bd3786\"],[0.5555555555555556,\"#d8576b\"],[0.6666666666666666,\"#ed7953\"],[0.7777777777777778,\"#fb9f3a\"],[0.8888888888888888,\"#fdca26\"],[1.0,\"#f0f921\"]],\"diverging\":[[0,\"#8e0152\"],[0.1,\"#c51b7d\"],[0.2,\"#de77ae\"],[0.3,\"#f1b6da\"],[0.4,\"#fde0ef\"],[0.5,\"#f7f7f7\"],[0.6,\"#e6f5d0\"],[0.7,\"#b8e186\"],[0.8,\"#7fbc41\"],[0.9,\"#4d9221\"],[1,\"#276419\"]]},\"xaxis\":{\"gridcolor\":\"white\",\"linecolor\":\"white\",\"ticks\":\"\",\"title\":{\"standoff\":15},\"zerolinecolor\":\"white\",\"automargin\":true,\"zerolinewidth\":2},\"yaxis\":{\"gridcolor\":\"white\",\"linecolor\":\"white\",\"ticks\":\"\",\"title\":{\"standoff\":15},\"zerolinecolor\":\"white\",\"automargin\":true,\"zerolinewidth\":2},\"scene\":{\"xaxis\":{\"backgroundcolor\":\"#E5ECF6\",\"gridcolor\":\"white\",\"linecolor\":\"white\",\"showbackground\":true,\"ticks\":\"\",\"zerolinecolor\":\"white\",\"gridwidth\":2},\"yaxis\":{\"backgroundcolor\":\"#E5ECF6\",\"gridcolor\":\"white\",\"linecolor\":\"white\",\"showbackground\":true,\"ticks\":\"\",\"zerolinecolor\":\"white\",\"gridwidth\":2},\"zaxis\":{\"backgroundcolor\":\"#E5ECF6\",\"gridcolor\":\"white\",\"linecolor\":\"white\",\"showbackground\":true,\"ticks\":\"\",\"zerolinecolor\":\"white\",\"gridwidth\":2}},\"shapedefaults\":{\"line\":{\"color\":\"#2a3f5f\"}},\"annotationdefaults\":{\"arrowcolor\":\"#2a3f5f\",\"arrowhead\":0,\"arrowwidth\":1},\"geo\":{\"bgcolor\":\"white\",\"landcolor\":\"#E5ECF6\",\"subunitcolor\":\"white\",\"showland\":true,\"showlakes\":true,\"lakecolor\":\"white\"},\"title\":{\"x\":0.05},\"mapbox\":{\"style\":\"light\"}}},\"legend\":{\"tracegroupgap\":0,\"x\":0.85,\"y\":0.5},\"title\":{\"text\":\"Employment Type Distribution\",\"x\":0.2}},                        {\"responsive\": true}                    ).then(function(){\n",
              "                            \n",
              "var gd = document.getElementById('d249518d-8aee-4205-bd82-bc0130b92844');\n",
              "var x = new MutationObserver(function (mutations, observer) {{\n",
              "        var display = window.getComputedStyle(gd).display;\n",
              "        if (!display || display === 'none') {{\n",
              "            console.log([gd, 'removed!']);\n",
              "            Plotly.purge(gd);\n",
              "            observer.disconnect();\n",
              "        }}\n",
              "}});\n",
              "\n",
              "// Listen for the removal of the full notebook cells\n",
              "var notebookContainer = gd.closest('#notebook-container');\n",
              "if (notebookContainer) {{\n",
              "    x.observe(notebookContainer, {childList: true});\n",
              "}}\n",
              "\n",
              "// Listen for the clearing of the current output cell\n",
              "var outputEl = gd.closest('.output');\n",
              "if (outputEl) {{\n",
              "    x.observe(outputEl, {childList: true});\n",
              "}}\n",
              "\n",
              "                        })                };                });            </script>        </div>"
            ]
          },
          "metadata": {}
        }
      ]
    },
    {
      "cell_type": "markdown",
      "source": [
        "The pie chart clearly indicates that the majority of employment within the provided dataset is comprised of Full-time employees."
      ],
      "metadata": {
        "id": "QJd5b8wqqspg"
      }
    },
    {
      "cell_type": "code",
      "source": [
        "# Top Employee Locations Visualized though a Bar Graph\n",
        "loca = df['employee_residence'].value_counts()[:10]\n",
        "fig = px.bar(x=loca.index,\n",
        "             y=loca.values,\n",
        "             orientation='v',\n",
        "             color = loca.index,\n",
        "             text = loca.values,\n",
        "             title='Top Employee Locations')\n",
        "\n",
        "fig.update_layout(yaxis_title='Count',\n",
        "                  xaxis_title='Job Titles',\n",
        "                  title_x=0.5,\n",
        "                  font = dict(size = 14))\n",
        "fig.show()"
      ],
      "metadata": {
        "colab": {
          "base_uri": "https://localhost:8080/",
          "height": 542
        },
        "id": "nuusY6R2c_sx",
        "outputId": "dbd6d491-352f-4fcb-8efd-9f5654beedc0"
      },
      "execution_count": 13,
      "outputs": [
        {
          "output_type": "display_data",
          "data": {
            "application/vnd.plotly.v1+json": {
              "data": [
                {
                  "alignmentgroup": "True",
                  "hovertemplate": "color=US<br>x=%{x}<br>y=%{y}<br>text=%{text}<extra></extra>",
                  "legendgroup": "US",
                  "marker": {
                    "color": "#636efa",
                    "pattern": {
                      "shape": ""
                    }
                  },
                  "name": "US",
                  "offsetgroup": "US",
                  "orientation": "v",
                  "showlegend": true,
                  "text": [
                    332
                  ],
                  "textposition": "auto",
                  "x": [
                    "US"
                  ],
                  "xaxis": "x",
                  "y": [
                    332
                  ],
                  "yaxis": "y",
                  "type": "bar"
                },
                {
                  "alignmentgroup": "True",
                  "hovertemplate": "color=GB<br>x=%{x}<br>y=%{y}<br>text=%{text}<extra></extra>",
                  "legendgroup": "GB",
                  "marker": {
                    "color": "#EF553B",
                    "pattern": {
                      "shape": ""
                    }
                  },
                  "name": "GB",
                  "offsetgroup": "GB",
                  "orientation": "v",
                  "showlegend": true,
                  "text": [
                    44
                  ],
                  "textposition": "auto",
                  "x": [
                    "GB"
                  ],
                  "xaxis": "x",
                  "y": [
                    44
                  ],
                  "yaxis": "y",
                  "type": "bar"
                },
                {
                  "alignmentgroup": "True",
                  "hovertemplate": "color=IN<br>x=%{x}<br>y=%{y}<br>text=%{text}<extra></extra>",
                  "legendgroup": "IN",
                  "marker": {
                    "color": "#00cc96",
                    "pattern": {
                      "shape": ""
                    }
                  },
                  "name": "IN",
                  "offsetgroup": "IN",
                  "orientation": "v",
                  "showlegend": true,
                  "text": [
                    30
                  ],
                  "textposition": "auto",
                  "x": [
                    "IN"
                  ],
                  "xaxis": "x",
                  "y": [
                    30
                  ],
                  "yaxis": "y",
                  "type": "bar"
                },
                {
                  "alignmentgroup": "True",
                  "hovertemplate": "color=CA<br>x=%{x}<br>y=%{y}<br>text=%{text}<extra></extra>",
                  "legendgroup": "CA",
                  "marker": {
                    "color": "#ab63fa",
                    "pattern": {
                      "shape": ""
                    }
                  },
                  "name": "CA",
                  "offsetgroup": "CA",
                  "orientation": "v",
                  "showlegend": true,
                  "text": [
                    29
                  ],
                  "textposition": "auto",
                  "x": [
                    "CA"
                  ],
                  "xaxis": "x",
                  "y": [
                    29
                  ],
                  "yaxis": "y",
                  "type": "bar"
                },
                {
                  "alignmentgroup": "True",
                  "hovertemplate": "color=DE<br>x=%{x}<br>y=%{y}<br>text=%{text}<extra></extra>",
                  "legendgroup": "DE",
                  "marker": {
                    "color": "#FFA15A",
                    "pattern": {
                      "shape": ""
                    }
                  },
                  "name": "DE",
                  "offsetgroup": "DE",
                  "orientation": "v",
                  "showlegend": true,
                  "text": [
                    25
                  ],
                  "textposition": "auto",
                  "x": [
                    "DE"
                  ],
                  "xaxis": "x",
                  "y": [
                    25
                  ],
                  "yaxis": "y",
                  "type": "bar"
                },
                {
                  "alignmentgroup": "True",
                  "hovertemplate": "color=FR<br>x=%{x}<br>y=%{y}<br>text=%{text}<extra></extra>",
                  "legendgroup": "FR",
                  "marker": {
                    "color": "#19d3f3",
                    "pattern": {
                      "shape": ""
                    }
                  },
                  "name": "FR",
                  "offsetgroup": "FR",
                  "orientation": "v",
                  "showlegend": true,
                  "text": [
                    18
                  ],
                  "textposition": "auto",
                  "x": [
                    "FR"
                  ],
                  "xaxis": "x",
                  "y": [
                    18
                  ],
                  "yaxis": "y",
                  "type": "bar"
                },
                {
                  "alignmentgroup": "True",
                  "hovertemplate": "color=ES<br>x=%{x}<br>y=%{y}<br>text=%{text}<extra></extra>",
                  "legendgroup": "ES",
                  "marker": {
                    "color": "#FF6692",
                    "pattern": {
                      "shape": ""
                    }
                  },
                  "name": "ES",
                  "offsetgroup": "ES",
                  "orientation": "v",
                  "showlegend": true,
                  "text": [
                    15
                  ],
                  "textposition": "auto",
                  "x": [
                    "ES"
                  ],
                  "xaxis": "x",
                  "y": [
                    15
                  ],
                  "yaxis": "y",
                  "type": "bar"
                },
                {
                  "alignmentgroup": "True",
                  "hovertemplate": "color=GR<br>x=%{x}<br>y=%{y}<br>text=%{text}<extra></extra>",
                  "legendgroup": "GR",
                  "marker": {
                    "color": "#B6E880",
                    "pattern": {
                      "shape": ""
                    }
                  },
                  "name": "GR",
                  "offsetgroup": "GR",
                  "orientation": "v",
                  "showlegend": true,
                  "text": [
                    13
                  ],
                  "textposition": "auto",
                  "x": [
                    "GR"
                  ],
                  "xaxis": "x",
                  "y": [
                    13
                  ],
                  "yaxis": "y",
                  "type": "bar"
                },
                {
                  "alignmentgroup": "True",
                  "hovertemplate": "color=JP<br>x=%{x}<br>y=%{y}<br>text=%{text}<extra></extra>",
                  "legendgroup": "JP",
                  "marker": {
                    "color": "#FF97FF",
                    "pattern": {
                      "shape": ""
                    }
                  },
                  "name": "JP",
                  "offsetgroup": "JP",
                  "orientation": "v",
                  "showlegend": true,
                  "text": [
                    7
                  ],
                  "textposition": "auto",
                  "x": [
                    "JP"
                  ],
                  "xaxis": "x",
                  "y": [
                    7
                  ],
                  "yaxis": "y",
                  "type": "bar"
                },
                {
                  "alignmentgroup": "True",
                  "hovertemplate": "color=PT<br>x=%{x}<br>y=%{y}<br>text=%{text}<extra></extra>",
                  "legendgroup": "PT",
                  "marker": {
                    "color": "#FECB52",
                    "pattern": {
                      "shape": ""
                    }
                  },
                  "name": "PT",
                  "offsetgroup": "PT",
                  "orientation": "v",
                  "showlegend": true,
                  "text": [
                    6
                  ],
                  "textposition": "auto",
                  "x": [
                    "PT"
                  ],
                  "xaxis": "x",
                  "y": [
                    6
                  ],
                  "yaxis": "y",
                  "type": "bar"
                }
              ],
              "layout": {
                "template": {
                  "data": {
                    "histogram2dcontour": [
                      {
                        "type": "histogram2dcontour",
                        "colorbar": {
                          "outlinewidth": 0,
                          "ticks": ""
                        },
                        "colorscale": [
                          [
                            0,
                            "#0d0887"
                          ],
                          [
                            0.1111111111111111,
                            "#46039f"
                          ],
                          [
                            0.2222222222222222,
                            "#7201a8"
                          ],
                          [
                            0.3333333333333333,
                            "#9c179e"
                          ],
                          [
                            0.4444444444444444,
                            "#bd3786"
                          ],
                          [
                            0.5555555555555556,
                            "#d8576b"
                          ],
                          [
                            0.6666666666666666,
                            "#ed7953"
                          ],
                          [
                            0.7777777777777778,
                            "#fb9f3a"
                          ],
                          [
                            0.8888888888888888,
                            "#fdca26"
                          ],
                          [
                            1,
                            "#f0f921"
                          ]
                        ]
                      }
                    ],
                    "choropleth": [
                      {
                        "type": "choropleth",
                        "colorbar": {
                          "outlinewidth": 0,
                          "ticks": ""
                        }
                      }
                    ],
                    "histogram2d": [
                      {
                        "type": "histogram2d",
                        "colorbar": {
                          "outlinewidth": 0,
                          "ticks": ""
                        },
                        "colorscale": [
                          [
                            0,
                            "#0d0887"
                          ],
                          [
                            0.1111111111111111,
                            "#46039f"
                          ],
                          [
                            0.2222222222222222,
                            "#7201a8"
                          ],
                          [
                            0.3333333333333333,
                            "#9c179e"
                          ],
                          [
                            0.4444444444444444,
                            "#bd3786"
                          ],
                          [
                            0.5555555555555556,
                            "#d8576b"
                          ],
                          [
                            0.6666666666666666,
                            "#ed7953"
                          ],
                          [
                            0.7777777777777778,
                            "#fb9f3a"
                          ],
                          [
                            0.8888888888888888,
                            "#fdca26"
                          ],
                          [
                            1,
                            "#f0f921"
                          ]
                        ]
                      }
                    ],
                    "heatmap": [
                      {
                        "type": "heatmap",
                        "colorbar": {
                          "outlinewidth": 0,
                          "ticks": ""
                        },
                        "colorscale": [
                          [
                            0,
                            "#0d0887"
                          ],
                          [
                            0.1111111111111111,
                            "#46039f"
                          ],
                          [
                            0.2222222222222222,
                            "#7201a8"
                          ],
                          [
                            0.3333333333333333,
                            "#9c179e"
                          ],
                          [
                            0.4444444444444444,
                            "#bd3786"
                          ],
                          [
                            0.5555555555555556,
                            "#d8576b"
                          ],
                          [
                            0.6666666666666666,
                            "#ed7953"
                          ],
                          [
                            0.7777777777777778,
                            "#fb9f3a"
                          ],
                          [
                            0.8888888888888888,
                            "#fdca26"
                          ],
                          [
                            1,
                            "#f0f921"
                          ]
                        ]
                      }
                    ],
                    "heatmapgl": [
                      {
                        "type": "heatmapgl",
                        "colorbar": {
                          "outlinewidth": 0,
                          "ticks": ""
                        },
                        "colorscale": [
                          [
                            0,
                            "#0d0887"
                          ],
                          [
                            0.1111111111111111,
                            "#46039f"
                          ],
                          [
                            0.2222222222222222,
                            "#7201a8"
                          ],
                          [
                            0.3333333333333333,
                            "#9c179e"
                          ],
                          [
                            0.4444444444444444,
                            "#bd3786"
                          ],
                          [
                            0.5555555555555556,
                            "#d8576b"
                          ],
                          [
                            0.6666666666666666,
                            "#ed7953"
                          ],
                          [
                            0.7777777777777778,
                            "#fb9f3a"
                          ],
                          [
                            0.8888888888888888,
                            "#fdca26"
                          ],
                          [
                            1,
                            "#f0f921"
                          ]
                        ]
                      }
                    ],
                    "contourcarpet": [
                      {
                        "type": "contourcarpet",
                        "colorbar": {
                          "outlinewidth": 0,
                          "ticks": ""
                        }
                      }
                    ],
                    "contour": [
                      {
                        "type": "contour",
                        "colorbar": {
                          "outlinewidth": 0,
                          "ticks": ""
                        },
                        "colorscale": [
                          [
                            0,
                            "#0d0887"
                          ],
                          [
                            0.1111111111111111,
                            "#46039f"
                          ],
                          [
                            0.2222222222222222,
                            "#7201a8"
                          ],
                          [
                            0.3333333333333333,
                            "#9c179e"
                          ],
                          [
                            0.4444444444444444,
                            "#bd3786"
                          ],
                          [
                            0.5555555555555556,
                            "#d8576b"
                          ],
                          [
                            0.6666666666666666,
                            "#ed7953"
                          ],
                          [
                            0.7777777777777778,
                            "#fb9f3a"
                          ],
                          [
                            0.8888888888888888,
                            "#fdca26"
                          ],
                          [
                            1,
                            "#f0f921"
                          ]
                        ]
                      }
                    ],
                    "surface": [
                      {
                        "type": "surface",
                        "colorbar": {
                          "outlinewidth": 0,
                          "ticks": ""
                        },
                        "colorscale": [
                          [
                            0,
                            "#0d0887"
                          ],
                          [
                            0.1111111111111111,
                            "#46039f"
                          ],
                          [
                            0.2222222222222222,
                            "#7201a8"
                          ],
                          [
                            0.3333333333333333,
                            "#9c179e"
                          ],
                          [
                            0.4444444444444444,
                            "#bd3786"
                          ],
                          [
                            0.5555555555555556,
                            "#d8576b"
                          ],
                          [
                            0.6666666666666666,
                            "#ed7953"
                          ],
                          [
                            0.7777777777777778,
                            "#fb9f3a"
                          ],
                          [
                            0.8888888888888888,
                            "#fdca26"
                          ],
                          [
                            1,
                            "#f0f921"
                          ]
                        ]
                      }
                    ],
                    "mesh3d": [
                      {
                        "type": "mesh3d",
                        "colorbar": {
                          "outlinewidth": 0,
                          "ticks": ""
                        }
                      }
                    ],
                    "scatter": [
                      {
                        "fillpattern": {
                          "fillmode": "overlay",
                          "size": 10,
                          "solidity": 0.2
                        },
                        "type": "scatter"
                      }
                    ],
                    "parcoords": [
                      {
                        "type": "parcoords",
                        "line": {
                          "colorbar": {
                            "outlinewidth": 0,
                            "ticks": ""
                          }
                        }
                      }
                    ],
                    "scatterpolargl": [
                      {
                        "type": "scatterpolargl",
                        "marker": {
                          "colorbar": {
                            "outlinewidth": 0,
                            "ticks": ""
                          }
                        }
                      }
                    ],
                    "bar": [
                      {
                        "error_x": {
                          "color": "#2a3f5f"
                        },
                        "error_y": {
                          "color": "#2a3f5f"
                        },
                        "marker": {
                          "line": {
                            "color": "#E5ECF6",
                            "width": 0.5
                          },
                          "pattern": {
                            "fillmode": "overlay",
                            "size": 10,
                            "solidity": 0.2
                          }
                        },
                        "type": "bar"
                      }
                    ],
                    "scattergeo": [
                      {
                        "type": "scattergeo",
                        "marker": {
                          "colorbar": {
                            "outlinewidth": 0,
                            "ticks": ""
                          }
                        }
                      }
                    ],
                    "scatterpolar": [
                      {
                        "type": "scatterpolar",
                        "marker": {
                          "colorbar": {
                            "outlinewidth": 0,
                            "ticks": ""
                          }
                        }
                      }
                    ],
                    "histogram": [
                      {
                        "marker": {
                          "pattern": {
                            "fillmode": "overlay",
                            "size": 10,
                            "solidity": 0.2
                          }
                        },
                        "type": "histogram"
                      }
                    ],
                    "scattergl": [
                      {
                        "type": "scattergl",
                        "marker": {
                          "colorbar": {
                            "outlinewidth": 0,
                            "ticks": ""
                          }
                        }
                      }
                    ],
                    "scatter3d": [
                      {
                        "type": "scatter3d",
                        "line": {
                          "colorbar": {
                            "outlinewidth": 0,
                            "ticks": ""
                          }
                        },
                        "marker": {
                          "colorbar": {
                            "outlinewidth": 0,
                            "ticks": ""
                          }
                        }
                      }
                    ],
                    "scattermapbox": [
                      {
                        "type": "scattermapbox",
                        "marker": {
                          "colorbar": {
                            "outlinewidth": 0,
                            "ticks": ""
                          }
                        }
                      }
                    ],
                    "scatterternary": [
                      {
                        "type": "scatterternary",
                        "marker": {
                          "colorbar": {
                            "outlinewidth": 0,
                            "ticks": ""
                          }
                        }
                      }
                    ],
                    "scattercarpet": [
                      {
                        "type": "scattercarpet",
                        "marker": {
                          "colorbar": {
                            "outlinewidth": 0,
                            "ticks": ""
                          }
                        }
                      }
                    ],
                    "carpet": [
                      {
                        "aaxis": {
                          "endlinecolor": "#2a3f5f",
                          "gridcolor": "white",
                          "linecolor": "white",
                          "minorgridcolor": "white",
                          "startlinecolor": "#2a3f5f"
                        },
                        "baxis": {
                          "endlinecolor": "#2a3f5f",
                          "gridcolor": "white",
                          "linecolor": "white",
                          "minorgridcolor": "white",
                          "startlinecolor": "#2a3f5f"
                        },
                        "type": "carpet"
                      }
                    ],
                    "table": [
                      {
                        "cells": {
                          "fill": {
                            "color": "#EBF0F8"
                          },
                          "line": {
                            "color": "white"
                          }
                        },
                        "header": {
                          "fill": {
                            "color": "#C8D4E3"
                          },
                          "line": {
                            "color": "white"
                          }
                        },
                        "type": "table"
                      }
                    ],
                    "barpolar": [
                      {
                        "marker": {
                          "line": {
                            "color": "#E5ECF6",
                            "width": 0.5
                          },
                          "pattern": {
                            "fillmode": "overlay",
                            "size": 10,
                            "solidity": 0.2
                          }
                        },
                        "type": "barpolar"
                      }
                    ],
                    "pie": [
                      {
                        "automargin": true,
                        "type": "pie"
                      }
                    ]
                  },
                  "layout": {
                    "autotypenumbers": "strict",
                    "colorway": [
                      "#636efa",
                      "#EF553B",
                      "#00cc96",
                      "#ab63fa",
                      "#FFA15A",
                      "#19d3f3",
                      "#FF6692",
                      "#B6E880",
                      "#FF97FF",
                      "#FECB52"
                    ],
                    "font": {
                      "color": "#2a3f5f"
                    },
                    "hovermode": "closest",
                    "hoverlabel": {
                      "align": "left"
                    },
                    "paper_bgcolor": "white",
                    "plot_bgcolor": "#E5ECF6",
                    "polar": {
                      "bgcolor": "#E5ECF6",
                      "angularaxis": {
                        "gridcolor": "white",
                        "linecolor": "white",
                        "ticks": ""
                      },
                      "radialaxis": {
                        "gridcolor": "white",
                        "linecolor": "white",
                        "ticks": ""
                      }
                    },
                    "ternary": {
                      "bgcolor": "#E5ECF6",
                      "aaxis": {
                        "gridcolor": "white",
                        "linecolor": "white",
                        "ticks": ""
                      },
                      "baxis": {
                        "gridcolor": "white",
                        "linecolor": "white",
                        "ticks": ""
                      },
                      "caxis": {
                        "gridcolor": "white",
                        "linecolor": "white",
                        "ticks": ""
                      }
                    },
                    "coloraxis": {
                      "colorbar": {
                        "outlinewidth": 0,
                        "ticks": ""
                      }
                    },
                    "colorscale": {
                      "sequential": [
                        [
                          0,
                          "#0d0887"
                        ],
                        [
                          0.1111111111111111,
                          "#46039f"
                        ],
                        [
                          0.2222222222222222,
                          "#7201a8"
                        ],
                        [
                          0.3333333333333333,
                          "#9c179e"
                        ],
                        [
                          0.4444444444444444,
                          "#bd3786"
                        ],
                        [
                          0.5555555555555556,
                          "#d8576b"
                        ],
                        [
                          0.6666666666666666,
                          "#ed7953"
                        ],
                        [
                          0.7777777777777778,
                          "#fb9f3a"
                        ],
                        [
                          0.8888888888888888,
                          "#fdca26"
                        ],
                        [
                          1,
                          "#f0f921"
                        ]
                      ],
                      "sequentialminus": [
                        [
                          0,
                          "#0d0887"
                        ],
                        [
                          0.1111111111111111,
                          "#46039f"
                        ],
                        [
                          0.2222222222222222,
                          "#7201a8"
                        ],
                        [
                          0.3333333333333333,
                          "#9c179e"
                        ],
                        [
                          0.4444444444444444,
                          "#bd3786"
                        ],
                        [
                          0.5555555555555556,
                          "#d8576b"
                        ],
                        [
                          0.6666666666666666,
                          "#ed7953"
                        ],
                        [
                          0.7777777777777778,
                          "#fb9f3a"
                        ],
                        [
                          0.8888888888888888,
                          "#fdca26"
                        ],
                        [
                          1,
                          "#f0f921"
                        ]
                      ],
                      "diverging": [
                        [
                          0,
                          "#8e0152"
                        ],
                        [
                          0.1,
                          "#c51b7d"
                        ],
                        [
                          0.2,
                          "#de77ae"
                        ],
                        [
                          0.3,
                          "#f1b6da"
                        ],
                        [
                          0.4,
                          "#fde0ef"
                        ],
                        [
                          0.5,
                          "#f7f7f7"
                        ],
                        [
                          0.6,
                          "#e6f5d0"
                        ],
                        [
                          0.7,
                          "#b8e186"
                        ],
                        [
                          0.8,
                          "#7fbc41"
                        ],
                        [
                          0.9,
                          "#4d9221"
                        ],
                        [
                          1,
                          "#276419"
                        ]
                      ]
                    },
                    "xaxis": {
                      "gridcolor": "white",
                      "linecolor": "white",
                      "ticks": "",
                      "title": {
                        "standoff": 15
                      },
                      "zerolinecolor": "white",
                      "automargin": true,
                      "zerolinewidth": 2
                    },
                    "yaxis": {
                      "gridcolor": "white",
                      "linecolor": "white",
                      "ticks": "",
                      "title": {
                        "standoff": 15
                      },
                      "zerolinecolor": "white",
                      "automargin": true,
                      "zerolinewidth": 2
                    },
                    "scene": {
                      "xaxis": {
                        "backgroundcolor": "#E5ECF6",
                        "gridcolor": "white",
                        "linecolor": "white",
                        "showbackground": true,
                        "ticks": "",
                        "zerolinecolor": "white",
                        "gridwidth": 2
                      },
                      "yaxis": {
                        "backgroundcolor": "#E5ECF6",
                        "gridcolor": "white",
                        "linecolor": "white",
                        "showbackground": true,
                        "ticks": "",
                        "zerolinecolor": "white",
                        "gridwidth": 2
                      },
                      "zaxis": {
                        "backgroundcolor": "#E5ECF6",
                        "gridcolor": "white",
                        "linecolor": "white",
                        "showbackground": true,
                        "ticks": "",
                        "zerolinecolor": "white",
                        "gridwidth": 2
                      }
                    },
                    "shapedefaults": {
                      "line": {
                        "color": "#2a3f5f"
                      }
                    },
                    "annotationdefaults": {
                      "arrowcolor": "#2a3f5f",
                      "arrowhead": 0,
                      "arrowwidth": 1
                    },
                    "geo": {
                      "bgcolor": "white",
                      "landcolor": "#E5ECF6",
                      "subunitcolor": "white",
                      "showland": true,
                      "showlakes": true,
                      "lakecolor": "white"
                    },
                    "title": {
                      "x": 0.05
                    },
                    "mapbox": {
                      "style": "light"
                    }
                  }
                },
                "xaxis": {
                  "anchor": "y",
                  "domain": [
                    0,
                    1
                  ],
                  "title": {
                    "text": "Job Titles"
                  }
                },
                "yaxis": {
                  "anchor": "x",
                  "domain": [
                    0,
                    1
                  ],
                  "title": {
                    "text": "Count"
                  }
                },
                "legend": {
                  "title": {
                    "text": "color"
                  },
                  "tracegroupgap": 0
                },
                "title": {
                  "text": "Top Employee Locations",
                  "x": 0.5
                },
                "barmode": "relative",
                "font": {
                  "size": 14
                }
              },
              "config": {
                "plotlyServerURL": "https://plot.ly"
              }
            },
            "text/html": [
              "<div>                            <div id=\"debaa383-d421-4aec-9ad8-8458a989a61f\" class=\"plotly-graph-div\" style=\"height:525px; width:100%;\"></div>            <script type=\"text/javascript\">                require([\"plotly\"], function(Plotly) {                    window.PLOTLYENV=window.PLOTLYENV || {};                                    if (document.getElementById(\"debaa383-d421-4aec-9ad8-8458a989a61f\")) {                    Plotly.newPlot(                        \"debaa383-d421-4aec-9ad8-8458a989a61f\",                        [{\"alignmentgroup\":\"True\",\"hovertemplate\":\"color=US<br>x=%{x}<br>y=%{y}<br>text=%{text}<extra></extra>\",\"legendgroup\":\"US\",\"marker\":{\"color\":\"#636efa\",\"pattern\":{\"shape\":\"\"}},\"name\":\"US\",\"offsetgroup\":\"US\",\"orientation\":\"v\",\"showlegend\":true,\"text\":[332.0],\"textposition\":\"auto\",\"x\":[\"US\"],\"xaxis\":\"x\",\"y\":[332],\"yaxis\":\"y\",\"type\":\"bar\"},{\"alignmentgroup\":\"True\",\"hovertemplate\":\"color=GB<br>x=%{x}<br>y=%{y}<br>text=%{text}<extra></extra>\",\"legendgroup\":\"GB\",\"marker\":{\"color\":\"#EF553B\",\"pattern\":{\"shape\":\"\"}},\"name\":\"GB\",\"offsetgroup\":\"GB\",\"orientation\":\"v\",\"showlegend\":true,\"text\":[44.0],\"textposition\":\"auto\",\"x\":[\"GB\"],\"xaxis\":\"x\",\"y\":[44],\"yaxis\":\"y\",\"type\":\"bar\"},{\"alignmentgroup\":\"True\",\"hovertemplate\":\"color=IN<br>x=%{x}<br>y=%{y}<br>text=%{text}<extra></extra>\",\"legendgroup\":\"IN\",\"marker\":{\"color\":\"#00cc96\",\"pattern\":{\"shape\":\"\"}},\"name\":\"IN\",\"offsetgroup\":\"IN\",\"orientation\":\"v\",\"showlegend\":true,\"text\":[30.0],\"textposition\":\"auto\",\"x\":[\"IN\"],\"xaxis\":\"x\",\"y\":[30],\"yaxis\":\"y\",\"type\":\"bar\"},{\"alignmentgroup\":\"True\",\"hovertemplate\":\"color=CA<br>x=%{x}<br>y=%{y}<br>text=%{text}<extra></extra>\",\"legendgroup\":\"CA\",\"marker\":{\"color\":\"#ab63fa\",\"pattern\":{\"shape\":\"\"}},\"name\":\"CA\",\"offsetgroup\":\"CA\",\"orientation\":\"v\",\"showlegend\":true,\"text\":[29.0],\"textposition\":\"auto\",\"x\":[\"CA\"],\"xaxis\":\"x\",\"y\":[29],\"yaxis\":\"y\",\"type\":\"bar\"},{\"alignmentgroup\":\"True\",\"hovertemplate\":\"color=DE<br>x=%{x}<br>y=%{y}<br>text=%{text}<extra></extra>\",\"legendgroup\":\"DE\",\"marker\":{\"color\":\"#FFA15A\",\"pattern\":{\"shape\":\"\"}},\"name\":\"DE\",\"offsetgroup\":\"DE\",\"orientation\":\"v\",\"showlegend\":true,\"text\":[25.0],\"textposition\":\"auto\",\"x\":[\"DE\"],\"xaxis\":\"x\",\"y\":[25],\"yaxis\":\"y\",\"type\":\"bar\"},{\"alignmentgroup\":\"True\",\"hovertemplate\":\"color=FR<br>x=%{x}<br>y=%{y}<br>text=%{text}<extra></extra>\",\"legendgroup\":\"FR\",\"marker\":{\"color\":\"#19d3f3\",\"pattern\":{\"shape\":\"\"}},\"name\":\"FR\",\"offsetgroup\":\"FR\",\"orientation\":\"v\",\"showlegend\":true,\"text\":[18.0],\"textposition\":\"auto\",\"x\":[\"FR\"],\"xaxis\":\"x\",\"y\":[18],\"yaxis\":\"y\",\"type\":\"bar\"},{\"alignmentgroup\":\"True\",\"hovertemplate\":\"color=ES<br>x=%{x}<br>y=%{y}<br>text=%{text}<extra></extra>\",\"legendgroup\":\"ES\",\"marker\":{\"color\":\"#FF6692\",\"pattern\":{\"shape\":\"\"}},\"name\":\"ES\",\"offsetgroup\":\"ES\",\"orientation\":\"v\",\"showlegend\":true,\"text\":[15.0],\"textposition\":\"auto\",\"x\":[\"ES\"],\"xaxis\":\"x\",\"y\":[15],\"yaxis\":\"y\",\"type\":\"bar\"},{\"alignmentgroup\":\"True\",\"hovertemplate\":\"color=GR<br>x=%{x}<br>y=%{y}<br>text=%{text}<extra></extra>\",\"legendgroup\":\"GR\",\"marker\":{\"color\":\"#B6E880\",\"pattern\":{\"shape\":\"\"}},\"name\":\"GR\",\"offsetgroup\":\"GR\",\"orientation\":\"v\",\"showlegend\":true,\"text\":[13.0],\"textposition\":\"auto\",\"x\":[\"GR\"],\"xaxis\":\"x\",\"y\":[13],\"yaxis\":\"y\",\"type\":\"bar\"},{\"alignmentgroup\":\"True\",\"hovertemplate\":\"color=JP<br>x=%{x}<br>y=%{y}<br>text=%{text}<extra></extra>\",\"legendgroup\":\"JP\",\"marker\":{\"color\":\"#FF97FF\",\"pattern\":{\"shape\":\"\"}},\"name\":\"JP\",\"offsetgroup\":\"JP\",\"orientation\":\"v\",\"showlegend\":true,\"text\":[7.0],\"textposition\":\"auto\",\"x\":[\"JP\"],\"xaxis\":\"x\",\"y\":[7],\"yaxis\":\"y\",\"type\":\"bar\"},{\"alignmentgroup\":\"True\",\"hovertemplate\":\"color=PT<br>x=%{x}<br>y=%{y}<br>text=%{text}<extra></extra>\",\"legendgroup\":\"PT\",\"marker\":{\"color\":\"#FECB52\",\"pattern\":{\"shape\":\"\"}},\"name\":\"PT\",\"offsetgroup\":\"PT\",\"orientation\":\"v\",\"showlegend\":true,\"text\":[6.0],\"textposition\":\"auto\",\"x\":[\"PT\"],\"xaxis\":\"x\",\"y\":[6],\"yaxis\":\"y\",\"type\":\"bar\"}],                        {\"template\":{\"data\":{\"histogram2dcontour\":[{\"type\":\"histogram2dcontour\",\"colorbar\":{\"outlinewidth\":0,\"ticks\":\"\"},\"colorscale\":[[0.0,\"#0d0887\"],[0.1111111111111111,\"#46039f\"],[0.2222222222222222,\"#7201a8\"],[0.3333333333333333,\"#9c179e\"],[0.4444444444444444,\"#bd3786\"],[0.5555555555555556,\"#d8576b\"],[0.6666666666666666,\"#ed7953\"],[0.7777777777777778,\"#fb9f3a\"],[0.8888888888888888,\"#fdca26\"],[1.0,\"#f0f921\"]]}],\"choropleth\":[{\"type\":\"choropleth\",\"colorbar\":{\"outlinewidth\":0,\"ticks\":\"\"}}],\"histogram2d\":[{\"type\":\"histogram2d\",\"colorbar\":{\"outlinewidth\":0,\"ticks\":\"\"},\"colorscale\":[[0.0,\"#0d0887\"],[0.1111111111111111,\"#46039f\"],[0.2222222222222222,\"#7201a8\"],[0.3333333333333333,\"#9c179e\"],[0.4444444444444444,\"#bd3786\"],[0.5555555555555556,\"#d8576b\"],[0.6666666666666666,\"#ed7953\"],[0.7777777777777778,\"#fb9f3a\"],[0.8888888888888888,\"#fdca26\"],[1.0,\"#f0f921\"]]}],\"heatmap\":[{\"type\":\"heatmap\",\"colorbar\":{\"outlinewidth\":0,\"ticks\":\"\"},\"colorscale\":[[0.0,\"#0d0887\"],[0.1111111111111111,\"#46039f\"],[0.2222222222222222,\"#7201a8\"],[0.3333333333333333,\"#9c179e\"],[0.4444444444444444,\"#bd3786\"],[0.5555555555555556,\"#d8576b\"],[0.6666666666666666,\"#ed7953\"],[0.7777777777777778,\"#fb9f3a\"],[0.8888888888888888,\"#fdca26\"],[1.0,\"#f0f921\"]]}],\"heatmapgl\":[{\"type\":\"heatmapgl\",\"colorbar\":{\"outlinewidth\":0,\"ticks\":\"\"},\"colorscale\":[[0.0,\"#0d0887\"],[0.1111111111111111,\"#46039f\"],[0.2222222222222222,\"#7201a8\"],[0.3333333333333333,\"#9c179e\"],[0.4444444444444444,\"#bd3786\"],[0.5555555555555556,\"#d8576b\"],[0.6666666666666666,\"#ed7953\"],[0.7777777777777778,\"#fb9f3a\"],[0.8888888888888888,\"#fdca26\"],[1.0,\"#f0f921\"]]}],\"contourcarpet\":[{\"type\":\"contourcarpet\",\"colorbar\":{\"outlinewidth\":0,\"ticks\":\"\"}}],\"contour\":[{\"type\":\"contour\",\"colorbar\":{\"outlinewidth\":0,\"ticks\":\"\"},\"colorscale\":[[0.0,\"#0d0887\"],[0.1111111111111111,\"#46039f\"],[0.2222222222222222,\"#7201a8\"],[0.3333333333333333,\"#9c179e\"],[0.4444444444444444,\"#bd3786\"],[0.5555555555555556,\"#d8576b\"],[0.6666666666666666,\"#ed7953\"],[0.7777777777777778,\"#fb9f3a\"],[0.8888888888888888,\"#fdca26\"],[1.0,\"#f0f921\"]]}],\"surface\":[{\"type\":\"surface\",\"colorbar\":{\"outlinewidth\":0,\"ticks\":\"\"},\"colorscale\":[[0.0,\"#0d0887\"],[0.1111111111111111,\"#46039f\"],[0.2222222222222222,\"#7201a8\"],[0.3333333333333333,\"#9c179e\"],[0.4444444444444444,\"#bd3786\"],[0.5555555555555556,\"#d8576b\"],[0.6666666666666666,\"#ed7953\"],[0.7777777777777778,\"#fb9f3a\"],[0.8888888888888888,\"#fdca26\"],[1.0,\"#f0f921\"]]}],\"mesh3d\":[{\"type\":\"mesh3d\",\"colorbar\":{\"outlinewidth\":0,\"ticks\":\"\"}}],\"scatter\":[{\"fillpattern\":{\"fillmode\":\"overlay\",\"size\":10,\"solidity\":0.2},\"type\":\"scatter\"}],\"parcoords\":[{\"type\":\"parcoords\",\"line\":{\"colorbar\":{\"outlinewidth\":0,\"ticks\":\"\"}}}],\"scatterpolargl\":[{\"type\":\"scatterpolargl\",\"marker\":{\"colorbar\":{\"outlinewidth\":0,\"ticks\":\"\"}}}],\"bar\":[{\"error_x\":{\"color\":\"#2a3f5f\"},\"error_y\":{\"color\":\"#2a3f5f\"},\"marker\":{\"line\":{\"color\":\"#E5ECF6\",\"width\":0.5},\"pattern\":{\"fillmode\":\"overlay\",\"size\":10,\"solidity\":0.2}},\"type\":\"bar\"}],\"scattergeo\":[{\"type\":\"scattergeo\",\"marker\":{\"colorbar\":{\"outlinewidth\":0,\"ticks\":\"\"}}}],\"scatterpolar\":[{\"type\":\"scatterpolar\",\"marker\":{\"colorbar\":{\"outlinewidth\":0,\"ticks\":\"\"}}}],\"histogram\":[{\"marker\":{\"pattern\":{\"fillmode\":\"overlay\",\"size\":10,\"solidity\":0.2}},\"type\":\"histogram\"}],\"scattergl\":[{\"type\":\"scattergl\",\"marker\":{\"colorbar\":{\"outlinewidth\":0,\"ticks\":\"\"}}}],\"scatter3d\":[{\"type\":\"scatter3d\",\"line\":{\"colorbar\":{\"outlinewidth\":0,\"ticks\":\"\"}},\"marker\":{\"colorbar\":{\"outlinewidth\":0,\"ticks\":\"\"}}}],\"scattermapbox\":[{\"type\":\"scattermapbox\",\"marker\":{\"colorbar\":{\"outlinewidth\":0,\"ticks\":\"\"}}}],\"scatterternary\":[{\"type\":\"scatterternary\",\"marker\":{\"colorbar\":{\"outlinewidth\":0,\"ticks\":\"\"}}}],\"scattercarpet\":[{\"type\":\"scattercarpet\",\"marker\":{\"colorbar\":{\"outlinewidth\":0,\"ticks\":\"\"}}}],\"carpet\":[{\"aaxis\":{\"endlinecolor\":\"#2a3f5f\",\"gridcolor\":\"white\",\"linecolor\":\"white\",\"minorgridcolor\":\"white\",\"startlinecolor\":\"#2a3f5f\"},\"baxis\":{\"endlinecolor\":\"#2a3f5f\",\"gridcolor\":\"white\",\"linecolor\":\"white\",\"minorgridcolor\":\"white\",\"startlinecolor\":\"#2a3f5f\"},\"type\":\"carpet\"}],\"table\":[{\"cells\":{\"fill\":{\"color\":\"#EBF0F8\"},\"line\":{\"color\":\"white\"}},\"header\":{\"fill\":{\"color\":\"#C8D4E3\"},\"line\":{\"color\":\"white\"}},\"type\":\"table\"}],\"barpolar\":[{\"marker\":{\"line\":{\"color\":\"#E5ECF6\",\"width\":0.5},\"pattern\":{\"fillmode\":\"overlay\",\"size\":10,\"solidity\":0.2}},\"type\":\"barpolar\"}],\"pie\":[{\"automargin\":true,\"type\":\"pie\"}]},\"layout\":{\"autotypenumbers\":\"strict\",\"colorway\":[\"#636efa\",\"#EF553B\",\"#00cc96\",\"#ab63fa\",\"#FFA15A\",\"#19d3f3\",\"#FF6692\",\"#B6E880\",\"#FF97FF\",\"#FECB52\"],\"font\":{\"color\":\"#2a3f5f\"},\"hovermode\":\"closest\",\"hoverlabel\":{\"align\":\"left\"},\"paper_bgcolor\":\"white\",\"plot_bgcolor\":\"#E5ECF6\",\"polar\":{\"bgcolor\":\"#E5ECF6\",\"angularaxis\":{\"gridcolor\":\"white\",\"linecolor\":\"white\",\"ticks\":\"\"},\"radialaxis\":{\"gridcolor\":\"white\",\"linecolor\":\"white\",\"ticks\":\"\"}},\"ternary\":{\"bgcolor\":\"#E5ECF6\",\"aaxis\":{\"gridcolor\":\"white\",\"linecolor\":\"white\",\"ticks\":\"\"},\"baxis\":{\"gridcolor\":\"white\",\"linecolor\":\"white\",\"ticks\":\"\"},\"caxis\":{\"gridcolor\":\"white\",\"linecolor\":\"white\",\"ticks\":\"\"}},\"coloraxis\":{\"colorbar\":{\"outlinewidth\":0,\"ticks\":\"\"}},\"colorscale\":{\"sequential\":[[0.0,\"#0d0887\"],[0.1111111111111111,\"#46039f\"],[0.2222222222222222,\"#7201a8\"],[0.3333333333333333,\"#9c179e\"],[0.4444444444444444,\"#bd3786\"],[0.5555555555555556,\"#d8576b\"],[0.6666666666666666,\"#ed7953\"],[0.7777777777777778,\"#fb9f3a\"],[0.8888888888888888,\"#fdca26\"],[1.0,\"#f0f921\"]],\"sequentialminus\":[[0.0,\"#0d0887\"],[0.1111111111111111,\"#46039f\"],[0.2222222222222222,\"#7201a8\"],[0.3333333333333333,\"#9c179e\"],[0.4444444444444444,\"#bd3786\"],[0.5555555555555556,\"#d8576b\"],[0.6666666666666666,\"#ed7953\"],[0.7777777777777778,\"#fb9f3a\"],[0.8888888888888888,\"#fdca26\"],[1.0,\"#f0f921\"]],\"diverging\":[[0,\"#8e0152\"],[0.1,\"#c51b7d\"],[0.2,\"#de77ae\"],[0.3,\"#f1b6da\"],[0.4,\"#fde0ef\"],[0.5,\"#f7f7f7\"],[0.6,\"#e6f5d0\"],[0.7,\"#b8e186\"],[0.8,\"#7fbc41\"],[0.9,\"#4d9221\"],[1,\"#276419\"]]},\"xaxis\":{\"gridcolor\":\"white\",\"linecolor\":\"white\",\"ticks\":\"\",\"title\":{\"standoff\":15},\"zerolinecolor\":\"white\",\"automargin\":true,\"zerolinewidth\":2},\"yaxis\":{\"gridcolor\":\"white\",\"linecolor\":\"white\",\"ticks\":\"\",\"title\":{\"standoff\":15},\"zerolinecolor\":\"white\",\"automargin\":true,\"zerolinewidth\":2},\"scene\":{\"xaxis\":{\"backgroundcolor\":\"#E5ECF6\",\"gridcolor\":\"white\",\"linecolor\":\"white\",\"showbackground\":true,\"ticks\":\"\",\"zerolinecolor\":\"white\",\"gridwidth\":2},\"yaxis\":{\"backgroundcolor\":\"#E5ECF6\",\"gridcolor\":\"white\",\"linecolor\":\"white\",\"showbackground\":true,\"ticks\":\"\",\"zerolinecolor\":\"white\",\"gridwidth\":2},\"zaxis\":{\"backgroundcolor\":\"#E5ECF6\",\"gridcolor\":\"white\",\"linecolor\":\"white\",\"showbackground\":true,\"ticks\":\"\",\"zerolinecolor\":\"white\",\"gridwidth\":2}},\"shapedefaults\":{\"line\":{\"color\":\"#2a3f5f\"}},\"annotationdefaults\":{\"arrowcolor\":\"#2a3f5f\",\"arrowhead\":0,\"arrowwidth\":1},\"geo\":{\"bgcolor\":\"white\",\"landcolor\":\"#E5ECF6\",\"subunitcolor\":\"white\",\"showland\":true,\"showlakes\":true,\"lakecolor\":\"white\"},\"title\":{\"x\":0.05},\"mapbox\":{\"style\":\"light\"}}},\"xaxis\":{\"anchor\":\"y\",\"domain\":[0.0,1.0],\"title\":{\"text\":\"Job Titles\"}},\"yaxis\":{\"anchor\":\"x\",\"domain\":[0.0,1.0],\"title\":{\"text\":\"Count\"}},\"legend\":{\"title\":{\"text\":\"color\"},\"tracegroupgap\":0},\"title\":{\"text\":\"Top Employee Locations\",\"x\":0.5},\"barmode\":\"relative\",\"font\":{\"size\":14}},                        {\"responsive\": true}                    ).then(function(){\n",
              "                            \n",
              "var gd = document.getElementById('debaa383-d421-4aec-9ad8-8458a989a61f');\n",
              "var x = new MutationObserver(function (mutations, observer) {{\n",
              "        var display = window.getComputedStyle(gd).display;\n",
              "        if (!display || display === 'none') {{\n",
              "            console.log([gd, 'removed!']);\n",
              "            Plotly.purge(gd);\n",
              "            observer.disconnect();\n",
              "        }}\n",
              "}});\n",
              "\n",
              "// Listen for the removal of the full notebook cells\n",
              "var notebookContainer = gd.closest('#notebook-container');\n",
              "if (notebookContainer) {{\n",
              "    x.observe(notebookContainer, {childList: true});\n",
              "}}\n",
              "\n",
              "// Listen for the clearing of the current output cell\n",
              "var outputEl = gd.closest('.output');\n",
              "if (outputEl) {{\n",
              "    x.observe(outputEl, {childList: true});\n",
              "}}\n",
              "\n",
              "                        })                };                });            </script>        </div>"
            ]
          },
          "metadata": {}
        }
      ]
    },
    {
      "cell_type": "markdown",
      "source": [
        "In terms of number of employees, USA leads followed by GBR, ESP and then IND."
      ],
      "metadata": {
        "id": "nbARFG6Fq4z6"
      }
    },
    {
      "cell_type": "code",
      "source": [
        "# Location Distribution on the world map using country_converter Library\n",
        "converted_country = coco.convert(names=df['employee_residence'], to='ISO3')\n",
        "df['employee_residence'] = converted_country\n",
        "\n",
        "# Count the number of occurrences for each residence\n",
        "residence = df['employee_residence'].value_counts()\n",
        "midpoint = residence.mean()\n",
        "fig = px.choropleth(locations=residence.index,\n",
        "                    locationmode=\"ISO-3\",\n",
        "                    color=residence.values,\n",
        "                    title='Employee Location Distribution',\n",
        "                    color_continuous_scale='Viridis',\n",
        "                    color_continuous_midpoint=midpoint)\n",
        "fig.update_layout(title_x=0.5)\n",
        "\n",
        "fig.show()"
      ],
      "metadata": {
        "colab": {
          "base_uri": "https://localhost:8080/",
          "height": 542
        },
        "id": "ORd_rA5Cegh3",
        "outputId": "425634f3-1d77-40b4-b9c0-f6f8c1c3fc86"
      },
      "execution_count": 14,
      "outputs": [
        {
          "output_type": "display_data",
          "data": {
            "application/vnd.plotly.v1+json": {
              "data": [
                {
                  "coloraxis": "coloraxis",
                  "geo": "geo",
                  "hovertemplate": "locations=%{location}<br>color=%{z}<extra></extra>",
                  "locationmode": "ISO-3",
                  "locations": [
                    "USA",
                    "GBR",
                    "IND",
                    "CAN",
                    "DEU",
                    "FRA",
                    "ESP",
                    "GRC",
                    "JPN",
                    "PRT",
                    "BRA",
                    "PAK",
                    "NLD",
                    "POL",
                    "ITA",
                    "RUS",
                    "ARE",
                    "AUT",
                    "VNM",
                    "TUR",
                    "AUS",
                    "ROU",
                    "BEL",
                    "SGP",
                    "SVN",
                    "DNK",
                    "HUN",
                    "NGA",
                    "MEX",
                    "BOL",
                    "MYS",
                    "TUN",
                    "IRL",
                    "DZA",
                    "ARG",
                    "CZE",
                    "JEY",
                    "LUX",
                    "PRI",
                    "SRB",
                    "EST",
                    "CHL",
                    "HKG",
                    "KEN",
                    "MDA",
                    "COL",
                    "IRN",
                    "CHN",
                    "MLT",
                    "UKR",
                    "IRQ",
                    "HND",
                    "BGR",
                    "HRV",
                    "PHL",
                    "NZL",
                    "CHE"
                  ],
                  "name": "",
                  "z": [
                    332,
                    44,
                    30,
                    29,
                    25,
                    18,
                    15,
                    13,
                    7,
                    6,
                    6,
                    6,
                    5,
                    4,
                    4,
                    4,
                    3,
                    3,
                    3,
                    3,
                    3,
                    2,
                    2,
                    2,
                    2,
                    2,
                    2,
                    2,
                    2,
                    1,
                    1,
                    1,
                    1,
                    1,
                    1,
                    1,
                    1,
                    1,
                    1,
                    1,
                    1,
                    1,
                    1,
                    1,
                    1,
                    1,
                    1,
                    1,
                    1,
                    1,
                    1,
                    1,
                    1,
                    1,
                    1,
                    1,
                    1
                  ],
                  "type": "choropleth"
                }
              ],
              "layout": {
                "template": {
                  "data": {
                    "histogram2dcontour": [
                      {
                        "type": "histogram2dcontour",
                        "colorbar": {
                          "outlinewidth": 0,
                          "ticks": ""
                        },
                        "colorscale": [
                          [
                            0,
                            "#0d0887"
                          ],
                          [
                            0.1111111111111111,
                            "#46039f"
                          ],
                          [
                            0.2222222222222222,
                            "#7201a8"
                          ],
                          [
                            0.3333333333333333,
                            "#9c179e"
                          ],
                          [
                            0.4444444444444444,
                            "#bd3786"
                          ],
                          [
                            0.5555555555555556,
                            "#d8576b"
                          ],
                          [
                            0.6666666666666666,
                            "#ed7953"
                          ],
                          [
                            0.7777777777777778,
                            "#fb9f3a"
                          ],
                          [
                            0.8888888888888888,
                            "#fdca26"
                          ],
                          [
                            1,
                            "#f0f921"
                          ]
                        ]
                      }
                    ],
                    "choropleth": [
                      {
                        "type": "choropleth",
                        "colorbar": {
                          "outlinewidth": 0,
                          "ticks": ""
                        }
                      }
                    ],
                    "histogram2d": [
                      {
                        "type": "histogram2d",
                        "colorbar": {
                          "outlinewidth": 0,
                          "ticks": ""
                        },
                        "colorscale": [
                          [
                            0,
                            "#0d0887"
                          ],
                          [
                            0.1111111111111111,
                            "#46039f"
                          ],
                          [
                            0.2222222222222222,
                            "#7201a8"
                          ],
                          [
                            0.3333333333333333,
                            "#9c179e"
                          ],
                          [
                            0.4444444444444444,
                            "#bd3786"
                          ],
                          [
                            0.5555555555555556,
                            "#d8576b"
                          ],
                          [
                            0.6666666666666666,
                            "#ed7953"
                          ],
                          [
                            0.7777777777777778,
                            "#fb9f3a"
                          ],
                          [
                            0.8888888888888888,
                            "#fdca26"
                          ],
                          [
                            1,
                            "#f0f921"
                          ]
                        ]
                      }
                    ],
                    "heatmap": [
                      {
                        "type": "heatmap",
                        "colorbar": {
                          "outlinewidth": 0,
                          "ticks": ""
                        },
                        "colorscale": [
                          [
                            0,
                            "#0d0887"
                          ],
                          [
                            0.1111111111111111,
                            "#46039f"
                          ],
                          [
                            0.2222222222222222,
                            "#7201a8"
                          ],
                          [
                            0.3333333333333333,
                            "#9c179e"
                          ],
                          [
                            0.4444444444444444,
                            "#bd3786"
                          ],
                          [
                            0.5555555555555556,
                            "#d8576b"
                          ],
                          [
                            0.6666666666666666,
                            "#ed7953"
                          ],
                          [
                            0.7777777777777778,
                            "#fb9f3a"
                          ],
                          [
                            0.8888888888888888,
                            "#fdca26"
                          ],
                          [
                            1,
                            "#f0f921"
                          ]
                        ]
                      }
                    ],
                    "heatmapgl": [
                      {
                        "type": "heatmapgl",
                        "colorbar": {
                          "outlinewidth": 0,
                          "ticks": ""
                        },
                        "colorscale": [
                          [
                            0,
                            "#0d0887"
                          ],
                          [
                            0.1111111111111111,
                            "#46039f"
                          ],
                          [
                            0.2222222222222222,
                            "#7201a8"
                          ],
                          [
                            0.3333333333333333,
                            "#9c179e"
                          ],
                          [
                            0.4444444444444444,
                            "#bd3786"
                          ],
                          [
                            0.5555555555555556,
                            "#d8576b"
                          ],
                          [
                            0.6666666666666666,
                            "#ed7953"
                          ],
                          [
                            0.7777777777777778,
                            "#fb9f3a"
                          ],
                          [
                            0.8888888888888888,
                            "#fdca26"
                          ],
                          [
                            1,
                            "#f0f921"
                          ]
                        ]
                      }
                    ],
                    "contourcarpet": [
                      {
                        "type": "contourcarpet",
                        "colorbar": {
                          "outlinewidth": 0,
                          "ticks": ""
                        }
                      }
                    ],
                    "contour": [
                      {
                        "type": "contour",
                        "colorbar": {
                          "outlinewidth": 0,
                          "ticks": ""
                        },
                        "colorscale": [
                          [
                            0,
                            "#0d0887"
                          ],
                          [
                            0.1111111111111111,
                            "#46039f"
                          ],
                          [
                            0.2222222222222222,
                            "#7201a8"
                          ],
                          [
                            0.3333333333333333,
                            "#9c179e"
                          ],
                          [
                            0.4444444444444444,
                            "#bd3786"
                          ],
                          [
                            0.5555555555555556,
                            "#d8576b"
                          ],
                          [
                            0.6666666666666666,
                            "#ed7953"
                          ],
                          [
                            0.7777777777777778,
                            "#fb9f3a"
                          ],
                          [
                            0.8888888888888888,
                            "#fdca26"
                          ],
                          [
                            1,
                            "#f0f921"
                          ]
                        ]
                      }
                    ],
                    "surface": [
                      {
                        "type": "surface",
                        "colorbar": {
                          "outlinewidth": 0,
                          "ticks": ""
                        },
                        "colorscale": [
                          [
                            0,
                            "#0d0887"
                          ],
                          [
                            0.1111111111111111,
                            "#46039f"
                          ],
                          [
                            0.2222222222222222,
                            "#7201a8"
                          ],
                          [
                            0.3333333333333333,
                            "#9c179e"
                          ],
                          [
                            0.4444444444444444,
                            "#bd3786"
                          ],
                          [
                            0.5555555555555556,
                            "#d8576b"
                          ],
                          [
                            0.6666666666666666,
                            "#ed7953"
                          ],
                          [
                            0.7777777777777778,
                            "#fb9f3a"
                          ],
                          [
                            0.8888888888888888,
                            "#fdca26"
                          ],
                          [
                            1,
                            "#f0f921"
                          ]
                        ]
                      }
                    ],
                    "mesh3d": [
                      {
                        "type": "mesh3d",
                        "colorbar": {
                          "outlinewidth": 0,
                          "ticks": ""
                        }
                      }
                    ],
                    "scatter": [
                      {
                        "fillpattern": {
                          "fillmode": "overlay",
                          "size": 10,
                          "solidity": 0.2
                        },
                        "type": "scatter"
                      }
                    ],
                    "parcoords": [
                      {
                        "type": "parcoords",
                        "line": {
                          "colorbar": {
                            "outlinewidth": 0,
                            "ticks": ""
                          }
                        }
                      }
                    ],
                    "scatterpolargl": [
                      {
                        "type": "scatterpolargl",
                        "marker": {
                          "colorbar": {
                            "outlinewidth": 0,
                            "ticks": ""
                          }
                        }
                      }
                    ],
                    "bar": [
                      {
                        "error_x": {
                          "color": "#2a3f5f"
                        },
                        "error_y": {
                          "color": "#2a3f5f"
                        },
                        "marker": {
                          "line": {
                            "color": "#E5ECF6",
                            "width": 0.5
                          },
                          "pattern": {
                            "fillmode": "overlay",
                            "size": 10,
                            "solidity": 0.2
                          }
                        },
                        "type": "bar"
                      }
                    ],
                    "scattergeo": [
                      {
                        "type": "scattergeo",
                        "marker": {
                          "colorbar": {
                            "outlinewidth": 0,
                            "ticks": ""
                          }
                        }
                      }
                    ],
                    "scatterpolar": [
                      {
                        "type": "scatterpolar",
                        "marker": {
                          "colorbar": {
                            "outlinewidth": 0,
                            "ticks": ""
                          }
                        }
                      }
                    ],
                    "histogram": [
                      {
                        "marker": {
                          "pattern": {
                            "fillmode": "overlay",
                            "size": 10,
                            "solidity": 0.2
                          }
                        },
                        "type": "histogram"
                      }
                    ],
                    "scattergl": [
                      {
                        "type": "scattergl",
                        "marker": {
                          "colorbar": {
                            "outlinewidth": 0,
                            "ticks": ""
                          }
                        }
                      }
                    ],
                    "scatter3d": [
                      {
                        "type": "scatter3d",
                        "line": {
                          "colorbar": {
                            "outlinewidth": 0,
                            "ticks": ""
                          }
                        },
                        "marker": {
                          "colorbar": {
                            "outlinewidth": 0,
                            "ticks": ""
                          }
                        }
                      }
                    ],
                    "scattermapbox": [
                      {
                        "type": "scattermapbox",
                        "marker": {
                          "colorbar": {
                            "outlinewidth": 0,
                            "ticks": ""
                          }
                        }
                      }
                    ],
                    "scatterternary": [
                      {
                        "type": "scatterternary",
                        "marker": {
                          "colorbar": {
                            "outlinewidth": 0,
                            "ticks": ""
                          }
                        }
                      }
                    ],
                    "scattercarpet": [
                      {
                        "type": "scattercarpet",
                        "marker": {
                          "colorbar": {
                            "outlinewidth": 0,
                            "ticks": ""
                          }
                        }
                      }
                    ],
                    "carpet": [
                      {
                        "aaxis": {
                          "endlinecolor": "#2a3f5f",
                          "gridcolor": "white",
                          "linecolor": "white",
                          "minorgridcolor": "white",
                          "startlinecolor": "#2a3f5f"
                        },
                        "baxis": {
                          "endlinecolor": "#2a3f5f",
                          "gridcolor": "white",
                          "linecolor": "white",
                          "minorgridcolor": "white",
                          "startlinecolor": "#2a3f5f"
                        },
                        "type": "carpet"
                      }
                    ],
                    "table": [
                      {
                        "cells": {
                          "fill": {
                            "color": "#EBF0F8"
                          },
                          "line": {
                            "color": "white"
                          }
                        },
                        "header": {
                          "fill": {
                            "color": "#C8D4E3"
                          },
                          "line": {
                            "color": "white"
                          }
                        },
                        "type": "table"
                      }
                    ],
                    "barpolar": [
                      {
                        "marker": {
                          "line": {
                            "color": "#E5ECF6",
                            "width": 0.5
                          },
                          "pattern": {
                            "fillmode": "overlay",
                            "size": 10,
                            "solidity": 0.2
                          }
                        },
                        "type": "barpolar"
                      }
                    ],
                    "pie": [
                      {
                        "automargin": true,
                        "type": "pie"
                      }
                    ]
                  },
                  "layout": {
                    "autotypenumbers": "strict",
                    "colorway": [
                      "#636efa",
                      "#EF553B",
                      "#00cc96",
                      "#ab63fa",
                      "#FFA15A",
                      "#19d3f3",
                      "#FF6692",
                      "#B6E880",
                      "#FF97FF",
                      "#FECB52"
                    ],
                    "font": {
                      "color": "#2a3f5f"
                    },
                    "hovermode": "closest",
                    "hoverlabel": {
                      "align": "left"
                    },
                    "paper_bgcolor": "white",
                    "plot_bgcolor": "#E5ECF6",
                    "polar": {
                      "bgcolor": "#E5ECF6",
                      "angularaxis": {
                        "gridcolor": "white",
                        "linecolor": "white",
                        "ticks": ""
                      },
                      "radialaxis": {
                        "gridcolor": "white",
                        "linecolor": "white",
                        "ticks": ""
                      }
                    },
                    "ternary": {
                      "bgcolor": "#E5ECF6",
                      "aaxis": {
                        "gridcolor": "white",
                        "linecolor": "white",
                        "ticks": ""
                      },
                      "baxis": {
                        "gridcolor": "white",
                        "linecolor": "white",
                        "ticks": ""
                      },
                      "caxis": {
                        "gridcolor": "white",
                        "linecolor": "white",
                        "ticks": ""
                      }
                    },
                    "coloraxis": {
                      "colorbar": {
                        "outlinewidth": 0,
                        "ticks": ""
                      }
                    },
                    "colorscale": {
                      "sequential": [
                        [
                          0,
                          "#0d0887"
                        ],
                        [
                          0.1111111111111111,
                          "#46039f"
                        ],
                        [
                          0.2222222222222222,
                          "#7201a8"
                        ],
                        [
                          0.3333333333333333,
                          "#9c179e"
                        ],
                        [
                          0.4444444444444444,
                          "#bd3786"
                        ],
                        [
                          0.5555555555555556,
                          "#d8576b"
                        ],
                        [
                          0.6666666666666666,
                          "#ed7953"
                        ],
                        [
                          0.7777777777777778,
                          "#fb9f3a"
                        ],
                        [
                          0.8888888888888888,
                          "#fdca26"
                        ],
                        [
                          1,
                          "#f0f921"
                        ]
                      ],
                      "sequentialminus": [
                        [
                          0,
                          "#0d0887"
                        ],
                        [
                          0.1111111111111111,
                          "#46039f"
                        ],
                        [
                          0.2222222222222222,
                          "#7201a8"
                        ],
                        [
                          0.3333333333333333,
                          "#9c179e"
                        ],
                        [
                          0.4444444444444444,
                          "#bd3786"
                        ],
                        [
                          0.5555555555555556,
                          "#d8576b"
                        ],
                        [
                          0.6666666666666666,
                          "#ed7953"
                        ],
                        [
                          0.7777777777777778,
                          "#fb9f3a"
                        ],
                        [
                          0.8888888888888888,
                          "#fdca26"
                        ],
                        [
                          1,
                          "#f0f921"
                        ]
                      ],
                      "diverging": [
                        [
                          0,
                          "#8e0152"
                        ],
                        [
                          0.1,
                          "#c51b7d"
                        ],
                        [
                          0.2,
                          "#de77ae"
                        ],
                        [
                          0.3,
                          "#f1b6da"
                        ],
                        [
                          0.4,
                          "#fde0ef"
                        ],
                        [
                          0.5,
                          "#f7f7f7"
                        ],
                        [
                          0.6,
                          "#e6f5d0"
                        ],
                        [
                          0.7,
                          "#b8e186"
                        ],
                        [
                          0.8,
                          "#7fbc41"
                        ],
                        [
                          0.9,
                          "#4d9221"
                        ],
                        [
                          1,
                          "#276419"
                        ]
                      ]
                    },
                    "xaxis": {
                      "gridcolor": "white",
                      "linecolor": "white",
                      "ticks": "",
                      "title": {
                        "standoff": 15
                      },
                      "zerolinecolor": "white",
                      "automargin": true,
                      "zerolinewidth": 2
                    },
                    "yaxis": {
                      "gridcolor": "white",
                      "linecolor": "white",
                      "ticks": "",
                      "title": {
                        "standoff": 15
                      },
                      "zerolinecolor": "white",
                      "automargin": true,
                      "zerolinewidth": 2
                    },
                    "scene": {
                      "xaxis": {
                        "backgroundcolor": "#E5ECF6",
                        "gridcolor": "white",
                        "linecolor": "white",
                        "showbackground": true,
                        "ticks": "",
                        "zerolinecolor": "white",
                        "gridwidth": 2
                      },
                      "yaxis": {
                        "backgroundcolor": "#E5ECF6",
                        "gridcolor": "white",
                        "linecolor": "white",
                        "showbackground": true,
                        "ticks": "",
                        "zerolinecolor": "white",
                        "gridwidth": 2
                      },
                      "zaxis": {
                        "backgroundcolor": "#E5ECF6",
                        "gridcolor": "white",
                        "linecolor": "white",
                        "showbackground": true,
                        "ticks": "",
                        "zerolinecolor": "white",
                        "gridwidth": 2
                      }
                    },
                    "shapedefaults": {
                      "line": {
                        "color": "#2a3f5f"
                      }
                    },
                    "annotationdefaults": {
                      "arrowcolor": "#2a3f5f",
                      "arrowhead": 0,
                      "arrowwidth": 1
                    },
                    "geo": {
                      "bgcolor": "white",
                      "landcolor": "#E5ECF6",
                      "subunitcolor": "white",
                      "showland": true,
                      "showlakes": true,
                      "lakecolor": "white"
                    },
                    "title": {
                      "x": 0.05
                    },
                    "mapbox": {
                      "style": "light"
                    }
                  }
                },
                "geo": {
                  "domain": {
                    "x": [
                      0,
                      1
                    ],
                    "y": [
                      0,
                      1
                    ]
                  },
                  "center": {}
                },
                "coloraxis": {
                  "colorbar": {
                    "title": {
                      "text": "color"
                    }
                  },
                  "colorscale": [
                    [
                      0,
                      "#440154"
                    ],
                    [
                      0.1111111111111111,
                      "#482878"
                    ],
                    [
                      0.2222222222222222,
                      "#3e4989"
                    ],
                    [
                      0.3333333333333333,
                      "#31688e"
                    ],
                    [
                      0.4444444444444444,
                      "#26828e"
                    ],
                    [
                      0.5555555555555556,
                      "#1f9e89"
                    ],
                    [
                      0.6666666666666666,
                      "#35b779"
                    ],
                    [
                      0.7777777777777778,
                      "#6ece58"
                    ],
                    [
                      0.8888888888888888,
                      "#b5de2b"
                    ],
                    [
                      1,
                      "#fde725"
                    ]
                  ],
                  "cmid": 10.649122807017545
                },
                "legend": {
                  "tracegroupgap": 0
                },
                "title": {
                  "text": "Employee Location Distribution",
                  "x": 0.5
                }
              },
              "config": {
                "plotlyServerURL": "https://plot.ly"
              }
            },
            "text/html": [
              "<div>                            <div id=\"9fefedce-f9b7-48ea-8315-557701b8f91f\" class=\"plotly-graph-div\" style=\"height:525px; width:100%;\"></div>            <script type=\"text/javascript\">                require([\"plotly\"], function(Plotly) {                    window.PLOTLYENV=window.PLOTLYENV || {};                                    if (document.getElementById(\"9fefedce-f9b7-48ea-8315-557701b8f91f\")) {                    Plotly.newPlot(                        \"9fefedce-f9b7-48ea-8315-557701b8f91f\",                        [{\"coloraxis\":\"coloraxis\",\"geo\":\"geo\",\"hovertemplate\":\"locations=%{location}<br>color=%{z}<extra></extra>\",\"locationmode\":\"ISO-3\",\"locations\":[\"USA\",\"GBR\",\"IND\",\"CAN\",\"DEU\",\"FRA\",\"ESP\",\"GRC\",\"JPN\",\"PRT\",\"BRA\",\"PAK\",\"NLD\",\"POL\",\"ITA\",\"RUS\",\"ARE\",\"AUT\",\"VNM\",\"TUR\",\"AUS\",\"ROU\",\"BEL\",\"SGP\",\"SVN\",\"DNK\",\"HUN\",\"NGA\",\"MEX\",\"BOL\",\"MYS\",\"TUN\",\"IRL\",\"DZA\",\"ARG\",\"CZE\",\"JEY\",\"LUX\",\"PRI\",\"SRB\",\"EST\",\"CHL\",\"HKG\",\"KEN\",\"MDA\",\"COL\",\"IRN\",\"CHN\",\"MLT\",\"UKR\",\"IRQ\",\"HND\",\"BGR\",\"HRV\",\"PHL\",\"NZL\",\"CHE\"],\"name\":\"\",\"z\":[332,44,30,29,25,18,15,13,7,6,6,6,5,4,4,4,3,3,3,3,3,2,2,2,2,2,2,2,2,1,1,1,1,1,1,1,1,1,1,1,1,1,1,1,1,1,1,1,1,1,1,1,1,1,1,1,1],\"type\":\"choropleth\"}],                        {\"template\":{\"data\":{\"histogram2dcontour\":[{\"type\":\"histogram2dcontour\",\"colorbar\":{\"outlinewidth\":0,\"ticks\":\"\"},\"colorscale\":[[0.0,\"#0d0887\"],[0.1111111111111111,\"#46039f\"],[0.2222222222222222,\"#7201a8\"],[0.3333333333333333,\"#9c179e\"],[0.4444444444444444,\"#bd3786\"],[0.5555555555555556,\"#d8576b\"],[0.6666666666666666,\"#ed7953\"],[0.7777777777777778,\"#fb9f3a\"],[0.8888888888888888,\"#fdca26\"],[1.0,\"#f0f921\"]]}],\"choropleth\":[{\"type\":\"choropleth\",\"colorbar\":{\"outlinewidth\":0,\"ticks\":\"\"}}],\"histogram2d\":[{\"type\":\"histogram2d\",\"colorbar\":{\"outlinewidth\":0,\"ticks\":\"\"},\"colorscale\":[[0.0,\"#0d0887\"],[0.1111111111111111,\"#46039f\"],[0.2222222222222222,\"#7201a8\"],[0.3333333333333333,\"#9c179e\"],[0.4444444444444444,\"#bd3786\"],[0.5555555555555556,\"#d8576b\"],[0.6666666666666666,\"#ed7953\"],[0.7777777777777778,\"#fb9f3a\"],[0.8888888888888888,\"#fdca26\"],[1.0,\"#f0f921\"]]}],\"heatmap\":[{\"type\":\"heatmap\",\"colorbar\":{\"outlinewidth\":0,\"ticks\":\"\"},\"colorscale\":[[0.0,\"#0d0887\"],[0.1111111111111111,\"#46039f\"],[0.2222222222222222,\"#7201a8\"],[0.3333333333333333,\"#9c179e\"],[0.4444444444444444,\"#bd3786\"],[0.5555555555555556,\"#d8576b\"],[0.6666666666666666,\"#ed7953\"],[0.7777777777777778,\"#fb9f3a\"],[0.8888888888888888,\"#fdca26\"],[1.0,\"#f0f921\"]]}],\"heatmapgl\":[{\"type\":\"heatmapgl\",\"colorbar\":{\"outlinewidth\":0,\"ticks\":\"\"},\"colorscale\":[[0.0,\"#0d0887\"],[0.1111111111111111,\"#46039f\"],[0.2222222222222222,\"#7201a8\"],[0.3333333333333333,\"#9c179e\"],[0.4444444444444444,\"#bd3786\"],[0.5555555555555556,\"#d8576b\"],[0.6666666666666666,\"#ed7953\"],[0.7777777777777778,\"#fb9f3a\"],[0.8888888888888888,\"#fdca26\"],[1.0,\"#f0f921\"]]}],\"contourcarpet\":[{\"type\":\"contourcarpet\",\"colorbar\":{\"outlinewidth\":0,\"ticks\":\"\"}}],\"contour\":[{\"type\":\"contour\",\"colorbar\":{\"outlinewidth\":0,\"ticks\":\"\"},\"colorscale\":[[0.0,\"#0d0887\"],[0.1111111111111111,\"#46039f\"],[0.2222222222222222,\"#7201a8\"],[0.3333333333333333,\"#9c179e\"],[0.4444444444444444,\"#bd3786\"],[0.5555555555555556,\"#d8576b\"],[0.6666666666666666,\"#ed7953\"],[0.7777777777777778,\"#fb9f3a\"],[0.8888888888888888,\"#fdca26\"],[1.0,\"#f0f921\"]]}],\"surface\":[{\"type\":\"surface\",\"colorbar\":{\"outlinewidth\":0,\"ticks\":\"\"},\"colorscale\":[[0.0,\"#0d0887\"],[0.1111111111111111,\"#46039f\"],[0.2222222222222222,\"#7201a8\"],[0.3333333333333333,\"#9c179e\"],[0.4444444444444444,\"#bd3786\"],[0.5555555555555556,\"#d8576b\"],[0.6666666666666666,\"#ed7953\"],[0.7777777777777778,\"#fb9f3a\"],[0.8888888888888888,\"#fdca26\"],[1.0,\"#f0f921\"]]}],\"mesh3d\":[{\"type\":\"mesh3d\",\"colorbar\":{\"outlinewidth\":0,\"ticks\":\"\"}}],\"scatter\":[{\"fillpattern\":{\"fillmode\":\"overlay\",\"size\":10,\"solidity\":0.2},\"type\":\"scatter\"}],\"parcoords\":[{\"type\":\"parcoords\",\"line\":{\"colorbar\":{\"outlinewidth\":0,\"ticks\":\"\"}}}],\"scatterpolargl\":[{\"type\":\"scatterpolargl\",\"marker\":{\"colorbar\":{\"outlinewidth\":0,\"ticks\":\"\"}}}],\"bar\":[{\"error_x\":{\"color\":\"#2a3f5f\"},\"error_y\":{\"color\":\"#2a3f5f\"},\"marker\":{\"line\":{\"color\":\"#E5ECF6\",\"width\":0.5},\"pattern\":{\"fillmode\":\"overlay\",\"size\":10,\"solidity\":0.2}},\"type\":\"bar\"}],\"scattergeo\":[{\"type\":\"scattergeo\",\"marker\":{\"colorbar\":{\"outlinewidth\":0,\"ticks\":\"\"}}}],\"scatterpolar\":[{\"type\":\"scatterpolar\",\"marker\":{\"colorbar\":{\"outlinewidth\":0,\"ticks\":\"\"}}}],\"histogram\":[{\"marker\":{\"pattern\":{\"fillmode\":\"overlay\",\"size\":10,\"solidity\":0.2}},\"type\":\"histogram\"}],\"scattergl\":[{\"type\":\"scattergl\",\"marker\":{\"colorbar\":{\"outlinewidth\":0,\"ticks\":\"\"}}}],\"scatter3d\":[{\"type\":\"scatter3d\",\"line\":{\"colorbar\":{\"outlinewidth\":0,\"ticks\":\"\"}},\"marker\":{\"colorbar\":{\"outlinewidth\":0,\"ticks\":\"\"}}}],\"scattermapbox\":[{\"type\":\"scattermapbox\",\"marker\":{\"colorbar\":{\"outlinewidth\":0,\"ticks\":\"\"}}}],\"scatterternary\":[{\"type\":\"scatterternary\",\"marker\":{\"colorbar\":{\"outlinewidth\":0,\"ticks\":\"\"}}}],\"scattercarpet\":[{\"type\":\"scattercarpet\",\"marker\":{\"colorbar\":{\"outlinewidth\":0,\"ticks\":\"\"}}}],\"carpet\":[{\"aaxis\":{\"endlinecolor\":\"#2a3f5f\",\"gridcolor\":\"white\",\"linecolor\":\"white\",\"minorgridcolor\":\"white\",\"startlinecolor\":\"#2a3f5f\"},\"baxis\":{\"endlinecolor\":\"#2a3f5f\",\"gridcolor\":\"white\",\"linecolor\":\"white\",\"minorgridcolor\":\"white\",\"startlinecolor\":\"#2a3f5f\"},\"type\":\"carpet\"}],\"table\":[{\"cells\":{\"fill\":{\"color\":\"#EBF0F8\"},\"line\":{\"color\":\"white\"}},\"header\":{\"fill\":{\"color\":\"#C8D4E3\"},\"line\":{\"color\":\"white\"}},\"type\":\"table\"}],\"barpolar\":[{\"marker\":{\"line\":{\"color\":\"#E5ECF6\",\"width\":0.5},\"pattern\":{\"fillmode\":\"overlay\",\"size\":10,\"solidity\":0.2}},\"type\":\"barpolar\"}],\"pie\":[{\"automargin\":true,\"type\":\"pie\"}]},\"layout\":{\"autotypenumbers\":\"strict\",\"colorway\":[\"#636efa\",\"#EF553B\",\"#00cc96\",\"#ab63fa\",\"#FFA15A\",\"#19d3f3\",\"#FF6692\",\"#B6E880\",\"#FF97FF\",\"#FECB52\"],\"font\":{\"color\":\"#2a3f5f\"},\"hovermode\":\"closest\",\"hoverlabel\":{\"align\":\"left\"},\"paper_bgcolor\":\"white\",\"plot_bgcolor\":\"#E5ECF6\",\"polar\":{\"bgcolor\":\"#E5ECF6\",\"angularaxis\":{\"gridcolor\":\"white\",\"linecolor\":\"white\",\"ticks\":\"\"},\"radialaxis\":{\"gridcolor\":\"white\",\"linecolor\":\"white\",\"ticks\":\"\"}},\"ternary\":{\"bgcolor\":\"#E5ECF6\",\"aaxis\":{\"gridcolor\":\"white\",\"linecolor\":\"white\",\"ticks\":\"\"},\"baxis\":{\"gridcolor\":\"white\",\"linecolor\":\"white\",\"ticks\":\"\"},\"caxis\":{\"gridcolor\":\"white\",\"linecolor\":\"white\",\"ticks\":\"\"}},\"coloraxis\":{\"colorbar\":{\"outlinewidth\":0,\"ticks\":\"\"}},\"colorscale\":{\"sequential\":[[0.0,\"#0d0887\"],[0.1111111111111111,\"#46039f\"],[0.2222222222222222,\"#7201a8\"],[0.3333333333333333,\"#9c179e\"],[0.4444444444444444,\"#bd3786\"],[0.5555555555555556,\"#d8576b\"],[0.6666666666666666,\"#ed7953\"],[0.7777777777777778,\"#fb9f3a\"],[0.8888888888888888,\"#fdca26\"],[1.0,\"#f0f921\"]],\"sequentialminus\":[[0.0,\"#0d0887\"],[0.1111111111111111,\"#46039f\"],[0.2222222222222222,\"#7201a8\"],[0.3333333333333333,\"#9c179e\"],[0.4444444444444444,\"#bd3786\"],[0.5555555555555556,\"#d8576b\"],[0.6666666666666666,\"#ed7953\"],[0.7777777777777778,\"#fb9f3a\"],[0.8888888888888888,\"#fdca26\"],[1.0,\"#f0f921\"]],\"diverging\":[[0,\"#8e0152\"],[0.1,\"#c51b7d\"],[0.2,\"#de77ae\"],[0.3,\"#f1b6da\"],[0.4,\"#fde0ef\"],[0.5,\"#f7f7f7\"],[0.6,\"#e6f5d0\"],[0.7,\"#b8e186\"],[0.8,\"#7fbc41\"],[0.9,\"#4d9221\"],[1,\"#276419\"]]},\"xaxis\":{\"gridcolor\":\"white\",\"linecolor\":\"white\",\"ticks\":\"\",\"title\":{\"standoff\":15},\"zerolinecolor\":\"white\",\"automargin\":true,\"zerolinewidth\":2},\"yaxis\":{\"gridcolor\":\"white\",\"linecolor\":\"white\",\"ticks\":\"\",\"title\":{\"standoff\":15},\"zerolinecolor\":\"white\",\"automargin\":true,\"zerolinewidth\":2},\"scene\":{\"xaxis\":{\"backgroundcolor\":\"#E5ECF6\",\"gridcolor\":\"white\",\"linecolor\":\"white\",\"showbackground\":true,\"ticks\":\"\",\"zerolinecolor\":\"white\",\"gridwidth\":2},\"yaxis\":{\"backgroundcolor\":\"#E5ECF6\",\"gridcolor\":\"white\",\"linecolor\":\"white\",\"showbackground\":true,\"ticks\":\"\",\"zerolinecolor\":\"white\",\"gridwidth\":2},\"zaxis\":{\"backgroundcolor\":\"#E5ECF6\",\"gridcolor\":\"white\",\"linecolor\":\"white\",\"showbackground\":true,\"ticks\":\"\",\"zerolinecolor\":\"white\",\"gridwidth\":2}},\"shapedefaults\":{\"line\":{\"color\":\"#2a3f5f\"}},\"annotationdefaults\":{\"arrowcolor\":\"#2a3f5f\",\"arrowhead\":0,\"arrowwidth\":1},\"geo\":{\"bgcolor\":\"white\",\"landcolor\":\"#E5ECF6\",\"subunitcolor\":\"white\",\"showland\":true,\"showlakes\":true,\"lakecolor\":\"white\"},\"title\":{\"x\":0.05},\"mapbox\":{\"style\":\"light\"}}},\"geo\":{\"domain\":{\"x\":[0.0,1.0],\"y\":[0.0,1.0]},\"center\":{}},\"coloraxis\":{\"colorbar\":{\"title\":{\"text\":\"color\"}},\"colorscale\":[[0.0,\"#440154\"],[0.1111111111111111,\"#482878\"],[0.2222222222222222,\"#3e4989\"],[0.3333333333333333,\"#31688e\"],[0.4444444444444444,\"#26828e\"],[0.5555555555555556,\"#1f9e89\"],[0.6666666666666666,\"#35b779\"],[0.7777777777777778,\"#6ece58\"],[0.8888888888888888,\"#b5de2b\"],[1.0,\"#fde725\"]],\"cmid\":10.649122807017545},\"legend\":{\"tracegroupgap\":0},\"title\":{\"text\":\"Employee Location Distribution\",\"x\":0.5}},                        {\"responsive\": true}                    ).then(function(){\n",
              "                            \n",
              "var gd = document.getElementById('9fefedce-f9b7-48ea-8315-557701b8f91f');\n",
              "var x = new MutationObserver(function (mutations, observer) {{\n",
              "        var display = window.getComputedStyle(gd).display;\n",
              "        if (!display || display === 'none') {{\n",
              "            console.log([gd, 'removed!']);\n",
              "            Plotly.purge(gd);\n",
              "            observer.disconnect();\n",
              "        }}\n",
              "}});\n",
              "\n",
              "// Listen for the removal of the full notebook cells\n",
              "var notebookContainer = gd.closest('#notebook-container');\n",
              "if (notebookContainer) {{\n",
              "    x.observe(notebookContainer, {childList: true});\n",
              "}}\n",
              "\n",
              "// Listen for the clearing of the current output cell\n",
              "var outputEl = gd.closest('.output');\n",
              "if (outputEl) {{\n",
              "    x.observe(outputEl, {childList: true});\n",
              "}}\n",
              "\n",
              "                        })                };                });            </script>        </div>"
            ]
          },
          "metadata": {}
        }
      ]
    },
    {
      "cell_type": "markdown",
      "source": [
        "Most of the employees are from USA as can be seen from the chloropleth above."
      ],
      "metadata": {
        "id": "K5L5Inonq-2o"
      }
    },
    {
      "cell_type": "code",
      "source": [
        "# Comparing values of employee and company location\n",
        "c_location = df['company_location'].value_counts()\n",
        "top_10_company_location = c_location[:10]\n",
        "fig = go.Figure(data=[\n",
        "    go.Bar(name='Employee Location',\n",
        "           x=loca.index, y=loca.values,\n",
        "           text=loca.values,marker_color='crimson'),\n",
        "    go.Bar(name='Company Location', x=top_10_company_location.index,\n",
        "           y=top_10_company_location.values,text=top_10_company_location.values,marker_color='coral')\n",
        "])\n",
        "fig.update_layout(barmode='group', xaxis_tickangle=-45,\n",
        "                  title='Comparison of Employee Location and Company Location',\n",
        "                  title_x=0.5,\n",
        "                  font = dict(size=17,family=\"Franklin Gothic\"))\n",
        "\n",
        "fig.show()\n"
      ],
      "metadata": {
        "colab": {
          "base_uri": "https://localhost:8080/",
          "height": 542
        },
        "id": "gsS932RFeu0v",
        "outputId": "1f785e62-f84c-4fe6-d0af-61512348c284"
      },
      "execution_count": 15,
      "outputs": [
        {
          "output_type": "display_data",
          "data": {
            "application/vnd.plotly.v1+json": {
              "data": [
                {
                  "marker": {
                    "color": "crimson"
                  },
                  "name": "Employee Location",
                  "text": [
                    332,
                    44,
                    30,
                    29,
                    25,
                    18,
                    15,
                    13,
                    7,
                    6
                  ],
                  "x": [
                    "US",
                    "GB",
                    "IN",
                    "CA",
                    "DE",
                    "FR",
                    "ES",
                    "GR",
                    "JP",
                    "PT"
                  ],
                  "y": [
                    332,
                    44,
                    30,
                    29,
                    25,
                    18,
                    15,
                    13,
                    7,
                    6
                  ],
                  "type": "bar"
                },
                {
                  "marker": {
                    "color": "coral"
                  },
                  "name": "Company Location",
                  "text": [
                    355,
                    47,
                    30,
                    28,
                    24,
                    15,
                    14,
                    11,
                    6,
                    4
                  ],
                  "x": [
                    "US",
                    "GB",
                    "CA",
                    "DE",
                    "IN",
                    "FR",
                    "ES",
                    "GR",
                    "JP",
                    "NL"
                  ],
                  "y": [
                    355,
                    47,
                    30,
                    28,
                    24,
                    15,
                    14,
                    11,
                    6,
                    4
                  ],
                  "type": "bar"
                }
              ],
              "layout": {
                "template": {
                  "data": {
                    "histogram2dcontour": [
                      {
                        "type": "histogram2dcontour",
                        "colorbar": {
                          "outlinewidth": 0,
                          "ticks": ""
                        },
                        "colorscale": [
                          [
                            0,
                            "#0d0887"
                          ],
                          [
                            0.1111111111111111,
                            "#46039f"
                          ],
                          [
                            0.2222222222222222,
                            "#7201a8"
                          ],
                          [
                            0.3333333333333333,
                            "#9c179e"
                          ],
                          [
                            0.4444444444444444,
                            "#bd3786"
                          ],
                          [
                            0.5555555555555556,
                            "#d8576b"
                          ],
                          [
                            0.6666666666666666,
                            "#ed7953"
                          ],
                          [
                            0.7777777777777778,
                            "#fb9f3a"
                          ],
                          [
                            0.8888888888888888,
                            "#fdca26"
                          ],
                          [
                            1,
                            "#f0f921"
                          ]
                        ]
                      }
                    ],
                    "choropleth": [
                      {
                        "type": "choropleth",
                        "colorbar": {
                          "outlinewidth": 0,
                          "ticks": ""
                        }
                      }
                    ],
                    "histogram2d": [
                      {
                        "type": "histogram2d",
                        "colorbar": {
                          "outlinewidth": 0,
                          "ticks": ""
                        },
                        "colorscale": [
                          [
                            0,
                            "#0d0887"
                          ],
                          [
                            0.1111111111111111,
                            "#46039f"
                          ],
                          [
                            0.2222222222222222,
                            "#7201a8"
                          ],
                          [
                            0.3333333333333333,
                            "#9c179e"
                          ],
                          [
                            0.4444444444444444,
                            "#bd3786"
                          ],
                          [
                            0.5555555555555556,
                            "#d8576b"
                          ],
                          [
                            0.6666666666666666,
                            "#ed7953"
                          ],
                          [
                            0.7777777777777778,
                            "#fb9f3a"
                          ],
                          [
                            0.8888888888888888,
                            "#fdca26"
                          ],
                          [
                            1,
                            "#f0f921"
                          ]
                        ]
                      }
                    ],
                    "heatmap": [
                      {
                        "type": "heatmap",
                        "colorbar": {
                          "outlinewidth": 0,
                          "ticks": ""
                        },
                        "colorscale": [
                          [
                            0,
                            "#0d0887"
                          ],
                          [
                            0.1111111111111111,
                            "#46039f"
                          ],
                          [
                            0.2222222222222222,
                            "#7201a8"
                          ],
                          [
                            0.3333333333333333,
                            "#9c179e"
                          ],
                          [
                            0.4444444444444444,
                            "#bd3786"
                          ],
                          [
                            0.5555555555555556,
                            "#d8576b"
                          ],
                          [
                            0.6666666666666666,
                            "#ed7953"
                          ],
                          [
                            0.7777777777777778,
                            "#fb9f3a"
                          ],
                          [
                            0.8888888888888888,
                            "#fdca26"
                          ],
                          [
                            1,
                            "#f0f921"
                          ]
                        ]
                      }
                    ],
                    "heatmapgl": [
                      {
                        "type": "heatmapgl",
                        "colorbar": {
                          "outlinewidth": 0,
                          "ticks": ""
                        },
                        "colorscale": [
                          [
                            0,
                            "#0d0887"
                          ],
                          [
                            0.1111111111111111,
                            "#46039f"
                          ],
                          [
                            0.2222222222222222,
                            "#7201a8"
                          ],
                          [
                            0.3333333333333333,
                            "#9c179e"
                          ],
                          [
                            0.4444444444444444,
                            "#bd3786"
                          ],
                          [
                            0.5555555555555556,
                            "#d8576b"
                          ],
                          [
                            0.6666666666666666,
                            "#ed7953"
                          ],
                          [
                            0.7777777777777778,
                            "#fb9f3a"
                          ],
                          [
                            0.8888888888888888,
                            "#fdca26"
                          ],
                          [
                            1,
                            "#f0f921"
                          ]
                        ]
                      }
                    ],
                    "contourcarpet": [
                      {
                        "type": "contourcarpet",
                        "colorbar": {
                          "outlinewidth": 0,
                          "ticks": ""
                        }
                      }
                    ],
                    "contour": [
                      {
                        "type": "contour",
                        "colorbar": {
                          "outlinewidth": 0,
                          "ticks": ""
                        },
                        "colorscale": [
                          [
                            0,
                            "#0d0887"
                          ],
                          [
                            0.1111111111111111,
                            "#46039f"
                          ],
                          [
                            0.2222222222222222,
                            "#7201a8"
                          ],
                          [
                            0.3333333333333333,
                            "#9c179e"
                          ],
                          [
                            0.4444444444444444,
                            "#bd3786"
                          ],
                          [
                            0.5555555555555556,
                            "#d8576b"
                          ],
                          [
                            0.6666666666666666,
                            "#ed7953"
                          ],
                          [
                            0.7777777777777778,
                            "#fb9f3a"
                          ],
                          [
                            0.8888888888888888,
                            "#fdca26"
                          ],
                          [
                            1,
                            "#f0f921"
                          ]
                        ]
                      }
                    ],
                    "surface": [
                      {
                        "type": "surface",
                        "colorbar": {
                          "outlinewidth": 0,
                          "ticks": ""
                        },
                        "colorscale": [
                          [
                            0,
                            "#0d0887"
                          ],
                          [
                            0.1111111111111111,
                            "#46039f"
                          ],
                          [
                            0.2222222222222222,
                            "#7201a8"
                          ],
                          [
                            0.3333333333333333,
                            "#9c179e"
                          ],
                          [
                            0.4444444444444444,
                            "#bd3786"
                          ],
                          [
                            0.5555555555555556,
                            "#d8576b"
                          ],
                          [
                            0.6666666666666666,
                            "#ed7953"
                          ],
                          [
                            0.7777777777777778,
                            "#fb9f3a"
                          ],
                          [
                            0.8888888888888888,
                            "#fdca26"
                          ],
                          [
                            1,
                            "#f0f921"
                          ]
                        ]
                      }
                    ],
                    "mesh3d": [
                      {
                        "type": "mesh3d",
                        "colorbar": {
                          "outlinewidth": 0,
                          "ticks": ""
                        }
                      }
                    ],
                    "scatter": [
                      {
                        "fillpattern": {
                          "fillmode": "overlay",
                          "size": 10,
                          "solidity": 0.2
                        },
                        "type": "scatter"
                      }
                    ],
                    "parcoords": [
                      {
                        "type": "parcoords",
                        "line": {
                          "colorbar": {
                            "outlinewidth": 0,
                            "ticks": ""
                          }
                        }
                      }
                    ],
                    "scatterpolargl": [
                      {
                        "type": "scatterpolargl",
                        "marker": {
                          "colorbar": {
                            "outlinewidth": 0,
                            "ticks": ""
                          }
                        }
                      }
                    ],
                    "bar": [
                      {
                        "error_x": {
                          "color": "#2a3f5f"
                        },
                        "error_y": {
                          "color": "#2a3f5f"
                        },
                        "marker": {
                          "line": {
                            "color": "#E5ECF6",
                            "width": 0.5
                          },
                          "pattern": {
                            "fillmode": "overlay",
                            "size": 10,
                            "solidity": 0.2
                          }
                        },
                        "type": "bar"
                      }
                    ],
                    "scattergeo": [
                      {
                        "type": "scattergeo",
                        "marker": {
                          "colorbar": {
                            "outlinewidth": 0,
                            "ticks": ""
                          }
                        }
                      }
                    ],
                    "scatterpolar": [
                      {
                        "type": "scatterpolar",
                        "marker": {
                          "colorbar": {
                            "outlinewidth": 0,
                            "ticks": ""
                          }
                        }
                      }
                    ],
                    "histogram": [
                      {
                        "marker": {
                          "pattern": {
                            "fillmode": "overlay",
                            "size": 10,
                            "solidity": 0.2
                          }
                        },
                        "type": "histogram"
                      }
                    ],
                    "scattergl": [
                      {
                        "type": "scattergl",
                        "marker": {
                          "colorbar": {
                            "outlinewidth": 0,
                            "ticks": ""
                          }
                        }
                      }
                    ],
                    "scatter3d": [
                      {
                        "type": "scatter3d",
                        "line": {
                          "colorbar": {
                            "outlinewidth": 0,
                            "ticks": ""
                          }
                        },
                        "marker": {
                          "colorbar": {
                            "outlinewidth": 0,
                            "ticks": ""
                          }
                        }
                      }
                    ],
                    "scattermapbox": [
                      {
                        "type": "scattermapbox",
                        "marker": {
                          "colorbar": {
                            "outlinewidth": 0,
                            "ticks": ""
                          }
                        }
                      }
                    ],
                    "scatterternary": [
                      {
                        "type": "scatterternary",
                        "marker": {
                          "colorbar": {
                            "outlinewidth": 0,
                            "ticks": ""
                          }
                        }
                      }
                    ],
                    "scattercarpet": [
                      {
                        "type": "scattercarpet",
                        "marker": {
                          "colorbar": {
                            "outlinewidth": 0,
                            "ticks": ""
                          }
                        }
                      }
                    ],
                    "carpet": [
                      {
                        "aaxis": {
                          "endlinecolor": "#2a3f5f",
                          "gridcolor": "white",
                          "linecolor": "white",
                          "minorgridcolor": "white",
                          "startlinecolor": "#2a3f5f"
                        },
                        "baxis": {
                          "endlinecolor": "#2a3f5f",
                          "gridcolor": "white",
                          "linecolor": "white",
                          "minorgridcolor": "white",
                          "startlinecolor": "#2a3f5f"
                        },
                        "type": "carpet"
                      }
                    ],
                    "table": [
                      {
                        "cells": {
                          "fill": {
                            "color": "#EBF0F8"
                          },
                          "line": {
                            "color": "white"
                          }
                        },
                        "header": {
                          "fill": {
                            "color": "#C8D4E3"
                          },
                          "line": {
                            "color": "white"
                          }
                        },
                        "type": "table"
                      }
                    ],
                    "barpolar": [
                      {
                        "marker": {
                          "line": {
                            "color": "#E5ECF6",
                            "width": 0.5
                          },
                          "pattern": {
                            "fillmode": "overlay",
                            "size": 10,
                            "solidity": 0.2
                          }
                        },
                        "type": "barpolar"
                      }
                    ],
                    "pie": [
                      {
                        "automargin": true,
                        "type": "pie"
                      }
                    ]
                  },
                  "layout": {
                    "autotypenumbers": "strict",
                    "colorway": [
                      "#636efa",
                      "#EF553B",
                      "#00cc96",
                      "#ab63fa",
                      "#FFA15A",
                      "#19d3f3",
                      "#FF6692",
                      "#B6E880",
                      "#FF97FF",
                      "#FECB52"
                    ],
                    "font": {
                      "color": "#2a3f5f"
                    },
                    "hovermode": "closest",
                    "hoverlabel": {
                      "align": "left"
                    },
                    "paper_bgcolor": "white",
                    "plot_bgcolor": "#E5ECF6",
                    "polar": {
                      "bgcolor": "#E5ECF6",
                      "angularaxis": {
                        "gridcolor": "white",
                        "linecolor": "white",
                        "ticks": ""
                      },
                      "radialaxis": {
                        "gridcolor": "white",
                        "linecolor": "white",
                        "ticks": ""
                      }
                    },
                    "ternary": {
                      "bgcolor": "#E5ECF6",
                      "aaxis": {
                        "gridcolor": "white",
                        "linecolor": "white",
                        "ticks": ""
                      },
                      "baxis": {
                        "gridcolor": "white",
                        "linecolor": "white",
                        "ticks": ""
                      },
                      "caxis": {
                        "gridcolor": "white",
                        "linecolor": "white",
                        "ticks": ""
                      }
                    },
                    "coloraxis": {
                      "colorbar": {
                        "outlinewidth": 0,
                        "ticks": ""
                      }
                    },
                    "colorscale": {
                      "sequential": [
                        [
                          0,
                          "#0d0887"
                        ],
                        [
                          0.1111111111111111,
                          "#46039f"
                        ],
                        [
                          0.2222222222222222,
                          "#7201a8"
                        ],
                        [
                          0.3333333333333333,
                          "#9c179e"
                        ],
                        [
                          0.4444444444444444,
                          "#bd3786"
                        ],
                        [
                          0.5555555555555556,
                          "#d8576b"
                        ],
                        [
                          0.6666666666666666,
                          "#ed7953"
                        ],
                        [
                          0.7777777777777778,
                          "#fb9f3a"
                        ],
                        [
                          0.8888888888888888,
                          "#fdca26"
                        ],
                        [
                          1,
                          "#f0f921"
                        ]
                      ],
                      "sequentialminus": [
                        [
                          0,
                          "#0d0887"
                        ],
                        [
                          0.1111111111111111,
                          "#46039f"
                        ],
                        [
                          0.2222222222222222,
                          "#7201a8"
                        ],
                        [
                          0.3333333333333333,
                          "#9c179e"
                        ],
                        [
                          0.4444444444444444,
                          "#bd3786"
                        ],
                        [
                          0.5555555555555556,
                          "#d8576b"
                        ],
                        [
                          0.6666666666666666,
                          "#ed7953"
                        ],
                        [
                          0.7777777777777778,
                          "#fb9f3a"
                        ],
                        [
                          0.8888888888888888,
                          "#fdca26"
                        ],
                        [
                          1,
                          "#f0f921"
                        ]
                      ],
                      "diverging": [
                        [
                          0,
                          "#8e0152"
                        ],
                        [
                          0.1,
                          "#c51b7d"
                        ],
                        [
                          0.2,
                          "#de77ae"
                        ],
                        [
                          0.3,
                          "#f1b6da"
                        ],
                        [
                          0.4,
                          "#fde0ef"
                        ],
                        [
                          0.5,
                          "#f7f7f7"
                        ],
                        [
                          0.6,
                          "#e6f5d0"
                        ],
                        [
                          0.7,
                          "#b8e186"
                        ],
                        [
                          0.8,
                          "#7fbc41"
                        ],
                        [
                          0.9,
                          "#4d9221"
                        ],
                        [
                          1,
                          "#276419"
                        ]
                      ]
                    },
                    "xaxis": {
                      "gridcolor": "white",
                      "linecolor": "white",
                      "ticks": "",
                      "title": {
                        "standoff": 15
                      },
                      "zerolinecolor": "white",
                      "automargin": true,
                      "zerolinewidth": 2
                    },
                    "yaxis": {
                      "gridcolor": "white",
                      "linecolor": "white",
                      "ticks": "",
                      "title": {
                        "standoff": 15
                      },
                      "zerolinecolor": "white",
                      "automargin": true,
                      "zerolinewidth": 2
                    },
                    "scene": {
                      "xaxis": {
                        "backgroundcolor": "#E5ECF6",
                        "gridcolor": "white",
                        "linecolor": "white",
                        "showbackground": true,
                        "ticks": "",
                        "zerolinecolor": "white",
                        "gridwidth": 2
                      },
                      "yaxis": {
                        "backgroundcolor": "#E5ECF6",
                        "gridcolor": "white",
                        "linecolor": "white",
                        "showbackground": true,
                        "ticks": "",
                        "zerolinecolor": "white",
                        "gridwidth": 2
                      },
                      "zaxis": {
                        "backgroundcolor": "#E5ECF6",
                        "gridcolor": "white",
                        "linecolor": "white",
                        "showbackground": true,
                        "ticks": "",
                        "zerolinecolor": "white",
                        "gridwidth": 2
                      }
                    },
                    "shapedefaults": {
                      "line": {
                        "color": "#2a3f5f"
                      }
                    },
                    "annotationdefaults": {
                      "arrowcolor": "#2a3f5f",
                      "arrowhead": 0,
                      "arrowwidth": 1
                    },
                    "geo": {
                      "bgcolor": "white",
                      "landcolor": "#E5ECF6",
                      "subunitcolor": "white",
                      "showland": true,
                      "showlakes": true,
                      "lakecolor": "white"
                    },
                    "title": {
                      "x": 0.05
                    },
                    "mapbox": {
                      "style": "light"
                    }
                  }
                },
                "xaxis": {
                  "tickangle": -45
                },
                "title": {
                  "text": "Comparison of Employee Location and Company Location",
                  "x": 0.5
                },
                "font": {
                  "size": 17,
                  "family": "Franklin Gothic"
                },
                "barmode": "group"
              },
              "config": {
                "plotlyServerURL": "https://plot.ly"
              }
            },
            "text/html": [
              "<div>                            <div id=\"06ca71a7-4fa1-4dc9-b8cf-b6fe86b7dee8\" class=\"plotly-graph-div\" style=\"height:525px; width:100%;\"></div>            <script type=\"text/javascript\">                require([\"plotly\"], function(Plotly) {                    window.PLOTLYENV=window.PLOTLYENV || {};                                    if (document.getElementById(\"06ca71a7-4fa1-4dc9-b8cf-b6fe86b7dee8\")) {                    Plotly.newPlot(                        \"06ca71a7-4fa1-4dc9-b8cf-b6fe86b7dee8\",                        [{\"marker\":{\"color\":\"crimson\"},\"name\":\"Employee Location\",\"text\":[332.0,44.0,30.0,29.0,25.0,18.0,15.0,13.0,7.0,6.0],\"x\":[\"US\",\"GB\",\"IN\",\"CA\",\"DE\",\"FR\",\"ES\",\"GR\",\"JP\",\"PT\"],\"y\":[332,44,30,29,25,18,15,13,7,6],\"type\":\"bar\"},{\"marker\":{\"color\":\"coral\"},\"name\":\"Company Location\",\"text\":[355.0,47.0,30.0,28.0,24.0,15.0,14.0,11.0,6.0,4.0],\"x\":[\"US\",\"GB\",\"CA\",\"DE\",\"IN\",\"FR\",\"ES\",\"GR\",\"JP\",\"NL\"],\"y\":[355,47,30,28,24,15,14,11,6,4],\"type\":\"bar\"}],                        {\"template\":{\"data\":{\"histogram2dcontour\":[{\"type\":\"histogram2dcontour\",\"colorbar\":{\"outlinewidth\":0,\"ticks\":\"\"},\"colorscale\":[[0.0,\"#0d0887\"],[0.1111111111111111,\"#46039f\"],[0.2222222222222222,\"#7201a8\"],[0.3333333333333333,\"#9c179e\"],[0.4444444444444444,\"#bd3786\"],[0.5555555555555556,\"#d8576b\"],[0.6666666666666666,\"#ed7953\"],[0.7777777777777778,\"#fb9f3a\"],[0.8888888888888888,\"#fdca26\"],[1.0,\"#f0f921\"]]}],\"choropleth\":[{\"type\":\"choropleth\",\"colorbar\":{\"outlinewidth\":0,\"ticks\":\"\"}}],\"histogram2d\":[{\"type\":\"histogram2d\",\"colorbar\":{\"outlinewidth\":0,\"ticks\":\"\"},\"colorscale\":[[0.0,\"#0d0887\"],[0.1111111111111111,\"#46039f\"],[0.2222222222222222,\"#7201a8\"],[0.3333333333333333,\"#9c179e\"],[0.4444444444444444,\"#bd3786\"],[0.5555555555555556,\"#d8576b\"],[0.6666666666666666,\"#ed7953\"],[0.7777777777777778,\"#fb9f3a\"],[0.8888888888888888,\"#fdca26\"],[1.0,\"#f0f921\"]]}],\"heatmap\":[{\"type\":\"heatmap\",\"colorbar\":{\"outlinewidth\":0,\"ticks\":\"\"},\"colorscale\":[[0.0,\"#0d0887\"],[0.1111111111111111,\"#46039f\"],[0.2222222222222222,\"#7201a8\"],[0.3333333333333333,\"#9c179e\"],[0.4444444444444444,\"#bd3786\"],[0.5555555555555556,\"#d8576b\"],[0.6666666666666666,\"#ed7953\"],[0.7777777777777778,\"#fb9f3a\"],[0.8888888888888888,\"#fdca26\"],[1.0,\"#f0f921\"]]}],\"heatmapgl\":[{\"type\":\"heatmapgl\",\"colorbar\":{\"outlinewidth\":0,\"ticks\":\"\"},\"colorscale\":[[0.0,\"#0d0887\"],[0.1111111111111111,\"#46039f\"],[0.2222222222222222,\"#7201a8\"],[0.3333333333333333,\"#9c179e\"],[0.4444444444444444,\"#bd3786\"],[0.5555555555555556,\"#d8576b\"],[0.6666666666666666,\"#ed7953\"],[0.7777777777777778,\"#fb9f3a\"],[0.8888888888888888,\"#fdca26\"],[1.0,\"#f0f921\"]]}],\"contourcarpet\":[{\"type\":\"contourcarpet\",\"colorbar\":{\"outlinewidth\":0,\"ticks\":\"\"}}],\"contour\":[{\"type\":\"contour\",\"colorbar\":{\"outlinewidth\":0,\"ticks\":\"\"},\"colorscale\":[[0.0,\"#0d0887\"],[0.1111111111111111,\"#46039f\"],[0.2222222222222222,\"#7201a8\"],[0.3333333333333333,\"#9c179e\"],[0.4444444444444444,\"#bd3786\"],[0.5555555555555556,\"#d8576b\"],[0.6666666666666666,\"#ed7953\"],[0.7777777777777778,\"#fb9f3a\"],[0.8888888888888888,\"#fdca26\"],[1.0,\"#f0f921\"]]}],\"surface\":[{\"type\":\"surface\",\"colorbar\":{\"outlinewidth\":0,\"ticks\":\"\"},\"colorscale\":[[0.0,\"#0d0887\"],[0.1111111111111111,\"#46039f\"],[0.2222222222222222,\"#7201a8\"],[0.3333333333333333,\"#9c179e\"],[0.4444444444444444,\"#bd3786\"],[0.5555555555555556,\"#d8576b\"],[0.6666666666666666,\"#ed7953\"],[0.7777777777777778,\"#fb9f3a\"],[0.8888888888888888,\"#fdca26\"],[1.0,\"#f0f921\"]]}],\"mesh3d\":[{\"type\":\"mesh3d\",\"colorbar\":{\"outlinewidth\":0,\"ticks\":\"\"}}],\"scatter\":[{\"fillpattern\":{\"fillmode\":\"overlay\",\"size\":10,\"solidity\":0.2},\"type\":\"scatter\"}],\"parcoords\":[{\"type\":\"parcoords\",\"line\":{\"colorbar\":{\"outlinewidth\":0,\"ticks\":\"\"}}}],\"scatterpolargl\":[{\"type\":\"scatterpolargl\",\"marker\":{\"colorbar\":{\"outlinewidth\":0,\"ticks\":\"\"}}}],\"bar\":[{\"error_x\":{\"color\":\"#2a3f5f\"},\"error_y\":{\"color\":\"#2a3f5f\"},\"marker\":{\"line\":{\"color\":\"#E5ECF6\",\"width\":0.5},\"pattern\":{\"fillmode\":\"overlay\",\"size\":10,\"solidity\":0.2}},\"type\":\"bar\"}],\"scattergeo\":[{\"type\":\"scattergeo\",\"marker\":{\"colorbar\":{\"outlinewidth\":0,\"ticks\":\"\"}}}],\"scatterpolar\":[{\"type\":\"scatterpolar\",\"marker\":{\"colorbar\":{\"outlinewidth\":0,\"ticks\":\"\"}}}],\"histogram\":[{\"marker\":{\"pattern\":{\"fillmode\":\"overlay\",\"size\":10,\"solidity\":0.2}},\"type\":\"histogram\"}],\"scattergl\":[{\"type\":\"scattergl\",\"marker\":{\"colorbar\":{\"outlinewidth\":0,\"ticks\":\"\"}}}],\"scatter3d\":[{\"type\":\"scatter3d\",\"line\":{\"colorbar\":{\"outlinewidth\":0,\"ticks\":\"\"}},\"marker\":{\"colorbar\":{\"outlinewidth\":0,\"ticks\":\"\"}}}],\"scattermapbox\":[{\"type\":\"scattermapbox\",\"marker\":{\"colorbar\":{\"outlinewidth\":0,\"ticks\":\"\"}}}],\"scatterternary\":[{\"type\":\"scatterternary\",\"marker\":{\"colorbar\":{\"outlinewidth\":0,\"ticks\":\"\"}}}],\"scattercarpet\":[{\"type\":\"scattercarpet\",\"marker\":{\"colorbar\":{\"outlinewidth\":0,\"ticks\":\"\"}}}],\"carpet\":[{\"aaxis\":{\"endlinecolor\":\"#2a3f5f\",\"gridcolor\":\"white\",\"linecolor\":\"white\",\"minorgridcolor\":\"white\",\"startlinecolor\":\"#2a3f5f\"},\"baxis\":{\"endlinecolor\":\"#2a3f5f\",\"gridcolor\":\"white\",\"linecolor\":\"white\",\"minorgridcolor\":\"white\",\"startlinecolor\":\"#2a3f5f\"},\"type\":\"carpet\"}],\"table\":[{\"cells\":{\"fill\":{\"color\":\"#EBF0F8\"},\"line\":{\"color\":\"white\"}},\"header\":{\"fill\":{\"color\":\"#C8D4E3\"},\"line\":{\"color\":\"white\"}},\"type\":\"table\"}],\"barpolar\":[{\"marker\":{\"line\":{\"color\":\"#E5ECF6\",\"width\":0.5},\"pattern\":{\"fillmode\":\"overlay\",\"size\":10,\"solidity\":0.2}},\"type\":\"barpolar\"}],\"pie\":[{\"automargin\":true,\"type\":\"pie\"}]},\"layout\":{\"autotypenumbers\":\"strict\",\"colorway\":[\"#636efa\",\"#EF553B\",\"#00cc96\",\"#ab63fa\",\"#FFA15A\",\"#19d3f3\",\"#FF6692\",\"#B6E880\",\"#FF97FF\",\"#FECB52\"],\"font\":{\"color\":\"#2a3f5f\"},\"hovermode\":\"closest\",\"hoverlabel\":{\"align\":\"left\"},\"paper_bgcolor\":\"white\",\"plot_bgcolor\":\"#E5ECF6\",\"polar\":{\"bgcolor\":\"#E5ECF6\",\"angularaxis\":{\"gridcolor\":\"white\",\"linecolor\":\"white\",\"ticks\":\"\"},\"radialaxis\":{\"gridcolor\":\"white\",\"linecolor\":\"white\",\"ticks\":\"\"}},\"ternary\":{\"bgcolor\":\"#E5ECF6\",\"aaxis\":{\"gridcolor\":\"white\",\"linecolor\":\"white\",\"ticks\":\"\"},\"baxis\":{\"gridcolor\":\"white\",\"linecolor\":\"white\",\"ticks\":\"\"},\"caxis\":{\"gridcolor\":\"white\",\"linecolor\":\"white\",\"ticks\":\"\"}},\"coloraxis\":{\"colorbar\":{\"outlinewidth\":0,\"ticks\":\"\"}},\"colorscale\":{\"sequential\":[[0.0,\"#0d0887\"],[0.1111111111111111,\"#46039f\"],[0.2222222222222222,\"#7201a8\"],[0.3333333333333333,\"#9c179e\"],[0.4444444444444444,\"#bd3786\"],[0.5555555555555556,\"#d8576b\"],[0.6666666666666666,\"#ed7953\"],[0.7777777777777778,\"#fb9f3a\"],[0.8888888888888888,\"#fdca26\"],[1.0,\"#f0f921\"]],\"sequentialminus\":[[0.0,\"#0d0887\"],[0.1111111111111111,\"#46039f\"],[0.2222222222222222,\"#7201a8\"],[0.3333333333333333,\"#9c179e\"],[0.4444444444444444,\"#bd3786\"],[0.5555555555555556,\"#d8576b\"],[0.6666666666666666,\"#ed7953\"],[0.7777777777777778,\"#fb9f3a\"],[0.8888888888888888,\"#fdca26\"],[1.0,\"#f0f921\"]],\"diverging\":[[0,\"#8e0152\"],[0.1,\"#c51b7d\"],[0.2,\"#de77ae\"],[0.3,\"#f1b6da\"],[0.4,\"#fde0ef\"],[0.5,\"#f7f7f7\"],[0.6,\"#e6f5d0\"],[0.7,\"#b8e186\"],[0.8,\"#7fbc41\"],[0.9,\"#4d9221\"],[1,\"#276419\"]]},\"xaxis\":{\"gridcolor\":\"white\",\"linecolor\":\"white\",\"ticks\":\"\",\"title\":{\"standoff\":15},\"zerolinecolor\":\"white\",\"automargin\":true,\"zerolinewidth\":2},\"yaxis\":{\"gridcolor\":\"white\",\"linecolor\":\"white\",\"ticks\":\"\",\"title\":{\"standoff\":15},\"zerolinecolor\":\"white\",\"automargin\":true,\"zerolinewidth\":2},\"scene\":{\"xaxis\":{\"backgroundcolor\":\"#E5ECF6\",\"gridcolor\":\"white\",\"linecolor\":\"white\",\"showbackground\":true,\"ticks\":\"\",\"zerolinecolor\":\"white\",\"gridwidth\":2},\"yaxis\":{\"backgroundcolor\":\"#E5ECF6\",\"gridcolor\":\"white\",\"linecolor\":\"white\",\"showbackground\":true,\"ticks\":\"\",\"zerolinecolor\":\"white\",\"gridwidth\":2},\"zaxis\":{\"backgroundcolor\":\"#E5ECF6\",\"gridcolor\":\"white\",\"linecolor\":\"white\",\"showbackground\":true,\"ticks\":\"\",\"zerolinecolor\":\"white\",\"gridwidth\":2}},\"shapedefaults\":{\"line\":{\"color\":\"#2a3f5f\"}},\"annotationdefaults\":{\"arrowcolor\":\"#2a3f5f\",\"arrowhead\":0,\"arrowwidth\":1},\"geo\":{\"bgcolor\":\"white\",\"landcolor\":\"#E5ECF6\",\"subunitcolor\":\"white\",\"showland\":true,\"showlakes\":true,\"lakecolor\":\"white\"},\"title\":{\"x\":0.05},\"mapbox\":{\"style\":\"light\"}}},\"xaxis\":{\"tickangle\":-45},\"title\":{\"text\":\"Comparison of Employee Location and Company Location\",\"x\":0.5},\"font\":{\"size\":17,\"family\":\"Franklin Gothic\"},\"barmode\":\"group\"},                        {\"responsive\": true}                    ).then(function(){\n",
              "                            \n",
              "var gd = document.getElementById('06ca71a7-4fa1-4dc9-b8cf-b6fe86b7dee8');\n",
              "var x = new MutationObserver(function (mutations, observer) {{\n",
              "        var display = window.getComputedStyle(gd).display;\n",
              "        if (!display || display === 'none') {{\n",
              "            console.log([gd, 'removed!']);\n",
              "            Plotly.purge(gd);\n",
              "            observer.disconnect();\n",
              "        }}\n",
              "}});\n",
              "\n",
              "// Listen for the removal of the full notebook cells\n",
              "var notebookContainer = gd.closest('#notebook-container');\n",
              "if (notebookContainer) {{\n",
              "    x.observe(notebookContainer, {childList: true});\n",
              "}}\n",
              "\n",
              "// Listen for the clearing of the current output cell\n",
              "var outputEl = gd.closest('.output');\n",
              "if (outputEl) {{\n",
              "    x.observe(outputEl, {childList: true});\n",
              "}}\n",
              "\n",
              "                        })                };                });            </script>        </div>"
            ]
          },
          "metadata": {}
        }
      ]
    },
    {
      "cell_type": "markdown",
      "source": [
        "As of 2023, most countries have similar number of employee residences and company locations."
      ],
      "metadata": {
        "id": "hIdCA8nurGbD"
      }
    },
    {
      "cell_type": "code",
      "source": [
        "# Data Set distribution w.r.t year\n",
        "wkyear = df['work_year'].value_counts()\n",
        "fig = px.pie(values=wkyear.values,\n",
        "             names=wkyear.index,\n",
        "             title= 'Work year distribution',\n",
        "             color_discrete_sequence=px.colors.sequential.PuBu,)\n",
        "fig.update_traces(textinfo='label+percent+value', textfont_size=18,\n",
        "                  )\n",
        "\n",
        "fig.data[0].marker.line.width = 2\n",
        "fig.data[0].marker.line.color='gray'\n",
        "fig.update_layout(\n",
        "    font=dict(size=20,family=\"Franklin Gothic\"),\n",
        "    title_x=0.5)\n",
        "fig.show()"
      ],
      "metadata": {
        "colab": {
          "base_uri": "https://localhost:8080/",
          "height": 542
        },
        "id": "ZmuSAi6_kw_C",
        "outputId": "bb08ec71-99cf-46e1-af6f-ca61a8493e25"
      },
      "execution_count": 16,
      "outputs": [
        {
          "output_type": "display_data",
          "data": {
            "application/vnd.plotly.v1+json": {
              "data": [
                {
                  "domain": {
                    "x": [
                      0,
                      1
                    ],
                    "y": [
                      0,
                      1
                    ]
                  },
                  "hovertemplate": "label=%{label}<br>value=%{value}<extra></extra>",
                  "labels": [
                    2022,
                    2021,
                    2020
                  ],
                  "legendgroup": "",
                  "name": "",
                  "showlegend": true,
                  "values": [
                    318,
                    217,
                    72
                  ],
                  "type": "pie",
                  "textfont": {
                    "size": 18
                  },
                  "textinfo": "label+percent+value",
                  "marker": {
                    "line": {
                      "width": 2,
                      "color": "gray"
                    }
                  }
                }
              ],
              "layout": {
                "template": {
                  "data": {
                    "histogram2dcontour": [
                      {
                        "type": "histogram2dcontour",
                        "colorbar": {
                          "outlinewidth": 0,
                          "ticks": ""
                        },
                        "colorscale": [
                          [
                            0,
                            "#0d0887"
                          ],
                          [
                            0.1111111111111111,
                            "#46039f"
                          ],
                          [
                            0.2222222222222222,
                            "#7201a8"
                          ],
                          [
                            0.3333333333333333,
                            "#9c179e"
                          ],
                          [
                            0.4444444444444444,
                            "#bd3786"
                          ],
                          [
                            0.5555555555555556,
                            "#d8576b"
                          ],
                          [
                            0.6666666666666666,
                            "#ed7953"
                          ],
                          [
                            0.7777777777777778,
                            "#fb9f3a"
                          ],
                          [
                            0.8888888888888888,
                            "#fdca26"
                          ],
                          [
                            1,
                            "#f0f921"
                          ]
                        ]
                      }
                    ],
                    "choropleth": [
                      {
                        "type": "choropleth",
                        "colorbar": {
                          "outlinewidth": 0,
                          "ticks": ""
                        }
                      }
                    ],
                    "histogram2d": [
                      {
                        "type": "histogram2d",
                        "colorbar": {
                          "outlinewidth": 0,
                          "ticks": ""
                        },
                        "colorscale": [
                          [
                            0,
                            "#0d0887"
                          ],
                          [
                            0.1111111111111111,
                            "#46039f"
                          ],
                          [
                            0.2222222222222222,
                            "#7201a8"
                          ],
                          [
                            0.3333333333333333,
                            "#9c179e"
                          ],
                          [
                            0.4444444444444444,
                            "#bd3786"
                          ],
                          [
                            0.5555555555555556,
                            "#d8576b"
                          ],
                          [
                            0.6666666666666666,
                            "#ed7953"
                          ],
                          [
                            0.7777777777777778,
                            "#fb9f3a"
                          ],
                          [
                            0.8888888888888888,
                            "#fdca26"
                          ],
                          [
                            1,
                            "#f0f921"
                          ]
                        ]
                      }
                    ],
                    "heatmap": [
                      {
                        "type": "heatmap",
                        "colorbar": {
                          "outlinewidth": 0,
                          "ticks": ""
                        },
                        "colorscale": [
                          [
                            0,
                            "#0d0887"
                          ],
                          [
                            0.1111111111111111,
                            "#46039f"
                          ],
                          [
                            0.2222222222222222,
                            "#7201a8"
                          ],
                          [
                            0.3333333333333333,
                            "#9c179e"
                          ],
                          [
                            0.4444444444444444,
                            "#bd3786"
                          ],
                          [
                            0.5555555555555556,
                            "#d8576b"
                          ],
                          [
                            0.6666666666666666,
                            "#ed7953"
                          ],
                          [
                            0.7777777777777778,
                            "#fb9f3a"
                          ],
                          [
                            0.8888888888888888,
                            "#fdca26"
                          ],
                          [
                            1,
                            "#f0f921"
                          ]
                        ]
                      }
                    ],
                    "heatmapgl": [
                      {
                        "type": "heatmapgl",
                        "colorbar": {
                          "outlinewidth": 0,
                          "ticks": ""
                        },
                        "colorscale": [
                          [
                            0,
                            "#0d0887"
                          ],
                          [
                            0.1111111111111111,
                            "#46039f"
                          ],
                          [
                            0.2222222222222222,
                            "#7201a8"
                          ],
                          [
                            0.3333333333333333,
                            "#9c179e"
                          ],
                          [
                            0.4444444444444444,
                            "#bd3786"
                          ],
                          [
                            0.5555555555555556,
                            "#d8576b"
                          ],
                          [
                            0.6666666666666666,
                            "#ed7953"
                          ],
                          [
                            0.7777777777777778,
                            "#fb9f3a"
                          ],
                          [
                            0.8888888888888888,
                            "#fdca26"
                          ],
                          [
                            1,
                            "#f0f921"
                          ]
                        ]
                      }
                    ],
                    "contourcarpet": [
                      {
                        "type": "contourcarpet",
                        "colorbar": {
                          "outlinewidth": 0,
                          "ticks": ""
                        }
                      }
                    ],
                    "contour": [
                      {
                        "type": "contour",
                        "colorbar": {
                          "outlinewidth": 0,
                          "ticks": ""
                        },
                        "colorscale": [
                          [
                            0,
                            "#0d0887"
                          ],
                          [
                            0.1111111111111111,
                            "#46039f"
                          ],
                          [
                            0.2222222222222222,
                            "#7201a8"
                          ],
                          [
                            0.3333333333333333,
                            "#9c179e"
                          ],
                          [
                            0.4444444444444444,
                            "#bd3786"
                          ],
                          [
                            0.5555555555555556,
                            "#d8576b"
                          ],
                          [
                            0.6666666666666666,
                            "#ed7953"
                          ],
                          [
                            0.7777777777777778,
                            "#fb9f3a"
                          ],
                          [
                            0.8888888888888888,
                            "#fdca26"
                          ],
                          [
                            1,
                            "#f0f921"
                          ]
                        ]
                      }
                    ],
                    "surface": [
                      {
                        "type": "surface",
                        "colorbar": {
                          "outlinewidth": 0,
                          "ticks": ""
                        },
                        "colorscale": [
                          [
                            0,
                            "#0d0887"
                          ],
                          [
                            0.1111111111111111,
                            "#46039f"
                          ],
                          [
                            0.2222222222222222,
                            "#7201a8"
                          ],
                          [
                            0.3333333333333333,
                            "#9c179e"
                          ],
                          [
                            0.4444444444444444,
                            "#bd3786"
                          ],
                          [
                            0.5555555555555556,
                            "#d8576b"
                          ],
                          [
                            0.6666666666666666,
                            "#ed7953"
                          ],
                          [
                            0.7777777777777778,
                            "#fb9f3a"
                          ],
                          [
                            0.8888888888888888,
                            "#fdca26"
                          ],
                          [
                            1,
                            "#f0f921"
                          ]
                        ]
                      }
                    ],
                    "mesh3d": [
                      {
                        "type": "mesh3d",
                        "colorbar": {
                          "outlinewidth": 0,
                          "ticks": ""
                        }
                      }
                    ],
                    "scatter": [
                      {
                        "fillpattern": {
                          "fillmode": "overlay",
                          "size": 10,
                          "solidity": 0.2
                        },
                        "type": "scatter"
                      }
                    ],
                    "parcoords": [
                      {
                        "type": "parcoords",
                        "line": {
                          "colorbar": {
                            "outlinewidth": 0,
                            "ticks": ""
                          }
                        }
                      }
                    ],
                    "scatterpolargl": [
                      {
                        "type": "scatterpolargl",
                        "marker": {
                          "colorbar": {
                            "outlinewidth": 0,
                            "ticks": ""
                          }
                        }
                      }
                    ],
                    "bar": [
                      {
                        "error_x": {
                          "color": "#2a3f5f"
                        },
                        "error_y": {
                          "color": "#2a3f5f"
                        },
                        "marker": {
                          "line": {
                            "color": "#E5ECF6",
                            "width": 0.5
                          },
                          "pattern": {
                            "fillmode": "overlay",
                            "size": 10,
                            "solidity": 0.2
                          }
                        },
                        "type": "bar"
                      }
                    ],
                    "scattergeo": [
                      {
                        "type": "scattergeo",
                        "marker": {
                          "colorbar": {
                            "outlinewidth": 0,
                            "ticks": ""
                          }
                        }
                      }
                    ],
                    "scatterpolar": [
                      {
                        "type": "scatterpolar",
                        "marker": {
                          "colorbar": {
                            "outlinewidth": 0,
                            "ticks": ""
                          }
                        }
                      }
                    ],
                    "histogram": [
                      {
                        "marker": {
                          "pattern": {
                            "fillmode": "overlay",
                            "size": 10,
                            "solidity": 0.2
                          }
                        },
                        "type": "histogram"
                      }
                    ],
                    "scattergl": [
                      {
                        "type": "scattergl",
                        "marker": {
                          "colorbar": {
                            "outlinewidth": 0,
                            "ticks": ""
                          }
                        }
                      }
                    ],
                    "scatter3d": [
                      {
                        "type": "scatter3d",
                        "line": {
                          "colorbar": {
                            "outlinewidth": 0,
                            "ticks": ""
                          }
                        },
                        "marker": {
                          "colorbar": {
                            "outlinewidth": 0,
                            "ticks": ""
                          }
                        }
                      }
                    ],
                    "scattermapbox": [
                      {
                        "type": "scattermapbox",
                        "marker": {
                          "colorbar": {
                            "outlinewidth": 0,
                            "ticks": ""
                          }
                        }
                      }
                    ],
                    "scatterternary": [
                      {
                        "type": "scatterternary",
                        "marker": {
                          "colorbar": {
                            "outlinewidth": 0,
                            "ticks": ""
                          }
                        }
                      }
                    ],
                    "scattercarpet": [
                      {
                        "type": "scattercarpet",
                        "marker": {
                          "colorbar": {
                            "outlinewidth": 0,
                            "ticks": ""
                          }
                        }
                      }
                    ],
                    "carpet": [
                      {
                        "aaxis": {
                          "endlinecolor": "#2a3f5f",
                          "gridcolor": "white",
                          "linecolor": "white",
                          "minorgridcolor": "white",
                          "startlinecolor": "#2a3f5f"
                        },
                        "baxis": {
                          "endlinecolor": "#2a3f5f",
                          "gridcolor": "white",
                          "linecolor": "white",
                          "minorgridcolor": "white",
                          "startlinecolor": "#2a3f5f"
                        },
                        "type": "carpet"
                      }
                    ],
                    "table": [
                      {
                        "cells": {
                          "fill": {
                            "color": "#EBF0F8"
                          },
                          "line": {
                            "color": "white"
                          }
                        },
                        "header": {
                          "fill": {
                            "color": "#C8D4E3"
                          },
                          "line": {
                            "color": "white"
                          }
                        },
                        "type": "table"
                      }
                    ],
                    "barpolar": [
                      {
                        "marker": {
                          "line": {
                            "color": "#E5ECF6",
                            "width": 0.5
                          },
                          "pattern": {
                            "fillmode": "overlay",
                            "size": 10,
                            "solidity": 0.2
                          }
                        },
                        "type": "barpolar"
                      }
                    ],
                    "pie": [
                      {
                        "automargin": true,
                        "type": "pie"
                      }
                    ]
                  },
                  "layout": {
                    "autotypenumbers": "strict",
                    "colorway": [
                      "#636efa",
                      "#EF553B",
                      "#00cc96",
                      "#ab63fa",
                      "#FFA15A",
                      "#19d3f3",
                      "#FF6692",
                      "#B6E880",
                      "#FF97FF",
                      "#FECB52"
                    ],
                    "font": {
                      "color": "#2a3f5f"
                    },
                    "hovermode": "closest",
                    "hoverlabel": {
                      "align": "left"
                    },
                    "paper_bgcolor": "white",
                    "plot_bgcolor": "#E5ECF6",
                    "polar": {
                      "bgcolor": "#E5ECF6",
                      "angularaxis": {
                        "gridcolor": "white",
                        "linecolor": "white",
                        "ticks": ""
                      },
                      "radialaxis": {
                        "gridcolor": "white",
                        "linecolor": "white",
                        "ticks": ""
                      }
                    },
                    "ternary": {
                      "bgcolor": "#E5ECF6",
                      "aaxis": {
                        "gridcolor": "white",
                        "linecolor": "white",
                        "ticks": ""
                      },
                      "baxis": {
                        "gridcolor": "white",
                        "linecolor": "white",
                        "ticks": ""
                      },
                      "caxis": {
                        "gridcolor": "white",
                        "linecolor": "white",
                        "ticks": ""
                      }
                    },
                    "coloraxis": {
                      "colorbar": {
                        "outlinewidth": 0,
                        "ticks": ""
                      }
                    },
                    "colorscale": {
                      "sequential": [
                        [
                          0,
                          "#0d0887"
                        ],
                        [
                          0.1111111111111111,
                          "#46039f"
                        ],
                        [
                          0.2222222222222222,
                          "#7201a8"
                        ],
                        [
                          0.3333333333333333,
                          "#9c179e"
                        ],
                        [
                          0.4444444444444444,
                          "#bd3786"
                        ],
                        [
                          0.5555555555555556,
                          "#d8576b"
                        ],
                        [
                          0.6666666666666666,
                          "#ed7953"
                        ],
                        [
                          0.7777777777777778,
                          "#fb9f3a"
                        ],
                        [
                          0.8888888888888888,
                          "#fdca26"
                        ],
                        [
                          1,
                          "#f0f921"
                        ]
                      ],
                      "sequentialminus": [
                        [
                          0,
                          "#0d0887"
                        ],
                        [
                          0.1111111111111111,
                          "#46039f"
                        ],
                        [
                          0.2222222222222222,
                          "#7201a8"
                        ],
                        [
                          0.3333333333333333,
                          "#9c179e"
                        ],
                        [
                          0.4444444444444444,
                          "#bd3786"
                        ],
                        [
                          0.5555555555555556,
                          "#d8576b"
                        ],
                        [
                          0.6666666666666666,
                          "#ed7953"
                        ],
                        [
                          0.7777777777777778,
                          "#fb9f3a"
                        ],
                        [
                          0.8888888888888888,
                          "#fdca26"
                        ],
                        [
                          1,
                          "#f0f921"
                        ]
                      ],
                      "diverging": [
                        [
                          0,
                          "#8e0152"
                        ],
                        [
                          0.1,
                          "#c51b7d"
                        ],
                        [
                          0.2,
                          "#de77ae"
                        ],
                        [
                          0.3,
                          "#f1b6da"
                        ],
                        [
                          0.4,
                          "#fde0ef"
                        ],
                        [
                          0.5,
                          "#f7f7f7"
                        ],
                        [
                          0.6,
                          "#e6f5d0"
                        ],
                        [
                          0.7,
                          "#b8e186"
                        ],
                        [
                          0.8,
                          "#7fbc41"
                        ],
                        [
                          0.9,
                          "#4d9221"
                        ],
                        [
                          1,
                          "#276419"
                        ]
                      ]
                    },
                    "xaxis": {
                      "gridcolor": "white",
                      "linecolor": "white",
                      "ticks": "",
                      "title": {
                        "standoff": 15
                      },
                      "zerolinecolor": "white",
                      "automargin": true,
                      "zerolinewidth": 2
                    },
                    "yaxis": {
                      "gridcolor": "white",
                      "linecolor": "white",
                      "ticks": "",
                      "title": {
                        "standoff": 15
                      },
                      "zerolinecolor": "white",
                      "automargin": true,
                      "zerolinewidth": 2
                    },
                    "scene": {
                      "xaxis": {
                        "backgroundcolor": "#E5ECF6",
                        "gridcolor": "white",
                        "linecolor": "white",
                        "showbackground": true,
                        "ticks": "",
                        "zerolinecolor": "white",
                        "gridwidth": 2
                      },
                      "yaxis": {
                        "backgroundcolor": "#E5ECF6",
                        "gridcolor": "white",
                        "linecolor": "white",
                        "showbackground": true,
                        "ticks": "",
                        "zerolinecolor": "white",
                        "gridwidth": 2
                      },
                      "zaxis": {
                        "backgroundcolor": "#E5ECF6",
                        "gridcolor": "white",
                        "linecolor": "white",
                        "showbackground": true,
                        "ticks": "",
                        "zerolinecolor": "white",
                        "gridwidth": 2
                      }
                    },
                    "shapedefaults": {
                      "line": {
                        "color": "#2a3f5f"
                      }
                    },
                    "annotationdefaults": {
                      "arrowcolor": "#2a3f5f",
                      "arrowhead": 0,
                      "arrowwidth": 1
                    },
                    "geo": {
                      "bgcolor": "white",
                      "landcolor": "#E5ECF6",
                      "subunitcolor": "white",
                      "showland": true,
                      "showlakes": true,
                      "lakecolor": "white"
                    },
                    "title": {
                      "x": 0.05
                    },
                    "mapbox": {
                      "style": "light"
                    }
                  }
                },
                "legend": {
                  "tracegroupgap": 0
                },
                "title": {
                  "text": "Work year distribution",
                  "x": 0.5
                },
                "piecolorway": [
                  "rgb(255,247,251)",
                  "rgb(236,231,242)",
                  "rgb(208,209,230)",
                  "rgb(166,189,219)",
                  "rgb(116,169,207)",
                  "rgb(54,144,192)",
                  "rgb(5,112,176)",
                  "rgb(4,90,141)",
                  "rgb(2,56,88)"
                ],
                "font": {
                  "size": 20,
                  "family": "Franklin Gothic"
                }
              },
              "config": {
                "plotlyServerURL": "https://plot.ly"
              }
            },
            "text/html": [
              "<div>                            <div id=\"2edd6baf-b662-417e-a62e-97b4d0eb995b\" class=\"plotly-graph-div\" style=\"height:525px; width:100%;\"></div>            <script type=\"text/javascript\">                require([\"plotly\"], function(Plotly) {                    window.PLOTLYENV=window.PLOTLYENV || {};                                    if (document.getElementById(\"2edd6baf-b662-417e-a62e-97b4d0eb995b\")) {                    Plotly.newPlot(                        \"2edd6baf-b662-417e-a62e-97b4d0eb995b\",                        [{\"domain\":{\"x\":[0.0,1.0],\"y\":[0.0,1.0]},\"hovertemplate\":\"label=%{label}<br>value=%{value}<extra></extra>\",\"labels\":[2022,2021,2020],\"legendgroup\":\"\",\"name\":\"\",\"showlegend\":true,\"values\":[318,217,72],\"type\":\"pie\",\"textfont\":{\"size\":18},\"textinfo\":\"label+percent+value\",\"marker\":{\"line\":{\"width\":2,\"color\":\"gray\"}}}],                        {\"template\":{\"data\":{\"histogram2dcontour\":[{\"type\":\"histogram2dcontour\",\"colorbar\":{\"outlinewidth\":0,\"ticks\":\"\"},\"colorscale\":[[0.0,\"#0d0887\"],[0.1111111111111111,\"#46039f\"],[0.2222222222222222,\"#7201a8\"],[0.3333333333333333,\"#9c179e\"],[0.4444444444444444,\"#bd3786\"],[0.5555555555555556,\"#d8576b\"],[0.6666666666666666,\"#ed7953\"],[0.7777777777777778,\"#fb9f3a\"],[0.8888888888888888,\"#fdca26\"],[1.0,\"#f0f921\"]]}],\"choropleth\":[{\"type\":\"choropleth\",\"colorbar\":{\"outlinewidth\":0,\"ticks\":\"\"}}],\"histogram2d\":[{\"type\":\"histogram2d\",\"colorbar\":{\"outlinewidth\":0,\"ticks\":\"\"},\"colorscale\":[[0.0,\"#0d0887\"],[0.1111111111111111,\"#46039f\"],[0.2222222222222222,\"#7201a8\"],[0.3333333333333333,\"#9c179e\"],[0.4444444444444444,\"#bd3786\"],[0.5555555555555556,\"#d8576b\"],[0.6666666666666666,\"#ed7953\"],[0.7777777777777778,\"#fb9f3a\"],[0.8888888888888888,\"#fdca26\"],[1.0,\"#f0f921\"]]}],\"heatmap\":[{\"type\":\"heatmap\",\"colorbar\":{\"outlinewidth\":0,\"ticks\":\"\"},\"colorscale\":[[0.0,\"#0d0887\"],[0.1111111111111111,\"#46039f\"],[0.2222222222222222,\"#7201a8\"],[0.3333333333333333,\"#9c179e\"],[0.4444444444444444,\"#bd3786\"],[0.5555555555555556,\"#d8576b\"],[0.6666666666666666,\"#ed7953\"],[0.7777777777777778,\"#fb9f3a\"],[0.8888888888888888,\"#fdca26\"],[1.0,\"#f0f921\"]]}],\"heatmapgl\":[{\"type\":\"heatmapgl\",\"colorbar\":{\"outlinewidth\":0,\"ticks\":\"\"},\"colorscale\":[[0.0,\"#0d0887\"],[0.1111111111111111,\"#46039f\"],[0.2222222222222222,\"#7201a8\"],[0.3333333333333333,\"#9c179e\"],[0.4444444444444444,\"#bd3786\"],[0.5555555555555556,\"#d8576b\"],[0.6666666666666666,\"#ed7953\"],[0.7777777777777778,\"#fb9f3a\"],[0.8888888888888888,\"#fdca26\"],[1.0,\"#f0f921\"]]}],\"contourcarpet\":[{\"type\":\"contourcarpet\",\"colorbar\":{\"outlinewidth\":0,\"ticks\":\"\"}}],\"contour\":[{\"type\":\"contour\",\"colorbar\":{\"outlinewidth\":0,\"ticks\":\"\"},\"colorscale\":[[0.0,\"#0d0887\"],[0.1111111111111111,\"#46039f\"],[0.2222222222222222,\"#7201a8\"],[0.3333333333333333,\"#9c179e\"],[0.4444444444444444,\"#bd3786\"],[0.5555555555555556,\"#d8576b\"],[0.6666666666666666,\"#ed7953\"],[0.7777777777777778,\"#fb9f3a\"],[0.8888888888888888,\"#fdca26\"],[1.0,\"#f0f921\"]]}],\"surface\":[{\"type\":\"surface\",\"colorbar\":{\"outlinewidth\":0,\"ticks\":\"\"},\"colorscale\":[[0.0,\"#0d0887\"],[0.1111111111111111,\"#46039f\"],[0.2222222222222222,\"#7201a8\"],[0.3333333333333333,\"#9c179e\"],[0.4444444444444444,\"#bd3786\"],[0.5555555555555556,\"#d8576b\"],[0.6666666666666666,\"#ed7953\"],[0.7777777777777778,\"#fb9f3a\"],[0.8888888888888888,\"#fdca26\"],[1.0,\"#f0f921\"]]}],\"mesh3d\":[{\"type\":\"mesh3d\",\"colorbar\":{\"outlinewidth\":0,\"ticks\":\"\"}}],\"scatter\":[{\"fillpattern\":{\"fillmode\":\"overlay\",\"size\":10,\"solidity\":0.2},\"type\":\"scatter\"}],\"parcoords\":[{\"type\":\"parcoords\",\"line\":{\"colorbar\":{\"outlinewidth\":0,\"ticks\":\"\"}}}],\"scatterpolargl\":[{\"type\":\"scatterpolargl\",\"marker\":{\"colorbar\":{\"outlinewidth\":0,\"ticks\":\"\"}}}],\"bar\":[{\"error_x\":{\"color\":\"#2a3f5f\"},\"error_y\":{\"color\":\"#2a3f5f\"},\"marker\":{\"line\":{\"color\":\"#E5ECF6\",\"width\":0.5},\"pattern\":{\"fillmode\":\"overlay\",\"size\":10,\"solidity\":0.2}},\"type\":\"bar\"}],\"scattergeo\":[{\"type\":\"scattergeo\",\"marker\":{\"colorbar\":{\"outlinewidth\":0,\"ticks\":\"\"}}}],\"scatterpolar\":[{\"type\":\"scatterpolar\",\"marker\":{\"colorbar\":{\"outlinewidth\":0,\"ticks\":\"\"}}}],\"histogram\":[{\"marker\":{\"pattern\":{\"fillmode\":\"overlay\",\"size\":10,\"solidity\":0.2}},\"type\":\"histogram\"}],\"scattergl\":[{\"type\":\"scattergl\",\"marker\":{\"colorbar\":{\"outlinewidth\":0,\"ticks\":\"\"}}}],\"scatter3d\":[{\"type\":\"scatter3d\",\"line\":{\"colorbar\":{\"outlinewidth\":0,\"ticks\":\"\"}},\"marker\":{\"colorbar\":{\"outlinewidth\":0,\"ticks\":\"\"}}}],\"scattermapbox\":[{\"type\":\"scattermapbox\",\"marker\":{\"colorbar\":{\"outlinewidth\":0,\"ticks\":\"\"}}}],\"scatterternary\":[{\"type\":\"scatterternary\",\"marker\":{\"colorbar\":{\"outlinewidth\":0,\"ticks\":\"\"}}}],\"scattercarpet\":[{\"type\":\"scattercarpet\",\"marker\":{\"colorbar\":{\"outlinewidth\":0,\"ticks\":\"\"}}}],\"carpet\":[{\"aaxis\":{\"endlinecolor\":\"#2a3f5f\",\"gridcolor\":\"white\",\"linecolor\":\"white\",\"minorgridcolor\":\"white\",\"startlinecolor\":\"#2a3f5f\"},\"baxis\":{\"endlinecolor\":\"#2a3f5f\",\"gridcolor\":\"white\",\"linecolor\":\"white\",\"minorgridcolor\":\"white\",\"startlinecolor\":\"#2a3f5f\"},\"type\":\"carpet\"}],\"table\":[{\"cells\":{\"fill\":{\"color\":\"#EBF0F8\"},\"line\":{\"color\":\"white\"}},\"header\":{\"fill\":{\"color\":\"#C8D4E3\"},\"line\":{\"color\":\"white\"}},\"type\":\"table\"}],\"barpolar\":[{\"marker\":{\"line\":{\"color\":\"#E5ECF6\",\"width\":0.5},\"pattern\":{\"fillmode\":\"overlay\",\"size\":10,\"solidity\":0.2}},\"type\":\"barpolar\"}],\"pie\":[{\"automargin\":true,\"type\":\"pie\"}]},\"layout\":{\"autotypenumbers\":\"strict\",\"colorway\":[\"#636efa\",\"#EF553B\",\"#00cc96\",\"#ab63fa\",\"#FFA15A\",\"#19d3f3\",\"#FF6692\",\"#B6E880\",\"#FF97FF\",\"#FECB52\"],\"font\":{\"color\":\"#2a3f5f\"},\"hovermode\":\"closest\",\"hoverlabel\":{\"align\":\"left\"},\"paper_bgcolor\":\"white\",\"plot_bgcolor\":\"#E5ECF6\",\"polar\":{\"bgcolor\":\"#E5ECF6\",\"angularaxis\":{\"gridcolor\":\"white\",\"linecolor\":\"white\",\"ticks\":\"\"},\"radialaxis\":{\"gridcolor\":\"white\",\"linecolor\":\"white\",\"ticks\":\"\"}},\"ternary\":{\"bgcolor\":\"#E5ECF6\",\"aaxis\":{\"gridcolor\":\"white\",\"linecolor\":\"white\",\"ticks\":\"\"},\"baxis\":{\"gridcolor\":\"white\",\"linecolor\":\"white\",\"ticks\":\"\"},\"caxis\":{\"gridcolor\":\"white\",\"linecolor\":\"white\",\"ticks\":\"\"}},\"coloraxis\":{\"colorbar\":{\"outlinewidth\":0,\"ticks\":\"\"}},\"colorscale\":{\"sequential\":[[0.0,\"#0d0887\"],[0.1111111111111111,\"#46039f\"],[0.2222222222222222,\"#7201a8\"],[0.3333333333333333,\"#9c179e\"],[0.4444444444444444,\"#bd3786\"],[0.5555555555555556,\"#d8576b\"],[0.6666666666666666,\"#ed7953\"],[0.7777777777777778,\"#fb9f3a\"],[0.8888888888888888,\"#fdca26\"],[1.0,\"#f0f921\"]],\"sequentialminus\":[[0.0,\"#0d0887\"],[0.1111111111111111,\"#46039f\"],[0.2222222222222222,\"#7201a8\"],[0.3333333333333333,\"#9c179e\"],[0.4444444444444444,\"#bd3786\"],[0.5555555555555556,\"#d8576b\"],[0.6666666666666666,\"#ed7953\"],[0.7777777777777778,\"#fb9f3a\"],[0.8888888888888888,\"#fdca26\"],[1.0,\"#f0f921\"]],\"diverging\":[[0,\"#8e0152\"],[0.1,\"#c51b7d\"],[0.2,\"#de77ae\"],[0.3,\"#f1b6da\"],[0.4,\"#fde0ef\"],[0.5,\"#f7f7f7\"],[0.6,\"#e6f5d0\"],[0.7,\"#b8e186\"],[0.8,\"#7fbc41\"],[0.9,\"#4d9221\"],[1,\"#276419\"]]},\"xaxis\":{\"gridcolor\":\"white\",\"linecolor\":\"white\",\"ticks\":\"\",\"title\":{\"standoff\":15},\"zerolinecolor\":\"white\",\"automargin\":true,\"zerolinewidth\":2},\"yaxis\":{\"gridcolor\":\"white\",\"linecolor\":\"white\",\"ticks\":\"\",\"title\":{\"standoff\":15},\"zerolinecolor\":\"white\",\"automargin\":true,\"zerolinewidth\":2},\"scene\":{\"xaxis\":{\"backgroundcolor\":\"#E5ECF6\",\"gridcolor\":\"white\",\"linecolor\":\"white\",\"showbackground\":true,\"ticks\":\"\",\"zerolinecolor\":\"white\",\"gridwidth\":2},\"yaxis\":{\"backgroundcolor\":\"#E5ECF6\",\"gridcolor\":\"white\",\"linecolor\":\"white\",\"showbackground\":true,\"ticks\":\"\",\"zerolinecolor\":\"white\",\"gridwidth\":2},\"zaxis\":{\"backgroundcolor\":\"#E5ECF6\",\"gridcolor\":\"white\",\"linecolor\":\"white\",\"showbackground\":true,\"ticks\":\"\",\"zerolinecolor\":\"white\",\"gridwidth\":2}},\"shapedefaults\":{\"line\":{\"color\":\"#2a3f5f\"}},\"annotationdefaults\":{\"arrowcolor\":\"#2a3f5f\",\"arrowhead\":0,\"arrowwidth\":1},\"geo\":{\"bgcolor\":\"white\",\"landcolor\":\"#E5ECF6\",\"subunitcolor\":\"white\",\"showland\":true,\"showlakes\":true,\"lakecolor\":\"white\"},\"title\":{\"x\":0.05},\"mapbox\":{\"style\":\"light\"}}},\"legend\":{\"tracegroupgap\":0},\"title\":{\"text\":\"Work year distribution\",\"x\":0.5},\"piecolorway\":[\"rgb(255,247,251)\",\"rgb(236,231,242)\",\"rgb(208,209,230)\",\"rgb(166,189,219)\",\"rgb(116,169,207)\",\"rgb(54,144,192)\",\"rgb(5,112,176)\",\"rgb(4,90,141)\",\"rgb(2,56,88)\"],\"font\":{\"size\":20,\"family\":\"Franklin Gothic\"}},                        {\"responsive\": true}                    ).then(function(){\n",
              "                            \n",
              "var gd = document.getElementById('2edd6baf-b662-417e-a62e-97b4d0eb995b');\n",
              "var x = new MutationObserver(function (mutations, observer) {{\n",
              "        var display = window.getComputedStyle(gd).display;\n",
              "        if (!display || display === 'none') {{\n",
              "            console.log([gd, 'removed!']);\n",
              "            Plotly.purge(gd);\n",
              "            observer.disconnect();\n",
              "        }}\n",
              "}});\n",
              "\n",
              "// Listen for the removal of the full notebook cells\n",
              "var notebookContainer = gd.closest('#notebook-container');\n",
              "if (notebookContainer) {{\n",
              "    x.observe(notebookContainer, {childList: true});\n",
              "}}\n",
              "\n",
              "// Listen for the clearing of the current output cell\n",
              "var outputEl = gd.closest('.output');\n",
              "if (outputEl) {{\n",
              "    x.observe(outputEl, {childList: true});\n",
              "}}\n",
              "\n",
              "                        })                };                });            </script>        </div>"
            ]
          },
          "metadata": {}
        }
      ]
    },
    {
      "cell_type": "code",
      "source": [
        "# DistPlot of Salaries\n",
        "hist_data = [df['salary_in_usd']]\n",
        "group_labels = ['salary']\n",
        "fig2 = ff.create_distplot(hist_data, group_labels, show_hist=False)\n",
        "fig2.layout.template = 'plotly_dark'\n",
        "fig2.update_layout(title='Salary in USD', font = dict(size=17, family=\"Franklin Gothic\"),title_x=0.5)\n",
        "fig2.show()"
      ],
      "metadata": {
        "colab": {
          "base_uri": "https://localhost:8080/",
          "height": 542
        },
        "id": "AuvmN21ylXrD",
        "outputId": "eb1dfacd-dee4-443a-c058-7232c678660b"
      },
      "execution_count": 17,
      "outputs": [
        {
          "output_type": "display_data",
          "data": {
            "application/vnd.plotly.v1+json": {
              "data": [
                {
                  "legendgroup": "salary",
                  "marker": {
                    "color": "rgb(31, 119, 180)"
                  },
                  "mode": "lines",
                  "name": "salary",
                  "showlegend": true,
                  "x": [
                    2859,
                    4053.282,
                    5247.564,
                    6441.846,
                    7636.128,
                    8830.41,
                    10024.692,
                    11218.974,
                    12413.256,
                    13607.538,
                    14801.82,
                    15996.102,
                    17190.384,
                    18384.665999999997,
                    19578.948,
                    20773.23,
                    21967.512,
                    23161.794,
                    24356.076,
                    25550.358,
                    26744.64,
                    27938.922,
                    29133.204,
                    30327.486,
                    31521.768,
                    32716.05,
                    33910.331999999995,
                    35104.614,
                    36298.896,
                    37493.178,
                    38687.46,
                    39881.742,
                    41076.024,
                    42270.306,
                    43464.588,
                    44658.87,
                    45853.152,
                    47047.434,
                    48241.716,
                    49435.998,
                    50630.28,
                    51824.562,
                    53018.844,
                    54213.126,
                    55407.408,
                    56601.69,
                    57795.972,
                    58990.254,
                    60184.536,
                    61378.818,
                    62573.1,
                    63767.382,
                    64961.664,
                    66155.946,
                    67350.228,
                    68544.51,
                    69738.792,
                    70933.074,
                    72127.356,
                    73321.638,
                    74515.92,
                    75710.202,
                    76904.484,
                    78098.766,
                    79293.048,
                    80487.33,
                    81681.612,
                    82875.894,
                    84070.176,
                    85264.458,
                    86458.74,
                    87653.022,
                    88847.304,
                    90041.586,
                    91235.868,
                    92430.15,
                    93624.432,
                    94818.714,
                    96012.996,
                    97207.278,
                    98401.56,
                    99595.842,
                    100790.124,
                    101984.406,
                    103178.688,
                    104372.97,
                    105567.252,
                    106761.534,
                    107955.816,
                    109150.098,
                    110344.38,
                    111538.662,
                    112732.944,
                    113927.226,
                    115121.508,
                    116315.79,
                    117510.072,
                    118704.354,
                    119898.636,
                    121092.918,
                    122287.2,
                    123481.482,
                    124675.764,
                    125870.046,
                    127064.328,
                    128258.61,
                    129452.892,
                    130647.174,
                    131841.456,
                    133035.738,
                    134230.02,
                    135424.302,
                    136618.584,
                    137812.866,
                    139007.148,
                    140201.43,
                    141395.712,
                    142589.994,
                    143784.276,
                    144978.558,
                    146172.84,
                    147367.122,
                    148561.404,
                    149755.686,
                    150949.968,
                    152144.25,
                    153338.532,
                    154532.814,
                    155727.096,
                    156921.378,
                    158115.66,
                    159309.942,
                    160504.224,
                    161698.506,
                    162892.788,
                    164087.07,
                    165281.352,
                    166475.634,
                    167669.916,
                    168864.198,
                    170058.48,
                    171252.762,
                    172447.044,
                    173641.326,
                    174835.608,
                    176029.89,
                    177224.172,
                    178418.454,
                    179612.736,
                    180807.018,
                    182001.3,
                    183195.582,
                    184389.864,
                    185584.146,
                    186778.428,
                    187972.71,
                    189166.992,
                    190361.274,
                    191555.556,
                    192749.838,
                    193944.12,
                    195138.402,
                    196332.684,
                    197526.966,
                    198721.248,
                    199915.53,
                    201109.812,
                    202304.094,
                    203498.376,
                    204692.658,
                    205886.94,
                    207081.222,
                    208275.504,
                    209469.786,
                    210664.068,
                    211858.35,
                    213052.632,
                    214246.914,
                    215441.196,
                    216635.478,
                    217829.76,
                    219024.042,
                    220218.324,
                    221412.606,
                    222606.888,
                    223801.17,
                    224995.452,
                    226189.734,
                    227384.016,
                    228578.298,
                    229772.58,
                    230966.862,
                    232161.144,
                    233355.426,
                    234549.708,
                    235743.99,
                    236938.272,
                    238132.554,
                    239326.836,
                    240521.118,
                    241715.4,
                    242909.682,
                    244103.964,
                    245298.246,
                    246492.528,
                    247686.81,
                    248881.092,
                    250075.374,
                    251269.656,
                    252463.938,
                    253658.22,
                    254852.502,
                    256046.784,
                    257241.066,
                    258435.348,
                    259629.63,
                    260823.912,
                    262018.194,
                    263212.476,
                    264406.75800000003,
                    265601.04,
                    266795.322,
                    267989.604,
                    269183.886,
                    270378.168,
                    271572.45,
                    272766.732,
                    273961.014,
                    275155.296,
                    276349.578,
                    277543.86,
                    278738.142,
                    279932.424,
                    281126.706,
                    282320.988,
                    283515.27,
                    284709.552,
                    285903.834,
                    287098.116,
                    288292.398,
                    289486.68,
                    290680.962,
                    291875.244,
                    293069.526,
                    294263.808,
                    295458.09,
                    296652.372,
                    297846.654,
                    299040.936,
                    300235.218,
                    301429.5,
                    302623.782,
                    303818.064,
                    305012.346,
                    306206.628,
                    307400.91,
                    308595.192,
                    309789.474,
                    310983.756,
                    312178.038,
                    313372.32,
                    314566.602,
                    315760.884,
                    316955.166,
                    318149.448,
                    319343.73,
                    320538.012,
                    321732.294,
                    322926.576,
                    324120.858,
                    325315.14,
                    326509.422,
                    327703.704,
                    328897.986,
                    330092.268,
                    331286.55,
                    332480.832,
                    333675.114,
                    334869.396,
                    336063.678,
                    337257.96,
                    338452.242,
                    339646.524,
                    340840.806,
                    342035.088,
                    343229.37,
                    344423.652,
                    345617.934,
                    346812.216,
                    348006.498,
                    349200.78,
                    350395.062,
                    351589.344,
                    352783.626,
                    353977.908,
                    355172.19,
                    356366.472,
                    357560.754,
                    358755.036,
                    359949.318,
                    361143.6,
                    362337.882,
                    363532.164,
                    364726.446,
                    365920.728,
                    367115.01,
                    368309.292,
                    369503.574,
                    370697.856,
                    371892.138,
                    373086.42,
                    374280.702,
                    375474.984,
                    376669.266,
                    377863.548,
                    379057.83,
                    380252.112,
                    381446.394,
                    382640.676,
                    383834.958,
                    385029.24,
                    386223.522,
                    387417.804,
                    388612.086,
                    389806.368,
                    391000.65,
                    392194.932,
                    393389.214,
                    394583.496,
                    395777.778,
                    396972.06,
                    398166.342,
                    399360.624,
                    400554.906,
                    401749.188,
                    402943.47,
                    404137.752,
                    405332.034,
                    406526.316,
                    407720.598,
                    408914.88,
                    410109.162,
                    411303.444,
                    412497.726,
                    413692.008,
                    414886.29,
                    416080.572,
                    417274.854,
                    418469.136,
                    419663.418,
                    420857.7,
                    422051.982,
                    423246.264,
                    424440.546,
                    425634.828,
                    426829.11,
                    428023.392,
                    429217.674,
                    430411.956,
                    431606.238,
                    432800.52,
                    433994.802,
                    435189.084,
                    436383.366,
                    437577.648,
                    438771.93,
                    439966.212,
                    441160.494,
                    442354.776,
                    443549.058,
                    444743.34,
                    445937.622,
                    447131.904,
                    448326.186,
                    449520.468,
                    450714.75,
                    451909.032,
                    453103.314,
                    454297.596,
                    455491.878,
                    456686.16,
                    457880.442,
                    459074.724,
                    460269.006,
                    461463.288,
                    462657.57,
                    463851.852,
                    465046.134,
                    466240.416,
                    467434.698,
                    468628.98,
                    469823.262,
                    471017.544,
                    472211.826,
                    473406.108,
                    474600.39,
                    475794.672,
                    476988.954,
                    478183.236,
                    479377.518,
                    480571.8,
                    481766.082,
                    482960.364,
                    484154.646,
                    485348.928,
                    486543.21,
                    487737.492,
                    488931.774,
                    490126.056,
                    491320.338,
                    492514.62,
                    493708.902,
                    494903.184,
                    496097.466,
                    497291.748,
                    498486.03,
                    499680.312,
                    500874.594,
                    502068.876,
                    503263.158,
                    504457.44,
                    505651.722,
                    506846.004,
                    508040.286,
                    509234.568,
                    510428.85,
                    511623.132,
                    512817.414,
                    514011.696,
                    515205.978,
                    516400.26,
                    517594.542,
                    518788.824,
                    519983.106,
                    521177.388,
                    522371.67,
                    523565.952,
                    524760.2339999999,
                    525954.5160000001,
                    527148.798,
                    528343.08,
                    529537.362,
                    530731.644,
                    531925.926,
                    533120.208,
                    534314.49,
                    535508.772,
                    536703.054,
                    537897.336,
                    539091.618,
                    540285.9,
                    541480.182,
                    542674.464,
                    543868.746,
                    545063.028,
                    546257.31,
                    547451.592,
                    548645.874,
                    549840.156,
                    551034.438,
                    552228.72,
                    553423.002,
                    554617.284,
                    555811.566,
                    557005.848,
                    558200.13,
                    559394.412,
                    560588.694,
                    561782.976,
                    562977.258,
                    564171.54,
                    565365.822,
                    566560.104,
                    567754.386,
                    568948.668,
                    570142.95,
                    571337.232,
                    572531.514,
                    573725.796,
                    574920.078,
                    576114.36,
                    577308.642,
                    578502.924,
                    579697.206,
                    580891.488,
                    582085.77,
                    583280.052,
                    584474.334,
                    585668.616,
                    586862.898,
                    588057.18,
                    589251.462,
                    590445.744,
                    591640.026,
                    592834.308,
                    594028.59,
                    595222.872,
                    596417.154,
                    597611.436,
                    598805.718
                  ],
                  "xaxis": "x",
                  "y": [
                    0.0000016652175075872865,
                    0.000001754184263578623,
                    0.0000018441714940714942,
                    0.00000193498368980231,
                    0.000002026431725588345,
                    0.0000021183352064481703,
                    0.00000221052458188642,
                    0.000002302842978393969,
                    0.0000023951477071038197,
                    0.0000024873114117867673,
                    0.0000025792228317387535,
                    0.0000026707871643319377,
                    0.0000027619260227690148,
                    0.0000028525769955663043,
                    0.000002942692825155125,
                    0.00000303224023339142,
                    0.000003121198431372171,
                    0.000003209557359466733,
                    0.000003297315710611087,
                    0.000003384478795455408,
                    0.00000347105631172582,
                    0.0000035570600820429967,
                    0.0000036425018243813725,
                    0.0000037273910173643635,
                    0.0000038117329187503637,
                    0.000003895526789908547,
                    0.0000039787643720091664,
                    0.000004061428651301105,
                    0.00000414349294150752,
                    0.000004224920301349489,
                    0.000004305663294842193,
                    0.0000043856640916364306,
                    0.000004464854894633421,
                    0.0000045431586726995924,
                    0.000004620490167837422,
                    0.000004696757138879298,
                    0.00000477186179786702,
                    0.00000484570239091373,
                    0.00000491817487261208,
                    0.000004989174621992282,
                    0.00000505859814862628,
                    0.000005126344739644954,
                    0.00000519231800205916,
                    0.000005256427259683524,
                    0.000005318588769946575,
                    0.000005378726732697786,
                    0.000005436774070539623,
                    0.000005492672967955756,
                    0.000005546375164316324,
                    0.000005597842003464765,
                    0.000005647044249794453,
                    0.000005693961687300825,
                    0.000005738582523867743,
                    0.000005780902627876459,
                    0.000005820924628007693,
                    0.00000585865690978281,
                    0.000005894112543932065,
                    0.000005927308182105272,
                    0.00000595826295479907,
                    0.000005986997404747391,
                    0.00000601353248651063,
                    0.000006037888659732657,
                    0.000006060085099648768,
                    0.000006080139044073535,
                    0.000006098065291423671,
                    0.000006113875859486596,
                    0.000006127579809773505,
                    0.000006139183237525303,
                    0.00000614868942289161,
                    0.000006156099134576698,
                    0.000006161411073428336,
                    0.000006164622440103185,
                    0.000006165729608126162,
                    0.000006164728881402928,
                    0.000006161617313564627,
                    0.000006156393565423426,
                    0.000006149058776289713,
                    0.00000613961742492678,
                    0.000006128078156470062,
                    0.000006114454552678698,
                    0.000006098765824381623,
                    0.00000608103740687765,
                    0.000006061301441310078,
                    0.0000060395971276032755,
                    0.000006015970937376141,
                    0.000005990476678279468,
                    0.000005963175404386683,
                    0.000005934135170547163,
                    0.00000590343063193026,
                    0.000005871142493290729,
                    0.000005837356815715713,
                    0.000005802164191712318,
                    0.000005765658802407833,
                    0.0000057279373733066376,
                    0.000005689098047427652,
                    0.000005649239196683785,
                    0.000005608458194018636,
                    0.000005566850170045516,
                    0.0000055245067787098,
                    0.000005481514996796377,
                    0.0000054379559819116715,
                    0.000005393904012886236,
                    0.000005349425535369452,
                    0.000005304578333743711,
                    0.000005259410848394892,
                    0.00000521396165487692,
                    0.000005168259118645111,
                    0.00000512232123585816,
                    0.000005076155667322428,
                    0.000005029759969036943,
                    0.000004983122019063334,
                    0.000004936220636659935,
                    0.000004889026385854472,
                    0.0000048415025519556105,
                    0.0000047936062759866716,
                    0.000004745289828730965,
                    0.00000469650200306727,
                    0.000004647189600603232,
                    0.000004597298986334187,
                    0.000004546777683210698,
                    0.00000449557597713042,
                    0.000004443648502009815,
                    0.000004390955774267902,
                    0.000004337465646284355,
                    0.000004283154649191382,
                    0.000004228009196725816,
                    0.000004172026623799467,
                    0.000004115216035927546,
                    0.000004057598948662443,
                    0.000003999209699677479,
                    0.000003940095620086497,
                    0.000003880316955912614,
                    0.000003819946535263582,
                    0.0000037590691816536236,
                    0.000003697780878940399,
                    0.0000036361876984248464,
                    0.000003574404503683413,
                    0.000003512553453556926,
                    0.0000034507623282951865,
                    0.0000033891627080385645,
                    0.0000033278880364979594,
                    0.0000032670716057716612,
                    0.0000032068445006185907,
                    0.0000031473335421138017,
                    0.000003088659271382702,
                    0.0000030309340139997328,
                    0.0000029742600646244615,
                    0.000002918728029532187,
                    0.000002864415361901453,
                    0.000002811385121093162,
                    0.0000027596849827669853,
                    0.0000027093465216207817,
                    0.0000026603847829199214,
                    0.0000026127981529343234,
                    0.0000025665685320632474,
                    0.00000252166180795403,
                    0.0000024780286194683804,
                    0.00000243560539607819,
                    0.000002394315651337757,
                    0.0000023540715036295603,
                    0.0000023147753925530536,
                    0.0000022763219552408354,
                    0.0000022386000236455846,
                    0.000002201494701523879,
                    0.0000021648894785030715,
                    0.0000021286683382838964,
                    0.000002092717818704924,
                    0.000002056928983050079,
                    0.000002021199264564459,
                    0.0000019854341495807052,
                    0.000001949548668848471,
                    0.0000019134686714854205,
                    0.0000018771318612958922,
                    0.000001840488580887318,
                    0.0000018035023349026584,
                    0.0000017661500496243595,
                    0.0000017284220720390544,
                    0.0000016903219170360355,
                    0.000001651865776611211,
                    0.000001613081809640834,
                    0.0000015740092348731662,
                    0.0000015346972531784747,
                    0.0000014952038277387344,
                    0.0000014555943527110004,
                    0.00000141594024194977,
                    0.0000013763174696337844,
                    0.000001336805094143604,
                    0.000001297483795329764,
                    0.0000012584344534664126,
                    0.0000012197367957855097,
                    0.0000011814681336261595,
                    0.000001143702210013625,
                    0.0000011065081740085285,
                    0.000001069949694543208,
                    0.000001034084222791133,
                    9.98962408492039e-7,
                    9.646276721661684e-7,
                    9.311159318715196e-7,
                    8.984554801508479e-7,
                    8.666670041303746e-7,
                    8.357637394052897e-7,
                    8.05751746400838e-7,
                    7.766302963415616e-7,
                    7.483923527932091e-7,
                    7.210251339495997e-7,
                    6.945107403995657e-7,
                    6.688268329996018e-7,
                    6.43947345663332e-7,
                    6.198432183241849e-7,
                    5.964831359955432e-7,
                    5.738342607060944e-7,
                    5.518629440916908e-7,
                    5.305354095447456e-7,
                    5.098183940276143e-7,
                    4.896797409196647e-7,
                    4.700889365649053e-7,
                    4.5101758449696365e-7,
                    4.324398126230286e-7,
                    4.1433260993303773e-7,
                    3.9667609055174676e-7,
                    3.794536841582863e-7,
                    3.6265225295074805e-7,
                    3.462621364234362e-7,
                    3.302771262436699e-7,
                    3.146943744563639e-7,
                    2.9951423910098706e-7,
                    2.847400720908882e-7,
                    2.7037795487388713e-7,
                    2.5643638796082823e-7,
                    2.4292594087210174e-7,
                    2.298588694086882e-7,
                    2.1724870740354347e-7,
                    2.0510984025199555e-7,
                    1.9345706755895375e-7,
                    1.8230516218042746e-7,
                    1.7166843278287987e-7,
                    1.6156029680329935e-7,
                    1.5199287037370367e-7,
                    1.429765813845144e-7,
                    1.345198114108661e-7,
                    1.2662857172294987e-7,
                    1.193062180540848e-7,
                    1.1255320821566229e-7,
                    1.0636690603255459e-7,
                    1.0074143443120772e-7,
                    9.566757984937531e-8,
                    9.11327494543701e-8,
                    8.71209819581775e-8,
                    8.361301210487057e-8,
                    8.058638818070931e-8,
                    7.801564116298274e-8,
                    7.587250338402032e-8,
                    7.412617384742924e-8,
                    7.274362660194551e-8,
                    7.168995786392153e-8,
                    7.092876689419743e-8,
                    7.042256499281083e-8,
                    7.013320639136783e-8,
                    7.002233431490443e-8,
                    7.00518350703573e-8,
                    7.018429271479987e-8,
                    7.038343667983798e-8,
                    7.061457469341441e-8,
                    7.084500345827849e-8,
                    7.104438982520802e-8,
                    7.11851156418828e-8,
                    7.124258006311799e-8,
                    7.119545386749864e-8,
                    7.102588122628503e-8,
                    7.071962539433365e-8,
                    7.026615591631173e-8,
                    6.96586761370256e-8,
                    6.889409104127486e-8,
                    6.797291669312102e-8,
                    6.689913376270958e-8,
                    6.567998878704478e-8,
                    6.432574787727288e-8,
                    6.284940852989363e-8,
                    6.126637599764098e-8,
                    5.959411130727371e-8,
                    5.7851758461411957e-8,
                    5.605975862114139e-8,
                    5.423945913274097e-8,
                    5.2412725138969456e-8,
                    5.060156121187221e-8,
                    4.882774997403222e-8,
                    4.711251405683568e-8,
                    4.547620699916003e-8,
                    4.393803784182206e-8,
                    4.251583324734672e-8,
                    4.122583999678155e-8,
                    4.008256971057464e-8,
                    3.909868663299883e-8,
                    3.828493833156478e-8,
                    3.7650128214527106e-8,
                    3.720112787883106e-8,
                    3.694292648314065e-8,
                    3.687871360905358e-8,
                    3.700999143918708e-8,
                    3.7336711552469057e-8,
                    3.785743122193403e-8,
                    3.8569483804300616e-8,
                    3.946915763796342e-8,
                    4.055187781982365e-8,
                    4.1812385313380516e-8,
                    4.3244908051041734e-8,
                    4.4843319031355835e-8,
                    4.660127687353821e-8,
                    4.8512344871642214e-8,
                    5.0570085280707704e-8,
                    5.2768126355868e-8,
                    5.510020053803921e-8,
                    5.756015311836265e-8,
                    6.014192169642741e-8,
                    6.28394877496569e-8,
                    6.564680262540523e-8,
                    6.855769122338363e-8,
                    7.156573752272029e-8,
                    7.46641568936113e-8,
                    7.784566078731937e-8,
                    8.110231989153597e-8,
                    8.442543214559084e-8,
                    8.780540211122386e-8,
                    9.123163807518036e-8,
                    9.469247291235254e-8,
                    9.817511416310881e-8,
                    1.0166562798478731e-7,
                    1.051489606427088e-7,
                    1.0860900003662524e-7,
                    1.1202867844834572e-7,
                    1.1539011628649489e-7,
                    1.1867480514186409e-7,
                    1.2186382700265735e-7,
                    1.249381050664887e-7,
                    1.278786802789298e-7,
                    1.3066700657850686e-7,
                    1.3328525688313762e-7,
                    1.3571663115477948e-7,
                    1.379456574613433e-7,
                    1.3995847684188997e-7,
                    1.4174310298617362e-7,
                    1.4328964826436785e-7,
                    1.445905084768826e-7,
                    1.4564049981508687e-7,
                    1.46436942897588e-7,
                    1.4697969032920597e-7,
                    1.472710959677792e-7,
                    1.4731592591735337e-7,
                    1.4712121313031273e-7,
                    1.4669605932856308e-7,
                    1.460513896782225e-7,
                    1.451996672097012e-7,
                    1.4415457530732518e-7,
                    1.429306776494712e-7,
                    1.415430657211555e-7,
                    1.4000700441744627e-7,
                    1.3833758629208675e-7,
                    1.3654940467906933e-7,
                    1.346562552370517e-7,
                    1.32670874462289e-7,
                    1.306047224223675e-7,
                    1.2846781542860407e-7,
                    1.2626861264665518e-7,
                    1.240139588065075e-7,
                    1.2170908328257763e-7,
                    1.1935765394152497e-7,
                    1.1696188236758905e-7,
                    1.145226754367156e-7,
                    1.120398267787555e-7,
                    1.0951224049010625e-7,
                    1.0693817857515412e-7,
                    1.0431552302965179e-7,
                    1.0164204324576706e-7,
                    9.891565951695558e-8,
                    9.613469383823788e-8,
                    9.329809990918034e-8,
                    9.040566521750762e-8,
                    8.745817926660892e-8,
                    8.445756335919265e-8,
                    8.14069588064799e-8,
                    7.831077194001538e-8,
                    7.51746758041619e-8,
                    7.200556984710577e-8,
                    6.881150025693407e-8,
                    6.56015447639475e-8,
                    6.238566671573949e-8,
                    5.917454400174698e-8,
                    5.597937894268947e-8,
                    5.281169556110267e-8,
                    4.9683130715166895e-8,
                    4.6605225421147887e-8,
                    4.35892223297884e-8,
                    4.064587478514897e-8,
                    3.778527221197734e-8,
                    3.5016685784271304e-8,
                    3.234843745966538e-8,
                    2.9787794558024573e-8,
                    2.7340891153240183e-8,
                    2.5012676667037046e-8,
                    2.280689123115819e-8,
                    2.072606664353569e-8,
                    1.8771551103676505e-8,
                    1.6943555385760804e-8,
                    1.524121770257419e-8,
                    1.3662684231831235e-8,
                    1.220520211625201e-8,
                    1.0865221703233796e-8,
                    9.638504848831369e-9,
                    8.520236260989612e-9,
                    7.505135083570302e-9,
                    6.587564209560135e-9,
                    5.761635142475124e-9,
                    5.0213065832406475e-9,
                    4.360475290545538e-9,
                    3.773058132063908e-9,
                    3.2530646000359833e-9,
                    2.7946593975497965e-9,
                    2.3922150036739395e-9,
                    2.0403543907407355e-9,
                    1.7339842920339409e-9,
                    1.468319601310677e-9,
                    1.238899627110051e-9,
                    1.0415970262711434e-9,
                    8.726203052803407e-10,
                    7.285108086729074e-10,
                    6.06135115016352e-10,
                    5.026737376455449e-10,
                    4.1560698405233235e-10,
                    3.42698769310468e-10,
                    2.819791095303699e-10,
                    2.3172594508029956e-10,
                    1.9044686368209862e-10,
                    1.568612134408795e-10,
                    1.298830177696362e-10,
                    1.0860502981299668e-10,
                    9.228419459345907e-11,
                    8.032872341738479e-11,
                    7.228692734450723e-11,
                    6.783790460667679e-11,
                    6.6784130297409e-11,
                    6.904595473302162e-11,
                    7.465797872474639e-11,
                    8.376723861636967e-11,
                    9.663310032467247e-11,
                    1.1362872880339611e-10,
                    1.3524396647566183e-10,
                    1.6208942055044523e-10,
                    1.9490152428068474e-10,
                    2.345483009237218e-10,
                    2.820355215226335e-10,
                    3.385129090656481e-10,
                    4.052800028773523e-10,
                    4.837912593837016e-10,
                    5.756599301560538e-10,
                    6.826602271848561e-10,
                    8.067272607529826e-10,
                    9.499542193871276e-10,
                    1.1145862566237693e-9,
                    1.3030105582431698e-9,
                    1.5177420886424618e-9,
                    1.761404558383636e-9,
                    2.03670621857179e-9,
                    2.3464101730167824e-9,
                    2.693299006895757e-9,
                    3.080133660877e-9,
                    3.5096066314980306e-9,
                    3.98428975011199e-9,
                    4.506576980950748e-9,
                    5.078622879709788e-9,
                    5.7022775623536566e-9,
                    6.379019243362745e-9,
                    7.10988560627966e-9,
                    7.89540545934883e-9,
                    8.735532296984602e-9,
                    9.629581525291965e-9,
                    1.0576173208606697e-8,
                    1.1573182246271693e-8,
                    1.2617697887801949e-8,
                    1.3705994434720941e-8,
                    1.4833514854868614e-8,
                    1.5994868848108976e-8,
                    1.7183846651612478e-8,
                    1.8393449561246455e-8,
                    1.961593777864899e-8,
                    2.0842895779404728e-8,
                    2.2065314946943845e-8,
                    2.32736927420617e-8,
                    2.4458147193820587e-8,
                    2.5608545019884782e-8,
                    2.6714641229622045e-8,
                    2.7766227648269613e-8,
                    2.8753287441206305e-8,
                    2.9666152428728212e-8,
                    3.0495659776577214e-8,
                    3.12333045361442e-8,
                    3.187138449800056e-8,
                    3.240313391692896e-8,
                    3.282284286590082e-8,
                    3.312595927655866e-8,
                    3.330917111696962e-8
                  ],
                  "yaxis": "y",
                  "type": "scatter"
                },
                {
                  "legendgroup": "salary",
                  "marker": {
                    "color": "rgb(31, 119, 180)",
                    "symbol": "line-ns-open"
                  },
                  "mode": "markers",
                  "name": "salary",
                  "showlegend": false,
                  "x": [
                    79833,
                    260000,
                    109024,
                    20000,
                    150000,
                    72000,
                    190000,
                    35735,
                    135000,
                    125000,
                    51321,
                    40481,
                    39916,
                    87000,
                    85000,
                    8000,
                    41689,
                    114047,
                    5707,
                    56000,
                    43331,
                    6072,
                    47899,
                    98000,
                    115000,
                    325000,
                    42000,
                    33511,
                    100000,
                    117104,
                    59303,
                    70000,
                    68428,
                    450000,
                    46759,
                    74130,
                    103000,
                    250000,
                    10000,
                    138000,
                    45760,
                    79833,
                    50180,
                    106000,
                    112872,
                    15966,
                    76958,
                    188000,
                    105000,
                    70139,
                    6072,
                    91000,
                    45896,
                    54742,
                    60000,
                    148261,
                    38776,
                    118000,
                    120000,
                    138350,
                    110000,
                    130800,
                    21669,
                    412000,
                    45618,
                    62726,
                    49268,
                    190200,
                    105000,
                    91237,
                    62726,
                    42197,
                    82528,
                    150000,
                    235000,
                    53192,
                    100000,
                    5409,
                    270000,
                    80000,
                    79197,
                    140000,
                    54238,
                    47282,
                    153667,
                    28476,
                    59102,
                    110000,
                    170000,
                    80000,
                    88654,
                    76833,
                    19609,
                    276000,
                    29751,
                    89294,
                    12000,
                    450000,
                    70000,
                    95746,
                    75000,
                    150000,
                    36259,
                    62000,
                    73000,
                    51519,
                    187442,
                    115000,
                    150000,
                    30428,
                    94564,
                    113476,
                    103160,
                    12000,
                    45391,
                    225000,
                    50000,
                    40189,
                    90000,
                    200000,
                    60000,
                    200000,
                    50000,
                    110037,
                    10354,
                    151000,
                    120000,
                    9466,
                    20000,
                    40570,
                    100000,
                    49646,
                    38400,
                    24000,
                    100000,
                    90000,
                    63711,
                    77364,
                    220000,
                    80000,
                    135000,
                    240000,
                    150000,
                    82500,
                    100000,
                    82744,
                    62649,
                    90000,
                    153000,
                    160000,
                    168000,
                    150000,
                    75774,
                    13400,
                    144000,
                    127221,
                    119059,
                    423000,
                    120000,
                    125000,
                    230000,
                    85000,
                    28369,
                    63831,
                    130026,
                    165000,
                    80000,
                    250000,
                    55000,
                    150000,
                    170000,
                    82528,
                    60000,
                    235000,
                    60757,
                    174000,
                    2859,
                    40038,
                    81000,
                    5679,
                    22611,
                    90734,
                    26005,
                    61896,
                    12000,
                    4000,
                    50000,
                    69741,
                    76833,
                    74000,
                    152000,
                    21844,
                    18000,
                    174000,
                    96113,
                    147000,
                    9272,
                    24342,
                    54094,
                    90000,
                    61467,
                    195000,
                    37825,
                    50000,
                    160000,
                    12901,
                    200000,
                    165000,
                    20000,
                    120000,
                    24823,
                    56738,
                    66022,
                    5882,
                    24823,
                    185000,
                    28609,
                    90734,
                    88654,
                    140000,
                    46597,
                    116914,
                    33808,
                    56256,
                    225000,
                    416000,
                    87738,
                    88654,
                    135000,
                    71786,
                    16228,
                    256000,
                    200000,
                    200000,
                    180000,
                    110000,
                    63810,
                    46809,
                    4000,
                    21637,
                    103691,
                    80000,
                    110000,
                    165000,
                    18053,
                    72212,
                    36643,
                    12103,
                    96282,
                    170000,
                    115000,
                    90000,
                    600000,
                    28399,
                    93000,
                    99703,
                    200000,
                    173762,
                    185000,
                    141846,
                    130000,
                    63831,
                    16904,
                    66265,
                    25532,
                    160000,
                    93150,
                    111775,
                    28016,
                    65013,
                    72500,
                    18907,
                    76833,
                    85000,
                    77684,
                    100000,
                    58000,
                    55000,
                    20171,
                    59102,
                    112000,
                    100000,
                    69741,
                    105000,
                    69999,
                    94665,
                    102839,
                    109000,
                    51064,
                    135000,
                    155000,
                    120600,
                    130000,
                    90000,
                    170000,
                    150000,
                    102100,
                    84900,
                    136620,
                    99360,
                    117789,
                    104702,
                    146000,
                    123000,
                    52351,
                    99000,
                    116000,
                    106260,
                    126500,
                    242000,
                    200000,
                    65438,
                    39263,
                    78526,
                    52351,
                    165220,
                    45807,
                    120160,
                    90320,
                    181940,
                    132320,
                    220110,
                    160080,
                    180000,
                    120000,
                    124190,
                    130000,
                    110000,
                    170000,
                    115500,
                    112900,
                    90320,
                    112900,
                    90320,
                    165400,
                    132320,
                    167000,
                    243900,
                    136600,
                    109280,
                    128875,
                    93700,
                    224000,
                    167875,
                    175000,
                    156600,
                    108800,
                    95550,
                    113000,
                    135000,
                    161342,
                    137141,
                    167000,
                    123000,
                    78526,
                    65438,
                    150000,
                    211500,
                    192400,
                    90700,
                    130000,
                    61300,
                    130000,
                    61300,
                    160000,
                    138600,
                    136000,
                    58000,
                    135000,
                    170000,
                    123000,
                    189650,
                    164996,
                    54957,
                    54957,
                    118187,
                    132000,
                    165400,
                    208775,
                    147800,
                    136994,
                    101570,
                    128875,
                    93700,
                    79039,
                    132320,
                    37300,
                    164000,
                    155000,
                    124333,
                    98158,
                    120000,
                    112900,
                    90320,
                    145000,
                    105400,
                    87932,
                    117789,
                    215300,
                    158200,
                    209100,
                    154600,
                    115934,
                    81666,
                    175000,
                    98158,
                    58000,
                    183600,
                    52351,
                    180000,
                    71982,
                    45807,
                    65949,
                    49461,
                    78526,
                    58894,
                    260000,
                    60000,
                    63900,
                    160000,
                    112300,
                    241000,
                    159000,
                    180000,
                    80000,
                    82900,
                    100800,
                    49461,
                    140400,
                    39263,
                    43966,
                    32974,
                    87932,
                    76940,
                    104702,
                    91614,
                    65949,
                    87932,
                    189650,
                    164996,
                    43966,
                    32974,
                    98158,
                    78526,
                    215300,
                    76940,
                    209100,
                    154600,
                    180000,
                    21983,
                    80000,
                    78791,
                    196979,
                    120000,
                    125000,
                    37236,
                    105000,
                    87932,
                    18442,
                    31615,
                    58255,
                    100000,
                    54957,
                    18442,
                    162674,
                    120000,
                    144000,
                    104890,
                    100000,
                    140000,
                    135000,
                    50000,
                    220000,
                    140000,
                    183228,
                    91614,
                    185100,
                    220000,
                    200000,
                    120000,
                    120000,
                    65000,
                    324000,
                    216000,
                    210000,
                    120000,
                    230000,
                    100000,
                    100000,
                    31875,
                    200000,
                    75000,
                    35590,
                    78791,
                    100000,
                    153000,
                    58035,
                    165000,
                    93427,
                    52396,
                    62651,
                    32974,
                    40000,
                    87425,
                    115000,
                    86703,
                    75000,
                    64849,
                    120000,
                    157000,
                    150000,
                    70912,
                    65000,
                    71444,
                    20000,
                    48000,
                    152500,
                    68147,
                    122346,
                    380000,
                    69336,
                    10000,
                    20000,
                    405000,
                    135000,
                    177000,
                    78000,
                    135000,
                    100000,
                    90320,
                    85000,
                    75000,
                    214000,
                    192600,
                    266400,
                    213120,
                    112900,
                    155000,
                    141300,
                    102100,
                    115934,
                    81666,
                    206699,
                    99100,
                    130000,
                    115000,
                    110500,
                    130000,
                    99050,
                    160000,
                    205300,
                    140400,
                    176000,
                    144000,
                    200100,
                    160000,
                    145000,
                    70500,
                    205300,
                    140400,
                    205300,
                    184700,
                    175100,
                    140250,
                    116150,
                    54000,
                    170000,
                    65438,
                    80000,
                    140000,
                    210000,
                    140000,
                    100000,
                    69000,
                    210000,
                    140000,
                    210000,
                    150075,
                    100000,
                    25000,
                    126500,
                    106260,
                    220110,
                    160080,
                    105000,
                    110925,
                    45807,
                    140000,
                    99000,
                    60000,
                    192564,
                    144854,
                    230000,
                    150000,
                    150260,
                    109280,
                    210000,
                    170000,
                    160000,
                    130000,
                    67000,
                    52000,
                    154000,
                    126000,
                    129000,
                    150000,
                    200000
                  ],
                  "xaxis": "x",
                  "y": [
                    "salary",
                    "salary",
                    "salary",
                    "salary",
                    "salary",
                    "salary",
                    "salary",
                    "salary",
                    "salary",
                    "salary",
                    "salary",
                    "salary",
                    "salary",
                    "salary",
                    "salary",
                    "salary",
                    "salary",
                    "salary",
                    "salary",
                    "salary",
                    "salary",
                    "salary",
                    "salary",
                    "salary",
                    "salary",
                    "salary",
                    "salary",
                    "salary",
                    "salary",
                    "salary",
                    "salary",
                    "salary",
                    "salary",
                    "salary",
                    "salary",
                    "salary",
                    "salary",
                    "salary",
                    "salary",
                    "salary",
                    "salary",
                    "salary",
                    "salary",
                    "salary",
                    "salary",
                    "salary",
                    "salary",
                    "salary",
                    "salary",
                    "salary",
                    "salary",
                    "salary",
                    "salary",
                    "salary",
                    "salary",
                    "salary",
                    "salary",
                    "salary",
                    "salary",
                    "salary",
                    "salary",
                    "salary",
                    "salary",
                    "salary",
                    "salary",
                    "salary",
                    "salary",
                    "salary",
                    "salary",
                    "salary",
                    "salary",
                    "salary",
                    "salary",
                    "salary",
                    "salary",
                    "salary",
                    "salary",
                    "salary",
                    "salary",
                    "salary",
                    "salary",
                    "salary",
                    "salary",
                    "salary",
                    "salary",
                    "salary",
                    "salary",
                    "salary",
                    "salary",
                    "salary",
                    "salary",
                    "salary",
                    "salary",
                    "salary",
                    "salary",
                    "salary",
                    "salary",
                    "salary",
                    "salary",
                    "salary",
                    "salary",
                    "salary",
                    "salary",
                    "salary",
                    "salary",
                    "salary",
                    "salary",
                    "salary",
                    "salary",
                    "salary",
                    "salary",
                    "salary",
                    "salary",
                    "salary",
                    "salary",
                    "salary",
                    "salary",
                    "salary",
                    "salary",
                    "salary",
                    "salary",
                    "salary",
                    "salary",
                    "salary",
                    "salary",
                    "salary",
                    "salary",
                    "salary",
                    "salary",
                    "salary",
                    "salary",
                    "salary",
                    "salary",
                    "salary",
                    "salary",
                    "salary",
                    "salary",
                    "salary",
                    "salary",
                    "salary",
                    "salary",
                    "salary",
                    "salary",
                    "salary",
                    "salary",
                    "salary",
                    "salary",
                    "salary",
                    "salary",
                    "salary",
                    "salary",
                    "salary",
                    "salary",
                    "salary",
                    "salary",
                    "salary",
                    "salary",
                    "salary",
                    "salary",
                    "salary",
                    "salary",
                    "salary",
                    "salary",
                    "salary",
                    "salary",
                    "salary",
                    "salary",
                    "salary",
                    "salary",
                    "salary",
                    "salary",
                    "salary",
                    "salary",
                    "salary",
                    "salary",
                    "salary",
                    "salary",
                    "salary",
                    "salary",
                    "salary",
                    "salary",
                    "salary",
                    "salary",
                    "salary",
                    "salary",
                    "salary",
                    "salary",
                    "salary",
                    "salary",
                    "salary",
                    "salary",
                    "salary",
                    "salary",
                    "salary",
                    "salary",
                    "salary",
                    "salary",
                    "salary",
                    "salary",
                    "salary",
                    "salary",
                    "salary",
                    "salary",
                    "salary",
                    "salary",
                    "salary",
                    "salary",
                    "salary",
                    "salary",
                    "salary",
                    "salary",
                    "salary",
                    "salary",
                    "salary",
                    "salary",
                    "salary",
                    "salary",
                    "salary",
                    "salary",
                    "salary",
                    "salary",
                    "salary",
                    "salary",
                    "salary",
                    "salary",
                    "salary",
                    "salary",
                    "salary",
                    "salary",
                    "salary",
                    "salary",
                    "salary",
                    "salary",
                    "salary",
                    "salary",
                    "salary",
                    "salary",
                    "salary",
                    "salary",
                    "salary",
                    "salary",
                    "salary",
                    "salary",
                    "salary",
                    "salary",
                    "salary",
                    "salary",
                    "salary",
                    "salary",
                    "salary",
                    "salary",
                    "salary",
                    "salary",
                    "salary",
                    "salary",
                    "salary",
                    "salary",
                    "salary",
                    "salary",
                    "salary",
                    "salary",
                    "salary",
                    "salary",
                    "salary",
                    "salary",
                    "salary",
                    "salary",
                    "salary",
                    "salary",
                    "salary",
                    "salary",
                    "salary",
                    "salary",
                    "salary",
                    "salary",
                    "salary",
                    "salary",
                    "salary",
                    "salary",
                    "salary",
                    "salary",
                    "salary",
                    "salary",
                    "salary",
                    "salary",
                    "salary",
                    "salary",
                    "salary",
                    "salary",
                    "salary",
                    "salary",
                    "salary",
                    "salary",
                    "salary",
                    "salary",
                    "salary",
                    "salary",
                    "salary",
                    "salary",
                    "salary",
                    "salary",
                    "salary",
                    "salary",
                    "salary",
                    "salary",
                    "salary",
                    "salary",
                    "salary",
                    "salary",
                    "salary",
                    "salary",
                    "salary",
                    "salary",
                    "salary",
                    "salary",
                    "salary",
                    "salary",
                    "salary",
                    "salary",
                    "salary",
                    "salary",
                    "salary",
                    "salary",
                    "salary",
                    "salary",
                    "salary",
                    "salary",
                    "salary",
                    "salary",
                    "salary",
                    "salary",
                    "salary",
                    "salary",
                    "salary",
                    "salary",
                    "salary",
                    "salary",
                    "salary",
                    "salary",
                    "salary",
                    "salary",
                    "salary",
                    "salary",
                    "salary",
                    "salary",
                    "salary",
                    "salary",
                    "salary",
                    "salary",
                    "salary",
                    "salary",
                    "salary",
                    "salary",
                    "salary",
                    "salary",
                    "salary",
                    "salary",
                    "salary",
                    "salary",
                    "salary",
                    "salary",
                    "salary",
                    "salary",
                    "salary",
                    "salary",
                    "salary",
                    "salary",
                    "salary",
                    "salary",
                    "salary",
                    "salary",
                    "salary",
                    "salary",
                    "salary",
                    "salary",
                    "salary",
                    "salary",
                    "salary",
                    "salary",
                    "salary",
                    "salary",
                    "salary",
                    "salary",
                    "salary",
                    "salary",
                    "salary",
                    "salary",
                    "salary",
                    "salary",
                    "salary",
                    "salary",
                    "salary",
                    "salary",
                    "salary",
                    "salary",
                    "salary",
                    "salary",
                    "salary",
                    "salary",
                    "salary",
                    "salary",
                    "salary",
                    "salary",
                    "salary",
                    "salary",
                    "salary",
                    "salary",
                    "salary",
                    "salary",
                    "salary",
                    "salary",
                    "salary",
                    "salary",
                    "salary",
                    "salary",
                    "salary",
                    "salary",
                    "salary",
                    "salary",
                    "salary",
                    "salary",
                    "salary",
                    "salary",
                    "salary",
                    "salary",
                    "salary",
                    "salary",
                    "salary",
                    "salary",
                    "salary",
                    "salary",
                    "salary",
                    "salary",
                    "salary",
                    "salary",
                    "salary",
                    "salary",
                    "salary",
                    "salary",
                    "salary",
                    "salary",
                    "salary",
                    "salary",
                    "salary",
                    "salary",
                    "salary",
                    "salary",
                    "salary",
                    "salary",
                    "salary",
                    "salary",
                    "salary",
                    "salary",
                    "salary",
                    "salary",
                    "salary",
                    "salary",
                    "salary",
                    "salary",
                    "salary",
                    "salary",
                    "salary",
                    "salary",
                    "salary",
                    "salary",
                    "salary",
                    "salary",
                    "salary",
                    "salary",
                    "salary",
                    "salary",
                    "salary",
                    "salary",
                    "salary",
                    "salary",
                    "salary",
                    "salary",
                    "salary",
                    "salary",
                    "salary",
                    "salary",
                    "salary",
                    "salary",
                    "salary",
                    "salary",
                    "salary",
                    "salary",
                    "salary",
                    "salary",
                    "salary",
                    "salary",
                    "salary",
                    "salary",
                    "salary",
                    "salary",
                    "salary",
                    "salary",
                    "salary",
                    "salary",
                    "salary",
                    "salary",
                    "salary",
                    "salary",
                    "salary",
                    "salary",
                    "salary",
                    "salary",
                    "salary",
                    "salary",
                    "salary",
                    "salary",
                    "salary",
                    "salary",
                    "salary",
                    "salary",
                    "salary",
                    "salary",
                    "salary",
                    "salary",
                    "salary",
                    "salary",
                    "salary",
                    "salary",
                    "salary",
                    "salary",
                    "salary",
                    "salary",
                    "salary",
                    "salary",
                    "salary",
                    "salary",
                    "salary",
                    "salary",
                    "salary",
                    "salary",
                    "salary",
                    "salary",
                    "salary",
                    "salary",
                    "salary",
                    "salary",
                    "salary",
                    "salary",
                    "salary",
                    "salary",
                    "salary",
                    "salary",
                    "salary",
                    "salary",
                    "salary",
                    "salary",
                    "salary",
                    "salary",
                    "salary",
                    "salary",
                    "salary",
                    "salary",
                    "salary",
                    "salary",
                    "salary",
                    "salary",
                    "salary",
                    "salary",
                    "salary",
                    "salary",
                    "salary",
                    "salary",
                    "salary",
                    "salary",
                    "salary",
                    "salary",
                    "salary",
                    "salary",
                    "salary",
                    "salary",
                    "salary",
                    "salary",
                    "salary",
                    "salary",
                    "salary",
                    "salary",
                    "salary",
                    "salary",
                    "salary",
                    "salary",
                    "salary",
                    "salary",
                    "salary",
                    "salary",
                    "salary",
                    "salary",
                    "salary",
                    "salary",
                    "salary",
                    "salary",
                    "salary",
                    "salary",
                    "salary",
                    "salary",
                    "salary",
                    "salary",
                    "salary",
                    "salary",
                    "salary",
                    "salary",
                    "salary",
                    "salary"
                  ],
                  "yaxis": "y2",
                  "type": "scatter"
                }
              ],
              "layout": {
                "barmode": "overlay",
                "hovermode": "closest",
                "legend": {
                  "traceorder": "reversed"
                },
                "xaxis": {
                  "anchor": "y2",
                  "domain": [
                    0,
                    1
                  ],
                  "zeroline": false
                },
                "yaxis": {
                  "anchor": "free",
                  "domain": [
                    0.35,
                    1
                  ],
                  "position": 0
                },
                "yaxis2": {
                  "anchor": "x",
                  "domain": [
                    0,
                    0.25
                  ],
                  "dtick": 1,
                  "showticklabels": false
                },
                "template": {
                  "data": {
                    "barpolar": [
                      {
                        "marker": {
                          "line": {
                            "color": "rgb(17,17,17)",
                            "width": 0.5
                          },
                          "pattern": {
                            "fillmode": "overlay",
                            "size": 10,
                            "solidity": 0.2
                          }
                        },
                        "type": "barpolar"
                      }
                    ],
                    "bar": [
                      {
                        "error_x": {
                          "color": "#f2f5fa"
                        },
                        "error_y": {
                          "color": "#f2f5fa"
                        },
                        "marker": {
                          "line": {
                            "color": "rgb(17,17,17)",
                            "width": 0.5
                          },
                          "pattern": {
                            "fillmode": "overlay",
                            "size": 10,
                            "solidity": 0.2
                          }
                        },
                        "type": "bar"
                      }
                    ],
                    "carpet": [
                      {
                        "aaxis": {
                          "endlinecolor": "#A2B1C6",
                          "gridcolor": "#506784",
                          "linecolor": "#506784",
                          "minorgridcolor": "#506784",
                          "startlinecolor": "#A2B1C6"
                        },
                        "baxis": {
                          "endlinecolor": "#A2B1C6",
                          "gridcolor": "#506784",
                          "linecolor": "#506784",
                          "minorgridcolor": "#506784",
                          "startlinecolor": "#A2B1C6"
                        },
                        "type": "carpet"
                      }
                    ],
                    "choropleth": [
                      {
                        "colorbar": {
                          "outlinewidth": 0,
                          "ticks": ""
                        },
                        "type": "choropleth"
                      }
                    ],
                    "contourcarpet": [
                      {
                        "colorbar": {
                          "outlinewidth": 0,
                          "ticks": ""
                        },
                        "type": "contourcarpet"
                      }
                    ],
                    "contour": [
                      {
                        "colorbar": {
                          "outlinewidth": 0,
                          "ticks": ""
                        },
                        "colorscale": [
                          [
                            0,
                            "#0d0887"
                          ],
                          [
                            0.1111111111111111,
                            "#46039f"
                          ],
                          [
                            0.2222222222222222,
                            "#7201a8"
                          ],
                          [
                            0.3333333333333333,
                            "#9c179e"
                          ],
                          [
                            0.4444444444444444,
                            "#bd3786"
                          ],
                          [
                            0.5555555555555556,
                            "#d8576b"
                          ],
                          [
                            0.6666666666666666,
                            "#ed7953"
                          ],
                          [
                            0.7777777777777778,
                            "#fb9f3a"
                          ],
                          [
                            0.8888888888888888,
                            "#fdca26"
                          ],
                          [
                            1,
                            "#f0f921"
                          ]
                        ],
                        "type": "contour"
                      }
                    ],
                    "heatmapgl": [
                      {
                        "colorbar": {
                          "outlinewidth": 0,
                          "ticks": ""
                        },
                        "colorscale": [
                          [
                            0,
                            "#0d0887"
                          ],
                          [
                            0.1111111111111111,
                            "#46039f"
                          ],
                          [
                            0.2222222222222222,
                            "#7201a8"
                          ],
                          [
                            0.3333333333333333,
                            "#9c179e"
                          ],
                          [
                            0.4444444444444444,
                            "#bd3786"
                          ],
                          [
                            0.5555555555555556,
                            "#d8576b"
                          ],
                          [
                            0.6666666666666666,
                            "#ed7953"
                          ],
                          [
                            0.7777777777777778,
                            "#fb9f3a"
                          ],
                          [
                            0.8888888888888888,
                            "#fdca26"
                          ],
                          [
                            1,
                            "#f0f921"
                          ]
                        ],
                        "type": "heatmapgl"
                      }
                    ],
                    "heatmap": [
                      {
                        "colorbar": {
                          "outlinewidth": 0,
                          "ticks": ""
                        },
                        "colorscale": [
                          [
                            0,
                            "#0d0887"
                          ],
                          [
                            0.1111111111111111,
                            "#46039f"
                          ],
                          [
                            0.2222222222222222,
                            "#7201a8"
                          ],
                          [
                            0.3333333333333333,
                            "#9c179e"
                          ],
                          [
                            0.4444444444444444,
                            "#bd3786"
                          ],
                          [
                            0.5555555555555556,
                            "#d8576b"
                          ],
                          [
                            0.6666666666666666,
                            "#ed7953"
                          ],
                          [
                            0.7777777777777778,
                            "#fb9f3a"
                          ],
                          [
                            0.8888888888888888,
                            "#fdca26"
                          ],
                          [
                            1,
                            "#f0f921"
                          ]
                        ],
                        "type": "heatmap"
                      }
                    ],
                    "histogram2dcontour": [
                      {
                        "colorbar": {
                          "outlinewidth": 0,
                          "ticks": ""
                        },
                        "colorscale": [
                          [
                            0,
                            "#0d0887"
                          ],
                          [
                            0.1111111111111111,
                            "#46039f"
                          ],
                          [
                            0.2222222222222222,
                            "#7201a8"
                          ],
                          [
                            0.3333333333333333,
                            "#9c179e"
                          ],
                          [
                            0.4444444444444444,
                            "#bd3786"
                          ],
                          [
                            0.5555555555555556,
                            "#d8576b"
                          ],
                          [
                            0.6666666666666666,
                            "#ed7953"
                          ],
                          [
                            0.7777777777777778,
                            "#fb9f3a"
                          ],
                          [
                            0.8888888888888888,
                            "#fdca26"
                          ],
                          [
                            1,
                            "#f0f921"
                          ]
                        ],
                        "type": "histogram2dcontour"
                      }
                    ],
                    "histogram2d": [
                      {
                        "colorbar": {
                          "outlinewidth": 0,
                          "ticks": ""
                        },
                        "colorscale": [
                          [
                            0,
                            "#0d0887"
                          ],
                          [
                            0.1111111111111111,
                            "#46039f"
                          ],
                          [
                            0.2222222222222222,
                            "#7201a8"
                          ],
                          [
                            0.3333333333333333,
                            "#9c179e"
                          ],
                          [
                            0.4444444444444444,
                            "#bd3786"
                          ],
                          [
                            0.5555555555555556,
                            "#d8576b"
                          ],
                          [
                            0.6666666666666666,
                            "#ed7953"
                          ],
                          [
                            0.7777777777777778,
                            "#fb9f3a"
                          ],
                          [
                            0.8888888888888888,
                            "#fdca26"
                          ],
                          [
                            1,
                            "#f0f921"
                          ]
                        ],
                        "type": "histogram2d"
                      }
                    ],
                    "histogram": [
                      {
                        "marker": {
                          "pattern": {
                            "fillmode": "overlay",
                            "size": 10,
                            "solidity": 0.2
                          }
                        },
                        "type": "histogram"
                      }
                    ],
                    "mesh3d": [
                      {
                        "colorbar": {
                          "outlinewidth": 0,
                          "ticks": ""
                        },
                        "type": "mesh3d"
                      }
                    ],
                    "parcoords": [
                      {
                        "line": {
                          "colorbar": {
                            "outlinewidth": 0,
                            "ticks": ""
                          }
                        },
                        "type": "parcoords"
                      }
                    ],
                    "pie": [
                      {
                        "automargin": true,
                        "type": "pie"
                      }
                    ],
                    "scatter3d": [
                      {
                        "line": {
                          "colorbar": {
                            "outlinewidth": 0,
                            "ticks": ""
                          }
                        },
                        "marker": {
                          "colorbar": {
                            "outlinewidth": 0,
                            "ticks": ""
                          }
                        },
                        "type": "scatter3d"
                      }
                    ],
                    "scattercarpet": [
                      {
                        "marker": {
                          "colorbar": {
                            "outlinewidth": 0,
                            "ticks": ""
                          }
                        },
                        "type": "scattercarpet"
                      }
                    ],
                    "scattergeo": [
                      {
                        "marker": {
                          "colorbar": {
                            "outlinewidth": 0,
                            "ticks": ""
                          }
                        },
                        "type": "scattergeo"
                      }
                    ],
                    "scattergl": [
                      {
                        "marker": {
                          "line": {
                            "color": "#283442"
                          }
                        },
                        "type": "scattergl"
                      }
                    ],
                    "scattermapbox": [
                      {
                        "marker": {
                          "colorbar": {
                            "outlinewidth": 0,
                            "ticks": ""
                          }
                        },
                        "type": "scattermapbox"
                      }
                    ],
                    "scatterpolargl": [
                      {
                        "marker": {
                          "colorbar": {
                            "outlinewidth": 0,
                            "ticks": ""
                          }
                        },
                        "type": "scatterpolargl"
                      }
                    ],
                    "scatterpolar": [
                      {
                        "marker": {
                          "colorbar": {
                            "outlinewidth": 0,
                            "ticks": ""
                          }
                        },
                        "type": "scatterpolar"
                      }
                    ],
                    "scatter": [
                      {
                        "marker": {
                          "line": {
                            "color": "#283442"
                          }
                        },
                        "type": "scatter"
                      }
                    ],
                    "scatterternary": [
                      {
                        "marker": {
                          "colorbar": {
                            "outlinewidth": 0,
                            "ticks": ""
                          }
                        },
                        "type": "scatterternary"
                      }
                    ],
                    "surface": [
                      {
                        "colorbar": {
                          "outlinewidth": 0,
                          "ticks": ""
                        },
                        "colorscale": [
                          [
                            0,
                            "#0d0887"
                          ],
                          [
                            0.1111111111111111,
                            "#46039f"
                          ],
                          [
                            0.2222222222222222,
                            "#7201a8"
                          ],
                          [
                            0.3333333333333333,
                            "#9c179e"
                          ],
                          [
                            0.4444444444444444,
                            "#bd3786"
                          ],
                          [
                            0.5555555555555556,
                            "#d8576b"
                          ],
                          [
                            0.6666666666666666,
                            "#ed7953"
                          ],
                          [
                            0.7777777777777778,
                            "#fb9f3a"
                          ],
                          [
                            0.8888888888888888,
                            "#fdca26"
                          ],
                          [
                            1,
                            "#f0f921"
                          ]
                        ],
                        "type": "surface"
                      }
                    ],
                    "table": [
                      {
                        "cells": {
                          "fill": {
                            "color": "#506784"
                          },
                          "line": {
                            "color": "rgb(17,17,17)"
                          }
                        },
                        "header": {
                          "fill": {
                            "color": "#2a3f5f"
                          },
                          "line": {
                            "color": "rgb(17,17,17)"
                          }
                        },
                        "type": "table"
                      }
                    ]
                  },
                  "layout": {
                    "annotationdefaults": {
                      "arrowcolor": "#f2f5fa",
                      "arrowhead": 0,
                      "arrowwidth": 1
                    },
                    "autotypenumbers": "strict",
                    "coloraxis": {
                      "colorbar": {
                        "outlinewidth": 0,
                        "ticks": ""
                      }
                    },
                    "colorscale": {
                      "diverging": [
                        [
                          0,
                          "#8e0152"
                        ],
                        [
                          0.1,
                          "#c51b7d"
                        ],
                        [
                          0.2,
                          "#de77ae"
                        ],
                        [
                          0.3,
                          "#f1b6da"
                        ],
                        [
                          0.4,
                          "#fde0ef"
                        ],
                        [
                          0.5,
                          "#f7f7f7"
                        ],
                        [
                          0.6,
                          "#e6f5d0"
                        ],
                        [
                          0.7,
                          "#b8e186"
                        ],
                        [
                          0.8,
                          "#7fbc41"
                        ],
                        [
                          0.9,
                          "#4d9221"
                        ],
                        [
                          1,
                          "#276419"
                        ]
                      ],
                      "sequential": [
                        [
                          0,
                          "#0d0887"
                        ],
                        [
                          0.1111111111111111,
                          "#46039f"
                        ],
                        [
                          0.2222222222222222,
                          "#7201a8"
                        ],
                        [
                          0.3333333333333333,
                          "#9c179e"
                        ],
                        [
                          0.4444444444444444,
                          "#bd3786"
                        ],
                        [
                          0.5555555555555556,
                          "#d8576b"
                        ],
                        [
                          0.6666666666666666,
                          "#ed7953"
                        ],
                        [
                          0.7777777777777778,
                          "#fb9f3a"
                        ],
                        [
                          0.8888888888888888,
                          "#fdca26"
                        ],
                        [
                          1,
                          "#f0f921"
                        ]
                      ],
                      "sequentialminus": [
                        [
                          0,
                          "#0d0887"
                        ],
                        [
                          0.1111111111111111,
                          "#46039f"
                        ],
                        [
                          0.2222222222222222,
                          "#7201a8"
                        ],
                        [
                          0.3333333333333333,
                          "#9c179e"
                        ],
                        [
                          0.4444444444444444,
                          "#bd3786"
                        ],
                        [
                          0.5555555555555556,
                          "#d8576b"
                        ],
                        [
                          0.6666666666666666,
                          "#ed7953"
                        ],
                        [
                          0.7777777777777778,
                          "#fb9f3a"
                        ],
                        [
                          0.8888888888888888,
                          "#fdca26"
                        ],
                        [
                          1,
                          "#f0f921"
                        ]
                      ]
                    },
                    "colorway": [
                      "#636efa",
                      "#EF553B",
                      "#00cc96",
                      "#ab63fa",
                      "#FFA15A",
                      "#19d3f3",
                      "#FF6692",
                      "#B6E880",
                      "#FF97FF",
                      "#FECB52"
                    ],
                    "font": {
                      "color": "#f2f5fa"
                    },
                    "geo": {
                      "bgcolor": "rgb(17,17,17)",
                      "lakecolor": "rgb(17,17,17)",
                      "landcolor": "rgb(17,17,17)",
                      "showlakes": true,
                      "showland": true,
                      "subunitcolor": "#506784"
                    },
                    "hoverlabel": {
                      "align": "left"
                    },
                    "hovermode": "closest",
                    "mapbox": {
                      "style": "dark"
                    },
                    "paper_bgcolor": "rgb(17,17,17)",
                    "plot_bgcolor": "rgb(17,17,17)",
                    "polar": {
                      "angularaxis": {
                        "gridcolor": "#506784",
                        "linecolor": "#506784",
                        "ticks": ""
                      },
                      "bgcolor": "rgb(17,17,17)",
                      "radialaxis": {
                        "gridcolor": "#506784",
                        "linecolor": "#506784",
                        "ticks": ""
                      }
                    },
                    "scene": {
                      "xaxis": {
                        "backgroundcolor": "rgb(17,17,17)",
                        "gridcolor": "#506784",
                        "gridwidth": 2,
                        "linecolor": "#506784",
                        "showbackground": true,
                        "ticks": "",
                        "zerolinecolor": "#C8D4E3"
                      },
                      "yaxis": {
                        "backgroundcolor": "rgb(17,17,17)",
                        "gridcolor": "#506784",
                        "gridwidth": 2,
                        "linecolor": "#506784",
                        "showbackground": true,
                        "ticks": "",
                        "zerolinecolor": "#C8D4E3"
                      },
                      "zaxis": {
                        "backgroundcolor": "rgb(17,17,17)",
                        "gridcolor": "#506784",
                        "gridwidth": 2,
                        "linecolor": "#506784",
                        "showbackground": true,
                        "ticks": "",
                        "zerolinecolor": "#C8D4E3"
                      }
                    },
                    "shapedefaults": {
                      "line": {
                        "color": "#f2f5fa"
                      }
                    },
                    "sliderdefaults": {
                      "bgcolor": "#C8D4E3",
                      "bordercolor": "rgb(17,17,17)",
                      "borderwidth": 1,
                      "tickwidth": 0
                    },
                    "ternary": {
                      "aaxis": {
                        "gridcolor": "#506784",
                        "linecolor": "#506784",
                        "ticks": ""
                      },
                      "baxis": {
                        "gridcolor": "#506784",
                        "linecolor": "#506784",
                        "ticks": ""
                      },
                      "bgcolor": "rgb(17,17,17)",
                      "caxis": {
                        "gridcolor": "#506784",
                        "linecolor": "#506784",
                        "ticks": ""
                      }
                    },
                    "title": {
                      "x": 0.05
                    },
                    "updatemenudefaults": {
                      "bgcolor": "#506784",
                      "borderwidth": 0
                    },
                    "xaxis": {
                      "automargin": true,
                      "gridcolor": "#283442",
                      "linecolor": "#506784",
                      "ticks": "",
                      "title": {
                        "standoff": 15
                      },
                      "zerolinecolor": "#283442",
                      "zerolinewidth": 2
                    },
                    "yaxis": {
                      "automargin": true,
                      "gridcolor": "#283442",
                      "linecolor": "#506784",
                      "ticks": "",
                      "title": {
                        "standoff": 15
                      },
                      "zerolinecolor": "#283442",
                      "zerolinewidth": 2
                    }
                  }
                },
                "font": {
                  "size": 17,
                  "family": "Franklin Gothic"
                },
                "title": {
                  "text": "Salary in USD",
                  "x": 0.5
                }
              },
              "config": {
                "plotlyServerURL": "https://plot.ly"
              }
            },
            "text/html": [
              "<div>                            <div id=\"51072da9-44c6-4600-980f-53ea73336e18\" class=\"plotly-graph-div\" style=\"height:525px; width:100%;\"></div>            <script type=\"text/javascript\">                require([\"plotly\"], function(Plotly) {                    window.PLOTLYENV=window.PLOTLYENV || {};                                    if (document.getElementById(\"51072da9-44c6-4600-980f-53ea73336e18\")) {                    Plotly.newPlot(                        \"51072da9-44c6-4600-980f-53ea73336e18\",                        [{\"legendgroup\":\"salary\",\"marker\":{\"color\":\"rgb(31, 119, 180)\"},\"mode\":\"lines\",\"name\":\"salary\",\"showlegend\":true,\"x\":[2859.0,4053.282,5247.564,6441.846,7636.128,8830.41,10024.692,11218.974,12413.256,13607.538,14801.82,15996.102,17190.384,18384.665999999997,19578.948,20773.23,21967.512,23161.794,24356.076,25550.358,26744.64,27938.922,29133.204,30327.486,31521.768,32716.05,33910.331999999995,35104.614,36298.896,37493.178,38687.46,39881.742,41076.024,42270.306,43464.588,44658.87,45853.152,47047.434,48241.716,49435.998,50630.28,51824.562,53018.844,54213.126,55407.408,56601.69,57795.972,58990.254,60184.536,61378.818,62573.1,63767.382,64961.664,66155.946,67350.228,68544.51,69738.792,70933.074,72127.356,73321.638,74515.92,75710.202,76904.484,78098.766,79293.048,80487.33,81681.612,82875.894,84070.176,85264.458,86458.74,87653.022,88847.304,90041.586,91235.868,92430.15,93624.432,94818.714,96012.996,97207.278,98401.56,99595.842,100790.124,101984.406,103178.688,104372.97,105567.252,106761.534,107955.816,109150.098,110344.38,111538.662,112732.944,113927.226,115121.508,116315.79,117510.072,118704.354,119898.636,121092.918,122287.2,123481.482,124675.764,125870.046,127064.328,128258.61,129452.892,130647.174,131841.456,133035.738,134230.02,135424.302,136618.584,137812.866,139007.148,140201.43,141395.712,142589.994,143784.276,144978.558,146172.84,147367.122,148561.404,149755.686,150949.968,152144.25,153338.532,154532.814,155727.096,156921.378,158115.66,159309.942,160504.224,161698.506,162892.788,164087.07,165281.352,166475.634,167669.916,168864.198,170058.48,171252.762,172447.044,173641.326,174835.608,176029.89,177224.172,178418.454,179612.736,180807.018,182001.3,183195.582,184389.864,185584.146,186778.428,187972.71,189166.992,190361.274,191555.556,192749.838,193944.12,195138.402,196332.684,197526.966,198721.248,199915.53,201109.812,202304.094,203498.376,204692.658,205886.94,207081.222,208275.504,209469.786,210664.068,211858.35,213052.632,214246.914,215441.196,216635.478,217829.76,219024.042,220218.324,221412.606,222606.888,223801.17,224995.452,226189.734,227384.016,228578.298,229772.58,230966.862,232161.144,233355.426,234549.708,235743.99,236938.272,238132.554,239326.836,240521.118,241715.4,242909.682,244103.964,245298.246,246492.528,247686.81,248881.092,250075.374,251269.656,252463.938,253658.22,254852.502,256046.784,257241.066,258435.348,259629.63,260823.912,262018.194,263212.476,264406.75800000003,265601.04,266795.322,267989.604,269183.886,270378.168,271572.45,272766.732,273961.014,275155.296,276349.578,277543.86,278738.142,279932.424,281126.706,282320.988,283515.27,284709.552,285903.834,287098.116,288292.398,289486.68,290680.962,291875.244,293069.526,294263.808,295458.09,296652.372,297846.654,299040.936,300235.218,301429.5,302623.782,303818.064,305012.346,306206.628,307400.91,308595.192,309789.474,310983.756,312178.038,313372.32,314566.602,315760.884,316955.166,318149.448,319343.73,320538.012,321732.294,322926.576,324120.858,325315.14,326509.422,327703.704,328897.986,330092.268,331286.55,332480.832,333675.114,334869.396,336063.678,337257.96,338452.242,339646.524,340840.806,342035.088,343229.37,344423.652,345617.934,346812.216,348006.498,349200.78,350395.062,351589.344,352783.626,353977.908,355172.19,356366.472,357560.754,358755.036,359949.318,361143.6,362337.882,363532.164,364726.446,365920.728,367115.01,368309.292,369503.574,370697.856,371892.138,373086.42,374280.702,375474.984,376669.266,377863.548,379057.83,380252.112,381446.394,382640.676,383834.958,385029.24,386223.522,387417.804,388612.086,389806.368,391000.65,392194.932,393389.214,394583.496,395777.778,396972.06,398166.342,399360.624,400554.906,401749.188,402943.47,404137.752,405332.034,406526.316,407720.598,408914.88,410109.162,411303.444,412497.726,413692.008,414886.29,416080.572,417274.854,418469.136,419663.418,420857.7,422051.982,423246.264,424440.546,425634.828,426829.11,428023.392,429217.674,430411.956,431606.238,432800.52,433994.802,435189.084,436383.366,437577.648,438771.93,439966.212,441160.494,442354.776,443549.058,444743.34,445937.622,447131.904,448326.186,449520.468,450714.75,451909.032,453103.314,454297.596,455491.878,456686.16,457880.442,459074.724,460269.006,461463.288,462657.57,463851.852,465046.134,466240.416,467434.698,468628.98,469823.262,471017.544,472211.826,473406.108,474600.39,475794.672,476988.954,478183.236,479377.518,480571.8,481766.082,482960.364,484154.646,485348.928,486543.21,487737.492,488931.774,490126.056,491320.338,492514.62,493708.902,494903.184,496097.466,497291.748,498486.03,499680.312,500874.594,502068.876,503263.158,504457.44,505651.722,506846.004,508040.286,509234.568,510428.85,511623.132,512817.414,514011.696,515205.978,516400.26,517594.542,518788.824,519983.106,521177.388,522371.67,523565.952,524760.2339999999,525954.5160000001,527148.798,528343.08,529537.362,530731.644,531925.926,533120.208,534314.49,535508.772,536703.054,537897.336,539091.618,540285.9,541480.182,542674.464,543868.746,545063.028,546257.31,547451.592,548645.874,549840.156,551034.438,552228.72,553423.002,554617.284,555811.566,557005.848,558200.13,559394.412,560588.694,561782.976,562977.258,564171.54,565365.822,566560.104,567754.386,568948.668,570142.95,571337.232,572531.514,573725.796,574920.078,576114.36,577308.642,578502.924,579697.206,580891.488,582085.77,583280.052,584474.334,585668.616,586862.898,588057.18,589251.462,590445.744,591640.026,592834.308,594028.59,595222.872,596417.154,597611.436,598805.718],\"xaxis\":\"x\",\"y\":[1.6652175075872865e-06,1.754184263578623e-06,1.8441714940714942e-06,1.93498368980231e-06,2.026431725588345e-06,2.1183352064481703e-06,2.21052458188642e-06,2.302842978393969e-06,2.3951477071038197e-06,2.4873114117867673e-06,2.5792228317387535e-06,2.6707871643319377e-06,2.7619260227690148e-06,2.8525769955663043e-06,2.942692825155125e-06,3.03224023339142e-06,3.121198431372171e-06,3.209557359466733e-06,3.297315710611087e-06,3.384478795455408e-06,3.47105631172582e-06,3.5570600820429967e-06,3.6425018243813725e-06,3.7273910173643635e-06,3.8117329187503637e-06,3.895526789908547e-06,3.9787643720091664e-06,4.061428651301105e-06,4.14349294150752e-06,4.224920301349489e-06,4.305663294842193e-06,4.3856640916364306e-06,4.464854894633421e-06,4.5431586726995924e-06,4.620490167837422e-06,4.696757138879298e-06,4.77186179786702e-06,4.84570239091373e-06,4.91817487261208e-06,4.989174621992282e-06,5.05859814862628e-06,5.126344739644954e-06,5.19231800205916e-06,5.256427259683524e-06,5.318588769946575e-06,5.378726732697786e-06,5.436774070539623e-06,5.492672967955756e-06,5.546375164316324e-06,5.597842003464765e-06,5.647044249794453e-06,5.693961687300825e-06,5.738582523867743e-06,5.780902627876459e-06,5.820924628007693e-06,5.85865690978281e-06,5.894112543932065e-06,5.927308182105272e-06,5.95826295479907e-06,5.986997404747391e-06,6.01353248651063e-06,6.037888659732657e-06,6.060085099648768e-06,6.080139044073535e-06,6.098065291423671e-06,6.113875859486596e-06,6.127579809773505e-06,6.139183237525303e-06,6.14868942289161e-06,6.156099134576698e-06,6.161411073428336e-06,6.164622440103185e-06,6.165729608126162e-06,6.164728881402928e-06,6.161617313564627e-06,6.156393565423426e-06,6.149058776289713e-06,6.13961742492678e-06,6.128078156470062e-06,6.114454552678698e-06,6.098765824381623e-06,6.08103740687765e-06,6.061301441310078e-06,6.0395971276032755e-06,6.015970937376141e-06,5.990476678279468e-06,5.963175404386683e-06,5.934135170547163e-06,5.90343063193026e-06,5.871142493290729e-06,5.837356815715713e-06,5.802164191712318e-06,5.765658802407833e-06,5.7279373733066376e-06,5.689098047427652e-06,5.649239196683785e-06,5.608458194018636e-06,5.566850170045516e-06,5.5245067787098e-06,5.481514996796377e-06,5.4379559819116715e-06,5.393904012886236e-06,5.349425535369452e-06,5.304578333743711e-06,5.259410848394892e-06,5.21396165487692e-06,5.168259118645111e-06,5.12232123585816e-06,5.076155667322428e-06,5.029759969036943e-06,4.983122019063334e-06,4.936220636659935e-06,4.889026385854472e-06,4.8415025519556105e-06,4.7936062759866716e-06,4.745289828730965e-06,4.69650200306727e-06,4.647189600603232e-06,4.597298986334187e-06,4.546777683210698e-06,4.49557597713042e-06,4.443648502009815e-06,4.390955774267902e-06,4.337465646284355e-06,4.283154649191382e-06,4.228009196725816e-06,4.172026623799467e-06,4.115216035927546e-06,4.057598948662443e-06,3.999209699677479e-06,3.940095620086497e-06,3.880316955912614e-06,3.819946535263582e-06,3.7590691816536236e-06,3.697780878940399e-06,3.6361876984248464e-06,3.574404503683413e-06,3.512553453556926e-06,3.4507623282951865e-06,3.3891627080385645e-06,3.3278880364979594e-06,3.2670716057716612e-06,3.2068445006185907e-06,3.1473335421138017e-06,3.088659271382702e-06,3.0309340139997328e-06,2.9742600646244615e-06,2.918728029532187e-06,2.864415361901453e-06,2.811385121093162e-06,2.7596849827669853e-06,2.7093465216207817e-06,2.6603847829199214e-06,2.6127981529343234e-06,2.5665685320632474e-06,2.52166180795403e-06,2.4780286194683804e-06,2.43560539607819e-06,2.394315651337757e-06,2.3540715036295603e-06,2.3147753925530536e-06,2.2763219552408354e-06,2.2386000236455846e-06,2.201494701523879e-06,2.1648894785030715e-06,2.1286683382838964e-06,2.092717818704924e-06,2.056928983050079e-06,2.021199264564459e-06,1.9854341495807052e-06,1.949548668848471e-06,1.9134686714854205e-06,1.8771318612958922e-06,1.840488580887318e-06,1.8035023349026584e-06,1.7661500496243595e-06,1.7284220720390544e-06,1.6903219170360355e-06,1.651865776611211e-06,1.613081809640834e-06,1.5740092348731662e-06,1.5346972531784747e-06,1.4952038277387344e-06,1.4555943527110004e-06,1.41594024194977e-06,1.3763174696337844e-06,1.336805094143604e-06,1.297483795329764e-06,1.2584344534664126e-06,1.2197367957855097e-06,1.1814681336261595e-06,1.143702210013625e-06,1.1065081740085285e-06,1.069949694543208e-06,1.034084222791133e-06,9.98962408492039e-07,9.646276721661684e-07,9.311159318715196e-07,8.984554801508479e-07,8.666670041303746e-07,8.357637394052897e-07,8.05751746400838e-07,7.766302963415616e-07,7.483923527932091e-07,7.210251339495997e-07,6.945107403995657e-07,6.688268329996018e-07,6.43947345663332e-07,6.198432183241849e-07,5.964831359955432e-07,5.738342607060944e-07,5.518629440916908e-07,5.305354095447456e-07,5.098183940276143e-07,4.896797409196647e-07,4.700889365649053e-07,4.5101758449696365e-07,4.324398126230286e-07,4.1433260993303773e-07,3.9667609055174676e-07,3.794536841582863e-07,3.6265225295074805e-07,3.462621364234362e-07,3.302771262436699e-07,3.146943744563639e-07,2.9951423910098706e-07,2.847400720908882e-07,2.7037795487388713e-07,2.5643638796082823e-07,2.4292594087210174e-07,2.298588694086882e-07,2.1724870740354347e-07,2.0510984025199555e-07,1.9345706755895375e-07,1.8230516218042746e-07,1.7166843278287987e-07,1.6156029680329935e-07,1.5199287037370367e-07,1.429765813845144e-07,1.345198114108661e-07,1.2662857172294987e-07,1.193062180540848e-07,1.1255320821566229e-07,1.0636690603255459e-07,1.0074143443120772e-07,9.566757984937531e-08,9.11327494543701e-08,8.71209819581775e-08,8.361301210487057e-08,8.058638818070931e-08,7.801564116298274e-08,7.587250338402032e-08,7.412617384742924e-08,7.274362660194551e-08,7.168995786392153e-08,7.092876689419743e-08,7.042256499281083e-08,7.013320639136783e-08,7.002233431490443e-08,7.00518350703573e-08,7.018429271479987e-08,7.038343667983798e-08,7.061457469341441e-08,7.084500345827849e-08,7.104438982520802e-08,7.11851156418828e-08,7.124258006311799e-08,7.119545386749864e-08,7.102588122628503e-08,7.071962539433365e-08,7.026615591631173e-08,6.96586761370256e-08,6.889409104127486e-08,6.797291669312102e-08,6.689913376270958e-08,6.567998878704478e-08,6.432574787727288e-08,6.284940852989363e-08,6.126637599764098e-08,5.959411130727371e-08,5.7851758461411957e-08,5.605975862114139e-08,5.423945913274097e-08,5.2412725138969456e-08,5.060156121187221e-08,4.882774997403222e-08,4.711251405683568e-08,4.547620699916003e-08,4.393803784182206e-08,4.251583324734672e-08,4.122583999678155e-08,4.008256971057464e-08,3.909868663299883e-08,3.828493833156478e-08,3.7650128214527106e-08,3.720112787883106e-08,3.694292648314065e-08,3.687871360905358e-08,3.700999143918708e-08,3.7336711552469057e-08,3.785743122193403e-08,3.8569483804300616e-08,3.946915763796342e-08,4.055187781982365e-08,4.1812385313380516e-08,4.3244908051041734e-08,4.4843319031355835e-08,4.660127687353821e-08,4.8512344871642214e-08,5.0570085280707704e-08,5.2768126355868e-08,5.510020053803921e-08,5.756015311836265e-08,6.014192169642741e-08,6.28394877496569e-08,6.564680262540523e-08,6.855769122338363e-08,7.156573752272029e-08,7.46641568936113e-08,7.784566078731937e-08,8.110231989153597e-08,8.442543214559084e-08,8.780540211122386e-08,9.123163807518036e-08,9.469247291235254e-08,9.817511416310881e-08,1.0166562798478731e-07,1.051489606427088e-07,1.0860900003662524e-07,1.1202867844834572e-07,1.1539011628649489e-07,1.1867480514186409e-07,1.2186382700265735e-07,1.249381050664887e-07,1.278786802789298e-07,1.3066700657850686e-07,1.3328525688313762e-07,1.3571663115477948e-07,1.379456574613433e-07,1.3995847684188997e-07,1.4174310298617362e-07,1.4328964826436785e-07,1.445905084768826e-07,1.4564049981508687e-07,1.46436942897588e-07,1.4697969032920597e-07,1.472710959677792e-07,1.4731592591735337e-07,1.4712121313031273e-07,1.4669605932856308e-07,1.460513896782225e-07,1.451996672097012e-07,1.4415457530732518e-07,1.429306776494712e-07,1.415430657211555e-07,1.4000700441744627e-07,1.3833758629208675e-07,1.3654940467906933e-07,1.346562552370517e-07,1.32670874462289e-07,1.306047224223675e-07,1.2846781542860407e-07,1.2626861264665518e-07,1.240139588065075e-07,1.2170908328257763e-07,1.1935765394152497e-07,1.1696188236758905e-07,1.145226754367156e-07,1.120398267787555e-07,1.0951224049010625e-07,1.0693817857515412e-07,1.0431552302965179e-07,1.0164204324576706e-07,9.891565951695558e-08,9.613469383823788e-08,9.329809990918034e-08,9.040566521750762e-08,8.745817926660892e-08,8.445756335919265e-08,8.14069588064799e-08,7.831077194001538e-08,7.51746758041619e-08,7.200556984710577e-08,6.881150025693407e-08,6.56015447639475e-08,6.238566671573949e-08,5.917454400174698e-08,5.597937894268947e-08,5.281169556110267e-08,4.9683130715166895e-08,4.6605225421147887e-08,4.35892223297884e-08,4.064587478514897e-08,3.778527221197734e-08,3.5016685784271304e-08,3.234843745966538e-08,2.9787794558024573e-08,2.7340891153240183e-08,2.5012676667037046e-08,2.280689123115819e-08,2.072606664353569e-08,1.8771551103676505e-08,1.6943555385760804e-08,1.524121770257419e-08,1.3662684231831235e-08,1.220520211625201e-08,1.0865221703233796e-08,9.638504848831369e-09,8.520236260989612e-09,7.505135083570302e-09,6.587564209560135e-09,5.761635142475124e-09,5.0213065832406475e-09,4.360475290545538e-09,3.773058132063908e-09,3.2530646000359833e-09,2.7946593975497965e-09,2.3922150036739395e-09,2.0403543907407355e-09,1.7339842920339409e-09,1.468319601310677e-09,1.238899627110051e-09,1.0415970262711434e-09,8.726203052803407e-10,7.285108086729074e-10,6.06135115016352e-10,5.026737376455449e-10,4.1560698405233235e-10,3.42698769310468e-10,2.819791095303699e-10,2.3172594508029956e-10,1.9044686368209862e-10,1.568612134408795e-10,1.298830177696362e-10,1.0860502981299668e-10,9.228419459345907e-11,8.032872341738479e-11,7.228692734450723e-11,6.783790460667679e-11,6.6784130297409e-11,6.904595473302162e-11,7.465797872474639e-11,8.376723861636967e-11,9.663310032467247e-11,1.1362872880339611e-10,1.3524396647566183e-10,1.6208942055044523e-10,1.9490152428068474e-10,2.345483009237218e-10,2.820355215226335e-10,3.385129090656481e-10,4.052800028773523e-10,4.837912593837016e-10,5.756599301560538e-10,6.826602271848561e-10,8.067272607529826e-10,9.499542193871276e-10,1.1145862566237693e-09,1.3030105582431698e-09,1.5177420886424618e-09,1.761404558383636e-09,2.03670621857179e-09,2.3464101730167824e-09,2.693299006895757e-09,3.080133660877e-09,3.5096066314980306e-09,3.98428975011199e-09,4.506576980950748e-09,5.078622879709788e-09,5.7022775623536566e-09,6.379019243362745e-09,7.10988560627966e-09,7.89540545934883e-09,8.735532296984602e-09,9.629581525291965e-09,1.0576173208606697e-08,1.1573182246271693e-08,1.2617697887801949e-08,1.3705994434720941e-08,1.4833514854868614e-08,1.5994868848108976e-08,1.7183846651612478e-08,1.8393449561246455e-08,1.961593777864899e-08,2.0842895779404728e-08,2.2065314946943845e-08,2.32736927420617e-08,2.4458147193820587e-08,2.5608545019884782e-08,2.6714641229622045e-08,2.7766227648269613e-08,2.8753287441206305e-08,2.9666152428728212e-08,3.0495659776577214e-08,3.12333045361442e-08,3.187138449800056e-08,3.240313391692896e-08,3.282284286590082e-08,3.312595927655866e-08,3.330917111696962e-08],\"yaxis\":\"y\",\"type\":\"scatter\"},{\"legendgroup\":\"salary\",\"marker\":{\"color\":\"rgb(31, 119, 180)\",\"symbol\":\"line-ns-open\"},\"mode\":\"markers\",\"name\":\"salary\",\"showlegend\":false,\"x\":[79833,260000,109024,20000,150000,72000,190000,35735,135000,125000,51321,40481,39916,87000,85000,8000,41689,114047,5707,56000,43331,6072,47899,98000,115000,325000,42000,33511,100000,117104,59303,70000,68428,450000,46759,74130,103000,250000,10000,138000,45760,79833,50180,106000,112872,15966,76958,188000,105000,70139,6072,91000,45896,54742,60000,148261,38776,118000,120000,138350,110000,130800,21669,412000,45618,62726,49268,190200,105000,91237,62726,42197,82528,150000,235000,53192,100000,5409,270000,80000,79197,140000,54238,47282,153667,28476,59102,110000,170000,80000,88654,76833,19609,276000,29751,89294,12000,450000,70000,95746,75000,150000,36259,62000,73000,51519,187442,115000,150000,30428,94564,113476,103160,12000,45391,225000,50000,40189,90000,200000,60000,200000,50000,110037,10354,151000,120000,9466,20000,40570,100000,49646,38400,24000,100000,90000,63711,77364,220000,80000,135000,240000,150000,82500,100000,82744,62649,90000,153000,160000,168000,150000,75774,13400,144000,127221,119059,423000,120000,125000,230000,85000,28369,63831,130026,165000,80000,250000,55000,150000,170000,82528,60000,235000,60757,174000,2859,40038,81000,5679,22611,90734,26005,61896,12000,4000,50000,69741,76833,74000,152000,21844,18000,174000,96113,147000,9272,24342,54094,90000,61467,195000,37825,50000,160000,12901,200000,165000,20000,120000,24823,56738,66022,5882,24823,185000,28609,90734,88654,140000,46597,116914,33808,56256,225000,416000,87738,88654,135000,71786,16228,256000,200000,200000,180000,110000,63810,46809,4000,21637,103691,80000,110000,165000,18053,72212,36643,12103,96282,170000,115000,90000,600000,28399,93000,99703,200000,173762,185000,141846,130000,63831,16904,66265,25532,160000,93150,111775,28016,65013,72500,18907,76833,85000,77684,100000,58000,55000,20171,59102,112000,100000,69741,105000,69999,94665,102839,109000,51064,135000,155000,120600,130000,90000,170000,150000,102100,84900,136620,99360,117789,104702,146000,123000,52351,99000,116000,106260,126500,242000,200000,65438,39263,78526,52351,165220,45807,120160,90320,181940,132320,220110,160080,180000,120000,124190,130000,110000,170000,115500,112900,90320,112900,90320,165400,132320,167000,243900,136600,109280,128875,93700,224000,167875,175000,156600,108800,95550,113000,135000,161342,137141,167000,123000,78526,65438,150000,211500,192400,90700,130000,61300,130000,61300,160000,138600,136000,58000,135000,170000,123000,189650,164996,54957,54957,118187,132000,165400,208775,147800,136994,101570,128875,93700,79039,132320,37300,164000,155000,124333,98158,120000,112900,90320,145000,105400,87932,117789,215300,158200,209100,154600,115934,81666,175000,98158,58000,183600,52351,180000,71982,45807,65949,49461,78526,58894,260000,60000,63900,160000,112300,241000,159000,180000,80000,82900,100800,49461,140400,39263,43966,32974,87932,76940,104702,91614,65949,87932,189650,164996,43966,32974,98158,78526,215300,76940,209100,154600,180000,21983,80000,78791,196979,120000,125000,37236,105000,87932,18442,31615,58255,100000,54957,18442,162674,120000,144000,104890,100000,140000,135000,50000,220000,140000,183228,91614,185100,220000,200000,120000,120000,65000,324000,216000,210000,120000,230000,100000,100000,31875,200000,75000,35590,78791,100000,153000,58035,165000,93427,52396,62651,32974,40000,87425,115000,86703,75000,64849,120000,157000,150000,70912,65000,71444,20000,48000,152500,68147,122346,380000,69336,10000,20000,405000,135000,177000,78000,135000,100000,90320,85000,75000,214000,192600,266400,213120,112900,155000,141300,102100,115934,81666,206699,99100,130000,115000,110500,130000,99050,160000,205300,140400,176000,144000,200100,160000,145000,70500,205300,140400,205300,184700,175100,140250,116150,54000,170000,65438,80000,140000,210000,140000,100000,69000,210000,140000,210000,150075,100000,25000,126500,106260,220110,160080,105000,110925,45807,140000,99000,60000,192564,144854,230000,150000,150260,109280,210000,170000,160000,130000,67000,52000,154000,126000,129000,150000,200000],\"xaxis\":\"x\",\"y\":[\"salary\",\"salary\",\"salary\",\"salary\",\"salary\",\"salary\",\"salary\",\"salary\",\"salary\",\"salary\",\"salary\",\"salary\",\"salary\",\"salary\",\"salary\",\"salary\",\"salary\",\"salary\",\"salary\",\"salary\",\"salary\",\"salary\",\"salary\",\"salary\",\"salary\",\"salary\",\"salary\",\"salary\",\"salary\",\"salary\",\"salary\",\"salary\",\"salary\",\"salary\",\"salary\",\"salary\",\"salary\",\"salary\",\"salary\",\"salary\",\"salary\",\"salary\",\"salary\",\"salary\",\"salary\",\"salary\",\"salary\",\"salary\",\"salary\",\"salary\",\"salary\",\"salary\",\"salary\",\"salary\",\"salary\",\"salary\",\"salary\",\"salary\",\"salary\",\"salary\",\"salary\",\"salary\",\"salary\",\"salary\",\"salary\",\"salary\",\"salary\",\"salary\",\"salary\",\"salary\",\"salary\",\"salary\",\"salary\",\"salary\",\"salary\",\"salary\",\"salary\",\"salary\",\"salary\",\"salary\",\"salary\",\"salary\",\"salary\",\"salary\",\"salary\",\"salary\",\"salary\",\"salary\",\"salary\",\"salary\",\"salary\",\"salary\",\"salary\",\"salary\",\"salary\",\"salary\",\"salary\",\"salary\",\"salary\",\"salary\",\"salary\",\"salary\",\"salary\",\"salary\",\"salary\",\"salary\",\"salary\",\"salary\",\"salary\",\"salary\",\"salary\",\"salary\",\"salary\",\"salary\",\"salary\",\"salary\",\"salary\",\"salary\",\"salary\",\"salary\",\"salary\",\"salary\",\"salary\",\"salary\",\"salary\",\"salary\",\"salary\",\"salary\",\"salary\",\"salary\",\"salary\",\"salary\",\"salary\",\"salary\",\"salary\",\"salary\",\"salary\",\"salary\",\"salary\",\"salary\",\"salary\",\"salary\",\"salary\",\"salary\",\"salary\",\"salary\",\"salary\",\"salary\",\"salary\",\"salary\",\"salary\",\"salary\",\"salary\",\"salary\",\"salary\",\"salary\",\"salary\",\"salary\",\"salary\",\"salary\",\"salary\",\"salary\",\"salary\",\"salary\",\"salary\",\"salary\",\"salary\",\"salary\",\"salary\",\"salary\",\"salary\",\"salary\",\"salary\",\"salary\",\"salary\",\"salary\",\"salary\",\"salary\",\"salary\",\"salary\",\"salary\",\"salary\",\"salary\",\"salary\",\"salary\",\"salary\",\"salary\",\"salary\",\"salary\",\"salary\",\"salary\",\"salary\",\"salary\",\"salary\",\"salary\",\"salary\",\"salary\",\"salary\",\"salary\",\"salary\",\"salary\",\"salary\",\"salary\",\"salary\",\"salary\",\"salary\",\"salary\",\"salary\",\"salary\",\"salary\",\"salary\",\"salary\",\"salary\",\"salary\",\"salary\",\"salary\",\"salary\",\"salary\",\"salary\",\"salary\",\"salary\",\"salary\",\"salary\",\"salary\",\"salary\",\"salary\",\"salary\",\"salary\",\"salary\",\"salary\",\"salary\",\"salary\",\"salary\",\"salary\",\"salary\",\"salary\",\"salary\",\"salary\",\"salary\",\"salary\",\"salary\",\"salary\",\"salary\",\"salary\",\"salary\",\"salary\",\"salary\",\"salary\",\"salary\",\"salary\",\"salary\",\"salary\",\"salary\",\"salary\",\"salary\",\"salary\",\"salary\",\"salary\",\"salary\",\"salary\",\"salary\",\"salary\",\"salary\",\"salary\",\"salary\",\"salary\",\"salary\",\"salary\",\"salary\",\"salary\",\"salary\",\"salary\",\"salary\",\"salary\",\"salary\",\"salary\",\"salary\",\"salary\",\"salary\",\"salary\",\"salary\",\"salary\",\"salary\",\"salary\",\"salary\",\"salary\",\"salary\",\"salary\",\"salary\",\"salary\",\"salary\",\"salary\",\"salary\",\"salary\",\"salary\",\"salary\",\"salary\",\"salary\",\"salary\",\"salary\",\"salary\",\"salary\",\"salary\",\"salary\",\"salary\",\"salary\",\"salary\",\"salary\",\"salary\",\"salary\",\"salary\",\"salary\",\"salary\",\"salary\",\"salary\",\"salary\",\"salary\",\"salary\",\"salary\",\"salary\",\"salary\",\"salary\",\"salary\",\"salary\",\"salary\",\"salary\",\"salary\",\"salary\",\"salary\",\"salary\",\"salary\",\"salary\",\"salary\",\"salary\",\"salary\",\"salary\",\"salary\",\"salary\",\"salary\",\"salary\",\"salary\",\"salary\",\"salary\",\"salary\",\"salary\",\"salary\",\"salary\",\"salary\",\"salary\",\"salary\",\"salary\",\"salary\",\"salary\",\"salary\",\"salary\",\"salary\",\"salary\",\"salary\",\"salary\",\"salary\",\"salary\",\"salary\",\"salary\",\"salary\",\"salary\",\"salary\",\"salary\",\"salary\",\"salary\",\"salary\",\"salary\",\"salary\",\"salary\",\"salary\",\"salary\",\"salary\",\"salary\",\"salary\",\"salary\",\"salary\",\"salary\",\"salary\",\"salary\",\"salary\",\"salary\",\"salary\",\"salary\",\"salary\",\"salary\",\"salary\",\"salary\",\"salary\",\"salary\",\"salary\",\"salary\",\"salary\",\"salary\",\"salary\",\"salary\",\"salary\",\"salary\",\"salary\",\"salary\",\"salary\",\"salary\",\"salary\",\"salary\",\"salary\",\"salary\",\"salary\",\"salary\",\"salary\",\"salary\",\"salary\",\"salary\",\"salary\",\"salary\",\"salary\",\"salary\",\"salary\",\"salary\",\"salary\",\"salary\",\"salary\",\"salary\",\"salary\",\"salary\",\"salary\",\"salary\",\"salary\",\"salary\",\"salary\",\"salary\",\"salary\",\"salary\",\"salary\",\"salary\",\"salary\",\"salary\",\"salary\",\"salary\",\"salary\",\"salary\",\"salary\",\"salary\",\"salary\",\"salary\",\"salary\",\"salary\",\"salary\",\"salary\",\"salary\",\"salary\",\"salary\",\"salary\",\"salary\",\"salary\",\"salary\",\"salary\",\"salary\",\"salary\",\"salary\",\"salary\",\"salary\",\"salary\",\"salary\",\"salary\",\"salary\",\"salary\",\"salary\",\"salary\",\"salary\",\"salary\",\"salary\",\"salary\",\"salary\",\"salary\",\"salary\",\"salary\",\"salary\",\"salary\",\"salary\",\"salary\",\"salary\",\"salary\",\"salary\",\"salary\",\"salary\",\"salary\",\"salary\",\"salary\",\"salary\",\"salary\",\"salary\",\"salary\",\"salary\",\"salary\",\"salary\",\"salary\",\"salary\",\"salary\",\"salary\",\"salary\",\"salary\",\"salary\",\"salary\",\"salary\",\"salary\",\"salary\",\"salary\",\"salary\",\"salary\",\"salary\",\"salary\",\"salary\",\"salary\",\"salary\",\"salary\",\"salary\",\"salary\",\"salary\",\"salary\",\"salary\",\"salary\",\"salary\",\"salary\",\"salary\",\"salary\",\"salary\",\"salary\",\"salary\",\"salary\",\"salary\",\"salary\",\"salary\",\"salary\",\"salary\",\"salary\",\"salary\",\"salary\",\"salary\",\"salary\",\"salary\",\"salary\",\"salary\",\"salary\",\"salary\",\"salary\",\"salary\",\"salary\",\"salary\",\"salary\",\"salary\",\"salary\",\"salary\",\"salary\",\"salary\",\"salary\",\"salary\",\"salary\",\"salary\",\"salary\",\"salary\",\"salary\",\"salary\",\"salary\",\"salary\",\"salary\",\"salary\",\"salary\",\"salary\",\"salary\",\"salary\",\"salary\",\"salary\",\"salary\",\"salary\",\"salary\",\"salary\",\"salary\",\"salary\",\"salary\",\"salary\",\"salary\",\"salary\",\"salary\",\"salary\",\"salary\",\"salary\",\"salary\",\"salary\",\"salary\",\"salary\",\"salary\",\"salary\",\"salary\",\"salary\",\"salary\",\"salary\",\"salary\",\"salary\",\"salary\",\"salary\",\"salary\",\"salary\",\"salary\",\"salary\"],\"yaxis\":\"y2\",\"type\":\"scatter\"}],                        {\"barmode\":\"overlay\",\"hovermode\":\"closest\",\"legend\":{\"traceorder\":\"reversed\"},\"xaxis\":{\"anchor\":\"y2\",\"domain\":[0.0,1.0],\"zeroline\":false},\"yaxis\":{\"anchor\":\"free\",\"domain\":[0.35,1],\"position\":0.0},\"yaxis2\":{\"anchor\":\"x\",\"domain\":[0,0.25],\"dtick\":1,\"showticklabels\":false},\"template\":{\"data\":{\"barpolar\":[{\"marker\":{\"line\":{\"color\":\"rgb(17,17,17)\",\"width\":0.5},\"pattern\":{\"fillmode\":\"overlay\",\"size\":10,\"solidity\":0.2}},\"type\":\"barpolar\"}],\"bar\":[{\"error_x\":{\"color\":\"#f2f5fa\"},\"error_y\":{\"color\":\"#f2f5fa\"},\"marker\":{\"line\":{\"color\":\"rgb(17,17,17)\",\"width\":0.5},\"pattern\":{\"fillmode\":\"overlay\",\"size\":10,\"solidity\":0.2}},\"type\":\"bar\"}],\"carpet\":[{\"aaxis\":{\"endlinecolor\":\"#A2B1C6\",\"gridcolor\":\"#506784\",\"linecolor\":\"#506784\",\"minorgridcolor\":\"#506784\",\"startlinecolor\":\"#A2B1C6\"},\"baxis\":{\"endlinecolor\":\"#A2B1C6\",\"gridcolor\":\"#506784\",\"linecolor\":\"#506784\",\"minorgridcolor\":\"#506784\",\"startlinecolor\":\"#A2B1C6\"},\"type\":\"carpet\"}],\"choropleth\":[{\"colorbar\":{\"outlinewidth\":0,\"ticks\":\"\"},\"type\":\"choropleth\"}],\"contourcarpet\":[{\"colorbar\":{\"outlinewidth\":0,\"ticks\":\"\"},\"type\":\"contourcarpet\"}],\"contour\":[{\"colorbar\":{\"outlinewidth\":0,\"ticks\":\"\"},\"colorscale\":[[0.0,\"#0d0887\"],[0.1111111111111111,\"#46039f\"],[0.2222222222222222,\"#7201a8\"],[0.3333333333333333,\"#9c179e\"],[0.4444444444444444,\"#bd3786\"],[0.5555555555555556,\"#d8576b\"],[0.6666666666666666,\"#ed7953\"],[0.7777777777777778,\"#fb9f3a\"],[0.8888888888888888,\"#fdca26\"],[1.0,\"#f0f921\"]],\"type\":\"contour\"}],\"heatmapgl\":[{\"colorbar\":{\"outlinewidth\":0,\"ticks\":\"\"},\"colorscale\":[[0.0,\"#0d0887\"],[0.1111111111111111,\"#46039f\"],[0.2222222222222222,\"#7201a8\"],[0.3333333333333333,\"#9c179e\"],[0.4444444444444444,\"#bd3786\"],[0.5555555555555556,\"#d8576b\"],[0.6666666666666666,\"#ed7953\"],[0.7777777777777778,\"#fb9f3a\"],[0.8888888888888888,\"#fdca26\"],[1.0,\"#f0f921\"]],\"type\":\"heatmapgl\"}],\"heatmap\":[{\"colorbar\":{\"outlinewidth\":0,\"ticks\":\"\"},\"colorscale\":[[0.0,\"#0d0887\"],[0.1111111111111111,\"#46039f\"],[0.2222222222222222,\"#7201a8\"],[0.3333333333333333,\"#9c179e\"],[0.4444444444444444,\"#bd3786\"],[0.5555555555555556,\"#d8576b\"],[0.6666666666666666,\"#ed7953\"],[0.7777777777777778,\"#fb9f3a\"],[0.8888888888888888,\"#fdca26\"],[1.0,\"#f0f921\"]],\"type\":\"heatmap\"}],\"histogram2dcontour\":[{\"colorbar\":{\"outlinewidth\":0,\"ticks\":\"\"},\"colorscale\":[[0.0,\"#0d0887\"],[0.1111111111111111,\"#46039f\"],[0.2222222222222222,\"#7201a8\"],[0.3333333333333333,\"#9c179e\"],[0.4444444444444444,\"#bd3786\"],[0.5555555555555556,\"#d8576b\"],[0.6666666666666666,\"#ed7953\"],[0.7777777777777778,\"#fb9f3a\"],[0.8888888888888888,\"#fdca26\"],[1.0,\"#f0f921\"]],\"type\":\"histogram2dcontour\"}],\"histogram2d\":[{\"colorbar\":{\"outlinewidth\":0,\"ticks\":\"\"},\"colorscale\":[[0.0,\"#0d0887\"],[0.1111111111111111,\"#46039f\"],[0.2222222222222222,\"#7201a8\"],[0.3333333333333333,\"#9c179e\"],[0.4444444444444444,\"#bd3786\"],[0.5555555555555556,\"#d8576b\"],[0.6666666666666666,\"#ed7953\"],[0.7777777777777778,\"#fb9f3a\"],[0.8888888888888888,\"#fdca26\"],[1.0,\"#f0f921\"]],\"type\":\"histogram2d\"}],\"histogram\":[{\"marker\":{\"pattern\":{\"fillmode\":\"overlay\",\"size\":10,\"solidity\":0.2}},\"type\":\"histogram\"}],\"mesh3d\":[{\"colorbar\":{\"outlinewidth\":0,\"ticks\":\"\"},\"type\":\"mesh3d\"}],\"parcoords\":[{\"line\":{\"colorbar\":{\"outlinewidth\":0,\"ticks\":\"\"}},\"type\":\"parcoords\"}],\"pie\":[{\"automargin\":true,\"type\":\"pie\"}],\"scatter3d\":[{\"line\":{\"colorbar\":{\"outlinewidth\":0,\"ticks\":\"\"}},\"marker\":{\"colorbar\":{\"outlinewidth\":0,\"ticks\":\"\"}},\"type\":\"scatter3d\"}],\"scattercarpet\":[{\"marker\":{\"colorbar\":{\"outlinewidth\":0,\"ticks\":\"\"}},\"type\":\"scattercarpet\"}],\"scattergeo\":[{\"marker\":{\"colorbar\":{\"outlinewidth\":0,\"ticks\":\"\"}},\"type\":\"scattergeo\"}],\"scattergl\":[{\"marker\":{\"line\":{\"color\":\"#283442\"}},\"type\":\"scattergl\"}],\"scattermapbox\":[{\"marker\":{\"colorbar\":{\"outlinewidth\":0,\"ticks\":\"\"}},\"type\":\"scattermapbox\"}],\"scatterpolargl\":[{\"marker\":{\"colorbar\":{\"outlinewidth\":0,\"ticks\":\"\"}},\"type\":\"scatterpolargl\"}],\"scatterpolar\":[{\"marker\":{\"colorbar\":{\"outlinewidth\":0,\"ticks\":\"\"}},\"type\":\"scatterpolar\"}],\"scatter\":[{\"marker\":{\"line\":{\"color\":\"#283442\"}},\"type\":\"scatter\"}],\"scatterternary\":[{\"marker\":{\"colorbar\":{\"outlinewidth\":0,\"ticks\":\"\"}},\"type\":\"scatterternary\"}],\"surface\":[{\"colorbar\":{\"outlinewidth\":0,\"ticks\":\"\"},\"colorscale\":[[0.0,\"#0d0887\"],[0.1111111111111111,\"#46039f\"],[0.2222222222222222,\"#7201a8\"],[0.3333333333333333,\"#9c179e\"],[0.4444444444444444,\"#bd3786\"],[0.5555555555555556,\"#d8576b\"],[0.6666666666666666,\"#ed7953\"],[0.7777777777777778,\"#fb9f3a\"],[0.8888888888888888,\"#fdca26\"],[1.0,\"#f0f921\"]],\"type\":\"surface\"}],\"table\":[{\"cells\":{\"fill\":{\"color\":\"#506784\"},\"line\":{\"color\":\"rgb(17,17,17)\"}},\"header\":{\"fill\":{\"color\":\"#2a3f5f\"},\"line\":{\"color\":\"rgb(17,17,17)\"}},\"type\":\"table\"}]},\"layout\":{\"annotationdefaults\":{\"arrowcolor\":\"#f2f5fa\",\"arrowhead\":0,\"arrowwidth\":1},\"autotypenumbers\":\"strict\",\"coloraxis\":{\"colorbar\":{\"outlinewidth\":0,\"ticks\":\"\"}},\"colorscale\":{\"diverging\":[[0,\"#8e0152\"],[0.1,\"#c51b7d\"],[0.2,\"#de77ae\"],[0.3,\"#f1b6da\"],[0.4,\"#fde0ef\"],[0.5,\"#f7f7f7\"],[0.6,\"#e6f5d0\"],[0.7,\"#b8e186\"],[0.8,\"#7fbc41\"],[0.9,\"#4d9221\"],[1,\"#276419\"]],\"sequential\":[[0.0,\"#0d0887\"],[0.1111111111111111,\"#46039f\"],[0.2222222222222222,\"#7201a8\"],[0.3333333333333333,\"#9c179e\"],[0.4444444444444444,\"#bd3786\"],[0.5555555555555556,\"#d8576b\"],[0.6666666666666666,\"#ed7953\"],[0.7777777777777778,\"#fb9f3a\"],[0.8888888888888888,\"#fdca26\"],[1.0,\"#f0f921\"]],\"sequentialminus\":[[0.0,\"#0d0887\"],[0.1111111111111111,\"#46039f\"],[0.2222222222222222,\"#7201a8\"],[0.3333333333333333,\"#9c179e\"],[0.4444444444444444,\"#bd3786\"],[0.5555555555555556,\"#d8576b\"],[0.6666666666666666,\"#ed7953\"],[0.7777777777777778,\"#fb9f3a\"],[0.8888888888888888,\"#fdca26\"],[1.0,\"#f0f921\"]]},\"colorway\":[\"#636efa\",\"#EF553B\",\"#00cc96\",\"#ab63fa\",\"#FFA15A\",\"#19d3f3\",\"#FF6692\",\"#B6E880\",\"#FF97FF\",\"#FECB52\"],\"font\":{\"color\":\"#f2f5fa\"},\"geo\":{\"bgcolor\":\"rgb(17,17,17)\",\"lakecolor\":\"rgb(17,17,17)\",\"landcolor\":\"rgb(17,17,17)\",\"showlakes\":true,\"showland\":true,\"subunitcolor\":\"#506784\"},\"hoverlabel\":{\"align\":\"left\"},\"hovermode\":\"closest\",\"mapbox\":{\"style\":\"dark\"},\"paper_bgcolor\":\"rgb(17,17,17)\",\"plot_bgcolor\":\"rgb(17,17,17)\",\"polar\":{\"angularaxis\":{\"gridcolor\":\"#506784\",\"linecolor\":\"#506784\",\"ticks\":\"\"},\"bgcolor\":\"rgb(17,17,17)\",\"radialaxis\":{\"gridcolor\":\"#506784\",\"linecolor\":\"#506784\",\"ticks\":\"\"}},\"scene\":{\"xaxis\":{\"backgroundcolor\":\"rgb(17,17,17)\",\"gridcolor\":\"#506784\",\"gridwidth\":2,\"linecolor\":\"#506784\",\"showbackground\":true,\"ticks\":\"\",\"zerolinecolor\":\"#C8D4E3\"},\"yaxis\":{\"backgroundcolor\":\"rgb(17,17,17)\",\"gridcolor\":\"#506784\",\"gridwidth\":2,\"linecolor\":\"#506784\",\"showbackground\":true,\"ticks\":\"\",\"zerolinecolor\":\"#C8D4E3\"},\"zaxis\":{\"backgroundcolor\":\"rgb(17,17,17)\",\"gridcolor\":\"#506784\",\"gridwidth\":2,\"linecolor\":\"#506784\",\"showbackground\":true,\"ticks\":\"\",\"zerolinecolor\":\"#C8D4E3\"}},\"shapedefaults\":{\"line\":{\"color\":\"#f2f5fa\"}},\"sliderdefaults\":{\"bgcolor\":\"#C8D4E3\",\"bordercolor\":\"rgb(17,17,17)\",\"borderwidth\":1,\"tickwidth\":0},\"ternary\":{\"aaxis\":{\"gridcolor\":\"#506784\",\"linecolor\":\"#506784\",\"ticks\":\"\"},\"baxis\":{\"gridcolor\":\"#506784\",\"linecolor\":\"#506784\",\"ticks\":\"\"},\"bgcolor\":\"rgb(17,17,17)\",\"caxis\":{\"gridcolor\":\"#506784\",\"linecolor\":\"#506784\",\"ticks\":\"\"}},\"title\":{\"x\":0.05},\"updatemenudefaults\":{\"bgcolor\":\"#506784\",\"borderwidth\":0},\"xaxis\":{\"automargin\":true,\"gridcolor\":\"#283442\",\"linecolor\":\"#506784\",\"ticks\":\"\",\"title\":{\"standoff\":15},\"zerolinecolor\":\"#283442\",\"zerolinewidth\":2},\"yaxis\":{\"automargin\":true,\"gridcolor\":\"#283442\",\"linecolor\":\"#506784\",\"ticks\":\"\",\"title\":{\"standoff\":15},\"zerolinecolor\":\"#283442\",\"zerolinewidth\":2}}},\"font\":{\"size\":17,\"family\":\"Franklin Gothic\"},\"title\":{\"text\":\"Salary in USD\",\"x\":0.5}},                        {\"responsive\": true}                    ).then(function(){\n",
              "                            \n",
              "var gd = document.getElementById('51072da9-44c6-4600-980f-53ea73336e18');\n",
              "var x = new MutationObserver(function (mutations, observer) {{\n",
              "        var display = window.getComputedStyle(gd).display;\n",
              "        if (!display || display === 'none') {{\n",
              "            console.log([gd, 'removed!']);\n",
              "            Plotly.purge(gd);\n",
              "            observer.disconnect();\n",
              "        }}\n",
              "}});\n",
              "\n",
              "// Listen for the removal of the full notebook cells\n",
              "var notebookContainer = gd.closest('#notebook-container');\n",
              "if (notebookContainer) {{\n",
              "    x.observe(notebookContainer, {childList: true});\n",
              "}}\n",
              "\n",
              "// Listen for the clearing of the current output cell\n",
              "var outputEl = gd.closest('.output');\n",
              "if (outputEl) {{\n",
              "    x.observe(outputEl, {childList: true});\n",
              "}}\n",
              "\n",
              "                        })                };                });            </script>        </div>"
            ]
          },
          "metadata": {}
        }
      ]
    },
    {
      "cell_type": "markdown",
      "source": [
        "It is evident that the salary distribution in USD is predominantly concentrated within the range of 95/100k to 175/180k."
      ],
      "metadata": {
        "id": "R4CnrAYKrWc0"
      }
    },
    {
      "cell_type": "code",
      "source": [
        "# Polar Scatter plot for visualization for work place w.r.t year\n",
        "remote_year = df.groupby(['work_year','remote_ratio']).size()\n",
        "ratio_2020 = np.round(remote_year[2020].values/remote_year[2020].values.sum(),2)\n",
        "ratio_2021 = np.round(remote_year[2021].values/remote_year[2021].values.sum(),2)\n",
        "ratio_2022 = np.round(remote_year[2022].values/remote_year[2022].values.sum(),2)\n",
        "fig = go.Figure()\n",
        "categories = ['No Remote Work', 'Partially Remote', 'Fully Remote']\n",
        "fig.add_trace(go.Scatterpolar(\n",
        "             r = ratio_2020,\n",
        "             theta = categories,\n",
        "             fill = 'toself',\n",
        "             name = '2020 remote ratio'\n",
        "             ))\n",
        "fig.add_trace(go.Scatterpolar(\n",
        "             r = ratio_2021,\n",
        "             theta = categories,\n",
        "             fill = 'toself',\n",
        "             name = '2021 remote ratio'\n",
        "             ))\n",
        "fig.add_trace(go.Scatterpolar(\n",
        "             r = ratio_2022,\n",
        "             theta = categories,\n",
        "             fill = 'toself',\n",
        "             name = '2022 remote ratio'\n",
        "             ))\n",
        "\n",
        "fig.update_layout(\n",
        "  polar=dict(\n",
        "    radialaxis=dict(\n",
        "      range=[0, 0.75]\n",
        "    )),\n",
        "  font = dict(family=\"Franklin Gothic\", size=17),\n",
        "  showlegend=True,\n",
        "  title = 'Remote Ratio by Work Year',\n",
        "  title_x=0.5\n",
        ")\n",
        "fig.layout.template = 'plotly_dark'\n",
        "fig.show()"
      ],
      "metadata": {
        "colab": {
          "base_uri": "https://localhost:8080/",
          "height": 542
        },
        "id": "bjFXiCT_mYLD",
        "outputId": "70ce75f9-d999-4b8a-db32-18303a437f14"
      },
      "execution_count": 18,
      "outputs": [
        {
          "output_type": "display_data",
          "data": {
            "application/vnd.plotly.v1+json": {
              "data": [
                {
                  "fill": "toself",
                  "name": "2020 remote ratio",
                  "r": [
                    0.5,
                    0.21,
                    0.29
                  ],
                  "theta": [
                    "No Remote Work",
                    "Partially Remote",
                    "Fully Remote"
                  ],
                  "type": "scatterpolar"
                },
                {
                  "fill": "toself",
                  "name": "2021 remote ratio",
                  "r": [
                    0.54,
                    0.16,
                    0.3
                  ],
                  "theta": [
                    "No Remote Work",
                    "Partially Remote",
                    "Fully Remote"
                  ],
                  "type": "scatterpolar"
                },
                {
                  "fill": "toself",
                  "name": "2022 remote ratio",
                  "r": [
                    0.72,
                    0.25,
                    0.04
                  ],
                  "theta": [
                    "No Remote Work",
                    "Partially Remote",
                    "Fully Remote"
                  ],
                  "type": "scatterpolar"
                }
              ],
              "layout": {
                "template": {
                  "data": {
                    "barpolar": [
                      {
                        "marker": {
                          "line": {
                            "color": "rgb(17,17,17)",
                            "width": 0.5
                          },
                          "pattern": {
                            "fillmode": "overlay",
                            "size": 10,
                            "solidity": 0.2
                          }
                        },
                        "type": "barpolar"
                      }
                    ],
                    "bar": [
                      {
                        "error_x": {
                          "color": "#f2f5fa"
                        },
                        "error_y": {
                          "color": "#f2f5fa"
                        },
                        "marker": {
                          "line": {
                            "color": "rgb(17,17,17)",
                            "width": 0.5
                          },
                          "pattern": {
                            "fillmode": "overlay",
                            "size": 10,
                            "solidity": 0.2
                          }
                        },
                        "type": "bar"
                      }
                    ],
                    "carpet": [
                      {
                        "aaxis": {
                          "endlinecolor": "#A2B1C6",
                          "gridcolor": "#506784",
                          "linecolor": "#506784",
                          "minorgridcolor": "#506784",
                          "startlinecolor": "#A2B1C6"
                        },
                        "baxis": {
                          "endlinecolor": "#A2B1C6",
                          "gridcolor": "#506784",
                          "linecolor": "#506784",
                          "minorgridcolor": "#506784",
                          "startlinecolor": "#A2B1C6"
                        },
                        "type": "carpet"
                      }
                    ],
                    "choropleth": [
                      {
                        "colorbar": {
                          "outlinewidth": 0,
                          "ticks": ""
                        },
                        "type": "choropleth"
                      }
                    ],
                    "contourcarpet": [
                      {
                        "colorbar": {
                          "outlinewidth": 0,
                          "ticks": ""
                        },
                        "type": "contourcarpet"
                      }
                    ],
                    "contour": [
                      {
                        "colorbar": {
                          "outlinewidth": 0,
                          "ticks": ""
                        },
                        "colorscale": [
                          [
                            0,
                            "#0d0887"
                          ],
                          [
                            0.1111111111111111,
                            "#46039f"
                          ],
                          [
                            0.2222222222222222,
                            "#7201a8"
                          ],
                          [
                            0.3333333333333333,
                            "#9c179e"
                          ],
                          [
                            0.4444444444444444,
                            "#bd3786"
                          ],
                          [
                            0.5555555555555556,
                            "#d8576b"
                          ],
                          [
                            0.6666666666666666,
                            "#ed7953"
                          ],
                          [
                            0.7777777777777778,
                            "#fb9f3a"
                          ],
                          [
                            0.8888888888888888,
                            "#fdca26"
                          ],
                          [
                            1,
                            "#f0f921"
                          ]
                        ],
                        "type": "contour"
                      }
                    ],
                    "heatmapgl": [
                      {
                        "colorbar": {
                          "outlinewidth": 0,
                          "ticks": ""
                        },
                        "colorscale": [
                          [
                            0,
                            "#0d0887"
                          ],
                          [
                            0.1111111111111111,
                            "#46039f"
                          ],
                          [
                            0.2222222222222222,
                            "#7201a8"
                          ],
                          [
                            0.3333333333333333,
                            "#9c179e"
                          ],
                          [
                            0.4444444444444444,
                            "#bd3786"
                          ],
                          [
                            0.5555555555555556,
                            "#d8576b"
                          ],
                          [
                            0.6666666666666666,
                            "#ed7953"
                          ],
                          [
                            0.7777777777777778,
                            "#fb9f3a"
                          ],
                          [
                            0.8888888888888888,
                            "#fdca26"
                          ],
                          [
                            1,
                            "#f0f921"
                          ]
                        ],
                        "type": "heatmapgl"
                      }
                    ],
                    "heatmap": [
                      {
                        "colorbar": {
                          "outlinewidth": 0,
                          "ticks": ""
                        },
                        "colorscale": [
                          [
                            0,
                            "#0d0887"
                          ],
                          [
                            0.1111111111111111,
                            "#46039f"
                          ],
                          [
                            0.2222222222222222,
                            "#7201a8"
                          ],
                          [
                            0.3333333333333333,
                            "#9c179e"
                          ],
                          [
                            0.4444444444444444,
                            "#bd3786"
                          ],
                          [
                            0.5555555555555556,
                            "#d8576b"
                          ],
                          [
                            0.6666666666666666,
                            "#ed7953"
                          ],
                          [
                            0.7777777777777778,
                            "#fb9f3a"
                          ],
                          [
                            0.8888888888888888,
                            "#fdca26"
                          ],
                          [
                            1,
                            "#f0f921"
                          ]
                        ],
                        "type": "heatmap"
                      }
                    ],
                    "histogram2dcontour": [
                      {
                        "colorbar": {
                          "outlinewidth": 0,
                          "ticks": ""
                        },
                        "colorscale": [
                          [
                            0,
                            "#0d0887"
                          ],
                          [
                            0.1111111111111111,
                            "#46039f"
                          ],
                          [
                            0.2222222222222222,
                            "#7201a8"
                          ],
                          [
                            0.3333333333333333,
                            "#9c179e"
                          ],
                          [
                            0.4444444444444444,
                            "#bd3786"
                          ],
                          [
                            0.5555555555555556,
                            "#d8576b"
                          ],
                          [
                            0.6666666666666666,
                            "#ed7953"
                          ],
                          [
                            0.7777777777777778,
                            "#fb9f3a"
                          ],
                          [
                            0.8888888888888888,
                            "#fdca26"
                          ],
                          [
                            1,
                            "#f0f921"
                          ]
                        ],
                        "type": "histogram2dcontour"
                      }
                    ],
                    "histogram2d": [
                      {
                        "colorbar": {
                          "outlinewidth": 0,
                          "ticks": ""
                        },
                        "colorscale": [
                          [
                            0,
                            "#0d0887"
                          ],
                          [
                            0.1111111111111111,
                            "#46039f"
                          ],
                          [
                            0.2222222222222222,
                            "#7201a8"
                          ],
                          [
                            0.3333333333333333,
                            "#9c179e"
                          ],
                          [
                            0.4444444444444444,
                            "#bd3786"
                          ],
                          [
                            0.5555555555555556,
                            "#d8576b"
                          ],
                          [
                            0.6666666666666666,
                            "#ed7953"
                          ],
                          [
                            0.7777777777777778,
                            "#fb9f3a"
                          ],
                          [
                            0.8888888888888888,
                            "#fdca26"
                          ],
                          [
                            1,
                            "#f0f921"
                          ]
                        ],
                        "type": "histogram2d"
                      }
                    ],
                    "histogram": [
                      {
                        "marker": {
                          "pattern": {
                            "fillmode": "overlay",
                            "size": 10,
                            "solidity": 0.2
                          }
                        },
                        "type": "histogram"
                      }
                    ],
                    "mesh3d": [
                      {
                        "colorbar": {
                          "outlinewidth": 0,
                          "ticks": ""
                        },
                        "type": "mesh3d"
                      }
                    ],
                    "parcoords": [
                      {
                        "line": {
                          "colorbar": {
                            "outlinewidth": 0,
                            "ticks": ""
                          }
                        },
                        "type": "parcoords"
                      }
                    ],
                    "pie": [
                      {
                        "automargin": true,
                        "type": "pie"
                      }
                    ],
                    "scatter3d": [
                      {
                        "line": {
                          "colorbar": {
                            "outlinewidth": 0,
                            "ticks": ""
                          }
                        },
                        "marker": {
                          "colorbar": {
                            "outlinewidth": 0,
                            "ticks": ""
                          }
                        },
                        "type": "scatter3d"
                      }
                    ],
                    "scattercarpet": [
                      {
                        "marker": {
                          "colorbar": {
                            "outlinewidth": 0,
                            "ticks": ""
                          }
                        },
                        "type": "scattercarpet"
                      }
                    ],
                    "scattergeo": [
                      {
                        "marker": {
                          "colorbar": {
                            "outlinewidth": 0,
                            "ticks": ""
                          }
                        },
                        "type": "scattergeo"
                      }
                    ],
                    "scattergl": [
                      {
                        "marker": {
                          "line": {
                            "color": "#283442"
                          }
                        },
                        "type": "scattergl"
                      }
                    ],
                    "scattermapbox": [
                      {
                        "marker": {
                          "colorbar": {
                            "outlinewidth": 0,
                            "ticks": ""
                          }
                        },
                        "type": "scattermapbox"
                      }
                    ],
                    "scatterpolargl": [
                      {
                        "marker": {
                          "colorbar": {
                            "outlinewidth": 0,
                            "ticks": ""
                          }
                        },
                        "type": "scatterpolargl"
                      }
                    ],
                    "scatterpolar": [
                      {
                        "marker": {
                          "colorbar": {
                            "outlinewidth": 0,
                            "ticks": ""
                          }
                        },
                        "type": "scatterpolar"
                      }
                    ],
                    "scatter": [
                      {
                        "marker": {
                          "line": {
                            "color": "#283442"
                          }
                        },
                        "type": "scatter"
                      }
                    ],
                    "scatterternary": [
                      {
                        "marker": {
                          "colorbar": {
                            "outlinewidth": 0,
                            "ticks": ""
                          }
                        },
                        "type": "scatterternary"
                      }
                    ],
                    "surface": [
                      {
                        "colorbar": {
                          "outlinewidth": 0,
                          "ticks": ""
                        },
                        "colorscale": [
                          [
                            0,
                            "#0d0887"
                          ],
                          [
                            0.1111111111111111,
                            "#46039f"
                          ],
                          [
                            0.2222222222222222,
                            "#7201a8"
                          ],
                          [
                            0.3333333333333333,
                            "#9c179e"
                          ],
                          [
                            0.4444444444444444,
                            "#bd3786"
                          ],
                          [
                            0.5555555555555556,
                            "#d8576b"
                          ],
                          [
                            0.6666666666666666,
                            "#ed7953"
                          ],
                          [
                            0.7777777777777778,
                            "#fb9f3a"
                          ],
                          [
                            0.8888888888888888,
                            "#fdca26"
                          ],
                          [
                            1,
                            "#f0f921"
                          ]
                        ],
                        "type": "surface"
                      }
                    ],
                    "table": [
                      {
                        "cells": {
                          "fill": {
                            "color": "#506784"
                          },
                          "line": {
                            "color": "rgb(17,17,17)"
                          }
                        },
                        "header": {
                          "fill": {
                            "color": "#2a3f5f"
                          },
                          "line": {
                            "color": "rgb(17,17,17)"
                          }
                        },
                        "type": "table"
                      }
                    ]
                  },
                  "layout": {
                    "annotationdefaults": {
                      "arrowcolor": "#f2f5fa",
                      "arrowhead": 0,
                      "arrowwidth": 1
                    },
                    "autotypenumbers": "strict",
                    "coloraxis": {
                      "colorbar": {
                        "outlinewidth": 0,
                        "ticks": ""
                      }
                    },
                    "colorscale": {
                      "diverging": [
                        [
                          0,
                          "#8e0152"
                        ],
                        [
                          0.1,
                          "#c51b7d"
                        ],
                        [
                          0.2,
                          "#de77ae"
                        ],
                        [
                          0.3,
                          "#f1b6da"
                        ],
                        [
                          0.4,
                          "#fde0ef"
                        ],
                        [
                          0.5,
                          "#f7f7f7"
                        ],
                        [
                          0.6,
                          "#e6f5d0"
                        ],
                        [
                          0.7,
                          "#b8e186"
                        ],
                        [
                          0.8,
                          "#7fbc41"
                        ],
                        [
                          0.9,
                          "#4d9221"
                        ],
                        [
                          1,
                          "#276419"
                        ]
                      ],
                      "sequential": [
                        [
                          0,
                          "#0d0887"
                        ],
                        [
                          0.1111111111111111,
                          "#46039f"
                        ],
                        [
                          0.2222222222222222,
                          "#7201a8"
                        ],
                        [
                          0.3333333333333333,
                          "#9c179e"
                        ],
                        [
                          0.4444444444444444,
                          "#bd3786"
                        ],
                        [
                          0.5555555555555556,
                          "#d8576b"
                        ],
                        [
                          0.6666666666666666,
                          "#ed7953"
                        ],
                        [
                          0.7777777777777778,
                          "#fb9f3a"
                        ],
                        [
                          0.8888888888888888,
                          "#fdca26"
                        ],
                        [
                          1,
                          "#f0f921"
                        ]
                      ],
                      "sequentialminus": [
                        [
                          0,
                          "#0d0887"
                        ],
                        [
                          0.1111111111111111,
                          "#46039f"
                        ],
                        [
                          0.2222222222222222,
                          "#7201a8"
                        ],
                        [
                          0.3333333333333333,
                          "#9c179e"
                        ],
                        [
                          0.4444444444444444,
                          "#bd3786"
                        ],
                        [
                          0.5555555555555556,
                          "#d8576b"
                        ],
                        [
                          0.6666666666666666,
                          "#ed7953"
                        ],
                        [
                          0.7777777777777778,
                          "#fb9f3a"
                        ],
                        [
                          0.8888888888888888,
                          "#fdca26"
                        ],
                        [
                          1,
                          "#f0f921"
                        ]
                      ]
                    },
                    "colorway": [
                      "#636efa",
                      "#EF553B",
                      "#00cc96",
                      "#ab63fa",
                      "#FFA15A",
                      "#19d3f3",
                      "#FF6692",
                      "#B6E880",
                      "#FF97FF",
                      "#FECB52"
                    ],
                    "font": {
                      "color": "#f2f5fa"
                    },
                    "geo": {
                      "bgcolor": "rgb(17,17,17)",
                      "lakecolor": "rgb(17,17,17)",
                      "landcolor": "rgb(17,17,17)",
                      "showlakes": true,
                      "showland": true,
                      "subunitcolor": "#506784"
                    },
                    "hoverlabel": {
                      "align": "left"
                    },
                    "hovermode": "closest",
                    "mapbox": {
                      "style": "dark"
                    },
                    "paper_bgcolor": "rgb(17,17,17)",
                    "plot_bgcolor": "rgb(17,17,17)",
                    "polar": {
                      "angularaxis": {
                        "gridcolor": "#506784",
                        "linecolor": "#506784",
                        "ticks": ""
                      },
                      "bgcolor": "rgb(17,17,17)",
                      "radialaxis": {
                        "gridcolor": "#506784",
                        "linecolor": "#506784",
                        "ticks": ""
                      }
                    },
                    "scene": {
                      "xaxis": {
                        "backgroundcolor": "rgb(17,17,17)",
                        "gridcolor": "#506784",
                        "gridwidth": 2,
                        "linecolor": "#506784",
                        "showbackground": true,
                        "ticks": "",
                        "zerolinecolor": "#C8D4E3"
                      },
                      "yaxis": {
                        "backgroundcolor": "rgb(17,17,17)",
                        "gridcolor": "#506784",
                        "gridwidth": 2,
                        "linecolor": "#506784",
                        "showbackground": true,
                        "ticks": "",
                        "zerolinecolor": "#C8D4E3"
                      },
                      "zaxis": {
                        "backgroundcolor": "rgb(17,17,17)",
                        "gridcolor": "#506784",
                        "gridwidth": 2,
                        "linecolor": "#506784",
                        "showbackground": true,
                        "ticks": "",
                        "zerolinecolor": "#C8D4E3"
                      }
                    },
                    "shapedefaults": {
                      "line": {
                        "color": "#f2f5fa"
                      }
                    },
                    "sliderdefaults": {
                      "bgcolor": "#C8D4E3",
                      "bordercolor": "rgb(17,17,17)",
                      "borderwidth": 1,
                      "tickwidth": 0
                    },
                    "ternary": {
                      "aaxis": {
                        "gridcolor": "#506784",
                        "linecolor": "#506784",
                        "ticks": ""
                      },
                      "baxis": {
                        "gridcolor": "#506784",
                        "linecolor": "#506784",
                        "ticks": ""
                      },
                      "bgcolor": "rgb(17,17,17)",
                      "caxis": {
                        "gridcolor": "#506784",
                        "linecolor": "#506784",
                        "ticks": ""
                      }
                    },
                    "title": {
                      "x": 0.05
                    },
                    "updatemenudefaults": {
                      "bgcolor": "#506784",
                      "borderwidth": 0
                    },
                    "xaxis": {
                      "automargin": true,
                      "gridcolor": "#283442",
                      "linecolor": "#506784",
                      "ticks": "",
                      "title": {
                        "standoff": 15
                      },
                      "zerolinecolor": "#283442",
                      "zerolinewidth": 2
                    },
                    "yaxis": {
                      "automargin": true,
                      "gridcolor": "#283442",
                      "linecolor": "#506784",
                      "ticks": "",
                      "title": {
                        "standoff": 15
                      },
                      "zerolinecolor": "#283442",
                      "zerolinewidth": 2
                    }
                  }
                },
                "polar": {
                  "radialaxis": {
                    "range": [
                      0,
                      0.75
                    ]
                  }
                },
                "font": {
                  "family": "Franklin Gothic",
                  "size": 17
                },
                "title": {
                  "text": "Remote Ratio by Work Year",
                  "x": 0.5
                },
                "showlegend": true
              },
              "config": {
                "plotlyServerURL": "https://plot.ly"
              }
            },
            "text/html": [
              "<div>                            <div id=\"3807b4d2-0a93-441d-96ff-552dce41ce19\" class=\"plotly-graph-div\" style=\"height:525px; width:100%;\"></div>            <script type=\"text/javascript\">                require([\"plotly\"], function(Plotly) {                    window.PLOTLYENV=window.PLOTLYENV || {};                                    if (document.getElementById(\"3807b4d2-0a93-441d-96ff-552dce41ce19\")) {                    Plotly.newPlot(                        \"3807b4d2-0a93-441d-96ff-552dce41ce19\",                        [{\"fill\":\"toself\",\"name\":\"2020 remote ratio\",\"r\":[0.5,0.21,0.29],\"theta\":[\"No Remote Work\",\"Partially Remote\",\"Fully Remote\"],\"type\":\"scatterpolar\"},{\"fill\":\"toself\",\"name\":\"2021 remote ratio\",\"r\":[0.54,0.16,0.3],\"theta\":[\"No Remote Work\",\"Partially Remote\",\"Fully Remote\"],\"type\":\"scatterpolar\"},{\"fill\":\"toself\",\"name\":\"2022 remote ratio\",\"r\":[0.72,0.25,0.04],\"theta\":[\"No Remote Work\",\"Partially Remote\",\"Fully Remote\"],\"type\":\"scatterpolar\"}],                        {\"template\":{\"data\":{\"barpolar\":[{\"marker\":{\"line\":{\"color\":\"rgb(17,17,17)\",\"width\":0.5},\"pattern\":{\"fillmode\":\"overlay\",\"size\":10,\"solidity\":0.2}},\"type\":\"barpolar\"}],\"bar\":[{\"error_x\":{\"color\":\"#f2f5fa\"},\"error_y\":{\"color\":\"#f2f5fa\"},\"marker\":{\"line\":{\"color\":\"rgb(17,17,17)\",\"width\":0.5},\"pattern\":{\"fillmode\":\"overlay\",\"size\":10,\"solidity\":0.2}},\"type\":\"bar\"}],\"carpet\":[{\"aaxis\":{\"endlinecolor\":\"#A2B1C6\",\"gridcolor\":\"#506784\",\"linecolor\":\"#506784\",\"minorgridcolor\":\"#506784\",\"startlinecolor\":\"#A2B1C6\"},\"baxis\":{\"endlinecolor\":\"#A2B1C6\",\"gridcolor\":\"#506784\",\"linecolor\":\"#506784\",\"minorgridcolor\":\"#506784\",\"startlinecolor\":\"#A2B1C6\"},\"type\":\"carpet\"}],\"choropleth\":[{\"colorbar\":{\"outlinewidth\":0,\"ticks\":\"\"},\"type\":\"choropleth\"}],\"contourcarpet\":[{\"colorbar\":{\"outlinewidth\":0,\"ticks\":\"\"},\"type\":\"contourcarpet\"}],\"contour\":[{\"colorbar\":{\"outlinewidth\":0,\"ticks\":\"\"},\"colorscale\":[[0.0,\"#0d0887\"],[0.1111111111111111,\"#46039f\"],[0.2222222222222222,\"#7201a8\"],[0.3333333333333333,\"#9c179e\"],[0.4444444444444444,\"#bd3786\"],[0.5555555555555556,\"#d8576b\"],[0.6666666666666666,\"#ed7953\"],[0.7777777777777778,\"#fb9f3a\"],[0.8888888888888888,\"#fdca26\"],[1.0,\"#f0f921\"]],\"type\":\"contour\"}],\"heatmapgl\":[{\"colorbar\":{\"outlinewidth\":0,\"ticks\":\"\"},\"colorscale\":[[0.0,\"#0d0887\"],[0.1111111111111111,\"#46039f\"],[0.2222222222222222,\"#7201a8\"],[0.3333333333333333,\"#9c179e\"],[0.4444444444444444,\"#bd3786\"],[0.5555555555555556,\"#d8576b\"],[0.6666666666666666,\"#ed7953\"],[0.7777777777777778,\"#fb9f3a\"],[0.8888888888888888,\"#fdca26\"],[1.0,\"#f0f921\"]],\"type\":\"heatmapgl\"}],\"heatmap\":[{\"colorbar\":{\"outlinewidth\":0,\"ticks\":\"\"},\"colorscale\":[[0.0,\"#0d0887\"],[0.1111111111111111,\"#46039f\"],[0.2222222222222222,\"#7201a8\"],[0.3333333333333333,\"#9c179e\"],[0.4444444444444444,\"#bd3786\"],[0.5555555555555556,\"#d8576b\"],[0.6666666666666666,\"#ed7953\"],[0.7777777777777778,\"#fb9f3a\"],[0.8888888888888888,\"#fdca26\"],[1.0,\"#f0f921\"]],\"type\":\"heatmap\"}],\"histogram2dcontour\":[{\"colorbar\":{\"outlinewidth\":0,\"ticks\":\"\"},\"colorscale\":[[0.0,\"#0d0887\"],[0.1111111111111111,\"#46039f\"],[0.2222222222222222,\"#7201a8\"],[0.3333333333333333,\"#9c179e\"],[0.4444444444444444,\"#bd3786\"],[0.5555555555555556,\"#d8576b\"],[0.6666666666666666,\"#ed7953\"],[0.7777777777777778,\"#fb9f3a\"],[0.8888888888888888,\"#fdca26\"],[1.0,\"#f0f921\"]],\"type\":\"histogram2dcontour\"}],\"histogram2d\":[{\"colorbar\":{\"outlinewidth\":0,\"ticks\":\"\"},\"colorscale\":[[0.0,\"#0d0887\"],[0.1111111111111111,\"#46039f\"],[0.2222222222222222,\"#7201a8\"],[0.3333333333333333,\"#9c179e\"],[0.4444444444444444,\"#bd3786\"],[0.5555555555555556,\"#d8576b\"],[0.6666666666666666,\"#ed7953\"],[0.7777777777777778,\"#fb9f3a\"],[0.8888888888888888,\"#fdca26\"],[1.0,\"#f0f921\"]],\"type\":\"histogram2d\"}],\"histogram\":[{\"marker\":{\"pattern\":{\"fillmode\":\"overlay\",\"size\":10,\"solidity\":0.2}},\"type\":\"histogram\"}],\"mesh3d\":[{\"colorbar\":{\"outlinewidth\":0,\"ticks\":\"\"},\"type\":\"mesh3d\"}],\"parcoords\":[{\"line\":{\"colorbar\":{\"outlinewidth\":0,\"ticks\":\"\"}},\"type\":\"parcoords\"}],\"pie\":[{\"automargin\":true,\"type\":\"pie\"}],\"scatter3d\":[{\"line\":{\"colorbar\":{\"outlinewidth\":0,\"ticks\":\"\"}},\"marker\":{\"colorbar\":{\"outlinewidth\":0,\"ticks\":\"\"}},\"type\":\"scatter3d\"}],\"scattercarpet\":[{\"marker\":{\"colorbar\":{\"outlinewidth\":0,\"ticks\":\"\"}},\"type\":\"scattercarpet\"}],\"scattergeo\":[{\"marker\":{\"colorbar\":{\"outlinewidth\":0,\"ticks\":\"\"}},\"type\":\"scattergeo\"}],\"scattergl\":[{\"marker\":{\"line\":{\"color\":\"#283442\"}},\"type\":\"scattergl\"}],\"scattermapbox\":[{\"marker\":{\"colorbar\":{\"outlinewidth\":0,\"ticks\":\"\"}},\"type\":\"scattermapbox\"}],\"scatterpolargl\":[{\"marker\":{\"colorbar\":{\"outlinewidth\":0,\"ticks\":\"\"}},\"type\":\"scatterpolargl\"}],\"scatterpolar\":[{\"marker\":{\"colorbar\":{\"outlinewidth\":0,\"ticks\":\"\"}},\"type\":\"scatterpolar\"}],\"scatter\":[{\"marker\":{\"line\":{\"color\":\"#283442\"}},\"type\":\"scatter\"}],\"scatterternary\":[{\"marker\":{\"colorbar\":{\"outlinewidth\":0,\"ticks\":\"\"}},\"type\":\"scatterternary\"}],\"surface\":[{\"colorbar\":{\"outlinewidth\":0,\"ticks\":\"\"},\"colorscale\":[[0.0,\"#0d0887\"],[0.1111111111111111,\"#46039f\"],[0.2222222222222222,\"#7201a8\"],[0.3333333333333333,\"#9c179e\"],[0.4444444444444444,\"#bd3786\"],[0.5555555555555556,\"#d8576b\"],[0.6666666666666666,\"#ed7953\"],[0.7777777777777778,\"#fb9f3a\"],[0.8888888888888888,\"#fdca26\"],[1.0,\"#f0f921\"]],\"type\":\"surface\"}],\"table\":[{\"cells\":{\"fill\":{\"color\":\"#506784\"},\"line\":{\"color\":\"rgb(17,17,17)\"}},\"header\":{\"fill\":{\"color\":\"#2a3f5f\"},\"line\":{\"color\":\"rgb(17,17,17)\"}},\"type\":\"table\"}]},\"layout\":{\"annotationdefaults\":{\"arrowcolor\":\"#f2f5fa\",\"arrowhead\":0,\"arrowwidth\":1},\"autotypenumbers\":\"strict\",\"coloraxis\":{\"colorbar\":{\"outlinewidth\":0,\"ticks\":\"\"}},\"colorscale\":{\"diverging\":[[0,\"#8e0152\"],[0.1,\"#c51b7d\"],[0.2,\"#de77ae\"],[0.3,\"#f1b6da\"],[0.4,\"#fde0ef\"],[0.5,\"#f7f7f7\"],[0.6,\"#e6f5d0\"],[0.7,\"#b8e186\"],[0.8,\"#7fbc41\"],[0.9,\"#4d9221\"],[1,\"#276419\"]],\"sequential\":[[0.0,\"#0d0887\"],[0.1111111111111111,\"#46039f\"],[0.2222222222222222,\"#7201a8\"],[0.3333333333333333,\"#9c179e\"],[0.4444444444444444,\"#bd3786\"],[0.5555555555555556,\"#d8576b\"],[0.6666666666666666,\"#ed7953\"],[0.7777777777777778,\"#fb9f3a\"],[0.8888888888888888,\"#fdca26\"],[1.0,\"#f0f921\"]],\"sequentialminus\":[[0.0,\"#0d0887\"],[0.1111111111111111,\"#46039f\"],[0.2222222222222222,\"#7201a8\"],[0.3333333333333333,\"#9c179e\"],[0.4444444444444444,\"#bd3786\"],[0.5555555555555556,\"#d8576b\"],[0.6666666666666666,\"#ed7953\"],[0.7777777777777778,\"#fb9f3a\"],[0.8888888888888888,\"#fdca26\"],[1.0,\"#f0f921\"]]},\"colorway\":[\"#636efa\",\"#EF553B\",\"#00cc96\",\"#ab63fa\",\"#FFA15A\",\"#19d3f3\",\"#FF6692\",\"#B6E880\",\"#FF97FF\",\"#FECB52\"],\"font\":{\"color\":\"#f2f5fa\"},\"geo\":{\"bgcolor\":\"rgb(17,17,17)\",\"lakecolor\":\"rgb(17,17,17)\",\"landcolor\":\"rgb(17,17,17)\",\"showlakes\":true,\"showland\":true,\"subunitcolor\":\"#506784\"},\"hoverlabel\":{\"align\":\"left\"},\"hovermode\":\"closest\",\"mapbox\":{\"style\":\"dark\"},\"paper_bgcolor\":\"rgb(17,17,17)\",\"plot_bgcolor\":\"rgb(17,17,17)\",\"polar\":{\"angularaxis\":{\"gridcolor\":\"#506784\",\"linecolor\":\"#506784\",\"ticks\":\"\"},\"bgcolor\":\"rgb(17,17,17)\",\"radialaxis\":{\"gridcolor\":\"#506784\",\"linecolor\":\"#506784\",\"ticks\":\"\"}},\"scene\":{\"xaxis\":{\"backgroundcolor\":\"rgb(17,17,17)\",\"gridcolor\":\"#506784\",\"gridwidth\":2,\"linecolor\":\"#506784\",\"showbackground\":true,\"ticks\":\"\",\"zerolinecolor\":\"#C8D4E3\"},\"yaxis\":{\"backgroundcolor\":\"rgb(17,17,17)\",\"gridcolor\":\"#506784\",\"gridwidth\":2,\"linecolor\":\"#506784\",\"showbackground\":true,\"ticks\":\"\",\"zerolinecolor\":\"#C8D4E3\"},\"zaxis\":{\"backgroundcolor\":\"rgb(17,17,17)\",\"gridcolor\":\"#506784\",\"gridwidth\":2,\"linecolor\":\"#506784\",\"showbackground\":true,\"ticks\":\"\",\"zerolinecolor\":\"#C8D4E3\"}},\"shapedefaults\":{\"line\":{\"color\":\"#f2f5fa\"}},\"sliderdefaults\":{\"bgcolor\":\"#C8D4E3\",\"bordercolor\":\"rgb(17,17,17)\",\"borderwidth\":1,\"tickwidth\":0},\"ternary\":{\"aaxis\":{\"gridcolor\":\"#506784\",\"linecolor\":\"#506784\",\"ticks\":\"\"},\"baxis\":{\"gridcolor\":\"#506784\",\"linecolor\":\"#506784\",\"ticks\":\"\"},\"bgcolor\":\"rgb(17,17,17)\",\"caxis\":{\"gridcolor\":\"#506784\",\"linecolor\":\"#506784\",\"ticks\":\"\"}},\"title\":{\"x\":0.05},\"updatemenudefaults\":{\"bgcolor\":\"#506784\",\"borderwidth\":0},\"xaxis\":{\"automargin\":true,\"gridcolor\":\"#283442\",\"linecolor\":\"#506784\",\"ticks\":\"\",\"title\":{\"standoff\":15},\"zerolinecolor\":\"#283442\",\"zerolinewidth\":2},\"yaxis\":{\"automargin\":true,\"gridcolor\":\"#283442\",\"linecolor\":\"#506784\",\"ticks\":\"\",\"title\":{\"standoff\":15},\"zerolinecolor\":\"#283442\",\"zerolinewidth\":2}}},\"polar\":{\"radialaxis\":{\"range\":[0,0.75]}},\"font\":{\"family\":\"Franklin Gothic\",\"size\":17},\"title\":{\"text\":\"Remote Ratio by Work Year\",\"x\":0.5},\"showlegend\":true},                        {\"responsive\": true}                    ).then(function(){\n",
              "                            \n",
              "var gd = document.getElementById('3807b4d2-0a93-441d-96ff-552dce41ce19');\n",
              "var x = new MutationObserver(function (mutations, observer) {{\n",
              "        var display = window.getComputedStyle(gd).display;\n",
              "        if (!display || display === 'none') {{\n",
              "            console.log([gd, 'removed!']);\n",
              "            Plotly.purge(gd);\n",
              "            observer.disconnect();\n",
              "        }}\n",
              "}});\n",
              "\n",
              "// Listen for the removal of the full notebook cells\n",
              "var notebookContainer = gd.closest('#notebook-container');\n",
              "if (notebookContainer) {{\n",
              "    x.observe(notebookContainer, {childList: true});\n",
              "}}\n",
              "\n",
              "// Listen for the clearing of the current output cell\n",
              "var outputEl = gd.closest('.output');\n",
              "if (outputEl) {{\n",
              "    x.observe(outputEl, {childList: true});\n",
              "}}\n",
              "\n",
              "                        })                };                });            </script>        </div>"
            ]
          },
          "metadata": {}
        }
      ]
    },
    {
      "cell_type": "markdown",
      "source": [
        "As from the rader plot, we observe that :\n",
        "\n",
        "Remote work peaked during 2021 and that could be attributed to the pandemic. With time, no remote work policy has been applied again as it is the case for 2023."
      ],
      "metadata": {
        "id": "4x7GFp2SrOmf"
      }
    },
    {
      "cell_type": "code",
      "source": [
        "# Salaries w.r.t work year\n",
        "w2020 = df.loc[(df['work_year'] == 2020)]\n",
        "w2021 = df.loc[(df['work_year'] == 2021)]\n",
        "w2022 = df.loc[(df['work_year'] == 2022)]\n",
        "hist_data = [w2020['salary_in_usd'],w2021['salary_in_usd'],w2022['salary_in_usd']]\n",
        "group_labels = ['2020 salary','2021 salary','2022 salary']\n",
        "colors = ['white','red','blue']\n",
        "\n",
        "year_salary = pd.DataFrame(columns=['2020','2021','2022'])\n",
        "year_salary['2020'] = w2020.groupby('work_year').mean('salary_in_usd')['salary_in_usd'].values\n",
        "year_salary['2021'] = w2021.groupby('work_year').mean('salary_in_usd')['salary_in_usd'].values\n",
        "year_salary['2022'] = w2022.groupby('work_year').mean('salary_in_usd')['salary_in_usd'].values\n",
        "\n",
        "fig1 = ff.create_distplot(hist_data, group_labels, show_hist=False,colors=colors)\n",
        "fig2 = go.Figure(data=px.bar(x= year_salary.columns,\n",
        "                            y=year_salary.values.tolist()[0],\n",
        "                            color = year_salary.columns,\n",
        "                            color_discrete_sequence= colors,\n",
        "                            title='Mean Salary by Work Year',\n",
        "                            text = np.round([num/1000 for num in year_salary.values.tolist()[0]],2),\n",
        "                            height=500))\n",
        "fig1.update_layout(title='Salary Distribution by Work Year', font = dict(size=17,family=\"Franklin Gothic\"),\n",
        "                   title_x=0.5)\n",
        "fig2.update_traces(width=0.3)\n",
        "fig2.update_layout(\n",
        "    xaxis_title=\"Work Year\",\n",
        "    yaxis_title=\"Mean Salary (k)\",\n",
        "    font = dict(size=17,family=\"Franklin Gothic\"),\n",
        "    title_x=0.5)\n",
        "fig1.layout.template = 'plotly_dark'\n",
        "fig2.layout.template = 'plotly_dark'\n",
        "fig1.show()\n",
        "fig2.show()\n"
      ],
      "metadata": {
        "colab": {
          "base_uri": "https://localhost:8080/",
          "height": 1000
        },
        "id": "F5ynHaJKnsrF",
        "outputId": "af1f770b-6c81-4f70-ca70-e58ccdc37ce0"
      },
      "execution_count": 19,
      "outputs": [
        {
          "output_type": "display_data",
          "data": {
            "application/vnd.plotly.v1+json": {
              "data": [
                {
                  "legendgroup": "2020 salary",
                  "marker": {
                    "color": "white"
                  },
                  "mode": "lines",
                  "name": "2020 salary",
                  "showlegend": true,
                  "x": [
                    5707,
                    6595.586,
                    7484.1720000000005,
                    8372.758,
                    9261.344000000001,
                    10149.93,
                    11038.516,
                    11927.101999999999,
                    12815.688,
                    13704.274000000001,
                    14592.86,
                    15481.446,
                    16370.032,
                    17258.618000000002,
                    18147.203999999998,
                    19035.79,
                    19924.376,
                    20812.962,
                    21701.548000000003,
                    22590.134,
                    23478.72,
                    24367.306,
                    25255.892,
                    26144.478,
                    27033.064,
                    27921.65,
                    28810.236,
                    29698.822,
                    30587.408,
                    31475.994,
                    32364.58,
                    33253.166,
                    34141.752,
                    35030.338,
                    35918.924,
                    36807.509999999995,
                    37696.096000000005,
                    38584.682,
                    39473.268,
                    40361.854,
                    41250.44,
                    42139.026,
                    43027.612,
                    43916.198,
                    44804.784,
                    45693.37,
                    46581.956,
                    47470.542,
                    48359.128,
                    49247.714,
                    50136.3,
                    51024.886,
                    51913.472,
                    52802.058,
                    53690.644,
                    54579.23,
                    55467.816,
                    56356.402,
                    57244.988,
                    58133.574,
                    59022.16,
                    59910.746,
                    60799.332,
                    61687.918,
                    62576.504,
                    63465.09,
                    64353.676,
                    65242.262,
                    66130.848,
                    67019.43400000001,
                    67908.01999999999,
                    68796.606,
                    69685.19200000001,
                    70573.77799999999,
                    71462.364,
                    72350.95,
                    73239.536,
                    74128.122,
                    75016.708,
                    75905.294,
                    76793.88,
                    77682.466,
                    78571.052,
                    79459.638,
                    80348.224,
                    81236.81,
                    82125.396,
                    83013.982,
                    83902.568,
                    84791.154,
                    85679.74,
                    86568.326,
                    87456.912,
                    88345.498,
                    89234.084,
                    90122.67,
                    91011.256,
                    91899.842,
                    92788.428,
                    93677.014,
                    94565.6,
                    95454.186,
                    96342.772,
                    97231.358,
                    98119.944,
                    99008.53,
                    99897.116,
                    100785.702,
                    101674.288,
                    102562.874,
                    103451.46,
                    104340.046,
                    105228.632,
                    106117.218,
                    107005.804,
                    107894.39,
                    108782.976,
                    109671.562,
                    110560.148,
                    111448.734,
                    112337.32,
                    113225.906,
                    114114.492,
                    115003.078,
                    115891.664,
                    116780.25,
                    117668.836,
                    118557.422,
                    119446.008,
                    120334.594,
                    121223.18,
                    122111.766,
                    123000.352,
                    123888.938,
                    124777.524,
                    125666.11,
                    126554.696,
                    127443.282,
                    128331.868,
                    129220.454,
                    130109.04,
                    130997.626,
                    131886.212,
                    132774.798,
                    133663.38400000002,
                    134551.97,
                    135440.55599999998,
                    136329.142,
                    137217.728,
                    138106.314,
                    138994.9,
                    139883.486,
                    140772.072,
                    141660.658,
                    142549.244,
                    143437.83,
                    144326.416,
                    145215.002,
                    146103.588,
                    146992.174,
                    147880.76,
                    148769.346,
                    149657.932,
                    150546.518,
                    151435.104,
                    152323.69,
                    153212.276,
                    154100.862,
                    154989.448,
                    155878.034,
                    156766.62,
                    157655.206,
                    158543.792,
                    159432.378,
                    160320.964,
                    161209.55,
                    162098.136,
                    162986.722,
                    163875.308,
                    164763.894,
                    165652.48,
                    166541.066,
                    167429.652,
                    168318.238,
                    169206.824,
                    170095.41,
                    170983.996,
                    171872.582,
                    172761.168,
                    173649.754,
                    174538.34,
                    175426.926,
                    176315.512,
                    177204.098,
                    178092.684,
                    178981.27,
                    179869.856,
                    180758.442,
                    181647.028,
                    182535.614,
                    183424.2,
                    184312.786,
                    185201.372,
                    186089.958,
                    186978.544,
                    187867.13,
                    188755.716,
                    189644.302,
                    190532.888,
                    191421.474,
                    192310.06,
                    193198.646,
                    194087.232,
                    194975.818,
                    195864.404,
                    196752.99,
                    197641.576,
                    198530.162,
                    199418.748,
                    200307.334,
                    201195.92,
                    202084.506,
                    202973.092,
                    203861.678,
                    204750.264,
                    205638.85,
                    206527.436,
                    207416.022,
                    208304.608,
                    209193.194,
                    210081.78,
                    210970.366,
                    211858.952,
                    212747.538,
                    213636.124,
                    214524.71,
                    215413.296,
                    216301.882,
                    217190.468,
                    218079.054,
                    218967.64,
                    219856.226,
                    220744.812,
                    221633.398,
                    222521.984,
                    223410.57,
                    224299.156,
                    225187.742,
                    226076.328,
                    226964.914,
                    227853.5,
                    228742.086,
                    229630.672,
                    230519.258,
                    231407.844,
                    232296.43,
                    233185.016,
                    234073.602,
                    234962.188,
                    235850.774,
                    236739.36,
                    237627.946,
                    238516.532,
                    239405.118,
                    240293.704,
                    241182.29,
                    242070.876,
                    242959.462,
                    243848.048,
                    244736.634,
                    245625.22,
                    246513.806,
                    247402.392,
                    248290.978,
                    249179.564,
                    250068.15,
                    250956.736,
                    251845.322,
                    252733.908,
                    253622.494,
                    254511.08,
                    255399.666,
                    256288.252,
                    257176.838,
                    258065.424,
                    258954.01,
                    259842.596,
                    260731.182,
                    261619.768,
                    262508.354,
                    263396.94,
                    264285.526,
                    265174.11199999996,
                    266062.698,
                    266951.284,
                    267839.87,
                    268728.456,
                    269617.042,
                    270505.628,
                    271394.214,
                    272282.8,
                    273171.386,
                    274059.972,
                    274948.558,
                    275837.144,
                    276725.73,
                    277614.316,
                    278502.902,
                    279391.488,
                    280280.074,
                    281168.66,
                    282057.246,
                    282945.832,
                    283834.418,
                    284723.004,
                    285611.59,
                    286500.176,
                    287388.762,
                    288277.348,
                    289165.934,
                    290054.52,
                    290943.106,
                    291831.692,
                    292720.278,
                    293608.864,
                    294497.45,
                    295386.036,
                    296274.622,
                    297163.208,
                    298051.794,
                    298940.38,
                    299828.966,
                    300717.552,
                    301606.138,
                    302494.724,
                    303383.31,
                    304271.896,
                    305160.482,
                    306049.068,
                    306937.654,
                    307826.24,
                    308714.826,
                    309603.412,
                    310491.998,
                    311380.584,
                    312269.17,
                    313157.756,
                    314046.342,
                    314934.928,
                    315823.514,
                    316712.1,
                    317600.686,
                    318489.272,
                    319377.858,
                    320266.444,
                    321155.03,
                    322043.616,
                    322932.202,
                    323820.788,
                    324709.374,
                    325597.96,
                    326486.546,
                    327375.132,
                    328263.718,
                    329152.304,
                    330040.89,
                    330929.476,
                    331818.062,
                    332706.648,
                    333595.234,
                    334483.82,
                    335372.406,
                    336260.992,
                    337149.578,
                    338038.164,
                    338926.75,
                    339815.336,
                    340703.922,
                    341592.508,
                    342481.094,
                    343369.68,
                    344258.266,
                    345146.852,
                    346035.438,
                    346924.024,
                    347812.61,
                    348701.196,
                    349589.782,
                    350478.368,
                    351366.954,
                    352255.54,
                    353144.126,
                    354032.712,
                    354921.298,
                    355809.884,
                    356698.47,
                    357587.056,
                    358475.642,
                    359364.228,
                    360252.814,
                    361141.4,
                    362029.986,
                    362918.572,
                    363807.158,
                    364695.744,
                    365584.33,
                    366472.916,
                    367361.502,
                    368250.088,
                    369138.674,
                    370027.26,
                    370915.846,
                    371804.432,
                    372693.018,
                    373581.604,
                    374470.19,
                    375358.776,
                    376247.362,
                    377135.948,
                    378024.534,
                    378913.12,
                    379801.706,
                    380690.292,
                    381578.878,
                    382467.464,
                    383356.05,
                    384244.636,
                    385133.222,
                    386021.808,
                    386910.394,
                    387798.98,
                    388687.566,
                    389576.152,
                    390464.738,
                    391353.324,
                    392241.91,
                    393130.496,
                    394019.082,
                    394907.668,
                    395796.254,
                    396684.84,
                    397573.426,
                    398462.012,
                    399350.598,
                    400239.184,
                    401127.77,
                    402016.356,
                    402904.942,
                    403793.528,
                    404682.114,
                    405570.7,
                    406459.286,
                    407347.872,
                    408236.458,
                    409125.044,
                    410013.63,
                    410902.216,
                    411790.802,
                    412679.388,
                    413567.974,
                    414456.56,
                    415345.146,
                    416233.732,
                    417122.318,
                    418010.904,
                    418899.49,
                    419788.076,
                    420676.662,
                    421565.248,
                    422453.834,
                    423342.42,
                    424231.006,
                    425119.592,
                    426008.178,
                    426896.764,
                    427785.35,
                    428673.936,
                    429562.522,
                    430451.108,
                    431339.694,
                    432228.28,
                    433116.866,
                    434005.452,
                    434894.038,
                    435782.624,
                    436671.21,
                    437559.796,
                    438448.382,
                    439336.968,
                    440225.554,
                    441114.14,
                    442002.726,
                    442891.312,
                    443779.898,
                    444668.484,
                    445557.07,
                    446445.656,
                    447334.242,
                    448222.828,
                    449111.414
                  ],
                  "xaxis": "x",
                  "y": [
                    0.0000032954215054632087,
                    0.0000033662551871316294,
                    0.000003437285188023641,
                    0.000003508465778683831,
                    0.000003579750449726481,
                    0.0000036510919753335483,
                    0.000003722442479378391,
                    0.0000037937535040611396,
                    0.0000038649760809297295,
                    0.000003936060804148542,
                    0.000004006957905864748,
                    0.000004077617333510625,
                    0.000004147988828868555,
                    0.000004218022008713984,
                    0.0000042876664468408006,
                    0.000004356871757262781,
                    0.000004425587678374892,
                    0.000004493764157848551,
                    0.0000045613514380262,
                    0.000004628300141572351,
                    0.0000046945613571309244,
                    0.000004760086724732297,
                    0.000004824828520687905,
                    0.0000048887397417058185,
                    0.000004951774187957243,
                    0.000005013886544821693,
                    0.0000050750324630374366,
                    0.000005135168636984094,
                    0.0000051942528808256205,
                    0.000005252244202244809,
                    0.000005309102873504425,
                    0.000005364790499575813,
                    0.000005419270083082477,
                    0.000005472506085814568,
                    0.000005524464486579813,
                    0.000005575112835167391,
                    0.000005624420302213723,
                    0.000005672357724772621,
                    0.000005718897647407406,
                    0.000005764014358638436,
                    0.000005807683922596966,
                    0.000005849884205754497,
                    0.000005890594898616085,
                    0.000005929797532286325,
                    0.0000059674754898377295,
                    0.000006003614012432925,
                    0.000006038200200174468,
                    0.000006071223007678676,
                    0.00000610267323439324,
                    0.000006132543509701482,
                    0.000006160828272879664,
                    0.00000618752374799714,
                    0.00000621262791387223,
                    0.000006236140469219676,
                    0.000006258062793147849,
                    0.0000062783979011857905,
                    0.000006297150397041114,
                    0.0000063143264203101356,
                    0.000006329933590380768,
                    0.0000063439809467867774,
                    0.000006356478886289061,
                    0.000006367439096974863,
                    0.000006376874489680157,
                    0.000006384799127052957,
                    0.000006391228150586037,
                    0.000006396177705957088,
                    0.0000063996648670214075,
                    0.000006401707558808208,
                    0.0000064023244798750715,
                    0.000006401535024377148,
                    0.000006399359204207478,
                    0.0000063958175715628815,
                    0.000006390931142285935,
                    0.000006384721320327656,
                    0.000006377209823667866,
                    0.000006368418612020526,
                    0.000006358369816640166,
                    0.000006347085672532233,
                    0.000006334588453355648,
                    0.000006320900409289423,
                    0.000006306043708117571,
                    0.000006290040379767308,
                    0.000006272912264515175,
                    0.000006254680965054421,
                    0.000006235367802594113,
                    0.000006214993777137507,
                    0.000006193579532062814,
                    0.000006171145323105012,
                    0.000006147710991812219,
                    0.000006123295943524722,
                    0.000006097919129899392,
                    0.0000060715990359765955,
                    0.000006044353671761498,
                    0.0000060162005682666515,
                    0.000005987156777938254,
                    0.000005957238879364534,
                    0.000005926462986141636,
                    0.000005894844759749999,
                    0.000005862399426273098,
                    0.000005829141796770169,
                    0.000005795086291095682,
                    0.000005760246964940794,
                    0.000005724637539855866,
                    0.000005688271435998546,
                    0.00000565116180733892,
                    0.000005613321579041847,
                    0.000005574763486737038,
                    0.000005535500117379486,
                    0.000005495543951396799,
                    0.000005454907405815666,
                    0.000005413602878057268,
                    0.0000053716427900907265,
                    0.000005329039632634799,
                    0.000005285806009101051,
                    0.000005241954678976207,
                    0.0000051974986003479135,
                    0.000005152450971285938,
                    0.000005106825269800587,
                    0.000005060635292110987,
                    0.00000501389518896855,
                    0.0000049666194997946005,
                    0.000004918823184406335,
                    0.00000487052165212145,
                    0.000004821730788048945,
                    0.000004772466976391916,
                    0.000004722747120606967,
                    0.000004672588660284644,
                    0.000004622009584635438,
                    0.0000045710284424866835,
                    0.000004519664348716476,
                    0.00000446793698707219,
                    0.000004415866609342151,
                    0.000004363474030870477,
                    0.000004310780622425924,
                    0.0000042578082984565604,
                    0.000004204579501782182,
                    0.000004151117184796443,
                    0.000004097444787269775,
                    0.000004043586210862665,
                    0.000003989565790476628,
                    0.000003935408262586849,
                    0.000003881138730716409,
                    0.000003826782628226576,
                    0.0000037723656786113514,
                    0.000003717913853496756,
                    0.0000036634533285565234,
                    0.000003609010437565643,
                    0.00000355461162482179,
                    0.000003500283396171674,
                    0.000003446052268885151,
                    0.0000033919447206242494,
                    0.0000033379871377571503,
                    0.0000032842057632687187,
                    0.0000032306266445191407,
                    0.0000031772755811011377,
                    0.0000031241780730433576,
                    0.0000030713592696037053,
                    0.0000030188439188910686,
                    0.0000029666563185473138,
                    0.0000029148202677137866,
                    0.0000028633590204976585,
                    0.0000028122952411435625,
                    0.0000027616509611049805,
                    0.000002711447538198057,
                    0.0000026617056180077424,
                    0.0000026124450977027013,
                    0.000002563685092401256,
                    0.0000025154439042158533,
                    0.0000024677389940882683,
                    0.0000024205869565120376,
                    0.000002374003497222641,
                    0.000002328003413919623,
                    0.000002282600580068543,
                    0.0000022378079318141283,
                    0.0000021936374580196975,
                    0.000002150100193431615,
                    0.0000021072062149516278,
                    0.0000020649646409841436,
                    0.0000020233836338103427,
                    0.0000019824704049261546,
                    0.000001942231223266964,
                    0.0000019026714262283147,
                    0.000001863795433378996,
                    0.0000018256067627508893,
                    0.0000017881080495785984,
                    0.0000017513010673515975,
                    0.000001715186751032215,
                    0.000001679765222284311,
                    0.0000016450358165500637,
                    0.0000016109971118060307,
                    0.0000015776469588241807,
                    0.0000015449825127595735,
                    0.0000015130002658831188,
                    0.0000014816960812759273,
                    0.0000014510652273008527,
                    0.0000014211024126670102,
                    0.000001391801821904317,
                    0.0000013631571510674721,
                    0.0000013351616434920751,
                    0.0000013078081254299583,
                    0.0000012810890413961116,
                    0.0000012549964890656939,
                    0.0000012295222535667497,
                    0.0000012046578410220419,
                    0.000001180394511201956,
                    0.0000011567233091597354,
                    0.0000011336350957301096,
                    0.0000011111205767827357,
                    0.0000010891703311327749,
                    0.0000010677748370220504,
                    0.0000010469244970958347,
                    0.0000010266096618120226,
                    0.000001006820651231314,
                    9.875477751490588e-7,
                    9.687813515413048e-7,
                    9.505117233094673e-7,
                    9.327292733197457e-7,
                    9.154244377448568e-7,
                    8.985877177267794e-7,
                    8.822096893899984e-7,
                    8.662810122450145e-7,
                    8.507924360317044e-7,
                    8.357348060613652e-7,
                    8.210990671248478e-7,
                    8.068762660421892e-7,
                    7.930575529363309e-7,
                    7.796341813200342e-7,
                    7.665975070907828e-7,
                    7.53938986533357e-7,
                    7.416501734338263e-7,
                    7.297227154119323e-7,
                    7.181483495811801e-7,
                    7.069188976474717e-7,
                    6.960262605577754e-7,
                    6.854624128101317e-7,
                    6.752193965352686e-7,
                    6.652893154582978e-7,
                    6.556643288463423e-7,
                    6.463366455445918e-7,
                    6.372985181992193e-7,
                    6.285422377608548e-7,
                    6.200601283569276e-7,
                    6.118445426152597e-7,
                    6.038878575148079e-7,
                    5.961824708325177e-7,
                    5.887207982478792e-7,
                    5.814952711590907e-7,
                    5.744983352567148e-7,
                    5.677224498925075e-7,
                    5.611600882726973e-7,
                    5.548037384965133e-7,
                    5.486459054522573e-7,
                    5.42679113574704e-7,
                    5.368959104592354e-7,
                    5.312888713198829e-7,
                    5.25850604270405e-7,
                    5.20573756399797e-7,
                    5.154510206061897e-7,
                    5.104751431460406e-7,
                    5.056389318489063e-7,
                    5.009352649419101e-7,
                    4.963571004223858e-7,
                    4.918974859120591e-7,
                    4.875495689216147e-7,
                    4.833066074505546e-7,
                    4.791619808439731e-7,
                    4.7510920082519827e-7,
                    4.7114192262126564e-7,
                    4.672539560968375e-7,
                    4.6343927681151796e-7,
                    4.5969203691549733e-7,
                    4.560065757991206e-7,
                    4.523774304132433e-7,
                    4.487993451791871e-7,
                    4.45267281409617e-7,
                    4.417764261647802e-7,
                    4.383222004722239e-7,
                    4.34900266842284e-7,
                    4.3150653601633515e-7,
                    4.2813717288990026e-7,
                    4.2478860155827104e-7,
                    4.214575094381739e-7,
                    4.181408504252459e-7,
                    4.1483584705356176e-7,
                    4.115399916301658e-7,
                    4.0825104632444597e-7,
                    4.0496704219917617e-7,
                    4.01686277177139e-7,
                    3.984073129443151e-7,
                    3.9512897079770407e-7,
                    3.9185032645279625e-7,
                    3.885707038325899e-7,
                    3.852896678667103e-7,
                    3.820070163356426e-7,
                    3.787227708012926e-7,
                    3.7543716667096754e-7,
                    3.7215064244742155e-7,
                    3.688638282227844e-7,
                    3.6557753347894786e-7,
                    3.6229273426130867e-7,
                    3.5901055979663375e-7,
                    3.5573227862918574e-7,
                    3.5245928435210754e-7,
                    3.4919308101343894e-7,
                    3.459352682779405e-7,
                    3.4268752642719363e-7,
                    3.394516012811973e-7,
                    3.362292891248636e-7,
                    3.330224217225097e-7,
                    3.298328515025539e-7,
                    3.2666243699325787e-7,
                    3.235130285884546e-7,
                    3.203864547198457e-7,
                    3.1728450850958247e-7,
                    3.1420893497357306e-7,
                    3.111614188422533e-7,
                    3.081435730614446e-7,
                    3.051569280314812e-7,
                    3.022029216379912e-7,
                    2.9928289012264356e-7,
                    2.963980598368291e-7,
                    2.9354953991568994e-7,
                    2.907383159041624e-7,
                    2.8796524436081333e-7,
                    2.852310484592572e-7,
                    2.825363146008681e-7,
                    2.7988149004642063e-7,
                    2.772668815682063e-7,
                    2.7469265511813376e-7,
                    2.7215883650137837e-7,
                    2.6966531303930963e-7,
                    2.6721183619975674e-7,
                    2.647980251671806e-7,
                    2.624233713200555e-7,
                    2.600872435777489e-7,
                    2.5778889457444434e-7,
                    2.5552746761321176e-7,
                    2.533020043492243e-7,
                    2.5111145314734615e-7,
                    2.489546780559143e-7,
                    2.468304683355256e-7,
                    2.4473754847899105e-7,
                    2.426745886564184e-7,
                    2.406402155175438e-7,
                    2.3863302328206183e-7,
                    2.3665158504769973e-7,
                    2.3469446424524226e-7,
                    2.3276022616955239e-7,
                    2.3084744951591055e-7,
                    2.2895473785165955e-7,
                    2.270807309542081e-7,
                    2.2522411594788005e-7,
                    2.2338363817392273e-7,
                    2.2155811173013137e-7,
                    2.1974642961904972e-7,
                    2.17947573446508e-7,
                    2.1616062261536073e-7,
                    2.14384762962646e-7,
                    2.1261929479200692e-7,
                    2.1086364025704e-7,
                    2.091173500552708e-7,
                    2.073801093966425e-7,
                    2.0565174321475016e-7,
                    2.0393222059350207e-7,
                    2.0222165838642678e-7,
                    2.0052032401045586e-7,
                    1.9882863740063819e-7,
                    1.971471721168918e-7,
                    1.9547665559852056e-7,
                    1.9381796856680823e-7,
                    1.9217214358050881e-7,
                    1.9054036275347909e-7,
                    1.8892395464800463e-7,
                    1.873243903615333e-7,
                    1.85743278828555e-7,
                    1.8418236136319538e-7,
                    1.8264350547174222e-7,
                    1.8112869796775446e-7,
                    1.7964003742562486e-7,
                    1.7817972601143533e-7,
                    1.7675006073268056e-7,
                    1.7535342415090326e-7,
                    1.7399227460349152e-7,
                    1.726691359828262e-7,
                    1.7138658712262216e-7,
                    1.701472508426845e-7,
                    1.689537827044028e-7,
                    1.6780885953011717e-7,
                    1.667151677400288e-7,
                    1.6567539156058617e-7,
                    1.6469220115826447e-7,
                    1.6376824075237684e-7,
                    1.6290611676001512e-7,
                    1.621083860254245e-7,
                    1.613775441850882e-7,
                    1.6071601421852766e-7,
                    1.601261352333386e-7,
                    1.5961015153129242e-7,
                    1.5917020200043803e-7,
                    1.5880830987607174e-7,
                    1.585263729112028e-7,
                    1.583261539947527e-7,
                    1.5820927225319677e-7,
                    1.5817719466870923e-7,
                    1.5823122824411796e-7,
                    1.5837251274212878e-7,
                    1.5860201402336477e-7,
                    1.5892051800478735e-7,
                    1.5932862525705197e-7,
                    1.5982674625630934e-7,
                    1.6041509730290907e-7,
                    1.6109369711642016e-7,
                    1.618623641133536e-7,
                    1.627207143709846e-7,
                    1.6366816027772715e-7,
                    1.647039098676376e-7,
                    1.658269668338165e-7,
                    1.6703613121276294e-7,
                    1.6833000072911685e-7,
                    1.6970697278771518e-7,
                    1.7116524709749784e-7,
                    1.727028289095407e-7,
                    1.7431753284936171e-7,
                    1.760069873216714e-7,
                    1.7776863946390218e-7,
                    1.7959976062317688e-7,
                    1.8149745232985954e-7,
                    1.8345865273947957e-7,
                    1.854801435136328e-7,
                    1.875585571094399e-7,
                    1.896903844462995e-7,
                    1.9187198291798022e-7,
                    1.9409958471758532e-7,
                    1.9636930544257188e-7,
                    1.9867715294681374e-7,
                    2.0101903640666362e-7,
                    2.0339077556809979e-7,
                    2.0578811014229957e-7,
                    2.0820670931740213e-7,
                    2.1064218135476647e-7,
                    2.1309008323870182e-7,
                    2.1554593034944143e-7,
                    2.1800520613003878e-7,
                    2.2046337171886413e-7,
                    2.2291587552048203e-7,
                    2.2535816268887342e-7,
                    2.2778568449821196e-7,
                    2.3019390757773082e-7,
                    2.3257832298857439e-7,
                    2.3493445512194692e-7,
                    2.3725787039930996e-7,
                    2.3954418575683836e-7,
                    2.4178907689782584e-7,
                    2.4398828629820153e-7,
                    2.461376309517814e-7,
                    2.48233009843338e-7,
                    2.5027041113898343e-7,
                    2.52245919084752e-7,
                    2.5415572060561673e-7,
                    2.5599611159846635e-7,
                    2.577635029138077e-7,
                    2.5945442602214274e-7,
                    2.6106553836207446e-7,
                    2.6259362836823715e-7,
                    2.640356201781161e-7,
                    2.6538857801770606e-7,
                    2.666497102667675e-7,
                    2.6781637320517107e-7,
                    2.6888607444246526e-7,
                    2.6985647603337636e-7,
                    2.707253972824294e-7,
                    2.71490817241303e-7,
                    2.7215087690286074e-7,
                    2.727038810960709e-7,
                    2.7314830008623193e-7,
                    2.734827708850526e-7,
                    2.7370609827522156e-7,
                    2.738172555541302e-7,
                    2.738153850013962e-7,
                    2.736997980747787e-7,
                    2.73469975338991e-7,
                    2.7312556613179866e-7,
                    2.726663879716588e-7,
                    2.720924257110104e-7,
                    2.714038304391711e-7,
                    2.70600918138643e-7,
                    2.6968416809849293e-7,
                    2.6865422108832973e-7,
                    2.6751187729629834e-7,
                    2.66258094034421e-7,
                    2.648939832145535e-7,
                    2.634208085982088e-7,
                    2.618399828235083e-7,
                    2.601530642125799e-7,
                    2.583617533628234e-7,
                    2.564678895256091e-7,
                    2.544734467761681e-7,
                    2.5238052997868045e-7,
                    2.501913705508535e-7,
                    2.4790832203262395e-7
                  ],
                  "yaxis": "y",
                  "type": "scatter"
                },
                {
                  "legendgroup": "2021 salary",
                  "marker": {
                    "color": "red"
                  },
                  "mode": "lines",
                  "name": "2021 salary",
                  "showlegend": true,
                  "x": [
                    2859,
                    4053.282,
                    5247.564,
                    6441.846,
                    7636.128,
                    8830.41,
                    10024.692,
                    11218.974,
                    12413.256,
                    13607.538,
                    14801.82,
                    15996.102,
                    17190.384,
                    18384.665999999997,
                    19578.948,
                    20773.23,
                    21967.512,
                    23161.794,
                    24356.076,
                    25550.358,
                    26744.64,
                    27938.922,
                    29133.204,
                    30327.486,
                    31521.768,
                    32716.05,
                    33910.331999999995,
                    35104.614,
                    36298.896,
                    37493.178,
                    38687.46,
                    39881.742,
                    41076.024,
                    42270.306,
                    43464.588,
                    44658.87,
                    45853.152,
                    47047.434,
                    48241.716,
                    49435.998,
                    50630.28,
                    51824.562,
                    53018.844,
                    54213.126,
                    55407.408,
                    56601.69,
                    57795.972,
                    58990.254,
                    60184.536,
                    61378.818,
                    62573.1,
                    63767.382,
                    64961.664,
                    66155.946,
                    67350.228,
                    68544.51,
                    69738.792,
                    70933.074,
                    72127.356,
                    73321.638,
                    74515.92,
                    75710.202,
                    76904.484,
                    78098.766,
                    79293.048,
                    80487.33,
                    81681.612,
                    82875.894,
                    84070.176,
                    85264.458,
                    86458.74,
                    87653.022,
                    88847.304,
                    90041.586,
                    91235.868,
                    92430.15,
                    93624.432,
                    94818.714,
                    96012.996,
                    97207.278,
                    98401.56,
                    99595.842,
                    100790.124,
                    101984.406,
                    103178.688,
                    104372.97,
                    105567.252,
                    106761.534,
                    107955.816,
                    109150.098,
                    110344.38,
                    111538.662,
                    112732.944,
                    113927.226,
                    115121.508,
                    116315.79,
                    117510.072,
                    118704.354,
                    119898.636,
                    121092.918,
                    122287.2,
                    123481.482,
                    124675.764,
                    125870.046,
                    127064.328,
                    128258.61,
                    129452.892,
                    130647.174,
                    131841.456,
                    133035.738,
                    134230.02,
                    135424.302,
                    136618.584,
                    137812.866,
                    139007.148,
                    140201.43,
                    141395.712,
                    142589.994,
                    143784.276,
                    144978.558,
                    146172.84,
                    147367.122,
                    148561.404,
                    149755.686,
                    150949.968,
                    152144.25,
                    153338.532,
                    154532.814,
                    155727.096,
                    156921.378,
                    158115.66,
                    159309.942,
                    160504.224,
                    161698.506,
                    162892.788,
                    164087.07,
                    165281.352,
                    166475.634,
                    167669.916,
                    168864.198,
                    170058.48,
                    171252.762,
                    172447.044,
                    173641.326,
                    174835.608,
                    176029.89,
                    177224.172,
                    178418.454,
                    179612.736,
                    180807.018,
                    182001.3,
                    183195.582,
                    184389.864,
                    185584.146,
                    186778.428,
                    187972.71,
                    189166.992,
                    190361.274,
                    191555.556,
                    192749.838,
                    193944.12,
                    195138.402,
                    196332.684,
                    197526.966,
                    198721.248,
                    199915.53,
                    201109.812,
                    202304.094,
                    203498.376,
                    204692.658,
                    205886.94,
                    207081.222,
                    208275.504,
                    209469.786,
                    210664.068,
                    211858.35,
                    213052.632,
                    214246.914,
                    215441.196,
                    216635.478,
                    217829.76,
                    219024.042,
                    220218.324,
                    221412.606,
                    222606.888,
                    223801.17,
                    224995.452,
                    226189.734,
                    227384.016,
                    228578.298,
                    229772.58,
                    230966.862,
                    232161.144,
                    233355.426,
                    234549.708,
                    235743.99,
                    236938.272,
                    238132.554,
                    239326.836,
                    240521.118,
                    241715.4,
                    242909.682,
                    244103.964,
                    245298.246,
                    246492.528,
                    247686.81,
                    248881.092,
                    250075.374,
                    251269.656,
                    252463.938,
                    253658.22,
                    254852.502,
                    256046.784,
                    257241.066,
                    258435.348,
                    259629.63,
                    260823.912,
                    262018.194,
                    263212.476,
                    264406.75800000003,
                    265601.04,
                    266795.322,
                    267989.604,
                    269183.886,
                    270378.168,
                    271572.45,
                    272766.732,
                    273961.014,
                    275155.296,
                    276349.578,
                    277543.86,
                    278738.142,
                    279932.424,
                    281126.706,
                    282320.988,
                    283515.27,
                    284709.552,
                    285903.834,
                    287098.116,
                    288292.398,
                    289486.68,
                    290680.962,
                    291875.244,
                    293069.526,
                    294263.808,
                    295458.09,
                    296652.372,
                    297846.654,
                    299040.936,
                    300235.218,
                    301429.5,
                    302623.782,
                    303818.064,
                    305012.346,
                    306206.628,
                    307400.91,
                    308595.192,
                    309789.474,
                    310983.756,
                    312178.038,
                    313372.32,
                    314566.602,
                    315760.884,
                    316955.166,
                    318149.448,
                    319343.73,
                    320538.012,
                    321732.294,
                    322926.576,
                    324120.858,
                    325315.14,
                    326509.422,
                    327703.704,
                    328897.986,
                    330092.268,
                    331286.55,
                    332480.832,
                    333675.114,
                    334869.396,
                    336063.678,
                    337257.96,
                    338452.242,
                    339646.524,
                    340840.806,
                    342035.088,
                    343229.37,
                    344423.652,
                    345617.934,
                    346812.216,
                    348006.498,
                    349200.78,
                    350395.062,
                    351589.344,
                    352783.626,
                    353977.908,
                    355172.19,
                    356366.472,
                    357560.754,
                    358755.036,
                    359949.318,
                    361143.6,
                    362337.882,
                    363532.164,
                    364726.446,
                    365920.728,
                    367115.01,
                    368309.292,
                    369503.574,
                    370697.856,
                    371892.138,
                    373086.42,
                    374280.702,
                    375474.984,
                    376669.266,
                    377863.548,
                    379057.83,
                    380252.112,
                    381446.394,
                    382640.676,
                    383834.958,
                    385029.24,
                    386223.522,
                    387417.804,
                    388612.086,
                    389806.368,
                    391000.65,
                    392194.932,
                    393389.214,
                    394583.496,
                    395777.778,
                    396972.06,
                    398166.342,
                    399360.624,
                    400554.906,
                    401749.188,
                    402943.47,
                    404137.752,
                    405332.034,
                    406526.316,
                    407720.598,
                    408914.88,
                    410109.162,
                    411303.444,
                    412497.726,
                    413692.008,
                    414886.29,
                    416080.572,
                    417274.854,
                    418469.136,
                    419663.418,
                    420857.7,
                    422051.982,
                    423246.264,
                    424440.546,
                    425634.828,
                    426829.11,
                    428023.392,
                    429217.674,
                    430411.956,
                    431606.238,
                    432800.52,
                    433994.802,
                    435189.084,
                    436383.366,
                    437577.648,
                    438771.93,
                    439966.212,
                    441160.494,
                    442354.776,
                    443549.058,
                    444743.34,
                    445937.622,
                    447131.904,
                    448326.186,
                    449520.468,
                    450714.75,
                    451909.032,
                    453103.314,
                    454297.596,
                    455491.878,
                    456686.16,
                    457880.442,
                    459074.724,
                    460269.006,
                    461463.288,
                    462657.57,
                    463851.852,
                    465046.134,
                    466240.416,
                    467434.698,
                    468628.98,
                    469823.262,
                    471017.544,
                    472211.826,
                    473406.108,
                    474600.39,
                    475794.672,
                    476988.954,
                    478183.236,
                    479377.518,
                    480571.8,
                    481766.082,
                    482960.364,
                    484154.646,
                    485348.928,
                    486543.21,
                    487737.492,
                    488931.774,
                    490126.056,
                    491320.338,
                    492514.62,
                    493708.902,
                    494903.184,
                    496097.466,
                    497291.748,
                    498486.03,
                    499680.312,
                    500874.594,
                    502068.876,
                    503263.158,
                    504457.44,
                    505651.722,
                    506846.004,
                    508040.286,
                    509234.568,
                    510428.85,
                    511623.132,
                    512817.414,
                    514011.696,
                    515205.978,
                    516400.26,
                    517594.542,
                    518788.824,
                    519983.106,
                    521177.388,
                    522371.67,
                    523565.952,
                    524760.2339999999,
                    525954.5160000001,
                    527148.798,
                    528343.08,
                    529537.362,
                    530731.644,
                    531925.926,
                    533120.208,
                    534314.49,
                    535508.772,
                    536703.054,
                    537897.336,
                    539091.618,
                    540285.9,
                    541480.182,
                    542674.464,
                    543868.746,
                    545063.028,
                    546257.31,
                    547451.592,
                    548645.874,
                    549840.156,
                    551034.438,
                    552228.72,
                    553423.002,
                    554617.284,
                    555811.566,
                    557005.848,
                    558200.13,
                    559394.412,
                    560588.694,
                    561782.976,
                    562977.258,
                    564171.54,
                    565365.822,
                    566560.104,
                    567754.386,
                    568948.668,
                    570142.95,
                    571337.232,
                    572531.514,
                    573725.796,
                    574920.078,
                    576114.36,
                    577308.642,
                    578502.924,
                    579697.206,
                    580891.488,
                    582085.77,
                    583280.052,
                    584474.334,
                    585668.616,
                    586862.898,
                    588057.18,
                    589251.462,
                    590445.744,
                    591640.026,
                    592834.308,
                    594028.59,
                    595222.872,
                    596417.154,
                    597611.436,
                    598805.718
                  ],
                  "xaxis": "x",
                  "y": [
                    0.0000029015671035855103,
                    0.0000030013401181598034,
                    0.000003100972571386269,
                    0.0000032003041294132764,
                    0.000003299179576071216,
                    0.0000033974497787716125,
                    0.0000034949725785711503,
                    0.000003591613593145743,
                    0.0000036872469225236826,
                    0.0000037817557486993167,
                    0.000003875032821669874,
                    0.000003966980825986598,
                    0.000004057512623562062,
                    0.000004146551370201738,
                    0.0000042340305051021425,
                    0.000004319893614349504,
                    0.000004404094171233806,
                    0.000004486595157932638,
                    0.000004567368574789207,
                    0.000004646394844982126,
                    0.00000472366212383454,
                    0.000004799165523315071,
                    0.000004872906263420925,
                    0.0000049448907630887135,
                    0.000005015129684035629,
                    0.000005083636941483864,
                    0.000005150428696057687,
                    0.0000052155223412627385,
                    0.000005278935500863164,
                    0.000005340685050168584,
                    0.000005400786174739128,
                    0.000005459251479323908,
                    0.000005516090158983235,
                    0.000005571307243322539,
                    0.000005624902923609379,
                    0.000005676871971272621,
                    0.00000572720325491974,
                    0.000005775879361576662,
                    0.000005822876326378683,
                    0.000005868163473444105,
                    0.000005911703369167895,
                    0.000005953451887701357,
                    0.0000059933583869574646,
                    0.0000060313659921178975,
                    0.000006067411982333427,
                    0.000006101428275119588,
                    0.00000613334200186563,
                    0.000006163076166907058,
                    0.000006190550381767862,
                    0.000006215681665462219,
                    0.000006238385301160958,
                    0.000006258575739074586,
                    0.000006276167535081385,
                    0.000006291076314433652,
                    0.000006303219749800624,
                    0.000006312518542949805,
                    0.000006318897399519528,
                    0.000006322285986588902,
                    0.000006322619863096966,
                    0.000006319841373592588,
                    0.0000063139004963019045,
                    0.000006304755637071283,
                    0.0000062923743613726426,
                    0.000006276734057236738,
                    0.0000062578225226993364,
                    0.000006235638472099757,
                    0.000006210191956352291,
                    0.000006181504693113492,
                    0.000006149610303586182,
                    0.000006114554453528475,
                    0.00000607639489686931,
                    0.000006035201421165384,
                    0.000005991055694964587,
                    0.000005944051017963368,
                    0.000005894291975656792,
                    0.000005841894000975354,
                    0.000005786982846179047,
                    0.000005729693969031948,
                    0.000005670171838005628,
                    0.000005608569161952333,
                    0.000005545046050345301,
                    0.000005479769110796949,
                    0.00000541291049113381,
                    0.000005344646873821271,
                    0.000005275158430989493,
                    0.0000052046277487063395,
                    0.000005133238729470073,
                    0.000005061175482148535,
                    0.000004988621208767258,
                    0.0000049157570976434055,
                    0.0000048427612323706265,
                    0.000004769807526079817,
                    0.000004697064690229652,
                    0.0000046246952469179125,
                    0.000004552854593349368,
                    0.000004481690126649661,
                    0.000004411340436679242,
                    0.000004341934573880481,
                    0.000004273591398489291,
                    0.000004206419016665543,
                    0.00000414051430825264,
                    0.000004075962549972316,
                    0.000004012837136907975,
                    0.000003951199404137046,
                    0.000003891098549352975,
                    0.000003832571656281887,
                    0.0000037756438176608732,
                    0.0000037203283555169843,
                    0.0000036666271354819465,
                    0.00000361453097091057,
                    0.000003564020111653022,
                    0.0000035150648114762485,
                    0.0000034676259673480034,
                    0.000003421655823100036,
                    0.000003377098729383866,
                    0.0000033338919513317804,
                    0.000003291966514943545,
                    0.000003251248082941178,
                    0.0000032116578506733318,
                    0.0000031731134526083965,
                    0.000003135529870031566,
                    0.0000030988203307532403,
                    0.0000030628971919402934,
                    0.000003027672797592189,
                    0.000002993060302693145,
                    0.0000029589744566706723,
                    0.0000029253323394694247,
                    0.0000028920540442962514,
                    0.00000285906330189487,
                    0.0000028262880420541317,
                    0.000002793660888928433,
                    0.000002761119587639406,
                    0.0000027286073605203218,
                    0.0000026960731922460377,
                    0.000002663472043948701,
                    0.000002630764997241061,
                    0.0000025979193298443075,
                    0.000002564908525235904,
                    0.0000025317122193868224,
                    0.000002498316088239717,
                    0.0000024647116800845986,
                    0.000002430896197412845,
                    0.0000023968722331712093,
                    0.0000023626474665947777,
                    0.0000023282343239721347,
                    0.0000022936496097895154,
                    0.000002258914113717496,
                    0.0000022240521988480503,
                    0.000002189091376467885,
                    0.000002154061872471963,
                    0.000002118996190286826,
                    0.0000020839286748938714,
                    0.0000020488950822266344,
                    0.000002013932157870692,
                    0.0000019790772286287617,
                    0.000001944367810133412,
                    0.0000019098412333036824,
                    0.000001875534292055612,
                    0.0000018414829142963302,
                    0.000001807721857862049,
                    0.000001774284432706251,
                    0.0000017412022503088774,
                    0.00000170850500096315,
                    0.0000016762202593054488,
                    0.0000016443733181863664,
                    0.0000016129870507380595,
                    0.0000015820818002738802,
                    0.0000015516752974601042,
                    0.0000015217826040253106,
                    0.0000014924160821186983,
                    0.0000014635853882928934,
                    0.0000014352974909674224,
                    0.0000014075567101245998,
                    0.000001380364777897692,
                    0.0000013537209186311299,
                    0.0000013276219469221612,
                    0.0000013020623820921565,
                    0.0000012770345774829157,
                    0.0000012525288629283508,
                    0.0000012285336987148573,
                    0.000001205035839314813,
                    0.000001182020505157276,
                    0.0000011594715606890442,
                    0.0000011373716969784674,
                    0.00000111570261712471,
                    0.0000010944452227575776,
                    0.0000010735797999483307,
                    0.0000010530862029008266,
                    0.0000010329440338555016,
                    0.0000010131328177161878,
                    9.93632170001775e-7,
                    9.744219568306452e-7,
                    9.554824457650698e-7,
                    9.367944464741356e-7,
                    9.183394403158539e-7,
                    9.000996980901141e-7,
                    8.820583853718644e-7,
                    8.64199654996112e-7,
                    8.465087264303944e-7,
                    8.289719519336476e-7,
                    8.115768695601274e-7,
                    7.943122432205638e-7,
                    7.771680901574394e-7,
                    7.60135696324671e-7,
                    7.432076202819836e-7,
                    7.26377686318926e-7,
                    7.09640967611278e-7,
                    6.929937602824422e-7,
                    6.764335492936026e-7,
                    6.599589671187028e-7,
                    6.43569746173892e-7,
                    6.272666659665674e-7,
                    6.110514959076779e-7,
                    5.949269346938887e-7,
                    5.788965471153313e-7,
                    5.629646990820176e-7,
                    5.471364915898778e-7,
                    5.314176942680719e-7,
                    5.158146790653512e-7,
                    5.003343545471512e-7,
                    4.8498410118925e-7,
                    4.697717079705331e-7,
                    4.5470531048868375e-7,
                    4.397933307503325e-7,
                    4.2504441872299576e-7,
                    4.104673956810941e-7,
                    3.960711993334956e-7,
                    3.818648306858533e-7,
                    3.6785730256772624e-7,
                    3.5405758974187415e-7,
                    3.4047458051080864e-7,
                    3.271170297428013e-7,
                    3.139935132551174e-7,
                    3.0111238351497744e-7,
                    2.8848172664728544e-7,
                    2.7610932077084384e-7,
                    2.640025957201634e-7,
                    2.5216859424630415e-7,
                    2.4061393482596206e-7,
                    2.2934477624171178e-7,
                    2.1836678412652988e-7,
                    2.0768509969132175e-7,
                    1.9730431087402232e-7,
                    1.8722842616222287e-7,
                    1.7746085134756315e-7,
                    1.6800436946900163e-7,
                    1.588611241933886e-7,
                    1.5003260686572787e-7,
                    1.4151964743835983e-7,
                    1.3332240945867274e-7,
                    1.2544038925949084e-7,
                    1.1787241945593464e-7,
                    1.1061667680820114e-7,
                    1.0367069446251246e-7,
                    9.703137853348908e-8,
                    9.069502894156102e-8,
                    8.465736436987156e-8,
                    7.891355115748277e-8,
                    7.345823590057462e-8,
                    6.828558149162606e-8,
                    6.338930628905477e-8,
                    5.876272607709608e-8,
                    5.43987984483439e-8,
                    5.0290169219672906e-8,
                    4.642922047642936e-8,
                    4.280811982983054e-8,
                    3.9418870468383076e-8,
                    3.625336158554215e-8,
                    3.3303418772470296e-8,
                    3.056085397613354e-8,
                    2.8017514638562013e-8,
                    2.5665331652291395e-8,
                    2.349636578914546e-8,
                    2.1502852283932776e-8,
                    1.9677243280646533e-8,
                    1.8012247875709455e-8,
                    1.6500869520068857e-8,
                    1.5136440568955146e-8,
                    1.3912653794352895e-8,
                    1.282359070028052e-8,
                    1.18637465044801e-8,
                    1.1028051671846935e-8,
                    1.0311889904723752e-8,
                    9.711112512999846e-9,
                    9.222049102839035e-9,
                    8.84151453694591e-9,
                    8.566812131798971e-9,
                    8.39573306852168e-9,
                    8.326552004396005e-9,
                    8.358018881856988e-9,
                    8.489346941587968e-9,
                    8.720196956530145e-9,
                    9.050657714696106e-9,
                    9.481222791086638e-9,
                    1.0012763663177662e-8,
                    1.0646499240741999e-8,
                    1.1383961899510922e-8,
                    1.2226960129596201e-8,
                    1.3177537933826609e-8,
                    1.4237931138248068e-8,
                    1.5410520806924618e-8,
                    1.6697783985678892e-8,
                    1.8102242034223205e-8,
                    1.9626406842844085e-8,
                    2.127272526787803e-8,
                    2.304352215901663e-8,
                    2.4940942390273487e-8,
                    2.6966892344403667e-8,
                    2.9122981336803288e-8,
                    3.1410463498491125e-8,
                    3.3830180667707526e-8,
                    3.6382506864987594e-8,
                    3.9067294946314145e-8,
                    4.188382604220443e-8,
                    4.4830762396499395e-8,
                    4.7906104216437716e-8,
                    5.110715113468732e-8,
                    5.443046886386698e-8,
                    5.7871861594412566e-8,
                    6.142635064725497e-8,
                    6.508815984375295e-8,
                    6.88507079968936e-8,
                    7.270660886041945e-8,
                    7.664767879693233e-8,
                    8.066495234303806e-8,
                    8.474870576032505e-8,
                    8.888848856666077e-8,
                    9.307316294437361e-8,
                    9.729095082190791e-8,
                    1.0152948832517823e-7,
                    1.0577588719580323e-7,
                    1.1001680267747161e-7,
                    1.1423850728062058e-7,
                    1.1842696975111251e-7,
                    1.225679384923183e-7,
                    1.266470286234564e-7,
                    1.306498118015456e-7,
                    1.3456190789105843e-7,
                    1.3836907753524496e-7,
                    1.420573146667925e-7,
                    1.4561293799342378e-7,
                    1.4902268050632189e-7,
                    1.5227377608574757e-7,
                    1.5535404231842274e-7,
                    1.582519586944723e-7,
                    1.609567394169346e-7,
                    1.63458400132832e-7,
                    1.657478179800982e-7,
                    1.6781678443763308e-7,
                    1.696580505646374e-7,
                    1.712653643183027e-7,
                    1.7263349974394763e-7,
                    1.737582779368851e-7,
                    1.746365797787562e-7,
                    1.75266350550974e-7,
                    1.7564659662256694e-7,
                    1.7577737449757554e-7,
                    1.7565977258688278e-7,
                    1.752958861398229e-7,
                    1.74688785831241e-7,
                    1.7384248054922593e-7,
                    1.7276187496715716e-7,
                    1.7145272251088434e-7,
                    1.6992157434794924e-7,
                    1.681757250311606e-7,
                    1.662231554241504e-7,
                    1.640724735225991e-7,
                    1.6173285376257522e-7,
                    1.5921397537802548e-7,
                    1.5652596033405028e-7,
                    1.5367931132250065e-7,
                    1.5068485026290692e-7,
                    1.4755365770606504e-7,
                    1.4429701349101677e-7,
                    1.4092633895977302e-7,
                    1.3745314098901702e-7,
                    1.338889580550929e-7,
                    1.3024530850857395e-7,
                    1.2653364119826538e-7,
                    1.2276528855203595e-7,
                    1.1895142219366515e-7,
                    1.1510301115108792e-7,
                    1.1123078269192328e-7,
                    1.0734518580683874e-7,
                    1.034563573498189e-7,
                    9.957409083634948e-8,
                    9.570780789540664e-8,
                    9.186653236842936e-8,
                    8.805886704751398e-8,
                    8.429297304535812e-8,
                    8.057655179037419e-8,
                    7.691682964134016e-8,
                    7.332054511645734e-8,
                    6.979393873130811e-8,
                    6.634274543854643e-8,
                    6.297218965900004e-8,
                    5.968698288895321e-8,
                    5.649132386168733e-8,
                    5.338890123284258e-8,
                    5.0382898748919125e-8,
                    4.7476002846455603e-8,
                    4.467041261630133e-8,
                    4.196785205326605e-8,
                    3.9369584496613314e-8,
                    3.687642915173554e-8,
                    3.4488779568287935e-8,
                    3.2206623935484046e-8,
                    3.0029567041504544e-8,
                    2.7956853731438844e-8,
                    2.598739368715788e-8,
                    2.4119787343288807e-8,
                    2.2352352746250178e-8,
                    2.0683153158276252e-8,
                    1.911002520559288e-8,
                    1.7630607369472166e-8,
                    1.6242368620728325e-8,
                    1.494263700226757e-8,
                    1.3728627970407905e-8,
                    1.2597472313656837e-8,
                    1.1546243477242292e-8,
                    1.0571984132669088e-8,
                    9.671731843616813e-9,
                    8.842543692312338e-9,
                    8.08151974377525e-9,
                    7.385825238739873e-9,
                    6.752711419313683e-9,
                    6.1795349042492644e-9,
                    5.663775542855029e-9,
                    5.203052687823106e-9,
                    4.795139837456149e-9,
                    4.437977606792765e-9,
                    4.129684994901191e-9,
                    3.86856892209913e-9,
                    3.65313201610067e-9,
                    3.4820786301586648e-9,
                    3.35431907929362e-9,
                    3.268972082842923e-9,
                    3.225365403036541e-9,
                    3.223034670348531e-9,
                    3.261720387255491e-9,
                    3.34136310304069e-9,
                    3.462096753714688e-9,
                    3.6242401632809484e-9,
                    3.8282867057520965e-9,
                    4.074892131799791e-9,
                    4.364860569951624e-9,
                    4.6991287200563514e-9,
                    5.0787482665022205e-9,
                    5.504866550524402e-9,
                    5.978705554953657e-9,
                    6.501539270947556e-9,
                    7.074669534561809e-9,
                    7.699400441329454e-9,
                    8.377011469133539e-9,
                    9.108729463306358e-9,
                    9.895699662730722e-9,
                    1.0738955971347359e-8,
                    1.163939070540912e-8,
                    1.2597724072547364e-8,
                    1.3614473663642445e-8,
                    1.4689924262011016e-8,
                    1.5824098295890143e-8,
                    1.7016727278961584e-8,
                    1.826722459906933e-8,
                    1.9574660026692935e-8,
                    2.0937736321563966e-8,
                    2.2354768317482053e-8,
                    2.3823664861425583e-8,
                    2.5341913973055672e-8,
                    2.690657157435727e-8,
                    2.851425411627405e-8,
                    3.0161135399667164e-8,
                    3.184294785184622e-8,
                    3.355498847744992e-8,
                    3.529212965394334e-8,
                    3.7048834887929216e-8,
                    3.881917958943734e-8,
                    4.059687685815477e-8,
                    4.237530820901864e-8,
                    4.414755909575698e-8,
                    4.590645902088321e-8,
                    4.764462595051602e-8,
                    4.9354514683435004e-8,
                    5.1028468757233514e-8,
                    5.265877541158731e-8,
                    5.423772307073774e-8,
                    5.575766075550618e-8,
                    5.721105879063456e-8,
                    5.8590570136987105e-8,
                    5.988909165107368e-8,
                    6.1099824557175e-8,
                    6.22163334106692e-8,
                    6.32326028353367e-8,
                    6.414309133265936e-8,
                    6.494278148740113e-8,
                    6.562722593082256e-8,
                    6.619258847030091e-8,
                    6.663567985123806e-8,
                    6.695398768310302e-8,
                    6.71457001352347e-8
                  ],
                  "yaxis": "y",
                  "type": "scatter"
                },
                {
                  "legendgroup": "2022 salary",
                  "marker": {
                    "color": "blue"
                  },
                  "mode": "lines",
                  "name": "2022 salary",
                  "showlegend": true,
                  "x": [
                    10000,
                    10790,
                    11580,
                    12370,
                    13160,
                    13950,
                    14740,
                    15530,
                    16320,
                    17110,
                    17900,
                    18690,
                    19480,
                    20270,
                    21060,
                    21850,
                    22640,
                    23430,
                    24220,
                    25010,
                    25800,
                    26590,
                    27380,
                    28170,
                    28960,
                    29750,
                    30540,
                    31330,
                    32120,
                    32910,
                    33700,
                    34490,
                    35280,
                    36070,
                    36860,
                    37650,
                    38440,
                    39230,
                    40020,
                    40810,
                    41600,
                    42390,
                    43180,
                    43970,
                    44760,
                    45550,
                    46340,
                    47130,
                    47920,
                    48710,
                    49500,
                    50290,
                    51080,
                    51870,
                    52660,
                    53450,
                    54240,
                    55030,
                    55820,
                    56610,
                    57400,
                    58190,
                    58980,
                    59770,
                    60560,
                    61350,
                    62140,
                    62930,
                    63720,
                    64510,
                    65300,
                    66090,
                    66880,
                    67670,
                    68460,
                    69250,
                    70040,
                    70830,
                    71620,
                    72410,
                    73200,
                    73990,
                    74780,
                    75570,
                    76360,
                    77150,
                    77940,
                    78730,
                    79520,
                    80310,
                    81100,
                    81890,
                    82680,
                    83470,
                    84260,
                    85050,
                    85840,
                    86630,
                    87420,
                    88210,
                    89000,
                    89790,
                    90580,
                    91370,
                    92160,
                    92950,
                    93740,
                    94530,
                    95320,
                    96110,
                    96900,
                    97690,
                    98480,
                    99270,
                    100060,
                    100850,
                    101640,
                    102430,
                    103220,
                    104010,
                    104800,
                    105590,
                    106380,
                    107170,
                    107960,
                    108750,
                    109540,
                    110330,
                    111120,
                    111910,
                    112700,
                    113490,
                    114280,
                    115070,
                    115860,
                    116650,
                    117440,
                    118230,
                    119020,
                    119810,
                    120600,
                    121390,
                    122180,
                    122970,
                    123760,
                    124550,
                    125340,
                    126130,
                    126920,
                    127710,
                    128500,
                    129290,
                    130080,
                    130870,
                    131660,
                    132450,
                    133240,
                    134030,
                    134820,
                    135610,
                    136400,
                    137190,
                    137980,
                    138770,
                    139560,
                    140350,
                    141140,
                    141930,
                    142720,
                    143510,
                    144300,
                    145090,
                    145880,
                    146670,
                    147460,
                    148250,
                    149040,
                    149830,
                    150620,
                    151410,
                    152200,
                    152990,
                    153780,
                    154570,
                    155360,
                    156150,
                    156940,
                    157730,
                    158520,
                    159310,
                    160100,
                    160890,
                    161680,
                    162470,
                    163260,
                    164050,
                    164840,
                    165630,
                    166420,
                    167210,
                    168000,
                    168790,
                    169580,
                    170370,
                    171160,
                    171950,
                    172740,
                    173530,
                    174320,
                    175110,
                    175900,
                    176690,
                    177480,
                    178270,
                    179060,
                    179850,
                    180640,
                    181430,
                    182220,
                    183010,
                    183800,
                    184590,
                    185380,
                    186170,
                    186960,
                    187750,
                    188540,
                    189330,
                    190120,
                    190910,
                    191700,
                    192490,
                    193280,
                    194070,
                    194860,
                    195650,
                    196440,
                    197230,
                    198020,
                    198810,
                    199600,
                    200390,
                    201180,
                    201970,
                    202760,
                    203550,
                    204340,
                    205130,
                    205920,
                    206710,
                    207500,
                    208290,
                    209080,
                    209870,
                    210660,
                    211450,
                    212240,
                    213030,
                    213820,
                    214610,
                    215400,
                    216190,
                    216980,
                    217770,
                    218560,
                    219350,
                    220140,
                    220930,
                    221720,
                    222510,
                    223300,
                    224090,
                    224880,
                    225670,
                    226460,
                    227250,
                    228040,
                    228830,
                    229620,
                    230410,
                    231200,
                    231990,
                    232780,
                    233570,
                    234360,
                    235150,
                    235940,
                    236730,
                    237520,
                    238310,
                    239100,
                    239890,
                    240680,
                    241470,
                    242260,
                    243050,
                    243840,
                    244630,
                    245420,
                    246210,
                    247000,
                    247790,
                    248580,
                    249370,
                    250160,
                    250950,
                    251740,
                    252530,
                    253320,
                    254110,
                    254900,
                    255690,
                    256480,
                    257270,
                    258060,
                    258850,
                    259640,
                    260430,
                    261220,
                    262010,
                    262800,
                    263590,
                    264380,
                    265170,
                    265960,
                    266750,
                    267540,
                    268330,
                    269120,
                    269910,
                    270700,
                    271490,
                    272280,
                    273070,
                    273860,
                    274650,
                    275440,
                    276230,
                    277020,
                    277810,
                    278600,
                    279390,
                    280180,
                    280970,
                    281760,
                    282550,
                    283340,
                    284130,
                    284920,
                    285710,
                    286500,
                    287290,
                    288080,
                    288870,
                    289660,
                    290450,
                    291240,
                    292030,
                    292820,
                    293610,
                    294400,
                    295190,
                    295980,
                    296770,
                    297560,
                    298350,
                    299140,
                    299930,
                    300720,
                    301510,
                    302300,
                    303090,
                    303880,
                    304670,
                    305460,
                    306250,
                    307040,
                    307830,
                    308620,
                    309410,
                    310200,
                    310990,
                    311780,
                    312570,
                    313360,
                    314150,
                    314940,
                    315730,
                    316520,
                    317310,
                    318100,
                    318890,
                    319680,
                    320470,
                    321260,
                    322050,
                    322840,
                    323630,
                    324420,
                    325210,
                    326000,
                    326790,
                    327580,
                    328370,
                    329160,
                    329950,
                    330740,
                    331530,
                    332320,
                    333110,
                    333900,
                    334690,
                    335480,
                    336270,
                    337060,
                    337850,
                    338640,
                    339430,
                    340220,
                    341010,
                    341800,
                    342590,
                    343380,
                    344170,
                    344960,
                    345750,
                    346540,
                    347330,
                    348120,
                    348910,
                    349700,
                    350490,
                    351280,
                    352070,
                    352860,
                    353650,
                    354440,
                    355230,
                    356020,
                    356810,
                    357600,
                    358390,
                    359180,
                    359970,
                    360760,
                    361550,
                    362340,
                    363130,
                    363920,
                    364710,
                    365500,
                    366290,
                    367080,
                    367870,
                    368660,
                    369450,
                    370240,
                    371030,
                    371820,
                    372610,
                    373400,
                    374190,
                    374980,
                    375770,
                    376560,
                    377350,
                    378140,
                    378930,
                    379720,
                    380510,
                    381300,
                    382090,
                    382880,
                    383670,
                    384460,
                    385250,
                    386040,
                    386830,
                    387620,
                    388410,
                    389200,
                    389990,
                    390780,
                    391570,
                    392360,
                    393150,
                    393940,
                    394730,
                    395520,
                    396310,
                    397100,
                    397890,
                    398680,
                    399470,
                    400260,
                    401050,
                    401840,
                    402630,
                    403420,
                    404210
                  ],
                  "xaxis": "x",
                  "y": [
                    8.533894622752326e-7,
                    8.937762338622922e-7,
                    9.352318739732881e-7,
                    9.777467252611794e-7,
                    0.00000102130997167197,
                    0.0000010659096859766122,
                    0.0000011115328736591104,
                    0.0000011581655121723217,
                    0.0000012057925846751242,
                    0.0000012543981074864993,
                    0.0000013039651506318276,
                    0.0000013544758510122795,
                    0.0000014059114178973505,
                    0.0000014582521306204365,
                    0.0000015114773285452383,
                    0.000001565565393563147,
                    0.0000016204937255757626,
                    0.000001676238711608399,
                    0.0000017327756893867251,
                    0.0000017900789063858946,
                    0.0000018481214755261873,
                    0.0000019068753288381368,
                    0.000001966311170550245,
                    0.0000020263984311604396,
                    0.0000020871052241365385,
                    0.0000021483983069481315,
                    0.000002210243048161109,
                    0.0000022726034023250924,
                    0.0000023354418943519467,
                    0.0000023987196150204873,
                    0.0000024623962291478925,
                    0.000002526429997843016,
                    0.0000025907778161022405,
                    0.000002655395266825286,
                    0.0000027202366921198907,
                    0.0000027852552825322044,
                    0.0000028504031845873165,
                    0.0000029156316267556095,
                    0.0000029808910636784048,
                    0.000003046131338196115,
                    0.0000031113018604268124,
                    0.0000031763518028488613,
                    0.0000032412303100514933,
                    0.000003305886721537601,
                    0.0000033702708056978396,
                    0.0000034343330028290843,
                    0.0000034980246748482537,
                    0.0000035612983591575365,
                    0.000003624108023954573,
                    0.0000036864093221528087,
                    0.000003748159840987543,
                    0.0000038093193443329568,
                    0.00000386985000474798,
                    0.000003929716622303924,
                    0.000003988886827325689,
                    0.000004047331264300624,
                    0.0000041050237543736,
                    0.000004161941434052199,
                    0.0000042180648679895,
                    0.000004273378133991314,
                    0.000004327868878705273,
                    0.000004381528342788309,
                    0.000004434351354710159,
                    0.000004486336292730426,
                    0.000004537485014978583,
                    0.000004587802757964952,
                    0.00000463729800425035,
                    0.000004685982320396299,
                    0.000004733870166701026,
                    0.000004780978680592749,
                    0.000004827327435895114,
                    0.000004872938180495614,
                    0.000004917834555229952,
                    0.000004962041797041074,
                    0.00000500558642967489,
                    0.0000050484959453343654,
                    0.000005090798480825181,
                    0.000005132522491789016,
                    0.000005173696428632864,
                    0.000005214348417724354,
                    0.000005254505951334585,
                    0.000005294195589672346,
                    0.0000053334426781688955,
                    0.000005372271082944125,
                    0.000005410702947114977,
                    0.0000054487584703012995,
                    0.0000054864557133466335,
                    0.000005523810429906786,
                    0.000005560835926174566,
                    0.000005597542949608997,
                    0.000005633939607129567,
                    0.000005670031312826376,
                    0.000005705820764832047,
                    0.000005741307950607459,
                    0.000005776490179517309,
                    0.000005811362141219077,
                    0.000005845915988065312,
                    0.000005880141439430684,
                    0.000005914025905624824,
                    0.000005947554628845201,
                    0.000005980710838463012,
                    0.000006013475917822096,
                    0.000006045829579667859,
                    0.000006077750047310945,
                    0.000006109214238666999,
                    0.0000061401979504004844,
                    0.000006170676039533423,
                    0.0000062006226000556765,
                    0.000006230011132290406,
                    0.000006258814703019048,
                    0.000006287006094652296,
                    0.0000063145579420384695,
                    0.000006341442855824927,
                    0.000006367633531622656,
                    0.000006393102844563881,
                    0.000006417823929179567,
                    0.0000064417702448518855,
                    0.000006464915627408734,
                    0.000006487234327717988,
                    0.000006508701038401482,
                    0.000006529290910018255,
                    0.000006548979558258614,
                    0.000006567743063841439,
                    0.000006585557966913898,
                    0.000006602401257813676,
                    0.000006618250366068069,
                    0.000006633083149471576,
                    0.000006646877885006012,
                    0.000006659613263245293,
                    0.000006671268387726025,
                    0.0000066818227805663705,
                    0.000006691256395386948,
                    0.000006699549638331546,
                    0.000006706683397710493,
                    0.000006712639082500696,
                    0.0000067173986696414585,
                    0.00000672094475977107,
                    0.0000067232606407625296,
                    0.000006724330358145175,
                    0.000006724138791249258,
                    0.000006722671733687785,
                    0.000006719915976602046,
                    0.000006715859392946395,
                    0.000006710491020981126,
                    0.0000067038011450808395,
                    0.00000669578137195228,
                    0.00000668642470039267,
                    0.0000066757255828044095,
                    0.00000666367997681742,
                    0.000006650285385549335,
                    0.000006635540885258275,
                    0.000006619447139403653,
                    0.0000066020063984257325,
                    0.000006583222484876591,
                    0.000006563100763876621,
                    0.000006541648099225598,
                    0.000006518872795855921,
                    0.000006494784529671092,
                    0.000006469394266155736,
                    0.000006442714169465963,
                    0.000006414757504003862,
                    0.000006385538530737735,
                    0.0000063550724007461735,
                    0.000006323375048629749,
                    0.000006290463088547305,
                    0.000006256353715686897,
                    0.000006221064615974691,
                    0.000006184613886754035,
                    0.000006147019971032972,
                    0.000006108301607701972,
                    0.000006068477799866767,
                    0.000006027567803127916,
                    0.000005985591135273638,
                    0.000005942567608442541,
                    0.000005898517384363422,
                    0.000005853461052800961,
                    0.000005807419732835748,
                    0.000005760415196094595,
                    0.000005712470010533354,
                    0.000005663607702868022,
                    0.000005613852937261934,
                    0.000005563231707416757,
                    0.000005511771538791908,
                    0.0000054595016973007286,
                    0.000005406453400508527,
                    0.000005352660027096745,
                    0.000005298157320162993,
                    0.000005242983579804312,
                    0.00000518717984038448,
                    0.000005130790027916812,
                    0.000005073861093102873,
                    0.000005016443115754893,
                    0.000004958589376592025,
                    0.000004900356392736275,
                    0.000004841803913636908,
                    0.000004782994874618592,
                    0.000004723995305769789,
                    0.000004664874194458324,
                    0.000004605703300371101,
                    0.000004546556922616804,
                    0.000004487511619093631,
                    0.000004428645879000772,
                    0.000004370039750051192,
                    0.000004311774422615895,
                    0.000004253931773686297,
                    0.000004196593874172416,
                    0.000004139842463652038,
                    0.000004083758397240871,
                    0.000004028421069759421,
                    0.000003973907822820828,
                    0.000003920293340850189,
                    0.000003867649042363367,
                    0.000003816042473078878,
                    0.0000037655367076049264,
                    0.0000037161897665337286,
                    0.0000036680540557834,
                    0.000003621175834955145,
                    0.0000035755947213171888,
                    0.0000035313432357906203,
                    0.0000034884463969955683,
                    0.0000034469213690224526,
                    0.0000034067771681254874,
                    0.000003368014432998494,
                    0.0000033306252626913363,
                    0.0000032945931255647073,
                    0.000003259892841968119,
                    0.000003226490642568228,
                    0.0000031943443034596195,
                    0.0000031634033583668184,
                    0.000003133609387403416,
                    0.0000031048963810015975,
                    0.0000030771911767726615,
                    0.0000030504139662170692,
                    0.000003024478867381114,
                    0.00000299929455876724,
                    0.0000029747649690566442,
                    0.0000029507900165063813,
                    0.0000029272663912484077,
                    0.000002904088373154175,
                    0.0000028811486774443396,
                    0.000002858339319826321,
                    0.00000283555249263968,
                    0.0000028126814432866354,
                    0.000002789621346125863,
                    0.000002766270159016461,
                    0.0000027425294558154414,
                    0.00000271830522635777,
                    0.000002693508635780095,
                    0.000002668056735485098,
                    0.0000026418731185779765,
                    0.000002614888513233052,
                    0.0000025870413081595326,
                    0.0000025582780051210637,
                    0.000002528553594313723,
                    0.000002497831849309582,
                    0.000002466085539215187,
                    0.0000024332965566632715,
                    0.000002399455961237497,
                    0.000002364563938910102,
                    0.000002328629679037247,
                    0.000002291671171392136,
                    0.0000022537149266090763,
                    0.0000022147956242494476,
                    0.0000021749556934716326,
                    0.000002134244831981023,
                    0.00000209271946954391,
                    0.0000020504421828630976,
                    0.000002007481069027289,
                    0.0000019639090850565786,
                    0.0000019198033612703086,
                    0.000001875244496300393,
                    0.0000018303158415642292,
                    0.0000017851027828992479,
                    0.0000017396920268506205,
                    0.00000169417089880061,
                    0.0000016486266597399093,
                    0.0000016031458480167611,
                    0.0000015578136518681226,
                    0.0000015127133179492343,
                    0.0000014679256004445306,
                    0.0000014235282546752866,
                    0.0000013795955784291301,
                    0.0000013361980035350414,
                    0.0000012934017395057276,
                    0.0000012512684703777824,
                    0.0000012098551052088916,
                    0.0000011692135820493982,
                    0.00000112939072460101,
                    0.0000010904281502152008,
                    0.0000010523622273738725,
                    0.000001015224080339729,
                    9.790396382668917e-7,
                    9.438297257259306e-7,
                    9.096101913225039e-7,
                    8.763920708751911e-7,
                    8.441817814646953e-7,
                    8.129813425711236e-7,
                    7.827886204756421e-7,
                    7.535975921137078e-7,
                    7.253986246249924e-7,
                    6.981787669451483e-7,
                    6.719220499218715e-7,
                    6.466097916067025e-7,
                    6.222209045695992e-7,
                    5.987322022998811e-7,
                    5.761187019899712e-7,
                    5.543539212419939e-7,
                    5.334101664877137e-7,
                    5.132588111648842e-7,
                    4.938705619443607e-7,
                    4.752157115489126e-7,
                    4.5726437694378947e-7,
                    4.399867219084998e-7,
                    4.2335316321706027e-7,
                    4.073345598588618e-7,
                    3.9190238492331507e-7,
                    3.770288799480302e-7,
                    3.626871916921942e-7,
                    3.4885149144418716e-7,
                    3.3549707710549e-7,
                    3.226004584121785e-7,
                    3.101394257613066e-7,
                    2.9809310320299735e-7,
                    2.8644198624075585e-7,
                    2.751679651532443e-7,
                    2.6425433461113353e-7,
                    2.536857904134252e-7,
                    2.4344841420940416e-7,
                    2.3352964710571621e-7,
                    2.2391825308339757e-7,
                    2.1460427316748707e-7,
                    2.0557897130241534e-7,
                    1.9683477289000888e-7,
                    1.8836519694393153e-7,
                    1.8016478280493097e-7,
                    1.7222901234561664e-7,
                    1.6455422857189786e-7,
                    1.5713755150094434e-7,
                    1.4997679216292703e-7,
                    1.4307036553618832e-7,
                    1.364172031833758e-7,
                    1.300166663098948e-7,
                    1.2386845991639918e-7,
                    1.1797254866456312e-7,
                    1.1232907502074521e-7,
                    1.0693828018609193e-7,
                    1.018004282649061e-7,
                    9.691573406647518e-8,
                    9.228429487979689e-8,
                    8.790602650648131e-8,
                    8.378060378526125e-8,
                    7.990740579262424e-8,
                    7.628546585864714e-8,
                    7.291342649562175e-8,
                    6.978949929985162e-8,
                    6.69114298542921e-8,
                    6.427646763160232e-8,
                    6.188134087363504e-8,
                    5.972223640425189e-8,
                    5.7794784317322656e-8,
                    5.609404747045076e-8,
                    5.461451570686112e-8,
                    5.3350104722394264e-8,
                    5.229415949102508e-8,
                    5.143946216006569e-8,
                    5.077824432448772e-8,
                    5.030220358790304e-8,
                    5.000252431497032e-8,
                    4.9869902475702826e-8,
                    4.989457447576957e-8,
                    5.0066349857919725e-8,
                    5.037464774774713e-8,
                    5.080853690189602e-8,
                    5.135677919836835e-8,
                    5.20078763868534e-8,
                    5.275011989212716e-8,
                    5.357164343585905e-8,
                    5.446047821206814e-8,
                    5.540461031954749e-8,
                    5.639204012149356e-8,
                    5.7410843169121844e-8,
                    5.844923229303275e-8,
                    5.9495620434429524e-8,
                    6.053868375886895e-8,
                    6.156742456897595e-8,
                    6.257123351034693e-8,
                    6.353995054753113e-8,
                    6.446392417528272e-8,
                    6.533406832484079e-8,
                    6.614191642638766e-8,
                    6.68796720974141e-8,
                    6.75402559427557e-8,
                    6.811734797562699e-8,
                    6.860542519998415e-8,
                    6.89997939327595e-8,
                    6.929661648950884e-8,
                    6.949293190823627e-8,
                    6.958667044291834e-8,
                    6.957666161968538e-8,
                    6.946263571382363e-8,
                    6.92452185736956e-8,
                    6.892591978726914e-8,
                    6.850711425707225e-8,
                    6.799201731893534e-8,
                    6.738465360772883e-8,
                    6.668981993839244e-8,
                    6.591304253187848e-8,
                    6.506052897229782e-8,
                    6.41391153327368e-8,
                    6.31562089522619e-8,
                    6.211972738496622e-8,
                    6.103803407316701e-8,
                    5.991987132077206e-8,
                    5.877429115929734e-8,
                    5.761058470808093e-8,
                    5.643821063208764e-8,
                    5.526672329563138e-8,
                    5.410570119879805e-8,
                    5.296467626582889e-8,
                    5.185306453183851e-8,
                    5.078009874663347e-8,
                    4.975476338276546e-8,
                    4.878573250000459e-8,
                    4.7881310880854334e-8,
                    4.704937881224202e-8,
                    4.6297340847734744e-8,
                    4.5632078843158665e-8,
                    4.505990951684463e-8,
                    4.458654674434602e-8,
                    4.4217068756736515e-8,
                    4.395589037178092e-8,
                    4.380674034859105e-8,
                    4.377264391894548e-8,
                    4.3855910512334995e-8,
                    4.405812665698025e-8,
                    4.438015400550915e-8,
                    4.482213240159021e-8,
                    4.5383487872486615e-8,
                    4.6062945402119415e-8,
                    4.685854630970396e-8,
                    4.776767003027908e-8,
                    4.8787060065453404e-8,
                    4.991285384545638e-8,
                    5.114061621717821e-8,
                    5.246537624745693e-8,
                    5.388166700661077e-8,
                    5.538356797441116e-8,
                    5.6964749689654196e-8,
                    5.861852024562387e-8,
                    6.033787321746962e-8,
                    6.211553659429892e-8,
                    6.394402227911156e-8,
                    6.581567571401928e-8,
                    6.77227251869884e-8,
                    6.965733037999178e-8,
                    7.161162972733642e-8,
                    7.357778616730095e-8,
                    7.5548030890237e-8,
                    7.751470471204106e-8,
                    7.947029673329337e-8,
                    8.140747998120757e-8,
                    8.331914377348593e-8,
                    8.519842258973752e-8,
                    8.703872128669344e-8,
                    8.883373654725168e-8,
                    9.057747450957647e-8,
                    9.226426458004416e-8,
                    9.388876949175239e-8,
                    9.544599172745252e-8,
                    9.693127648098475e-8,
                    9.834031138345875e-8,
                    9.9669123268377e-8,
                    1.0091407229261293e-7,
                    1.020718437666156e-7,
                    1.0313943807658477e-7,
                    1.0411415910289528e-7,
                    1.0499360155219661e-7,
                    1.057756376249979e-7,
                    1.064584034359698e-7,
                    1.0704028559069881e-7,
                    1.075199083004249e-7,
                    1.0789612138584073e-7,
                    1.081679894829575e-7,
                    1.0833478271918377e-7,
                    1.083959690771169e-7,
                    1.0835120860825655e-7,
                    1.0820034960018088e-7,
                    1.0794342674003297e-7,
                    1.075806612558543e-7,
                    1.0711246295680674e-7,
                    1.0653943403505634e-7,
                    1.0586237443741368e-7,
                    1.0508228856502132e-7,
                    1.0420039301560062e-7,
                    1.0321812504604341e-7,
                    1.0213715140429825e-7,
                    1.0095937715920532e-7,
                    9.968695414563725e-8,
                    9.832228864021439e-8,
                    9.686804789001414e-8
                  ],
                  "yaxis": "y",
                  "type": "scatter"
                },
                {
                  "legendgroup": "2020 salary",
                  "marker": {
                    "color": "white",
                    "symbol": "line-ns-open"
                  },
                  "mode": "markers",
                  "name": "2020 salary",
                  "showlegend": false,
                  "x": [
                    79833,
                    260000,
                    109024,
                    20000,
                    150000,
                    72000,
                    190000,
                    35735,
                    135000,
                    125000,
                    51321,
                    40481,
                    39916,
                    87000,
                    85000,
                    8000,
                    41689,
                    114047,
                    5707,
                    56000,
                    43331,
                    6072,
                    47899,
                    98000,
                    115000,
                    325000,
                    42000,
                    33511,
                    100000,
                    117104,
                    59303,
                    70000,
                    68428,
                    450000,
                    46759,
                    74130,
                    103000,
                    250000,
                    10000,
                    138000,
                    45760,
                    79833,
                    50180,
                    106000,
                    112872,
                    15966,
                    76958,
                    188000,
                    105000,
                    70139,
                    6072,
                    91000,
                    45896,
                    54742,
                    60000,
                    148261,
                    38776,
                    118000,
                    120000,
                    138350,
                    110000,
                    130800,
                    21669,
                    412000,
                    45618,
                    62726,
                    49268,
                    190200,
                    105000,
                    91237,
                    62726,
                    42197
                  ],
                  "xaxis": "x",
                  "y": [
                    "2020 salary",
                    "2020 salary",
                    "2020 salary",
                    "2020 salary",
                    "2020 salary",
                    "2020 salary",
                    "2020 salary",
                    "2020 salary",
                    "2020 salary",
                    "2020 salary",
                    "2020 salary",
                    "2020 salary",
                    "2020 salary",
                    "2020 salary",
                    "2020 salary",
                    "2020 salary",
                    "2020 salary",
                    "2020 salary",
                    "2020 salary",
                    "2020 salary",
                    "2020 salary",
                    "2020 salary",
                    "2020 salary",
                    "2020 salary",
                    "2020 salary",
                    "2020 salary",
                    "2020 salary",
                    "2020 salary",
                    "2020 salary",
                    "2020 salary",
                    "2020 salary",
                    "2020 salary",
                    "2020 salary",
                    "2020 salary",
                    "2020 salary",
                    "2020 salary",
                    "2020 salary",
                    "2020 salary",
                    "2020 salary",
                    "2020 salary",
                    "2020 salary",
                    "2020 salary",
                    "2020 salary",
                    "2020 salary",
                    "2020 salary",
                    "2020 salary",
                    "2020 salary",
                    "2020 salary",
                    "2020 salary",
                    "2020 salary",
                    "2020 salary",
                    "2020 salary",
                    "2020 salary",
                    "2020 salary",
                    "2020 salary",
                    "2020 salary",
                    "2020 salary",
                    "2020 salary",
                    "2020 salary",
                    "2020 salary",
                    "2020 salary",
                    "2020 salary",
                    "2020 salary",
                    "2020 salary",
                    "2020 salary",
                    "2020 salary",
                    "2020 salary",
                    "2020 salary",
                    "2020 salary",
                    "2020 salary",
                    "2020 salary",
                    "2020 salary"
                  ],
                  "yaxis": "y2",
                  "type": "scatter"
                },
                {
                  "legendgroup": "2021 salary",
                  "marker": {
                    "color": "red",
                    "symbol": "line-ns-open"
                  },
                  "mode": "markers",
                  "name": "2021 salary",
                  "showlegend": false,
                  "x": [
                    82528,
                    150000,
                    235000,
                    53192,
                    100000,
                    5409,
                    270000,
                    80000,
                    79197,
                    140000,
                    54238,
                    47282,
                    153667,
                    28476,
                    59102,
                    110000,
                    170000,
                    80000,
                    88654,
                    76833,
                    19609,
                    276000,
                    29751,
                    89294,
                    12000,
                    450000,
                    70000,
                    95746,
                    75000,
                    150000,
                    36259,
                    62000,
                    73000,
                    51519,
                    187442,
                    115000,
                    150000,
                    30428,
                    94564,
                    113476,
                    103160,
                    12000,
                    45391,
                    225000,
                    50000,
                    40189,
                    90000,
                    200000,
                    60000,
                    200000,
                    50000,
                    110037,
                    10354,
                    151000,
                    120000,
                    9466,
                    20000,
                    40570,
                    100000,
                    49646,
                    38400,
                    24000,
                    100000,
                    90000,
                    63711,
                    77364,
                    220000,
                    80000,
                    135000,
                    240000,
                    150000,
                    82500,
                    100000,
                    82744,
                    62649,
                    90000,
                    153000,
                    160000,
                    168000,
                    150000,
                    75774,
                    13400,
                    144000,
                    127221,
                    119059,
                    423000,
                    120000,
                    125000,
                    230000,
                    85000,
                    28369,
                    63831,
                    130026,
                    165000,
                    80000,
                    250000,
                    55000,
                    150000,
                    170000,
                    82528,
                    60000,
                    235000,
                    60757,
                    174000,
                    2859,
                    40038,
                    81000,
                    5679,
                    22611,
                    90734,
                    26005,
                    61896,
                    12000,
                    4000,
                    50000,
                    69741,
                    76833,
                    74000,
                    152000,
                    21844,
                    18000,
                    174000,
                    96113,
                    147000,
                    9272,
                    24342,
                    54094,
                    90000,
                    61467,
                    195000,
                    37825,
                    50000,
                    160000,
                    12901,
                    200000,
                    165000,
                    20000,
                    120000,
                    24823,
                    56738,
                    66022,
                    5882,
                    24823,
                    185000,
                    28609,
                    90734,
                    88654,
                    140000,
                    46597,
                    116914,
                    33808,
                    56256,
                    225000,
                    416000,
                    87738,
                    88654,
                    135000,
                    71786,
                    16228,
                    256000,
                    200000,
                    200000,
                    180000,
                    110000,
                    63810,
                    46809,
                    4000,
                    21637,
                    103691,
                    80000,
                    110000,
                    165000,
                    18053,
                    72212,
                    36643,
                    12103,
                    96282,
                    170000,
                    115000,
                    90000,
                    600000,
                    28399,
                    93000,
                    99703,
                    200000,
                    173762,
                    185000,
                    141846,
                    130000,
                    63831,
                    16904,
                    66265,
                    25532,
                    160000,
                    93150,
                    111775,
                    28016,
                    65013,
                    72500,
                    18907,
                    76833,
                    85000,
                    77684,
                    100000,
                    58000,
                    55000,
                    20171,
                    59102,
                    112000,
                    100000,
                    69741,
                    105000,
                    69999,
                    94665,
                    102839,
                    109000,
                    51064
                  ],
                  "xaxis": "x",
                  "y": [
                    "2021 salary",
                    "2021 salary",
                    "2021 salary",
                    "2021 salary",
                    "2021 salary",
                    "2021 salary",
                    "2021 salary",
                    "2021 salary",
                    "2021 salary",
                    "2021 salary",
                    "2021 salary",
                    "2021 salary",
                    "2021 salary",
                    "2021 salary",
                    "2021 salary",
                    "2021 salary",
                    "2021 salary",
                    "2021 salary",
                    "2021 salary",
                    "2021 salary",
                    "2021 salary",
                    "2021 salary",
                    "2021 salary",
                    "2021 salary",
                    "2021 salary",
                    "2021 salary",
                    "2021 salary",
                    "2021 salary",
                    "2021 salary",
                    "2021 salary",
                    "2021 salary",
                    "2021 salary",
                    "2021 salary",
                    "2021 salary",
                    "2021 salary",
                    "2021 salary",
                    "2021 salary",
                    "2021 salary",
                    "2021 salary",
                    "2021 salary",
                    "2021 salary",
                    "2021 salary",
                    "2021 salary",
                    "2021 salary",
                    "2021 salary",
                    "2021 salary",
                    "2021 salary",
                    "2021 salary",
                    "2021 salary",
                    "2021 salary",
                    "2021 salary",
                    "2021 salary",
                    "2021 salary",
                    "2021 salary",
                    "2021 salary",
                    "2021 salary",
                    "2021 salary",
                    "2021 salary",
                    "2021 salary",
                    "2021 salary",
                    "2021 salary",
                    "2021 salary",
                    "2021 salary",
                    "2021 salary",
                    "2021 salary",
                    "2021 salary",
                    "2021 salary",
                    "2021 salary",
                    "2021 salary",
                    "2021 salary",
                    "2021 salary",
                    "2021 salary",
                    "2021 salary",
                    "2021 salary",
                    "2021 salary",
                    "2021 salary",
                    "2021 salary",
                    "2021 salary",
                    "2021 salary",
                    "2021 salary",
                    "2021 salary",
                    "2021 salary",
                    "2021 salary",
                    "2021 salary",
                    "2021 salary",
                    "2021 salary",
                    "2021 salary",
                    "2021 salary",
                    "2021 salary",
                    "2021 salary",
                    "2021 salary",
                    "2021 salary",
                    "2021 salary",
                    "2021 salary",
                    "2021 salary",
                    "2021 salary",
                    "2021 salary",
                    "2021 salary",
                    "2021 salary",
                    "2021 salary",
                    "2021 salary",
                    "2021 salary",
                    "2021 salary",
                    "2021 salary",
                    "2021 salary",
                    "2021 salary",
                    "2021 salary",
                    "2021 salary",
                    "2021 salary",
                    "2021 salary",
                    "2021 salary",
                    "2021 salary",
                    "2021 salary",
                    "2021 salary",
                    "2021 salary",
                    "2021 salary",
                    "2021 salary",
                    "2021 salary",
                    "2021 salary",
                    "2021 salary",
                    "2021 salary",
                    "2021 salary",
                    "2021 salary",
                    "2021 salary",
                    "2021 salary",
                    "2021 salary",
                    "2021 salary",
                    "2021 salary",
                    "2021 salary",
                    "2021 salary",
                    "2021 salary",
                    "2021 salary",
                    "2021 salary",
                    "2021 salary",
                    "2021 salary",
                    "2021 salary",
                    "2021 salary",
                    "2021 salary",
                    "2021 salary",
                    "2021 salary",
                    "2021 salary",
                    "2021 salary",
                    "2021 salary",
                    "2021 salary",
                    "2021 salary",
                    "2021 salary",
                    "2021 salary",
                    "2021 salary",
                    "2021 salary",
                    "2021 salary",
                    "2021 salary",
                    "2021 salary",
                    "2021 salary",
                    "2021 salary",
                    "2021 salary",
                    "2021 salary",
                    "2021 salary",
                    "2021 salary",
                    "2021 salary",
                    "2021 salary",
                    "2021 salary",
                    "2021 salary",
                    "2021 salary",
                    "2021 salary",
                    "2021 salary",
                    "2021 salary",
                    "2021 salary",
                    "2021 salary",
                    "2021 salary",
                    "2021 salary",
                    "2021 salary",
                    "2021 salary",
                    "2021 salary",
                    "2021 salary",
                    "2021 salary",
                    "2021 salary",
                    "2021 salary",
                    "2021 salary",
                    "2021 salary",
                    "2021 salary",
                    "2021 salary",
                    "2021 salary",
                    "2021 salary",
                    "2021 salary",
                    "2021 salary",
                    "2021 salary",
                    "2021 salary",
                    "2021 salary",
                    "2021 salary",
                    "2021 salary",
                    "2021 salary",
                    "2021 salary",
                    "2021 salary",
                    "2021 salary",
                    "2021 salary",
                    "2021 salary",
                    "2021 salary",
                    "2021 salary",
                    "2021 salary",
                    "2021 salary",
                    "2021 salary",
                    "2021 salary",
                    "2021 salary",
                    "2021 salary",
                    "2021 salary",
                    "2021 salary",
                    "2021 salary",
                    "2021 salary",
                    "2021 salary",
                    "2021 salary",
                    "2021 salary",
                    "2021 salary",
                    "2021 salary",
                    "2021 salary",
                    "2021 salary",
                    "2021 salary",
                    "2021 salary"
                  ],
                  "yaxis": "y2",
                  "type": "scatter"
                },
                {
                  "legendgroup": "2022 salary",
                  "marker": {
                    "color": "blue",
                    "symbol": "line-ns-open"
                  },
                  "mode": "markers",
                  "name": "2022 salary",
                  "showlegend": false,
                  "x": [
                    135000,
                    155000,
                    120600,
                    130000,
                    90000,
                    170000,
                    150000,
                    102100,
                    84900,
                    136620,
                    99360,
                    117789,
                    104702,
                    146000,
                    123000,
                    52351,
                    99000,
                    116000,
                    106260,
                    126500,
                    242000,
                    200000,
                    65438,
                    39263,
                    78526,
                    52351,
                    165220,
                    45807,
                    120160,
                    90320,
                    181940,
                    132320,
                    220110,
                    160080,
                    180000,
                    120000,
                    124190,
                    130000,
                    110000,
                    170000,
                    115500,
                    112900,
                    90320,
                    112900,
                    90320,
                    165400,
                    132320,
                    167000,
                    243900,
                    136600,
                    109280,
                    128875,
                    93700,
                    224000,
                    167875,
                    175000,
                    156600,
                    108800,
                    95550,
                    113000,
                    135000,
                    161342,
                    137141,
                    167000,
                    123000,
                    78526,
                    65438,
                    150000,
                    211500,
                    192400,
                    90700,
                    130000,
                    61300,
                    130000,
                    61300,
                    160000,
                    138600,
                    136000,
                    58000,
                    135000,
                    170000,
                    123000,
                    189650,
                    164996,
                    54957,
                    54957,
                    118187,
                    132000,
                    165400,
                    208775,
                    147800,
                    136994,
                    101570,
                    128875,
                    93700,
                    79039,
                    132320,
                    37300,
                    164000,
                    155000,
                    124333,
                    98158,
                    120000,
                    112900,
                    90320,
                    145000,
                    105400,
                    87932,
                    117789,
                    215300,
                    158200,
                    209100,
                    154600,
                    115934,
                    81666,
                    175000,
                    98158,
                    58000,
                    183600,
                    52351,
                    180000,
                    71982,
                    45807,
                    65949,
                    49461,
                    78526,
                    58894,
                    260000,
                    60000,
                    63900,
                    160000,
                    112300,
                    241000,
                    159000,
                    180000,
                    80000,
                    82900,
                    100800,
                    49461,
                    140400,
                    39263,
                    43966,
                    32974,
                    87932,
                    76940,
                    104702,
                    91614,
                    65949,
                    87932,
                    189650,
                    164996,
                    43966,
                    32974,
                    98158,
                    78526,
                    215300,
                    76940,
                    209100,
                    154600,
                    180000,
                    21983,
                    80000,
                    78791,
                    196979,
                    120000,
                    125000,
                    37236,
                    105000,
                    87932,
                    18442,
                    31615,
                    58255,
                    100000,
                    54957,
                    18442,
                    162674,
                    120000,
                    144000,
                    104890,
                    100000,
                    140000,
                    135000,
                    50000,
                    220000,
                    140000,
                    183228,
                    91614,
                    185100,
                    220000,
                    200000,
                    120000,
                    120000,
                    65000,
                    324000,
                    216000,
                    210000,
                    120000,
                    230000,
                    100000,
                    100000,
                    31875,
                    200000,
                    75000,
                    35590,
                    78791,
                    100000,
                    153000,
                    58035,
                    165000,
                    93427,
                    52396,
                    62651,
                    32974,
                    40000,
                    87425,
                    115000,
                    86703,
                    75000,
                    64849,
                    120000,
                    157000,
                    150000,
                    70912,
                    65000,
                    71444,
                    20000,
                    48000,
                    152500,
                    68147,
                    122346,
                    380000,
                    69336,
                    10000,
                    20000,
                    405000,
                    135000,
                    177000,
                    78000,
                    135000,
                    100000,
                    90320,
                    85000,
                    75000,
                    214000,
                    192600,
                    266400,
                    213120,
                    112900,
                    155000,
                    141300,
                    102100,
                    115934,
                    81666,
                    206699,
                    99100,
                    130000,
                    115000,
                    110500,
                    130000,
                    99050,
                    160000,
                    205300,
                    140400,
                    176000,
                    144000,
                    200100,
                    160000,
                    145000,
                    70500,
                    205300,
                    140400,
                    205300,
                    184700,
                    175100,
                    140250,
                    116150,
                    54000,
                    170000,
                    65438,
                    80000,
                    140000,
                    210000,
                    140000,
                    100000,
                    69000,
                    210000,
                    140000,
                    210000,
                    150075,
                    100000,
                    25000,
                    126500,
                    106260,
                    220110,
                    160080,
                    105000,
                    110925,
                    45807,
                    140000,
                    99000,
                    60000,
                    192564,
                    144854,
                    230000,
                    150000,
                    150260,
                    109280,
                    210000,
                    170000,
                    160000,
                    130000,
                    67000,
                    52000,
                    154000,
                    126000,
                    129000,
                    150000,
                    200000
                  ],
                  "xaxis": "x",
                  "y": [
                    "2022 salary",
                    "2022 salary",
                    "2022 salary",
                    "2022 salary",
                    "2022 salary",
                    "2022 salary",
                    "2022 salary",
                    "2022 salary",
                    "2022 salary",
                    "2022 salary",
                    "2022 salary",
                    "2022 salary",
                    "2022 salary",
                    "2022 salary",
                    "2022 salary",
                    "2022 salary",
                    "2022 salary",
                    "2022 salary",
                    "2022 salary",
                    "2022 salary",
                    "2022 salary",
                    "2022 salary",
                    "2022 salary",
                    "2022 salary",
                    "2022 salary",
                    "2022 salary",
                    "2022 salary",
                    "2022 salary",
                    "2022 salary",
                    "2022 salary",
                    "2022 salary",
                    "2022 salary",
                    "2022 salary",
                    "2022 salary",
                    "2022 salary",
                    "2022 salary",
                    "2022 salary",
                    "2022 salary",
                    "2022 salary",
                    "2022 salary",
                    "2022 salary",
                    "2022 salary",
                    "2022 salary",
                    "2022 salary",
                    "2022 salary",
                    "2022 salary",
                    "2022 salary",
                    "2022 salary",
                    "2022 salary",
                    "2022 salary",
                    "2022 salary",
                    "2022 salary",
                    "2022 salary",
                    "2022 salary",
                    "2022 salary",
                    "2022 salary",
                    "2022 salary",
                    "2022 salary",
                    "2022 salary",
                    "2022 salary",
                    "2022 salary",
                    "2022 salary",
                    "2022 salary",
                    "2022 salary",
                    "2022 salary",
                    "2022 salary",
                    "2022 salary",
                    "2022 salary",
                    "2022 salary",
                    "2022 salary",
                    "2022 salary",
                    "2022 salary",
                    "2022 salary",
                    "2022 salary",
                    "2022 salary",
                    "2022 salary",
                    "2022 salary",
                    "2022 salary",
                    "2022 salary",
                    "2022 salary",
                    "2022 salary",
                    "2022 salary",
                    "2022 salary",
                    "2022 salary",
                    "2022 salary",
                    "2022 salary",
                    "2022 salary",
                    "2022 salary",
                    "2022 salary",
                    "2022 salary",
                    "2022 salary",
                    "2022 salary",
                    "2022 salary",
                    "2022 salary",
                    "2022 salary",
                    "2022 salary",
                    "2022 salary",
                    "2022 salary",
                    "2022 salary",
                    "2022 salary",
                    "2022 salary",
                    "2022 salary",
                    "2022 salary",
                    "2022 salary",
                    "2022 salary",
                    "2022 salary",
                    "2022 salary",
                    "2022 salary",
                    "2022 salary",
                    "2022 salary",
                    "2022 salary",
                    "2022 salary",
                    "2022 salary",
                    "2022 salary",
                    "2022 salary",
                    "2022 salary",
                    "2022 salary",
                    "2022 salary",
                    "2022 salary",
                    "2022 salary",
                    "2022 salary",
                    "2022 salary",
                    "2022 salary",
                    "2022 salary",
                    "2022 salary",
                    "2022 salary",
                    "2022 salary",
                    "2022 salary",
                    "2022 salary",
                    "2022 salary",
                    "2022 salary",
                    "2022 salary",
                    "2022 salary",
                    "2022 salary",
                    "2022 salary",
                    "2022 salary",
                    "2022 salary",
                    "2022 salary",
                    "2022 salary",
                    "2022 salary",
                    "2022 salary",
                    "2022 salary",
                    "2022 salary",
                    "2022 salary",
                    "2022 salary",
                    "2022 salary",
                    "2022 salary",
                    "2022 salary",
                    "2022 salary",
                    "2022 salary",
                    "2022 salary",
                    "2022 salary",
                    "2022 salary",
                    "2022 salary",
                    "2022 salary",
                    "2022 salary",
                    "2022 salary",
                    "2022 salary",
                    "2022 salary",
                    "2022 salary",
                    "2022 salary",
                    "2022 salary",
                    "2022 salary",
                    "2022 salary",
                    "2022 salary",
                    "2022 salary",
                    "2022 salary",
                    "2022 salary",
                    "2022 salary",
                    "2022 salary",
                    "2022 salary",
                    "2022 salary",
                    "2022 salary",
                    "2022 salary",
                    "2022 salary",
                    "2022 salary",
                    "2022 salary",
                    "2022 salary",
                    "2022 salary",
                    "2022 salary",
                    "2022 salary",
                    "2022 salary",
                    "2022 salary",
                    "2022 salary",
                    "2022 salary",
                    "2022 salary",
                    "2022 salary",
                    "2022 salary",
                    "2022 salary",
                    "2022 salary",
                    "2022 salary",
                    "2022 salary",
                    "2022 salary",
                    "2022 salary",
                    "2022 salary",
                    "2022 salary",
                    "2022 salary",
                    "2022 salary",
                    "2022 salary",
                    "2022 salary",
                    "2022 salary",
                    "2022 salary",
                    "2022 salary",
                    "2022 salary",
                    "2022 salary",
                    "2022 salary",
                    "2022 salary",
                    "2022 salary",
                    "2022 salary",
                    "2022 salary",
                    "2022 salary",
                    "2022 salary",
                    "2022 salary",
                    "2022 salary",
                    "2022 salary",
                    "2022 salary",
                    "2022 salary",
                    "2022 salary",
                    "2022 salary",
                    "2022 salary",
                    "2022 salary",
                    "2022 salary",
                    "2022 salary",
                    "2022 salary",
                    "2022 salary",
                    "2022 salary",
                    "2022 salary",
                    "2022 salary",
                    "2022 salary",
                    "2022 salary",
                    "2022 salary",
                    "2022 salary",
                    "2022 salary",
                    "2022 salary",
                    "2022 salary",
                    "2022 salary",
                    "2022 salary",
                    "2022 salary",
                    "2022 salary",
                    "2022 salary",
                    "2022 salary",
                    "2022 salary",
                    "2022 salary",
                    "2022 salary",
                    "2022 salary",
                    "2022 salary",
                    "2022 salary",
                    "2022 salary",
                    "2022 salary",
                    "2022 salary",
                    "2022 salary",
                    "2022 salary",
                    "2022 salary",
                    "2022 salary",
                    "2022 salary",
                    "2022 salary",
                    "2022 salary",
                    "2022 salary",
                    "2022 salary",
                    "2022 salary",
                    "2022 salary",
                    "2022 salary",
                    "2022 salary",
                    "2022 salary",
                    "2022 salary",
                    "2022 salary",
                    "2022 salary",
                    "2022 salary",
                    "2022 salary",
                    "2022 salary",
                    "2022 salary",
                    "2022 salary",
                    "2022 salary",
                    "2022 salary",
                    "2022 salary",
                    "2022 salary",
                    "2022 salary",
                    "2022 salary",
                    "2022 salary",
                    "2022 salary",
                    "2022 salary",
                    "2022 salary",
                    "2022 salary",
                    "2022 salary",
                    "2022 salary",
                    "2022 salary",
                    "2022 salary",
                    "2022 salary",
                    "2022 salary",
                    "2022 salary",
                    "2022 salary",
                    "2022 salary",
                    "2022 salary",
                    "2022 salary",
                    "2022 salary",
                    "2022 salary",
                    "2022 salary",
                    "2022 salary",
                    "2022 salary",
                    "2022 salary",
                    "2022 salary",
                    "2022 salary",
                    "2022 salary",
                    "2022 salary",
                    "2022 salary",
                    "2022 salary",
                    "2022 salary",
                    "2022 salary",
                    "2022 salary",
                    "2022 salary",
                    "2022 salary",
                    "2022 salary",
                    "2022 salary",
                    "2022 salary",
                    "2022 salary",
                    "2022 salary",
                    "2022 salary",
                    "2022 salary"
                  ],
                  "yaxis": "y2",
                  "type": "scatter"
                }
              ],
              "layout": {
                "barmode": "overlay",
                "hovermode": "closest",
                "legend": {
                  "traceorder": "reversed"
                },
                "xaxis": {
                  "anchor": "y2",
                  "domain": [
                    0,
                    1
                  ],
                  "zeroline": false
                },
                "yaxis": {
                  "anchor": "free",
                  "domain": [
                    0.35,
                    1
                  ],
                  "position": 0
                },
                "yaxis2": {
                  "anchor": "x",
                  "domain": [
                    0,
                    0.25
                  ],
                  "dtick": 1,
                  "showticklabels": false
                },
                "template": {
                  "data": {
                    "barpolar": [
                      {
                        "marker": {
                          "line": {
                            "color": "rgb(17,17,17)",
                            "width": 0.5
                          },
                          "pattern": {
                            "fillmode": "overlay",
                            "size": 10,
                            "solidity": 0.2
                          }
                        },
                        "type": "barpolar"
                      }
                    ],
                    "bar": [
                      {
                        "error_x": {
                          "color": "#f2f5fa"
                        },
                        "error_y": {
                          "color": "#f2f5fa"
                        },
                        "marker": {
                          "line": {
                            "color": "rgb(17,17,17)",
                            "width": 0.5
                          },
                          "pattern": {
                            "fillmode": "overlay",
                            "size": 10,
                            "solidity": 0.2
                          }
                        },
                        "type": "bar"
                      }
                    ],
                    "carpet": [
                      {
                        "aaxis": {
                          "endlinecolor": "#A2B1C6",
                          "gridcolor": "#506784",
                          "linecolor": "#506784",
                          "minorgridcolor": "#506784",
                          "startlinecolor": "#A2B1C6"
                        },
                        "baxis": {
                          "endlinecolor": "#A2B1C6",
                          "gridcolor": "#506784",
                          "linecolor": "#506784",
                          "minorgridcolor": "#506784",
                          "startlinecolor": "#A2B1C6"
                        },
                        "type": "carpet"
                      }
                    ],
                    "choropleth": [
                      {
                        "colorbar": {
                          "outlinewidth": 0,
                          "ticks": ""
                        },
                        "type": "choropleth"
                      }
                    ],
                    "contourcarpet": [
                      {
                        "colorbar": {
                          "outlinewidth": 0,
                          "ticks": ""
                        },
                        "type": "contourcarpet"
                      }
                    ],
                    "contour": [
                      {
                        "colorbar": {
                          "outlinewidth": 0,
                          "ticks": ""
                        },
                        "colorscale": [
                          [
                            0,
                            "#0d0887"
                          ],
                          [
                            0.1111111111111111,
                            "#46039f"
                          ],
                          [
                            0.2222222222222222,
                            "#7201a8"
                          ],
                          [
                            0.3333333333333333,
                            "#9c179e"
                          ],
                          [
                            0.4444444444444444,
                            "#bd3786"
                          ],
                          [
                            0.5555555555555556,
                            "#d8576b"
                          ],
                          [
                            0.6666666666666666,
                            "#ed7953"
                          ],
                          [
                            0.7777777777777778,
                            "#fb9f3a"
                          ],
                          [
                            0.8888888888888888,
                            "#fdca26"
                          ],
                          [
                            1,
                            "#f0f921"
                          ]
                        ],
                        "type": "contour"
                      }
                    ],
                    "heatmapgl": [
                      {
                        "colorbar": {
                          "outlinewidth": 0,
                          "ticks": ""
                        },
                        "colorscale": [
                          [
                            0,
                            "#0d0887"
                          ],
                          [
                            0.1111111111111111,
                            "#46039f"
                          ],
                          [
                            0.2222222222222222,
                            "#7201a8"
                          ],
                          [
                            0.3333333333333333,
                            "#9c179e"
                          ],
                          [
                            0.4444444444444444,
                            "#bd3786"
                          ],
                          [
                            0.5555555555555556,
                            "#d8576b"
                          ],
                          [
                            0.6666666666666666,
                            "#ed7953"
                          ],
                          [
                            0.7777777777777778,
                            "#fb9f3a"
                          ],
                          [
                            0.8888888888888888,
                            "#fdca26"
                          ],
                          [
                            1,
                            "#f0f921"
                          ]
                        ],
                        "type": "heatmapgl"
                      }
                    ],
                    "heatmap": [
                      {
                        "colorbar": {
                          "outlinewidth": 0,
                          "ticks": ""
                        },
                        "colorscale": [
                          [
                            0,
                            "#0d0887"
                          ],
                          [
                            0.1111111111111111,
                            "#46039f"
                          ],
                          [
                            0.2222222222222222,
                            "#7201a8"
                          ],
                          [
                            0.3333333333333333,
                            "#9c179e"
                          ],
                          [
                            0.4444444444444444,
                            "#bd3786"
                          ],
                          [
                            0.5555555555555556,
                            "#d8576b"
                          ],
                          [
                            0.6666666666666666,
                            "#ed7953"
                          ],
                          [
                            0.7777777777777778,
                            "#fb9f3a"
                          ],
                          [
                            0.8888888888888888,
                            "#fdca26"
                          ],
                          [
                            1,
                            "#f0f921"
                          ]
                        ],
                        "type": "heatmap"
                      }
                    ],
                    "histogram2dcontour": [
                      {
                        "colorbar": {
                          "outlinewidth": 0,
                          "ticks": ""
                        },
                        "colorscale": [
                          [
                            0,
                            "#0d0887"
                          ],
                          [
                            0.1111111111111111,
                            "#46039f"
                          ],
                          [
                            0.2222222222222222,
                            "#7201a8"
                          ],
                          [
                            0.3333333333333333,
                            "#9c179e"
                          ],
                          [
                            0.4444444444444444,
                            "#bd3786"
                          ],
                          [
                            0.5555555555555556,
                            "#d8576b"
                          ],
                          [
                            0.6666666666666666,
                            "#ed7953"
                          ],
                          [
                            0.7777777777777778,
                            "#fb9f3a"
                          ],
                          [
                            0.8888888888888888,
                            "#fdca26"
                          ],
                          [
                            1,
                            "#f0f921"
                          ]
                        ],
                        "type": "histogram2dcontour"
                      }
                    ],
                    "histogram2d": [
                      {
                        "colorbar": {
                          "outlinewidth": 0,
                          "ticks": ""
                        },
                        "colorscale": [
                          [
                            0,
                            "#0d0887"
                          ],
                          [
                            0.1111111111111111,
                            "#46039f"
                          ],
                          [
                            0.2222222222222222,
                            "#7201a8"
                          ],
                          [
                            0.3333333333333333,
                            "#9c179e"
                          ],
                          [
                            0.4444444444444444,
                            "#bd3786"
                          ],
                          [
                            0.5555555555555556,
                            "#d8576b"
                          ],
                          [
                            0.6666666666666666,
                            "#ed7953"
                          ],
                          [
                            0.7777777777777778,
                            "#fb9f3a"
                          ],
                          [
                            0.8888888888888888,
                            "#fdca26"
                          ],
                          [
                            1,
                            "#f0f921"
                          ]
                        ],
                        "type": "histogram2d"
                      }
                    ],
                    "histogram": [
                      {
                        "marker": {
                          "pattern": {
                            "fillmode": "overlay",
                            "size": 10,
                            "solidity": 0.2
                          }
                        },
                        "type": "histogram"
                      }
                    ],
                    "mesh3d": [
                      {
                        "colorbar": {
                          "outlinewidth": 0,
                          "ticks": ""
                        },
                        "type": "mesh3d"
                      }
                    ],
                    "parcoords": [
                      {
                        "line": {
                          "colorbar": {
                            "outlinewidth": 0,
                            "ticks": ""
                          }
                        },
                        "type": "parcoords"
                      }
                    ],
                    "pie": [
                      {
                        "automargin": true,
                        "type": "pie"
                      }
                    ],
                    "scatter3d": [
                      {
                        "line": {
                          "colorbar": {
                            "outlinewidth": 0,
                            "ticks": ""
                          }
                        },
                        "marker": {
                          "colorbar": {
                            "outlinewidth": 0,
                            "ticks": ""
                          }
                        },
                        "type": "scatter3d"
                      }
                    ],
                    "scattercarpet": [
                      {
                        "marker": {
                          "colorbar": {
                            "outlinewidth": 0,
                            "ticks": ""
                          }
                        },
                        "type": "scattercarpet"
                      }
                    ],
                    "scattergeo": [
                      {
                        "marker": {
                          "colorbar": {
                            "outlinewidth": 0,
                            "ticks": ""
                          }
                        },
                        "type": "scattergeo"
                      }
                    ],
                    "scattergl": [
                      {
                        "marker": {
                          "line": {
                            "color": "#283442"
                          }
                        },
                        "type": "scattergl"
                      }
                    ],
                    "scattermapbox": [
                      {
                        "marker": {
                          "colorbar": {
                            "outlinewidth": 0,
                            "ticks": ""
                          }
                        },
                        "type": "scattermapbox"
                      }
                    ],
                    "scatterpolargl": [
                      {
                        "marker": {
                          "colorbar": {
                            "outlinewidth": 0,
                            "ticks": ""
                          }
                        },
                        "type": "scatterpolargl"
                      }
                    ],
                    "scatterpolar": [
                      {
                        "marker": {
                          "colorbar": {
                            "outlinewidth": 0,
                            "ticks": ""
                          }
                        },
                        "type": "scatterpolar"
                      }
                    ],
                    "scatter": [
                      {
                        "marker": {
                          "line": {
                            "color": "#283442"
                          }
                        },
                        "type": "scatter"
                      }
                    ],
                    "scatterternary": [
                      {
                        "marker": {
                          "colorbar": {
                            "outlinewidth": 0,
                            "ticks": ""
                          }
                        },
                        "type": "scatterternary"
                      }
                    ],
                    "surface": [
                      {
                        "colorbar": {
                          "outlinewidth": 0,
                          "ticks": ""
                        },
                        "colorscale": [
                          [
                            0,
                            "#0d0887"
                          ],
                          [
                            0.1111111111111111,
                            "#46039f"
                          ],
                          [
                            0.2222222222222222,
                            "#7201a8"
                          ],
                          [
                            0.3333333333333333,
                            "#9c179e"
                          ],
                          [
                            0.4444444444444444,
                            "#bd3786"
                          ],
                          [
                            0.5555555555555556,
                            "#d8576b"
                          ],
                          [
                            0.6666666666666666,
                            "#ed7953"
                          ],
                          [
                            0.7777777777777778,
                            "#fb9f3a"
                          ],
                          [
                            0.8888888888888888,
                            "#fdca26"
                          ],
                          [
                            1,
                            "#f0f921"
                          ]
                        ],
                        "type": "surface"
                      }
                    ],
                    "table": [
                      {
                        "cells": {
                          "fill": {
                            "color": "#506784"
                          },
                          "line": {
                            "color": "rgb(17,17,17)"
                          }
                        },
                        "header": {
                          "fill": {
                            "color": "#2a3f5f"
                          },
                          "line": {
                            "color": "rgb(17,17,17)"
                          }
                        },
                        "type": "table"
                      }
                    ]
                  },
                  "layout": {
                    "annotationdefaults": {
                      "arrowcolor": "#f2f5fa",
                      "arrowhead": 0,
                      "arrowwidth": 1
                    },
                    "autotypenumbers": "strict",
                    "coloraxis": {
                      "colorbar": {
                        "outlinewidth": 0,
                        "ticks": ""
                      }
                    },
                    "colorscale": {
                      "diverging": [
                        [
                          0,
                          "#8e0152"
                        ],
                        [
                          0.1,
                          "#c51b7d"
                        ],
                        [
                          0.2,
                          "#de77ae"
                        ],
                        [
                          0.3,
                          "#f1b6da"
                        ],
                        [
                          0.4,
                          "#fde0ef"
                        ],
                        [
                          0.5,
                          "#f7f7f7"
                        ],
                        [
                          0.6,
                          "#e6f5d0"
                        ],
                        [
                          0.7,
                          "#b8e186"
                        ],
                        [
                          0.8,
                          "#7fbc41"
                        ],
                        [
                          0.9,
                          "#4d9221"
                        ],
                        [
                          1,
                          "#276419"
                        ]
                      ],
                      "sequential": [
                        [
                          0,
                          "#0d0887"
                        ],
                        [
                          0.1111111111111111,
                          "#46039f"
                        ],
                        [
                          0.2222222222222222,
                          "#7201a8"
                        ],
                        [
                          0.3333333333333333,
                          "#9c179e"
                        ],
                        [
                          0.4444444444444444,
                          "#bd3786"
                        ],
                        [
                          0.5555555555555556,
                          "#d8576b"
                        ],
                        [
                          0.6666666666666666,
                          "#ed7953"
                        ],
                        [
                          0.7777777777777778,
                          "#fb9f3a"
                        ],
                        [
                          0.8888888888888888,
                          "#fdca26"
                        ],
                        [
                          1,
                          "#f0f921"
                        ]
                      ],
                      "sequentialminus": [
                        [
                          0,
                          "#0d0887"
                        ],
                        [
                          0.1111111111111111,
                          "#46039f"
                        ],
                        [
                          0.2222222222222222,
                          "#7201a8"
                        ],
                        [
                          0.3333333333333333,
                          "#9c179e"
                        ],
                        [
                          0.4444444444444444,
                          "#bd3786"
                        ],
                        [
                          0.5555555555555556,
                          "#d8576b"
                        ],
                        [
                          0.6666666666666666,
                          "#ed7953"
                        ],
                        [
                          0.7777777777777778,
                          "#fb9f3a"
                        ],
                        [
                          0.8888888888888888,
                          "#fdca26"
                        ],
                        [
                          1,
                          "#f0f921"
                        ]
                      ]
                    },
                    "colorway": [
                      "#636efa",
                      "#EF553B",
                      "#00cc96",
                      "#ab63fa",
                      "#FFA15A",
                      "#19d3f3",
                      "#FF6692",
                      "#B6E880",
                      "#FF97FF",
                      "#FECB52"
                    ],
                    "font": {
                      "color": "#f2f5fa"
                    },
                    "geo": {
                      "bgcolor": "rgb(17,17,17)",
                      "lakecolor": "rgb(17,17,17)",
                      "landcolor": "rgb(17,17,17)",
                      "showlakes": true,
                      "showland": true,
                      "subunitcolor": "#506784"
                    },
                    "hoverlabel": {
                      "align": "left"
                    },
                    "hovermode": "closest",
                    "mapbox": {
                      "style": "dark"
                    },
                    "paper_bgcolor": "rgb(17,17,17)",
                    "plot_bgcolor": "rgb(17,17,17)",
                    "polar": {
                      "angularaxis": {
                        "gridcolor": "#506784",
                        "linecolor": "#506784",
                        "ticks": ""
                      },
                      "bgcolor": "rgb(17,17,17)",
                      "radialaxis": {
                        "gridcolor": "#506784",
                        "linecolor": "#506784",
                        "ticks": ""
                      }
                    },
                    "scene": {
                      "xaxis": {
                        "backgroundcolor": "rgb(17,17,17)",
                        "gridcolor": "#506784",
                        "gridwidth": 2,
                        "linecolor": "#506784",
                        "showbackground": true,
                        "ticks": "",
                        "zerolinecolor": "#C8D4E3"
                      },
                      "yaxis": {
                        "backgroundcolor": "rgb(17,17,17)",
                        "gridcolor": "#506784",
                        "gridwidth": 2,
                        "linecolor": "#506784",
                        "showbackground": true,
                        "ticks": "",
                        "zerolinecolor": "#C8D4E3"
                      },
                      "zaxis": {
                        "backgroundcolor": "rgb(17,17,17)",
                        "gridcolor": "#506784",
                        "gridwidth": 2,
                        "linecolor": "#506784",
                        "showbackground": true,
                        "ticks": "",
                        "zerolinecolor": "#C8D4E3"
                      }
                    },
                    "shapedefaults": {
                      "line": {
                        "color": "#f2f5fa"
                      }
                    },
                    "sliderdefaults": {
                      "bgcolor": "#C8D4E3",
                      "bordercolor": "rgb(17,17,17)",
                      "borderwidth": 1,
                      "tickwidth": 0
                    },
                    "ternary": {
                      "aaxis": {
                        "gridcolor": "#506784",
                        "linecolor": "#506784",
                        "ticks": ""
                      },
                      "baxis": {
                        "gridcolor": "#506784",
                        "linecolor": "#506784",
                        "ticks": ""
                      },
                      "bgcolor": "rgb(17,17,17)",
                      "caxis": {
                        "gridcolor": "#506784",
                        "linecolor": "#506784",
                        "ticks": ""
                      }
                    },
                    "title": {
                      "x": 0.05
                    },
                    "updatemenudefaults": {
                      "bgcolor": "#506784",
                      "borderwidth": 0
                    },
                    "xaxis": {
                      "automargin": true,
                      "gridcolor": "#283442",
                      "linecolor": "#506784",
                      "ticks": "",
                      "title": {
                        "standoff": 15
                      },
                      "zerolinecolor": "#283442",
                      "zerolinewidth": 2
                    },
                    "yaxis": {
                      "automargin": true,
                      "gridcolor": "#283442",
                      "linecolor": "#506784",
                      "ticks": "",
                      "title": {
                        "standoff": 15
                      },
                      "zerolinecolor": "#283442",
                      "zerolinewidth": 2
                    }
                  }
                },
                "font": {
                  "size": 17,
                  "family": "Franklin Gothic"
                },
                "title": {
                  "text": "Salary Distribution by Work Year",
                  "x": 0.5
                }
              },
              "config": {
                "plotlyServerURL": "https://plot.ly"
              }
            },
            "text/html": [
              "<div>                            <div id=\"2dbc9a35-3874-4ecd-b8e0-32ae19cf6ce4\" class=\"plotly-graph-div\" style=\"height:525px; width:100%;\"></div>            <script type=\"text/javascript\">                require([\"plotly\"], function(Plotly) {                    window.PLOTLYENV=window.PLOTLYENV || {};                                    if (document.getElementById(\"2dbc9a35-3874-4ecd-b8e0-32ae19cf6ce4\")) {                    Plotly.newPlot(                        \"2dbc9a35-3874-4ecd-b8e0-32ae19cf6ce4\",                        [{\"legendgroup\":\"2020 salary\",\"marker\":{\"color\":\"white\"},\"mode\":\"lines\",\"name\":\"2020 salary\",\"showlegend\":true,\"x\":[5707.0,6595.586,7484.1720000000005,8372.758,9261.344000000001,10149.93,11038.516,11927.101999999999,12815.688,13704.274000000001,14592.86,15481.446,16370.032,17258.618000000002,18147.203999999998,19035.79,19924.376,20812.962,21701.548000000003,22590.134,23478.72,24367.306,25255.892,26144.478,27033.064,27921.65,28810.236,29698.822,30587.408,31475.994,32364.58,33253.166,34141.752,35030.338,35918.924,36807.509999999995,37696.096000000005,38584.682,39473.268,40361.854,41250.44,42139.026,43027.612,43916.198,44804.784,45693.37,46581.956,47470.542,48359.128,49247.714,50136.3,51024.886,51913.472,52802.058,53690.644,54579.23,55467.816,56356.402,57244.988,58133.574,59022.16,59910.746,60799.332,61687.918,62576.504,63465.09,64353.676,65242.262,66130.848,67019.43400000001,67908.01999999999,68796.606,69685.19200000001,70573.77799999999,71462.364,72350.95,73239.536,74128.122,75016.708,75905.294,76793.88,77682.466,78571.052,79459.638,80348.224,81236.81,82125.396,83013.982,83902.568,84791.154,85679.74,86568.326,87456.912,88345.498,89234.084,90122.67,91011.256,91899.842,92788.428,93677.014,94565.6,95454.186,96342.772,97231.358,98119.944,99008.53,99897.116,100785.702,101674.288,102562.874,103451.46,104340.046,105228.632,106117.218,107005.804,107894.39,108782.976,109671.562,110560.148,111448.734,112337.32,113225.906,114114.492,115003.078,115891.664,116780.25,117668.836,118557.422,119446.008,120334.594,121223.18,122111.766,123000.352,123888.938,124777.524,125666.11,126554.696,127443.282,128331.868,129220.454,130109.04,130997.626,131886.212,132774.798,133663.38400000002,134551.97,135440.55599999998,136329.142,137217.728,138106.314,138994.9,139883.486,140772.072,141660.658,142549.244,143437.83,144326.416,145215.002,146103.588,146992.174,147880.76,148769.346,149657.932,150546.518,151435.104,152323.69,153212.276,154100.862,154989.448,155878.034,156766.62,157655.206,158543.792,159432.378,160320.964,161209.55,162098.136,162986.722,163875.308,164763.894,165652.48,166541.066,167429.652,168318.238,169206.824,170095.41,170983.996,171872.582,172761.168,173649.754,174538.34,175426.926,176315.512,177204.098,178092.684,178981.27,179869.856,180758.442,181647.028,182535.614,183424.2,184312.786,185201.372,186089.958,186978.544,187867.13,188755.716,189644.302,190532.888,191421.474,192310.06,193198.646,194087.232,194975.818,195864.404,196752.99,197641.576,198530.162,199418.748,200307.334,201195.92,202084.506,202973.092,203861.678,204750.264,205638.85,206527.436,207416.022,208304.608,209193.194,210081.78,210970.366,211858.952,212747.538,213636.124,214524.71,215413.296,216301.882,217190.468,218079.054,218967.64,219856.226,220744.812,221633.398,222521.984,223410.57,224299.156,225187.742,226076.328,226964.914,227853.5,228742.086,229630.672,230519.258,231407.844,232296.43,233185.016,234073.602,234962.188,235850.774,236739.36,237627.946,238516.532,239405.118,240293.704,241182.29,242070.876,242959.462,243848.048,244736.634,245625.22,246513.806,247402.392,248290.978,249179.564,250068.15,250956.736,251845.322,252733.908,253622.494,254511.08,255399.666,256288.252,257176.838,258065.424,258954.01,259842.596,260731.182,261619.768,262508.354,263396.94,264285.526,265174.11199999996,266062.698,266951.284,267839.87,268728.456,269617.042,270505.628,271394.214,272282.8,273171.386,274059.972,274948.558,275837.144,276725.73,277614.316,278502.902,279391.488,280280.074,281168.66,282057.246,282945.832,283834.418,284723.004,285611.59,286500.176,287388.762,288277.348,289165.934,290054.52,290943.106,291831.692,292720.278,293608.864,294497.45,295386.036,296274.622,297163.208,298051.794,298940.38,299828.966,300717.552,301606.138,302494.724,303383.31,304271.896,305160.482,306049.068,306937.654,307826.24,308714.826,309603.412,310491.998,311380.584,312269.17,313157.756,314046.342,314934.928,315823.514,316712.1,317600.686,318489.272,319377.858,320266.444,321155.03,322043.616,322932.202,323820.788,324709.374,325597.96,326486.546,327375.132,328263.718,329152.304,330040.89,330929.476,331818.062,332706.648,333595.234,334483.82,335372.406,336260.992,337149.578,338038.164,338926.75,339815.336,340703.922,341592.508,342481.094,343369.68,344258.266,345146.852,346035.438,346924.024,347812.61,348701.196,349589.782,350478.368,351366.954,352255.54,353144.126,354032.712,354921.298,355809.884,356698.47,357587.056,358475.642,359364.228,360252.814,361141.4,362029.986,362918.572,363807.158,364695.744,365584.33,366472.916,367361.502,368250.088,369138.674,370027.26,370915.846,371804.432,372693.018,373581.604,374470.19,375358.776,376247.362,377135.948,378024.534,378913.12,379801.706,380690.292,381578.878,382467.464,383356.05,384244.636,385133.222,386021.808,386910.394,387798.98,388687.566,389576.152,390464.738,391353.324,392241.91,393130.496,394019.082,394907.668,395796.254,396684.84,397573.426,398462.012,399350.598,400239.184,401127.77,402016.356,402904.942,403793.528,404682.114,405570.7,406459.286,407347.872,408236.458,409125.044,410013.63,410902.216,411790.802,412679.388,413567.974,414456.56,415345.146,416233.732,417122.318,418010.904,418899.49,419788.076,420676.662,421565.248,422453.834,423342.42,424231.006,425119.592,426008.178,426896.764,427785.35,428673.936,429562.522,430451.108,431339.694,432228.28,433116.866,434005.452,434894.038,435782.624,436671.21,437559.796,438448.382,439336.968,440225.554,441114.14,442002.726,442891.312,443779.898,444668.484,445557.07,446445.656,447334.242,448222.828,449111.414],\"xaxis\":\"x\",\"y\":[3.2954215054632087e-06,3.3662551871316294e-06,3.437285188023641e-06,3.508465778683831e-06,3.579750449726481e-06,3.6510919753335483e-06,3.722442479378391e-06,3.7937535040611396e-06,3.8649760809297295e-06,3.936060804148542e-06,4.006957905864748e-06,4.077617333510625e-06,4.147988828868555e-06,4.218022008713984e-06,4.2876664468408006e-06,4.356871757262781e-06,4.425587678374892e-06,4.493764157848551e-06,4.5613514380262e-06,4.628300141572351e-06,4.6945613571309244e-06,4.760086724732297e-06,4.824828520687905e-06,4.8887397417058185e-06,4.951774187957243e-06,5.013886544821693e-06,5.0750324630374366e-06,5.135168636984094e-06,5.1942528808256205e-06,5.252244202244809e-06,5.309102873504425e-06,5.364790499575813e-06,5.419270083082477e-06,5.472506085814568e-06,5.524464486579813e-06,5.575112835167391e-06,5.624420302213723e-06,5.672357724772621e-06,5.718897647407406e-06,5.764014358638436e-06,5.807683922596966e-06,5.849884205754497e-06,5.890594898616085e-06,5.929797532286325e-06,5.9674754898377295e-06,6.003614012432925e-06,6.038200200174468e-06,6.071223007678676e-06,6.10267323439324e-06,6.132543509701482e-06,6.160828272879664e-06,6.18752374799714e-06,6.21262791387223e-06,6.236140469219676e-06,6.258062793147849e-06,6.2783979011857905e-06,6.297150397041114e-06,6.3143264203101356e-06,6.329933590380768e-06,6.3439809467867774e-06,6.356478886289061e-06,6.367439096974863e-06,6.376874489680157e-06,6.384799127052957e-06,6.391228150586037e-06,6.396177705957088e-06,6.3996648670214075e-06,6.401707558808208e-06,6.4023244798750715e-06,6.401535024377148e-06,6.399359204207478e-06,6.3958175715628815e-06,6.390931142285935e-06,6.384721320327656e-06,6.377209823667866e-06,6.368418612020526e-06,6.358369816640166e-06,6.347085672532233e-06,6.334588453355648e-06,6.320900409289423e-06,6.306043708117571e-06,6.290040379767308e-06,6.272912264515175e-06,6.254680965054421e-06,6.235367802594113e-06,6.214993777137507e-06,6.193579532062814e-06,6.171145323105012e-06,6.147710991812219e-06,6.123295943524722e-06,6.097919129899392e-06,6.0715990359765955e-06,6.044353671761498e-06,6.0162005682666515e-06,5.987156777938254e-06,5.957238879364534e-06,5.926462986141636e-06,5.894844759749999e-06,5.862399426273098e-06,5.829141796770169e-06,5.795086291095682e-06,5.760246964940794e-06,5.724637539855866e-06,5.688271435998546e-06,5.65116180733892e-06,5.613321579041847e-06,5.574763486737038e-06,5.535500117379486e-06,5.495543951396799e-06,5.454907405815666e-06,5.413602878057268e-06,5.3716427900907265e-06,5.329039632634799e-06,5.285806009101051e-06,5.241954678976207e-06,5.1974986003479135e-06,5.152450971285938e-06,5.106825269800587e-06,5.060635292110987e-06,5.01389518896855e-06,4.9666194997946005e-06,4.918823184406335e-06,4.87052165212145e-06,4.821730788048945e-06,4.772466976391916e-06,4.722747120606967e-06,4.672588660284644e-06,4.622009584635438e-06,4.5710284424866835e-06,4.519664348716476e-06,4.46793698707219e-06,4.415866609342151e-06,4.363474030870477e-06,4.310780622425924e-06,4.2578082984565604e-06,4.204579501782182e-06,4.151117184796443e-06,4.097444787269775e-06,4.043586210862665e-06,3.989565790476628e-06,3.935408262586849e-06,3.881138730716409e-06,3.826782628226576e-06,3.7723656786113514e-06,3.717913853496756e-06,3.6634533285565234e-06,3.609010437565643e-06,3.55461162482179e-06,3.500283396171674e-06,3.446052268885151e-06,3.3919447206242494e-06,3.3379871377571503e-06,3.2842057632687187e-06,3.2306266445191407e-06,3.1772755811011377e-06,3.1241780730433576e-06,3.0713592696037053e-06,3.0188439188910686e-06,2.9666563185473138e-06,2.9148202677137866e-06,2.8633590204976585e-06,2.8122952411435625e-06,2.7616509611049805e-06,2.711447538198057e-06,2.6617056180077424e-06,2.6124450977027013e-06,2.563685092401256e-06,2.5154439042158533e-06,2.4677389940882683e-06,2.4205869565120376e-06,2.374003497222641e-06,2.328003413919623e-06,2.282600580068543e-06,2.2378079318141283e-06,2.1936374580196975e-06,2.150100193431615e-06,2.1072062149516278e-06,2.0649646409841436e-06,2.0233836338103427e-06,1.9824704049261546e-06,1.942231223266964e-06,1.9026714262283147e-06,1.863795433378996e-06,1.8256067627508893e-06,1.7881080495785984e-06,1.7513010673515975e-06,1.715186751032215e-06,1.679765222284311e-06,1.6450358165500637e-06,1.6109971118060307e-06,1.5776469588241807e-06,1.5449825127595735e-06,1.5130002658831188e-06,1.4816960812759273e-06,1.4510652273008527e-06,1.4211024126670102e-06,1.391801821904317e-06,1.3631571510674721e-06,1.3351616434920751e-06,1.3078081254299583e-06,1.2810890413961116e-06,1.2549964890656939e-06,1.2295222535667497e-06,1.2046578410220419e-06,1.180394511201956e-06,1.1567233091597354e-06,1.1336350957301096e-06,1.1111205767827357e-06,1.0891703311327749e-06,1.0677748370220504e-06,1.0469244970958347e-06,1.0266096618120226e-06,1.006820651231314e-06,9.875477751490588e-07,9.687813515413048e-07,9.505117233094673e-07,9.327292733197457e-07,9.154244377448568e-07,8.985877177267794e-07,8.822096893899984e-07,8.662810122450145e-07,8.507924360317044e-07,8.357348060613652e-07,8.210990671248478e-07,8.068762660421892e-07,7.930575529363309e-07,7.796341813200342e-07,7.665975070907828e-07,7.53938986533357e-07,7.416501734338263e-07,7.297227154119323e-07,7.181483495811801e-07,7.069188976474717e-07,6.960262605577754e-07,6.854624128101317e-07,6.752193965352686e-07,6.652893154582978e-07,6.556643288463423e-07,6.463366455445918e-07,6.372985181992193e-07,6.285422377608548e-07,6.200601283569276e-07,6.118445426152597e-07,6.038878575148079e-07,5.961824708325177e-07,5.887207982478792e-07,5.814952711590907e-07,5.744983352567148e-07,5.677224498925075e-07,5.611600882726973e-07,5.548037384965133e-07,5.486459054522573e-07,5.42679113574704e-07,5.368959104592354e-07,5.312888713198829e-07,5.25850604270405e-07,5.20573756399797e-07,5.154510206061897e-07,5.104751431460406e-07,5.056389318489063e-07,5.009352649419101e-07,4.963571004223858e-07,4.918974859120591e-07,4.875495689216147e-07,4.833066074505546e-07,4.791619808439731e-07,4.7510920082519827e-07,4.7114192262126564e-07,4.672539560968375e-07,4.6343927681151796e-07,4.5969203691549733e-07,4.560065757991206e-07,4.523774304132433e-07,4.487993451791871e-07,4.45267281409617e-07,4.417764261647802e-07,4.383222004722239e-07,4.34900266842284e-07,4.3150653601633515e-07,4.2813717288990026e-07,4.2478860155827104e-07,4.214575094381739e-07,4.181408504252459e-07,4.1483584705356176e-07,4.115399916301658e-07,4.0825104632444597e-07,4.0496704219917617e-07,4.01686277177139e-07,3.984073129443151e-07,3.9512897079770407e-07,3.9185032645279625e-07,3.885707038325899e-07,3.852896678667103e-07,3.820070163356426e-07,3.787227708012926e-07,3.7543716667096754e-07,3.7215064244742155e-07,3.688638282227844e-07,3.6557753347894786e-07,3.6229273426130867e-07,3.5901055979663375e-07,3.5573227862918574e-07,3.5245928435210754e-07,3.4919308101343894e-07,3.459352682779405e-07,3.4268752642719363e-07,3.394516012811973e-07,3.362292891248636e-07,3.330224217225097e-07,3.298328515025539e-07,3.2666243699325787e-07,3.235130285884546e-07,3.203864547198457e-07,3.1728450850958247e-07,3.1420893497357306e-07,3.111614188422533e-07,3.081435730614446e-07,3.051569280314812e-07,3.022029216379912e-07,2.9928289012264356e-07,2.963980598368291e-07,2.9354953991568994e-07,2.907383159041624e-07,2.8796524436081333e-07,2.852310484592572e-07,2.825363146008681e-07,2.7988149004642063e-07,2.772668815682063e-07,2.7469265511813376e-07,2.7215883650137837e-07,2.6966531303930963e-07,2.6721183619975674e-07,2.647980251671806e-07,2.624233713200555e-07,2.600872435777489e-07,2.5778889457444434e-07,2.5552746761321176e-07,2.533020043492243e-07,2.5111145314734615e-07,2.489546780559143e-07,2.468304683355256e-07,2.4473754847899105e-07,2.426745886564184e-07,2.406402155175438e-07,2.3863302328206183e-07,2.3665158504769973e-07,2.3469446424524226e-07,2.3276022616955239e-07,2.3084744951591055e-07,2.2895473785165955e-07,2.270807309542081e-07,2.2522411594788005e-07,2.2338363817392273e-07,2.2155811173013137e-07,2.1974642961904972e-07,2.17947573446508e-07,2.1616062261536073e-07,2.14384762962646e-07,2.1261929479200692e-07,2.1086364025704e-07,2.091173500552708e-07,2.073801093966425e-07,2.0565174321475016e-07,2.0393222059350207e-07,2.0222165838642678e-07,2.0052032401045586e-07,1.9882863740063819e-07,1.971471721168918e-07,1.9547665559852056e-07,1.9381796856680823e-07,1.9217214358050881e-07,1.9054036275347909e-07,1.8892395464800463e-07,1.873243903615333e-07,1.85743278828555e-07,1.8418236136319538e-07,1.8264350547174222e-07,1.8112869796775446e-07,1.7964003742562486e-07,1.7817972601143533e-07,1.7675006073268056e-07,1.7535342415090326e-07,1.7399227460349152e-07,1.726691359828262e-07,1.7138658712262216e-07,1.701472508426845e-07,1.689537827044028e-07,1.6780885953011717e-07,1.667151677400288e-07,1.6567539156058617e-07,1.6469220115826447e-07,1.6376824075237684e-07,1.6290611676001512e-07,1.621083860254245e-07,1.613775441850882e-07,1.6071601421852766e-07,1.601261352333386e-07,1.5961015153129242e-07,1.5917020200043803e-07,1.5880830987607174e-07,1.585263729112028e-07,1.583261539947527e-07,1.5820927225319677e-07,1.5817719466870923e-07,1.5823122824411796e-07,1.5837251274212878e-07,1.5860201402336477e-07,1.5892051800478735e-07,1.5932862525705197e-07,1.5982674625630934e-07,1.6041509730290907e-07,1.6109369711642016e-07,1.618623641133536e-07,1.627207143709846e-07,1.6366816027772715e-07,1.647039098676376e-07,1.658269668338165e-07,1.6703613121276294e-07,1.6833000072911685e-07,1.6970697278771518e-07,1.7116524709749784e-07,1.727028289095407e-07,1.7431753284936171e-07,1.760069873216714e-07,1.7776863946390218e-07,1.7959976062317688e-07,1.8149745232985954e-07,1.8345865273947957e-07,1.854801435136328e-07,1.875585571094399e-07,1.896903844462995e-07,1.9187198291798022e-07,1.9409958471758532e-07,1.9636930544257188e-07,1.9867715294681374e-07,2.0101903640666362e-07,2.0339077556809979e-07,2.0578811014229957e-07,2.0820670931740213e-07,2.1064218135476647e-07,2.1309008323870182e-07,2.1554593034944143e-07,2.1800520613003878e-07,2.2046337171886413e-07,2.2291587552048203e-07,2.2535816268887342e-07,2.2778568449821196e-07,2.3019390757773082e-07,2.3257832298857439e-07,2.3493445512194692e-07,2.3725787039930996e-07,2.3954418575683836e-07,2.4178907689782584e-07,2.4398828629820153e-07,2.461376309517814e-07,2.48233009843338e-07,2.5027041113898343e-07,2.52245919084752e-07,2.5415572060561673e-07,2.5599611159846635e-07,2.577635029138077e-07,2.5945442602214274e-07,2.6106553836207446e-07,2.6259362836823715e-07,2.640356201781161e-07,2.6538857801770606e-07,2.666497102667675e-07,2.6781637320517107e-07,2.6888607444246526e-07,2.6985647603337636e-07,2.707253972824294e-07,2.71490817241303e-07,2.7215087690286074e-07,2.727038810960709e-07,2.7314830008623193e-07,2.734827708850526e-07,2.7370609827522156e-07,2.738172555541302e-07,2.738153850013962e-07,2.736997980747787e-07,2.73469975338991e-07,2.7312556613179866e-07,2.726663879716588e-07,2.720924257110104e-07,2.714038304391711e-07,2.70600918138643e-07,2.6968416809849293e-07,2.6865422108832973e-07,2.6751187729629834e-07,2.66258094034421e-07,2.648939832145535e-07,2.634208085982088e-07,2.618399828235083e-07,2.601530642125799e-07,2.583617533628234e-07,2.564678895256091e-07,2.544734467761681e-07,2.5238052997868045e-07,2.501913705508535e-07,2.4790832203262395e-07],\"yaxis\":\"y\",\"type\":\"scatter\"},{\"legendgroup\":\"2021 salary\",\"marker\":{\"color\":\"red\"},\"mode\":\"lines\",\"name\":\"2021 salary\",\"showlegend\":true,\"x\":[2859.0,4053.282,5247.564,6441.846,7636.128,8830.41,10024.692,11218.974,12413.256,13607.538,14801.82,15996.102,17190.384,18384.665999999997,19578.948,20773.23,21967.512,23161.794,24356.076,25550.358,26744.64,27938.922,29133.204,30327.486,31521.768,32716.05,33910.331999999995,35104.614,36298.896,37493.178,38687.46,39881.742,41076.024,42270.306,43464.588,44658.87,45853.152,47047.434,48241.716,49435.998,50630.28,51824.562,53018.844,54213.126,55407.408,56601.69,57795.972,58990.254,60184.536,61378.818,62573.1,63767.382,64961.664,66155.946,67350.228,68544.51,69738.792,70933.074,72127.356,73321.638,74515.92,75710.202,76904.484,78098.766,79293.048,80487.33,81681.612,82875.894,84070.176,85264.458,86458.74,87653.022,88847.304,90041.586,91235.868,92430.15,93624.432,94818.714,96012.996,97207.278,98401.56,99595.842,100790.124,101984.406,103178.688,104372.97,105567.252,106761.534,107955.816,109150.098,110344.38,111538.662,112732.944,113927.226,115121.508,116315.79,117510.072,118704.354,119898.636,121092.918,122287.2,123481.482,124675.764,125870.046,127064.328,128258.61,129452.892,130647.174,131841.456,133035.738,134230.02,135424.302,136618.584,137812.866,139007.148,140201.43,141395.712,142589.994,143784.276,144978.558,146172.84,147367.122,148561.404,149755.686,150949.968,152144.25,153338.532,154532.814,155727.096,156921.378,158115.66,159309.942,160504.224,161698.506,162892.788,164087.07,165281.352,166475.634,167669.916,168864.198,170058.48,171252.762,172447.044,173641.326,174835.608,176029.89,177224.172,178418.454,179612.736,180807.018,182001.3,183195.582,184389.864,185584.146,186778.428,187972.71,189166.992,190361.274,191555.556,192749.838,193944.12,195138.402,196332.684,197526.966,198721.248,199915.53,201109.812,202304.094,203498.376,204692.658,205886.94,207081.222,208275.504,209469.786,210664.068,211858.35,213052.632,214246.914,215441.196,216635.478,217829.76,219024.042,220218.324,221412.606,222606.888,223801.17,224995.452,226189.734,227384.016,228578.298,229772.58,230966.862,232161.144,233355.426,234549.708,235743.99,236938.272,238132.554,239326.836,240521.118,241715.4,242909.682,244103.964,245298.246,246492.528,247686.81,248881.092,250075.374,251269.656,252463.938,253658.22,254852.502,256046.784,257241.066,258435.348,259629.63,260823.912,262018.194,263212.476,264406.75800000003,265601.04,266795.322,267989.604,269183.886,270378.168,271572.45,272766.732,273961.014,275155.296,276349.578,277543.86,278738.142,279932.424,281126.706,282320.988,283515.27,284709.552,285903.834,287098.116,288292.398,289486.68,290680.962,291875.244,293069.526,294263.808,295458.09,296652.372,297846.654,299040.936,300235.218,301429.5,302623.782,303818.064,305012.346,306206.628,307400.91,308595.192,309789.474,310983.756,312178.038,313372.32,314566.602,315760.884,316955.166,318149.448,319343.73,320538.012,321732.294,322926.576,324120.858,325315.14,326509.422,327703.704,328897.986,330092.268,331286.55,332480.832,333675.114,334869.396,336063.678,337257.96,338452.242,339646.524,340840.806,342035.088,343229.37,344423.652,345617.934,346812.216,348006.498,349200.78,350395.062,351589.344,352783.626,353977.908,355172.19,356366.472,357560.754,358755.036,359949.318,361143.6,362337.882,363532.164,364726.446,365920.728,367115.01,368309.292,369503.574,370697.856,371892.138,373086.42,374280.702,375474.984,376669.266,377863.548,379057.83,380252.112,381446.394,382640.676,383834.958,385029.24,386223.522,387417.804,388612.086,389806.368,391000.65,392194.932,393389.214,394583.496,395777.778,396972.06,398166.342,399360.624,400554.906,401749.188,402943.47,404137.752,405332.034,406526.316,407720.598,408914.88,410109.162,411303.444,412497.726,413692.008,414886.29,416080.572,417274.854,418469.136,419663.418,420857.7,422051.982,423246.264,424440.546,425634.828,426829.11,428023.392,429217.674,430411.956,431606.238,432800.52,433994.802,435189.084,436383.366,437577.648,438771.93,439966.212,441160.494,442354.776,443549.058,444743.34,445937.622,447131.904,448326.186,449520.468,450714.75,451909.032,453103.314,454297.596,455491.878,456686.16,457880.442,459074.724,460269.006,461463.288,462657.57,463851.852,465046.134,466240.416,467434.698,468628.98,469823.262,471017.544,472211.826,473406.108,474600.39,475794.672,476988.954,478183.236,479377.518,480571.8,481766.082,482960.364,484154.646,485348.928,486543.21,487737.492,488931.774,490126.056,491320.338,492514.62,493708.902,494903.184,496097.466,497291.748,498486.03,499680.312,500874.594,502068.876,503263.158,504457.44,505651.722,506846.004,508040.286,509234.568,510428.85,511623.132,512817.414,514011.696,515205.978,516400.26,517594.542,518788.824,519983.106,521177.388,522371.67,523565.952,524760.2339999999,525954.5160000001,527148.798,528343.08,529537.362,530731.644,531925.926,533120.208,534314.49,535508.772,536703.054,537897.336,539091.618,540285.9,541480.182,542674.464,543868.746,545063.028,546257.31,547451.592,548645.874,549840.156,551034.438,552228.72,553423.002,554617.284,555811.566,557005.848,558200.13,559394.412,560588.694,561782.976,562977.258,564171.54,565365.822,566560.104,567754.386,568948.668,570142.95,571337.232,572531.514,573725.796,574920.078,576114.36,577308.642,578502.924,579697.206,580891.488,582085.77,583280.052,584474.334,585668.616,586862.898,588057.18,589251.462,590445.744,591640.026,592834.308,594028.59,595222.872,596417.154,597611.436,598805.718],\"xaxis\":\"x\",\"y\":[2.9015671035855103e-06,3.0013401181598034e-06,3.100972571386269e-06,3.2003041294132764e-06,3.299179576071216e-06,3.3974497787716125e-06,3.4949725785711503e-06,3.591613593145743e-06,3.6872469225236826e-06,3.7817557486993167e-06,3.875032821669874e-06,3.966980825986598e-06,4.057512623562062e-06,4.146551370201738e-06,4.2340305051021425e-06,4.319893614349504e-06,4.404094171233806e-06,4.486595157932638e-06,4.567368574789207e-06,4.646394844982126e-06,4.72366212383454e-06,4.799165523315071e-06,4.872906263420925e-06,4.9448907630887135e-06,5.015129684035629e-06,5.083636941483864e-06,5.150428696057687e-06,5.2155223412627385e-06,5.278935500863164e-06,5.340685050168584e-06,5.400786174739128e-06,5.459251479323908e-06,5.516090158983235e-06,5.571307243322539e-06,5.624902923609379e-06,5.676871971272621e-06,5.72720325491974e-06,5.775879361576662e-06,5.822876326378683e-06,5.868163473444105e-06,5.911703369167895e-06,5.953451887701357e-06,5.9933583869574646e-06,6.0313659921178975e-06,6.067411982333427e-06,6.101428275119588e-06,6.13334200186563e-06,6.163076166907058e-06,6.190550381767862e-06,6.215681665462219e-06,6.238385301160958e-06,6.258575739074586e-06,6.276167535081385e-06,6.291076314433652e-06,6.303219749800624e-06,6.312518542949805e-06,6.318897399519528e-06,6.322285986588902e-06,6.322619863096966e-06,6.319841373592588e-06,6.3139004963019045e-06,6.304755637071283e-06,6.2923743613726426e-06,6.276734057236738e-06,6.2578225226993364e-06,6.235638472099757e-06,6.210191956352291e-06,6.181504693113492e-06,6.149610303586182e-06,6.114554453528475e-06,6.07639489686931e-06,6.035201421165384e-06,5.991055694964587e-06,5.944051017963368e-06,5.894291975656792e-06,5.841894000975354e-06,5.786982846179047e-06,5.729693969031948e-06,5.670171838005628e-06,5.608569161952333e-06,5.545046050345301e-06,5.479769110796949e-06,5.41291049113381e-06,5.344646873821271e-06,5.275158430989493e-06,5.2046277487063395e-06,5.133238729470073e-06,5.061175482148535e-06,4.988621208767258e-06,4.9157570976434055e-06,4.8427612323706265e-06,4.769807526079817e-06,4.697064690229652e-06,4.6246952469179125e-06,4.552854593349368e-06,4.481690126649661e-06,4.411340436679242e-06,4.341934573880481e-06,4.273591398489291e-06,4.206419016665543e-06,4.14051430825264e-06,4.075962549972316e-06,4.012837136907975e-06,3.951199404137046e-06,3.891098549352975e-06,3.832571656281887e-06,3.7756438176608732e-06,3.7203283555169843e-06,3.6666271354819465e-06,3.61453097091057e-06,3.564020111653022e-06,3.5150648114762485e-06,3.4676259673480034e-06,3.421655823100036e-06,3.377098729383866e-06,3.3338919513317804e-06,3.291966514943545e-06,3.251248082941178e-06,3.2116578506733318e-06,3.1731134526083965e-06,3.135529870031566e-06,3.0988203307532403e-06,3.0628971919402934e-06,3.027672797592189e-06,2.993060302693145e-06,2.9589744566706723e-06,2.9253323394694247e-06,2.8920540442962514e-06,2.85906330189487e-06,2.8262880420541317e-06,2.793660888928433e-06,2.761119587639406e-06,2.7286073605203218e-06,2.6960731922460377e-06,2.663472043948701e-06,2.630764997241061e-06,2.5979193298443075e-06,2.564908525235904e-06,2.5317122193868224e-06,2.498316088239717e-06,2.4647116800845986e-06,2.430896197412845e-06,2.3968722331712093e-06,2.3626474665947777e-06,2.3282343239721347e-06,2.2936496097895154e-06,2.258914113717496e-06,2.2240521988480503e-06,2.189091376467885e-06,2.154061872471963e-06,2.118996190286826e-06,2.0839286748938714e-06,2.0488950822266344e-06,2.013932157870692e-06,1.9790772286287617e-06,1.944367810133412e-06,1.9098412333036824e-06,1.875534292055612e-06,1.8414829142963302e-06,1.807721857862049e-06,1.774284432706251e-06,1.7412022503088774e-06,1.70850500096315e-06,1.6762202593054488e-06,1.6443733181863664e-06,1.6129870507380595e-06,1.5820818002738802e-06,1.5516752974601042e-06,1.5217826040253106e-06,1.4924160821186983e-06,1.4635853882928934e-06,1.4352974909674224e-06,1.4075567101245998e-06,1.380364777897692e-06,1.3537209186311299e-06,1.3276219469221612e-06,1.3020623820921565e-06,1.2770345774829157e-06,1.2525288629283508e-06,1.2285336987148573e-06,1.205035839314813e-06,1.182020505157276e-06,1.1594715606890442e-06,1.1373716969784674e-06,1.11570261712471e-06,1.0944452227575776e-06,1.0735797999483307e-06,1.0530862029008266e-06,1.0329440338555016e-06,1.0131328177161878e-06,9.93632170001775e-07,9.744219568306452e-07,9.554824457650698e-07,9.367944464741356e-07,9.183394403158539e-07,9.000996980901141e-07,8.820583853718644e-07,8.64199654996112e-07,8.465087264303944e-07,8.289719519336476e-07,8.115768695601274e-07,7.943122432205638e-07,7.771680901574394e-07,7.60135696324671e-07,7.432076202819836e-07,7.26377686318926e-07,7.09640967611278e-07,6.929937602824422e-07,6.764335492936026e-07,6.599589671187028e-07,6.43569746173892e-07,6.272666659665674e-07,6.110514959076779e-07,5.949269346938887e-07,5.788965471153313e-07,5.629646990820176e-07,5.471364915898778e-07,5.314176942680719e-07,5.158146790653512e-07,5.003343545471512e-07,4.8498410118925e-07,4.697717079705331e-07,4.5470531048868375e-07,4.397933307503325e-07,4.2504441872299576e-07,4.104673956810941e-07,3.960711993334956e-07,3.818648306858533e-07,3.6785730256772624e-07,3.5405758974187415e-07,3.4047458051080864e-07,3.271170297428013e-07,3.139935132551174e-07,3.0111238351497744e-07,2.8848172664728544e-07,2.7610932077084384e-07,2.640025957201634e-07,2.5216859424630415e-07,2.4061393482596206e-07,2.2934477624171178e-07,2.1836678412652988e-07,2.0768509969132175e-07,1.9730431087402232e-07,1.8722842616222287e-07,1.7746085134756315e-07,1.6800436946900163e-07,1.588611241933886e-07,1.5003260686572787e-07,1.4151964743835983e-07,1.3332240945867274e-07,1.2544038925949084e-07,1.1787241945593464e-07,1.1061667680820114e-07,1.0367069446251246e-07,9.703137853348908e-08,9.069502894156102e-08,8.465736436987156e-08,7.891355115748277e-08,7.345823590057462e-08,6.828558149162606e-08,6.338930628905477e-08,5.876272607709608e-08,5.43987984483439e-08,5.0290169219672906e-08,4.642922047642936e-08,4.280811982983054e-08,3.9418870468383076e-08,3.625336158554215e-08,3.3303418772470296e-08,3.056085397613354e-08,2.8017514638562013e-08,2.5665331652291395e-08,2.349636578914546e-08,2.1502852283932776e-08,1.9677243280646533e-08,1.8012247875709455e-08,1.6500869520068857e-08,1.5136440568955146e-08,1.3912653794352895e-08,1.282359070028052e-08,1.18637465044801e-08,1.1028051671846935e-08,1.0311889904723752e-08,9.711112512999846e-09,9.222049102839035e-09,8.84151453694591e-09,8.566812131798971e-09,8.39573306852168e-09,8.326552004396005e-09,8.358018881856988e-09,8.489346941587968e-09,8.720196956530145e-09,9.050657714696106e-09,9.481222791086638e-09,1.0012763663177662e-08,1.0646499240741999e-08,1.1383961899510922e-08,1.2226960129596201e-08,1.3177537933826609e-08,1.4237931138248068e-08,1.5410520806924618e-08,1.6697783985678892e-08,1.8102242034223205e-08,1.9626406842844085e-08,2.127272526787803e-08,2.304352215901663e-08,2.4940942390273487e-08,2.6966892344403667e-08,2.9122981336803288e-08,3.1410463498491125e-08,3.3830180667707526e-08,3.6382506864987594e-08,3.9067294946314145e-08,4.188382604220443e-08,4.4830762396499395e-08,4.7906104216437716e-08,5.110715113468732e-08,5.443046886386698e-08,5.7871861594412566e-08,6.142635064725497e-08,6.508815984375295e-08,6.88507079968936e-08,7.270660886041945e-08,7.664767879693233e-08,8.066495234303806e-08,8.474870576032505e-08,8.888848856666077e-08,9.307316294437361e-08,9.729095082190791e-08,1.0152948832517823e-07,1.0577588719580323e-07,1.1001680267747161e-07,1.1423850728062058e-07,1.1842696975111251e-07,1.225679384923183e-07,1.266470286234564e-07,1.306498118015456e-07,1.3456190789105843e-07,1.3836907753524496e-07,1.420573146667925e-07,1.4561293799342378e-07,1.4902268050632189e-07,1.5227377608574757e-07,1.5535404231842274e-07,1.582519586944723e-07,1.609567394169346e-07,1.63458400132832e-07,1.657478179800982e-07,1.6781678443763308e-07,1.696580505646374e-07,1.712653643183027e-07,1.7263349974394763e-07,1.737582779368851e-07,1.746365797787562e-07,1.75266350550974e-07,1.7564659662256694e-07,1.7577737449757554e-07,1.7565977258688278e-07,1.752958861398229e-07,1.74688785831241e-07,1.7384248054922593e-07,1.7276187496715716e-07,1.7145272251088434e-07,1.6992157434794924e-07,1.681757250311606e-07,1.662231554241504e-07,1.640724735225991e-07,1.6173285376257522e-07,1.5921397537802548e-07,1.5652596033405028e-07,1.5367931132250065e-07,1.5068485026290692e-07,1.4755365770606504e-07,1.4429701349101677e-07,1.4092633895977302e-07,1.3745314098901702e-07,1.338889580550929e-07,1.3024530850857395e-07,1.2653364119826538e-07,1.2276528855203595e-07,1.1895142219366515e-07,1.1510301115108792e-07,1.1123078269192328e-07,1.0734518580683874e-07,1.034563573498189e-07,9.957409083634948e-08,9.570780789540664e-08,9.186653236842936e-08,8.805886704751398e-08,8.429297304535812e-08,8.057655179037419e-08,7.691682964134016e-08,7.332054511645734e-08,6.979393873130811e-08,6.634274543854643e-08,6.297218965900004e-08,5.968698288895321e-08,5.649132386168733e-08,5.338890123284258e-08,5.0382898748919125e-08,4.7476002846455603e-08,4.467041261630133e-08,4.196785205326605e-08,3.9369584496613314e-08,3.687642915173554e-08,3.4488779568287935e-08,3.2206623935484046e-08,3.0029567041504544e-08,2.7956853731438844e-08,2.598739368715788e-08,2.4119787343288807e-08,2.2352352746250178e-08,2.0683153158276252e-08,1.911002520559288e-08,1.7630607369472166e-08,1.6242368620728325e-08,1.494263700226757e-08,1.3728627970407905e-08,1.2597472313656837e-08,1.1546243477242292e-08,1.0571984132669088e-08,9.671731843616813e-09,8.842543692312338e-09,8.08151974377525e-09,7.385825238739873e-09,6.752711419313683e-09,6.1795349042492644e-09,5.663775542855029e-09,5.203052687823106e-09,4.795139837456149e-09,4.437977606792765e-09,4.129684994901191e-09,3.86856892209913e-09,3.65313201610067e-09,3.4820786301586648e-09,3.35431907929362e-09,3.268972082842923e-09,3.225365403036541e-09,3.223034670348531e-09,3.261720387255491e-09,3.34136310304069e-09,3.462096753714688e-09,3.6242401632809484e-09,3.8282867057520965e-09,4.074892131799791e-09,4.364860569951624e-09,4.6991287200563514e-09,5.0787482665022205e-09,5.504866550524402e-09,5.978705554953657e-09,6.501539270947556e-09,7.074669534561809e-09,7.699400441329454e-09,8.377011469133539e-09,9.108729463306358e-09,9.895699662730722e-09,1.0738955971347359e-08,1.163939070540912e-08,1.2597724072547364e-08,1.3614473663642445e-08,1.4689924262011016e-08,1.5824098295890143e-08,1.7016727278961584e-08,1.826722459906933e-08,1.9574660026692935e-08,2.0937736321563966e-08,2.2354768317482053e-08,2.3823664861425583e-08,2.5341913973055672e-08,2.690657157435727e-08,2.851425411627405e-08,3.0161135399667164e-08,3.184294785184622e-08,3.355498847744992e-08,3.529212965394334e-08,3.7048834887929216e-08,3.881917958943734e-08,4.059687685815477e-08,4.237530820901864e-08,4.414755909575698e-08,4.590645902088321e-08,4.764462595051602e-08,4.9354514683435004e-08,5.1028468757233514e-08,5.265877541158731e-08,5.423772307073774e-08,5.575766075550618e-08,5.721105879063456e-08,5.8590570136987105e-08,5.988909165107368e-08,6.1099824557175e-08,6.22163334106692e-08,6.32326028353367e-08,6.414309133265936e-08,6.494278148740113e-08,6.562722593082256e-08,6.619258847030091e-08,6.663567985123806e-08,6.695398768310302e-08,6.71457001352347e-08],\"yaxis\":\"y\",\"type\":\"scatter\"},{\"legendgroup\":\"2022 salary\",\"marker\":{\"color\":\"blue\"},\"mode\":\"lines\",\"name\":\"2022 salary\",\"showlegend\":true,\"x\":[10000.0,10790.0,11580.0,12370.0,13160.0,13950.0,14740.0,15530.0,16320.0,17110.0,17900.0,18690.0,19480.0,20270.0,21060.0,21850.0,22640.0,23430.0,24220.0,25010.0,25800.0,26590.0,27380.0,28170.0,28960.0,29750.0,30540.0,31330.0,32120.0,32910.0,33700.0,34490.0,35280.0,36070.0,36860.0,37650.0,38440.0,39230.0,40020.0,40810.0,41600.0,42390.0,43180.0,43970.0,44760.0,45550.0,46340.0,47130.0,47920.0,48710.0,49500.0,50290.0,51080.0,51870.0,52660.0,53450.0,54240.0,55030.0,55820.0,56610.0,57400.0,58190.0,58980.0,59770.0,60560.0,61350.0,62140.0,62930.0,63720.0,64510.0,65300.0,66090.0,66880.0,67670.0,68460.0,69250.0,70040.0,70830.0,71620.0,72410.0,73200.0,73990.0,74780.0,75570.0,76360.0,77150.0,77940.0,78730.0,79520.0,80310.0,81100.0,81890.0,82680.0,83470.0,84260.0,85050.0,85840.0,86630.0,87420.0,88210.0,89000.0,89790.0,90580.0,91370.0,92160.0,92950.0,93740.0,94530.0,95320.0,96110.0,96900.0,97690.0,98480.0,99270.0,100060.0,100850.0,101640.0,102430.0,103220.0,104010.0,104800.0,105590.0,106380.0,107170.0,107960.0,108750.0,109540.0,110330.0,111120.0,111910.0,112700.0,113490.0,114280.0,115070.0,115860.0,116650.0,117440.0,118230.0,119020.0,119810.0,120600.0,121390.0,122180.0,122970.0,123760.0,124550.0,125340.0,126130.0,126920.0,127710.0,128500.0,129290.0,130080.0,130870.0,131660.0,132450.0,133240.0,134030.0,134820.0,135610.0,136400.0,137190.0,137980.0,138770.0,139560.0,140350.0,141140.0,141930.0,142720.0,143510.0,144300.0,145090.0,145880.0,146670.0,147460.0,148250.0,149040.0,149830.0,150620.0,151410.0,152200.0,152990.0,153780.0,154570.0,155360.0,156150.0,156940.0,157730.0,158520.0,159310.0,160100.0,160890.0,161680.0,162470.0,163260.0,164050.0,164840.0,165630.0,166420.0,167210.0,168000.0,168790.0,169580.0,170370.0,171160.0,171950.0,172740.0,173530.0,174320.0,175110.0,175900.0,176690.0,177480.0,178270.0,179060.0,179850.0,180640.0,181430.0,182220.0,183010.0,183800.0,184590.0,185380.0,186170.0,186960.0,187750.0,188540.0,189330.0,190120.0,190910.0,191700.0,192490.0,193280.0,194070.0,194860.0,195650.0,196440.0,197230.0,198020.0,198810.0,199600.0,200390.0,201180.0,201970.0,202760.0,203550.0,204340.0,205130.0,205920.0,206710.0,207500.0,208290.0,209080.0,209870.0,210660.0,211450.0,212240.0,213030.0,213820.0,214610.0,215400.0,216190.0,216980.0,217770.0,218560.0,219350.0,220140.0,220930.0,221720.0,222510.0,223300.0,224090.0,224880.0,225670.0,226460.0,227250.0,228040.0,228830.0,229620.0,230410.0,231200.0,231990.0,232780.0,233570.0,234360.0,235150.0,235940.0,236730.0,237520.0,238310.0,239100.0,239890.0,240680.0,241470.0,242260.0,243050.0,243840.0,244630.0,245420.0,246210.0,247000.0,247790.0,248580.0,249370.0,250160.0,250950.0,251740.0,252530.0,253320.0,254110.0,254900.0,255690.0,256480.0,257270.0,258060.0,258850.0,259640.0,260430.0,261220.0,262010.0,262800.0,263590.0,264380.0,265170.0,265960.0,266750.0,267540.0,268330.0,269120.0,269910.0,270700.0,271490.0,272280.0,273070.0,273860.0,274650.0,275440.0,276230.0,277020.0,277810.0,278600.0,279390.0,280180.0,280970.0,281760.0,282550.0,283340.0,284130.0,284920.0,285710.0,286500.0,287290.0,288080.0,288870.0,289660.0,290450.0,291240.0,292030.0,292820.0,293610.0,294400.0,295190.0,295980.0,296770.0,297560.0,298350.0,299140.0,299930.0,300720.0,301510.0,302300.0,303090.0,303880.0,304670.0,305460.0,306250.0,307040.0,307830.0,308620.0,309410.0,310200.0,310990.0,311780.0,312570.0,313360.0,314150.0,314940.0,315730.0,316520.0,317310.0,318100.0,318890.0,319680.0,320470.0,321260.0,322050.0,322840.0,323630.0,324420.0,325210.0,326000.0,326790.0,327580.0,328370.0,329160.0,329950.0,330740.0,331530.0,332320.0,333110.0,333900.0,334690.0,335480.0,336270.0,337060.0,337850.0,338640.0,339430.0,340220.0,341010.0,341800.0,342590.0,343380.0,344170.0,344960.0,345750.0,346540.0,347330.0,348120.0,348910.0,349700.0,350490.0,351280.0,352070.0,352860.0,353650.0,354440.0,355230.0,356020.0,356810.0,357600.0,358390.0,359180.0,359970.0,360760.0,361550.0,362340.0,363130.0,363920.0,364710.0,365500.0,366290.0,367080.0,367870.0,368660.0,369450.0,370240.0,371030.0,371820.0,372610.0,373400.0,374190.0,374980.0,375770.0,376560.0,377350.0,378140.0,378930.0,379720.0,380510.0,381300.0,382090.0,382880.0,383670.0,384460.0,385250.0,386040.0,386830.0,387620.0,388410.0,389200.0,389990.0,390780.0,391570.0,392360.0,393150.0,393940.0,394730.0,395520.0,396310.0,397100.0,397890.0,398680.0,399470.0,400260.0,401050.0,401840.0,402630.0,403420.0,404210.0],\"xaxis\":\"x\",\"y\":[8.533894622752326e-07,8.937762338622922e-07,9.352318739732881e-07,9.777467252611794e-07,1.02130997167197e-06,1.0659096859766122e-06,1.1115328736591104e-06,1.1581655121723217e-06,1.2057925846751242e-06,1.2543981074864993e-06,1.3039651506318276e-06,1.3544758510122795e-06,1.4059114178973505e-06,1.4582521306204365e-06,1.5114773285452383e-06,1.565565393563147e-06,1.6204937255757626e-06,1.676238711608399e-06,1.7327756893867251e-06,1.7900789063858946e-06,1.8481214755261873e-06,1.9068753288381368e-06,1.966311170550245e-06,2.0263984311604396e-06,2.0871052241365385e-06,2.1483983069481315e-06,2.210243048161109e-06,2.2726034023250924e-06,2.3354418943519467e-06,2.3987196150204873e-06,2.4623962291478925e-06,2.526429997843016e-06,2.5907778161022405e-06,2.655395266825286e-06,2.7202366921198907e-06,2.7852552825322044e-06,2.8504031845873165e-06,2.9156316267556095e-06,2.9808910636784048e-06,3.046131338196115e-06,3.1113018604268124e-06,3.1763518028488613e-06,3.2412303100514933e-06,3.305886721537601e-06,3.3702708056978396e-06,3.4343330028290843e-06,3.4980246748482537e-06,3.5612983591575365e-06,3.624108023954573e-06,3.6864093221528087e-06,3.748159840987543e-06,3.8093193443329568e-06,3.86985000474798e-06,3.929716622303924e-06,3.988886827325689e-06,4.047331264300624e-06,4.1050237543736e-06,4.161941434052199e-06,4.2180648679895e-06,4.273378133991314e-06,4.327868878705273e-06,4.381528342788309e-06,4.434351354710159e-06,4.486336292730426e-06,4.537485014978583e-06,4.587802757964952e-06,4.63729800425035e-06,4.685982320396299e-06,4.733870166701026e-06,4.780978680592749e-06,4.827327435895114e-06,4.872938180495614e-06,4.917834555229952e-06,4.962041797041074e-06,5.00558642967489e-06,5.0484959453343654e-06,5.090798480825181e-06,5.132522491789016e-06,5.173696428632864e-06,5.214348417724354e-06,5.254505951334585e-06,5.294195589672346e-06,5.3334426781688955e-06,5.372271082944125e-06,5.410702947114977e-06,5.4487584703012995e-06,5.4864557133466335e-06,5.523810429906786e-06,5.560835926174566e-06,5.597542949608997e-06,5.633939607129567e-06,5.670031312826376e-06,5.705820764832047e-06,5.741307950607459e-06,5.776490179517309e-06,5.811362141219077e-06,5.845915988065312e-06,5.880141439430684e-06,5.914025905624824e-06,5.947554628845201e-06,5.980710838463012e-06,6.013475917822096e-06,6.045829579667859e-06,6.077750047310945e-06,6.109214238666999e-06,6.1401979504004844e-06,6.170676039533423e-06,6.2006226000556765e-06,6.230011132290406e-06,6.258814703019048e-06,6.287006094652296e-06,6.3145579420384695e-06,6.341442855824927e-06,6.367633531622656e-06,6.393102844563881e-06,6.417823929179567e-06,6.4417702448518855e-06,6.464915627408734e-06,6.487234327717988e-06,6.508701038401482e-06,6.529290910018255e-06,6.548979558258614e-06,6.567743063841439e-06,6.585557966913898e-06,6.602401257813676e-06,6.618250366068069e-06,6.633083149471576e-06,6.646877885006012e-06,6.659613263245293e-06,6.671268387726025e-06,6.6818227805663705e-06,6.691256395386948e-06,6.699549638331546e-06,6.706683397710493e-06,6.712639082500696e-06,6.7173986696414585e-06,6.72094475977107e-06,6.7232606407625296e-06,6.724330358145175e-06,6.724138791249258e-06,6.722671733687785e-06,6.719915976602046e-06,6.715859392946395e-06,6.710491020981126e-06,6.7038011450808395e-06,6.69578137195228e-06,6.68642470039267e-06,6.6757255828044095e-06,6.66367997681742e-06,6.650285385549335e-06,6.635540885258275e-06,6.619447139403653e-06,6.6020063984257325e-06,6.583222484876591e-06,6.563100763876621e-06,6.541648099225598e-06,6.518872795855921e-06,6.494784529671092e-06,6.469394266155736e-06,6.442714169465963e-06,6.414757504003862e-06,6.385538530737735e-06,6.3550724007461735e-06,6.323375048629749e-06,6.290463088547305e-06,6.256353715686897e-06,6.221064615974691e-06,6.184613886754035e-06,6.147019971032972e-06,6.108301607701972e-06,6.068477799866767e-06,6.027567803127916e-06,5.985591135273638e-06,5.942567608442541e-06,5.898517384363422e-06,5.853461052800961e-06,5.807419732835748e-06,5.760415196094595e-06,5.712470010533354e-06,5.663607702868022e-06,5.613852937261934e-06,5.563231707416757e-06,5.511771538791908e-06,5.4595016973007286e-06,5.406453400508527e-06,5.352660027096745e-06,5.298157320162993e-06,5.242983579804312e-06,5.18717984038448e-06,5.130790027916812e-06,5.073861093102873e-06,5.016443115754893e-06,4.958589376592025e-06,4.900356392736275e-06,4.841803913636908e-06,4.782994874618592e-06,4.723995305769789e-06,4.664874194458324e-06,4.605703300371101e-06,4.546556922616804e-06,4.487511619093631e-06,4.428645879000772e-06,4.370039750051192e-06,4.311774422615895e-06,4.253931773686297e-06,4.196593874172416e-06,4.139842463652038e-06,4.083758397240871e-06,4.028421069759421e-06,3.973907822820828e-06,3.920293340850189e-06,3.867649042363367e-06,3.816042473078878e-06,3.7655367076049264e-06,3.7161897665337286e-06,3.6680540557834e-06,3.621175834955145e-06,3.5755947213171888e-06,3.5313432357906203e-06,3.4884463969955683e-06,3.4469213690224526e-06,3.4067771681254874e-06,3.368014432998494e-06,3.3306252626913363e-06,3.2945931255647073e-06,3.259892841968119e-06,3.226490642568228e-06,3.1943443034596195e-06,3.1634033583668184e-06,3.133609387403416e-06,3.1048963810015975e-06,3.0771911767726615e-06,3.0504139662170692e-06,3.024478867381114e-06,2.99929455876724e-06,2.9747649690566442e-06,2.9507900165063813e-06,2.9272663912484077e-06,2.904088373154175e-06,2.8811486774443396e-06,2.858339319826321e-06,2.83555249263968e-06,2.8126814432866354e-06,2.789621346125863e-06,2.766270159016461e-06,2.7425294558154414e-06,2.71830522635777e-06,2.693508635780095e-06,2.668056735485098e-06,2.6418731185779765e-06,2.614888513233052e-06,2.5870413081595326e-06,2.5582780051210637e-06,2.528553594313723e-06,2.497831849309582e-06,2.466085539215187e-06,2.4332965566632715e-06,2.399455961237497e-06,2.364563938910102e-06,2.328629679037247e-06,2.291671171392136e-06,2.2537149266090763e-06,2.2147956242494476e-06,2.1749556934716326e-06,2.134244831981023e-06,2.09271946954391e-06,2.0504421828630976e-06,2.007481069027289e-06,1.9639090850565786e-06,1.9198033612703086e-06,1.875244496300393e-06,1.8303158415642292e-06,1.7851027828992479e-06,1.7396920268506205e-06,1.69417089880061e-06,1.6486266597399093e-06,1.6031458480167611e-06,1.5578136518681226e-06,1.5127133179492343e-06,1.4679256004445306e-06,1.4235282546752866e-06,1.3795955784291301e-06,1.3361980035350414e-06,1.2934017395057276e-06,1.2512684703777824e-06,1.2098551052088916e-06,1.1692135820493982e-06,1.12939072460101e-06,1.0904281502152008e-06,1.0523622273738725e-06,1.015224080339729e-06,9.790396382668917e-07,9.438297257259306e-07,9.096101913225039e-07,8.763920708751911e-07,8.441817814646953e-07,8.129813425711236e-07,7.827886204756421e-07,7.535975921137078e-07,7.253986246249924e-07,6.981787669451483e-07,6.719220499218715e-07,6.466097916067025e-07,6.222209045695992e-07,5.987322022998811e-07,5.761187019899712e-07,5.543539212419939e-07,5.334101664877137e-07,5.132588111648842e-07,4.938705619443607e-07,4.752157115489126e-07,4.5726437694378947e-07,4.399867219084998e-07,4.2335316321706027e-07,4.073345598588618e-07,3.9190238492331507e-07,3.770288799480302e-07,3.626871916921942e-07,3.4885149144418716e-07,3.3549707710549e-07,3.226004584121785e-07,3.101394257613066e-07,2.9809310320299735e-07,2.8644198624075585e-07,2.751679651532443e-07,2.6425433461113353e-07,2.536857904134252e-07,2.4344841420940416e-07,2.3352964710571621e-07,2.2391825308339757e-07,2.1460427316748707e-07,2.0557897130241534e-07,1.9683477289000888e-07,1.8836519694393153e-07,1.8016478280493097e-07,1.7222901234561664e-07,1.6455422857189786e-07,1.5713755150094434e-07,1.4997679216292703e-07,1.4307036553618832e-07,1.364172031833758e-07,1.300166663098948e-07,1.2386845991639918e-07,1.1797254866456312e-07,1.1232907502074521e-07,1.0693828018609193e-07,1.018004282649061e-07,9.691573406647518e-08,9.228429487979689e-08,8.790602650648131e-08,8.378060378526125e-08,7.990740579262424e-08,7.628546585864714e-08,7.291342649562175e-08,6.978949929985162e-08,6.69114298542921e-08,6.427646763160232e-08,6.188134087363504e-08,5.972223640425189e-08,5.7794784317322656e-08,5.609404747045076e-08,5.461451570686112e-08,5.3350104722394264e-08,5.229415949102508e-08,5.143946216006569e-08,5.077824432448772e-08,5.030220358790304e-08,5.000252431497032e-08,4.9869902475702826e-08,4.989457447576957e-08,5.0066349857919725e-08,5.037464774774713e-08,5.080853690189602e-08,5.135677919836835e-08,5.20078763868534e-08,5.275011989212716e-08,5.357164343585905e-08,5.446047821206814e-08,5.540461031954749e-08,5.639204012149356e-08,5.7410843169121844e-08,5.844923229303275e-08,5.9495620434429524e-08,6.053868375886895e-08,6.156742456897595e-08,6.257123351034693e-08,6.353995054753113e-08,6.446392417528272e-08,6.533406832484079e-08,6.614191642638766e-08,6.68796720974141e-08,6.75402559427557e-08,6.811734797562699e-08,6.860542519998415e-08,6.89997939327595e-08,6.929661648950884e-08,6.949293190823627e-08,6.958667044291834e-08,6.957666161968538e-08,6.946263571382363e-08,6.92452185736956e-08,6.892591978726914e-08,6.850711425707225e-08,6.799201731893534e-08,6.738465360772883e-08,6.668981993839244e-08,6.591304253187848e-08,6.506052897229782e-08,6.41391153327368e-08,6.31562089522619e-08,6.211972738496622e-08,6.103803407316701e-08,5.991987132077206e-08,5.877429115929734e-08,5.761058470808093e-08,5.643821063208764e-08,5.526672329563138e-08,5.410570119879805e-08,5.296467626582889e-08,5.185306453183851e-08,5.078009874663347e-08,4.975476338276546e-08,4.878573250000459e-08,4.7881310880854334e-08,4.704937881224202e-08,4.6297340847734744e-08,4.5632078843158665e-08,4.505990951684463e-08,4.458654674434602e-08,4.4217068756736515e-08,4.395589037178092e-08,4.380674034859105e-08,4.377264391894548e-08,4.3855910512334995e-08,4.405812665698025e-08,4.438015400550915e-08,4.482213240159021e-08,4.5383487872486615e-08,4.6062945402119415e-08,4.685854630970396e-08,4.776767003027908e-08,4.8787060065453404e-08,4.991285384545638e-08,5.114061621717821e-08,5.246537624745693e-08,5.388166700661077e-08,5.538356797441116e-08,5.6964749689654196e-08,5.861852024562387e-08,6.033787321746962e-08,6.211553659429892e-08,6.394402227911156e-08,6.581567571401928e-08,6.77227251869884e-08,6.965733037999178e-08,7.161162972733642e-08,7.357778616730095e-08,7.5548030890237e-08,7.751470471204106e-08,7.947029673329337e-08,8.140747998120757e-08,8.331914377348593e-08,8.519842258973752e-08,8.703872128669344e-08,8.883373654725168e-08,9.057747450957647e-08,9.226426458004416e-08,9.388876949175239e-08,9.544599172745252e-08,9.693127648098475e-08,9.834031138345875e-08,9.9669123268377e-08,1.0091407229261293e-07,1.020718437666156e-07,1.0313943807658477e-07,1.0411415910289528e-07,1.0499360155219661e-07,1.057756376249979e-07,1.064584034359698e-07,1.0704028559069881e-07,1.075199083004249e-07,1.0789612138584073e-07,1.081679894829575e-07,1.0833478271918377e-07,1.083959690771169e-07,1.0835120860825655e-07,1.0820034960018088e-07,1.0794342674003297e-07,1.075806612558543e-07,1.0711246295680674e-07,1.0653943403505634e-07,1.0586237443741368e-07,1.0508228856502132e-07,1.0420039301560062e-07,1.0321812504604341e-07,1.0213715140429825e-07,1.0095937715920532e-07,9.968695414563725e-08,9.832228864021439e-08,9.686804789001414e-08],\"yaxis\":\"y\",\"type\":\"scatter\"},{\"legendgroup\":\"2020 salary\",\"marker\":{\"color\":\"white\",\"symbol\":\"line-ns-open\"},\"mode\":\"markers\",\"name\":\"2020 salary\",\"showlegend\":false,\"x\":[79833,260000,109024,20000,150000,72000,190000,35735,135000,125000,51321,40481,39916,87000,85000,8000,41689,114047,5707,56000,43331,6072,47899,98000,115000,325000,42000,33511,100000,117104,59303,70000,68428,450000,46759,74130,103000,250000,10000,138000,45760,79833,50180,106000,112872,15966,76958,188000,105000,70139,6072,91000,45896,54742,60000,148261,38776,118000,120000,138350,110000,130800,21669,412000,45618,62726,49268,190200,105000,91237,62726,42197],\"xaxis\":\"x\",\"y\":[\"2020 salary\",\"2020 salary\",\"2020 salary\",\"2020 salary\",\"2020 salary\",\"2020 salary\",\"2020 salary\",\"2020 salary\",\"2020 salary\",\"2020 salary\",\"2020 salary\",\"2020 salary\",\"2020 salary\",\"2020 salary\",\"2020 salary\",\"2020 salary\",\"2020 salary\",\"2020 salary\",\"2020 salary\",\"2020 salary\",\"2020 salary\",\"2020 salary\",\"2020 salary\",\"2020 salary\",\"2020 salary\",\"2020 salary\",\"2020 salary\",\"2020 salary\",\"2020 salary\",\"2020 salary\",\"2020 salary\",\"2020 salary\",\"2020 salary\",\"2020 salary\",\"2020 salary\",\"2020 salary\",\"2020 salary\",\"2020 salary\",\"2020 salary\",\"2020 salary\",\"2020 salary\",\"2020 salary\",\"2020 salary\",\"2020 salary\",\"2020 salary\",\"2020 salary\",\"2020 salary\",\"2020 salary\",\"2020 salary\",\"2020 salary\",\"2020 salary\",\"2020 salary\",\"2020 salary\",\"2020 salary\",\"2020 salary\",\"2020 salary\",\"2020 salary\",\"2020 salary\",\"2020 salary\",\"2020 salary\",\"2020 salary\",\"2020 salary\",\"2020 salary\",\"2020 salary\",\"2020 salary\",\"2020 salary\",\"2020 salary\",\"2020 salary\",\"2020 salary\",\"2020 salary\",\"2020 salary\",\"2020 salary\"],\"yaxis\":\"y2\",\"type\":\"scatter\"},{\"legendgroup\":\"2021 salary\",\"marker\":{\"color\":\"red\",\"symbol\":\"line-ns-open\"},\"mode\":\"markers\",\"name\":\"2021 salary\",\"showlegend\":false,\"x\":[82528,150000,235000,53192,100000,5409,270000,80000,79197,140000,54238,47282,153667,28476,59102,110000,170000,80000,88654,76833,19609,276000,29751,89294,12000,450000,70000,95746,75000,150000,36259,62000,73000,51519,187442,115000,150000,30428,94564,113476,103160,12000,45391,225000,50000,40189,90000,200000,60000,200000,50000,110037,10354,151000,120000,9466,20000,40570,100000,49646,38400,24000,100000,90000,63711,77364,220000,80000,135000,240000,150000,82500,100000,82744,62649,90000,153000,160000,168000,150000,75774,13400,144000,127221,119059,423000,120000,125000,230000,85000,28369,63831,130026,165000,80000,250000,55000,150000,170000,82528,60000,235000,60757,174000,2859,40038,81000,5679,22611,90734,26005,61896,12000,4000,50000,69741,76833,74000,152000,21844,18000,174000,96113,147000,9272,24342,54094,90000,61467,195000,37825,50000,160000,12901,200000,165000,20000,120000,24823,56738,66022,5882,24823,185000,28609,90734,88654,140000,46597,116914,33808,56256,225000,416000,87738,88654,135000,71786,16228,256000,200000,200000,180000,110000,63810,46809,4000,21637,103691,80000,110000,165000,18053,72212,36643,12103,96282,170000,115000,90000,600000,28399,93000,99703,200000,173762,185000,141846,130000,63831,16904,66265,25532,160000,93150,111775,28016,65013,72500,18907,76833,85000,77684,100000,58000,55000,20171,59102,112000,100000,69741,105000,69999,94665,102839,109000,51064],\"xaxis\":\"x\",\"y\":[\"2021 salary\",\"2021 salary\",\"2021 salary\",\"2021 salary\",\"2021 salary\",\"2021 salary\",\"2021 salary\",\"2021 salary\",\"2021 salary\",\"2021 salary\",\"2021 salary\",\"2021 salary\",\"2021 salary\",\"2021 salary\",\"2021 salary\",\"2021 salary\",\"2021 salary\",\"2021 salary\",\"2021 salary\",\"2021 salary\",\"2021 salary\",\"2021 salary\",\"2021 salary\",\"2021 salary\",\"2021 salary\",\"2021 salary\",\"2021 salary\",\"2021 salary\",\"2021 salary\",\"2021 salary\",\"2021 salary\",\"2021 salary\",\"2021 salary\",\"2021 salary\",\"2021 salary\",\"2021 salary\",\"2021 salary\",\"2021 salary\",\"2021 salary\",\"2021 salary\",\"2021 salary\",\"2021 salary\",\"2021 salary\",\"2021 salary\",\"2021 salary\",\"2021 salary\",\"2021 salary\",\"2021 salary\",\"2021 salary\",\"2021 salary\",\"2021 salary\",\"2021 salary\",\"2021 salary\",\"2021 salary\",\"2021 salary\",\"2021 salary\",\"2021 salary\",\"2021 salary\",\"2021 salary\",\"2021 salary\",\"2021 salary\",\"2021 salary\",\"2021 salary\",\"2021 salary\",\"2021 salary\",\"2021 salary\",\"2021 salary\",\"2021 salary\",\"2021 salary\",\"2021 salary\",\"2021 salary\",\"2021 salary\",\"2021 salary\",\"2021 salary\",\"2021 salary\",\"2021 salary\",\"2021 salary\",\"2021 salary\",\"2021 salary\",\"2021 salary\",\"2021 salary\",\"2021 salary\",\"2021 salary\",\"2021 salary\",\"2021 salary\",\"2021 salary\",\"2021 salary\",\"2021 salary\",\"2021 salary\",\"2021 salary\",\"2021 salary\",\"2021 salary\",\"2021 salary\",\"2021 salary\",\"2021 salary\",\"2021 salary\",\"2021 salary\",\"2021 salary\",\"2021 salary\",\"2021 salary\",\"2021 salary\",\"2021 salary\",\"2021 salary\",\"2021 salary\",\"2021 salary\",\"2021 salary\",\"2021 salary\",\"2021 salary\",\"2021 salary\",\"2021 salary\",\"2021 salary\",\"2021 salary\",\"2021 salary\",\"2021 salary\",\"2021 salary\",\"2021 salary\",\"2021 salary\",\"2021 salary\",\"2021 salary\",\"2021 salary\",\"2021 salary\",\"2021 salary\",\"2021 salary\",\"2021 salary\",\"2021 salary\",\"2021 salary\",\"2021 salary\",\"2021 salary\",\"2021 salary\",\"2021 salary\",\"2021 salary\",\"2021 salary\",\"2021 salary\",\"2021 salary\",\"2021 salary\",\"2021 salary\",\"2021 salary\",\"2021 salary\",\"2021 salary\",\"2021 salary\",\"2021 salary\",\"2021 salary\",\"2021 salary\",\"2021 salary\",\"2021 salary\",\"2021 salary\",\"2021 salary\",\"2021 salary\",\"2021 salary\",\"2021 salary\",\"2021 salary\",\"2021 salary\",\"2021 salary\",\"2021 salary\",\"2021 salary\",\"2021 salary\",\"2021 salary\",\"2021 salary\",\"2021 salary\",\"2021 salary\",\"2021 salary\",\"2021 salary\",\"2021 salary\",\"2021 salary\",\"2021 salary\",\"2021 salary\",\"2021 salary\",\"2021 salary\",\"2021 salary\",\"2021 salary\",\"2021 salary\",\"2021 salary\",\"2021 salary\",\"2021 salary\",\"2021 salary\",\"2021 salary\",\"2021 salary\",\"2021 salary\",\"2021 salary\",\"2021 salary\",\"2021 salary\",\"2021 salary\",\"2021 salary\",\"2021 salary\",\"2021 salary\",\"2021 salary\",\"2021 salary\",\"2021 salary\",\"2021 salary\",\"2021 salary\",\"2021 salary\",\"2021 salary\",\"2021 salary\",\"2021 salary\",\"2021 salary\",\"2021 salary\",\"2021 salary\",\"2021 salary\",\"2021 salary\",\"2021 salary\",\"2021 salary\",\"2021 salary\",\"2021 salary\",\"2021 salary\",\"2021 salary\",\"2021 salary\",\"2021 salary\",\"2021 salary\",\"2021 salary\",\"2021 salary\",\"2021 salary\",\"2021 salary\",\"2021 salary\",\"2021 salary\",\"2021 salary\",\"2021 salary\",\"2021 salary\"],\"yaxis\":\"y2\",\"type\":\"scatter\"},{\"legendgroup\":\"2022 salary\",\"marker\":{\"color\":\"blue\",\"symbol\":\"line-ns-open\"},\"mode\":\"markers\",\"name\":\"2022 salary\",\"showlegend\":false,\"x\":[135000,155000,120600,130000,90000,170000,150000,102100,84900,136620,99360,117789,104702,146000,123000,52351,99000,116000,106260,126500,242000,200000,65438,39263,78526,52351,165220,45807,120160,90320,181940,132320,220110,160080,180000,120000,124190,130000,110000,170000,115500,112900,90320,112900,90320,165400,132320,167000,243900,136600,109280,128875,93700,224000,167875,175000,156600,108800,95550,113000,135000,161342,137141,167000,123000,78526,65438,150000,211500,192400,90700,130000,61300,130000,61300,160000,138600,136000,58000,135000,170000,123000,189650,164996,54957,54957,118187,132000,165400,208775,147800,136994,101570,128875,93700,79039,132320,37300,164000,155000,124333,98158,120000,112900,90320,145000,105400,87932,117789,215300,158200,209100,154600,115934,81666,175000,98158,58000,183600,52351,180000,71982,45807,65949,49461,78526,58894,260000,60000,63900,160000,112300,241000,159000,180000,80000,82900,100800,49461,140400,39263,43966,32974,87932,76940,104702,91614,65949,87932,189650,164996,43966,32974,98158,78526,215300,76940,209100,154600,180000,21983,80000,78791,196979,120000,125000,37236,105000,87932,18442,31615,58255,100000,54957,18442,162674,120000,144000,104890,100000,140000,135000,50000,220000,140000,183228,91614,185100,220000,200000,120000,120000,65000,324000,216000,210000,120000,230000,100000,100000,31875,200000,75000,35590,78791,100000,153000,58035,165000,93427,52396,62651,32974,40000,87425,115000,86703,75000,64849,120000,157000,150000,70912,65000,71444,20000,48000,152500,68147,122346,380000,69336,10000,20000,405000,135000,177000,78000,135000,100000,90320,85000,75000,214000,192600,266400,213120,112900,155000,141300,102100,115934,81666,206699,99100,130000,115000,110500,130000,99050,160000,205300,140400,176000,144000,200100,160000,145000,70500,205300,140400,205300,184700,175100,140250,116150,54000,170000,65438,80000,140000,210000,140000,100000,69000,210000,140000,210000,150075,100000,25000,126500,106260,220110,160080,105000,110925,45807,140000,99000,60000,192564,144854,230000,150000,150260,109280,210000,170000,160000,130000,67000,52000,154000,126000,129000,150000,200000],\"xaxis\":\"x\",\"y\":[\"2022 salary\",\"2022 salary\",\"2022 salary\",\"2022 salary\",\"2022 salary\",\"2022 salary\",\"2022 salary\",\"2022 salary\",\"2022 salary\",\"2022 salary\",\"2022 salary\",\"2022 salary\",\"2022 salary\",\"2022 salary\",\"2022 salary\",\"2022 salary\",\"2022 salary\",\"2022 salary\",\"2022 salary\",\"2022 salary\",\"2022 salary\",\"2022 salary\",\"2022 salary\",\"2022 salary\",\"2022 salary\",\"2022 salary\",\"2022 salary\",\"2022 salary\",\"2022 salary\",\"2022 salary\",\"2022 salary\",\"2022 salary\",\"2022 salary\",\"2022 salary\",\"2022 salary\",\"2022 salary\",\"2022 salary\",\"2022 salary\",\"2022 salary\",\"2022 salary\",\"2022 salary\",\"2022 salary\",\"2022 salary\",\"2022 salary\",\"2022 salary\",\"2022 salary\",\"2022 salary\",\"2022 salary\",\"2022 salary\",\"2022 salary\",\"2022 salary\",\"2022 salary\",\"2022 salary\",\"2022 salary\",\"2022 salary\",\"2022 salary\",\"2022 salary\",\"2022 salary\",\"2022 salary\",\"2022 salary\",\"2022 salary\",\"2022 salary\",\"2022 salary\",\"2022 salary\",\"2022 salary\",\"2022 salary\",\"2022 salary\",\"2022 salary\",\"2022 salary\",\"2022 salary\",\"2022 salary\",\"2022 salary\",\"2022 salary\",\"2022 salary\",\"2022 salary\",\"2022 salary\",\"2022 salary\",\"2022 salary\",\"2022 salary\",\"2022 salary\",\"2022 salary\",\"2022 salary\",\"2022 salary\",\"2022 salary\",\"2022 salary\",\"2022 salary\",\"2022 salary\",\"2022 salary\",\"2022 salary\",\"2022 salary\",\"2022 salary\",\"2022 salary\",\"2022 salary\",\"2022 salary\",\"2022 salary\",\"2022 salary\",\"2022 salary\",\"2022 salary\",\"2022 salary\",\"2022 salary\",\"2022 salary\",\"2022 salary\",\"2022 salary\",\"2022 salary\",\"2022 salary\",\"2022 salary\",\"2022 salary\",\"2022 salary\",\"2022 salary\",\"2022 salary\",\"2022 salary\",\"2022 salary\",\"2022 salary\",\"2022 salary\",\"2022 salary\",\"2022 salary\",\"2022 salary\",\"2022 salary\",\"2022 salary\",\"2022 salary\",\"2022 salary\",\"2022 salary\",\"2022 salary\",\"2022 salary\",\"2022 salary\",\"2022 salary\",\"2022 salary\",\"2022 salary\",\"2022 salary\",\"2022 salary\",\"2022 salary\",\"2022 salary\",\"2022 salary\",\"2022 salary\",\"2022 salary\",\"2022 salary\",\"2022 salary\",\"2022 salary\",\"2022 salary\",\"2022 salary\",\"2022 salary\",\"2022 salary\",\"2022 salary\",\"2022 salary\",\"2022 salary\",\"2022 salary\",\"2022 salary\",\"2022 salary\",\"2022 salary\",\"2022 salary\",\"2022 salary\",\"2022 salary\",\"2022 salary\",\"2022 salary\",\"2022 salary\",\"2022 salary\",\"2022 salary\",\"2022 salary\",\"2022 salary\",\"2022 salary\",\"2022 salary\",\"2022 salary\",\"2022 salary\",\"2022 salary\",\"2022 salary\",\"2022 salary\",\"2022 salary\",\"2022 salary\",\"2022 salary\",\"2022 salary\",\"2022 salary\",\"2022 salary\",\"2022 salary\",\"2022 salary\",\"2022 salary\",\"2022 salary\",\"2022 salary\",\"2022 salary\",\"2022 salary\",\"2022 salary\",\"2022 salary\",\"2022 salary\",\"2022 salary\",\"2022 salary\",\"2022 salary\",\"2022 salary\",\"2022 salary\",\"2022 salary\",\"2022 salary\",\"2022 salary\",\"2022 salary\",\"2022 salary\",\"2022 salary\",\"2022 salary\",\"2022 salary\",\"2022 salary\",\"2022 salary\",\"2022 salary\",\"2022 salary\",\"2022 salary\",\"2022 salary\",\"2022 salary\",\"2022 salary\",\"2022 salary\",\"2022 salary\",\"2022 salary\",\"2022 salary\",\"2022 salary\",\"2022 salary\",\"2022 salary\",\"2022 salary\",\"2022 salary\",\"2022 salary\",\"2022 salary\",\"2022 salary\",\"2022 salary\",\"2022 salary\",\"2022 salary\",\"2022 salary\",\"2022 salary\",\"2022 salary\",\"2022 salary\",\"2022 salary\",\"2022 salary\",\"2022 salary\",\"2022 salary\",\"2022 salary\",\"2022 salary\",\"2022 salary\",\"2022 salary\",\"2022 salary\",\"2022 salary\",\"2022 salary\",\"2022 salary\",\"2022 salary\",\"2022 salary\",\"2022 salary\",\"2022 salary\",\"2022 salary\",\"2022 salary\",\"2022 salary\",\"2022 salary\",\"2022 salary\",\"2022 salary\",\"2022 salary\",\"2022 salary\",\"2022 salary\",\"2022 salary\",\"2022 salary\",\"2022 salary\",\"2022 salary\",\"2022 salary\",\"2022 salary\",\"2022 salary\",\"2022 salary\",\"2022 salary\",\"2022 salary\",\"2022 salary\",\"2022 salary\",\"2022 salary\",\"2022 salary\",\"2022 salary\",\"2022 salary\",\"2022 salary\",\"2022 salary\",\"2022 salary\",\"2022 salary\",\"2022 salary\",\"2022 salary\",\"2022 salary\",\"2022 salary\",\"2022 salary\",\"2022 salary\",\"2022 salary\",\"2022 salary\",\"2022 salary\",\"2022 salary\",\"2022 salary\",\"2022 salary\",\"2022 salary\",\"2022 salary\",\"2022 salary\",\"2022 salary\",\"2022 salary\",\"2022 salary\",\"2022 salary\",\"2022 salary\",\"2022 salary\",\"2022 salary\",\"2022 salary\",\"2022 salary\",\"2022 salary\",\"2022 salary\",\"2022 salary\",\"2022 salary\",\"2022 salary\",\"2022 salary\",\"2022 salary\",\"2022 salary\",\"2022 salary\",\"2022 salary\",\"2022 salary\",\"2022 salary\",\"2022 salary\",\"2022 salary\",\"2022 salary\",\"2022 salary\",\"2022 salary\",\"2022 salary\",\"2022 salary\",\"2022 salary\",\"2022 salary\",\"2022 salary\",\"2022 salary\",\"2022 salary\",\"2022 salary\",\"2022 salary\",\"2022 salary\"],\"yaxis\":\"y2\",\"type\":\"scatter\"}],                        {\"barmode\":\"overlay\",\"hovermode\":\"closest\",\"legend\":{\"traceorder\":\"reversed\"},\"xaxis\":{\"anchor\":\"y2\",\"domain\":[0.0,1.0],\"zeroline\":false},\"yaxis\":{\"anchor\":\"free\",\"domain\":[0.35,1],\"position\":0.0},\"yaxis2\":{\"anchor\":\"x\",\"domain\":[0,0.25],\"dtick\":1,\"showticklabels\":false},\"template\":{\"data\":{\"barpolar\":[{\"marker\":{\"line\":{\"color\":\"rgb(17,17,17)\",\"width\":0.5},\"pattern\":{\"fillmode\":\"overlay\",\"size\":10,\"solidity\":0.2}},\"type\":\"barpolar\"}],\"bar\":[{\"error_x\":{\"color\":\"#f2f5fa\"},\"error_y\":{\"color\":\"#f2f5fa\"},\"marker\":{\"line\":{\"color\":\"rgb(17,17,17)\",\"width\":0.5},\"pattern\":{\"fillmode\":\"overlay\",\"size\":10,\"solidity\":0.2}},\"type\":\"bar\"}],\"carpet\":[{\"aaxis\":{\"endlinecolor\":\"#A2B1C6\",\"gridcolor\":\"#506784\",\"linecolor\":\"#506784\",\"minorgridcolor\":\"#506784\",\"startlinecolor\":\"#A2B1C6\"},\"baxis\":{\"endlinecolor\":\"#A2B1C6\",\"gridcolor\":\"#506784\",\"linecolor\":\"#506784\",\"minorgridcolor\":\"#506784\",\"startlinecolor\":\"#A2B1C6\"},\"type\":\"carpet\"}],\"choropleth\":[{\"colorbar\":{\"outlinewidth\":0,\"ticks\":\"\"},\"type\":\"choropleth\"}],\"contourcarpet\":[{\"colorbar\":{\"outlinewidth\":0,\"ticks\":\"\"},\"type\":\"contourcarpet\"}],\"contour\":[{\"colorbar\":{\"outlinewidth\":0,\"ticks\":\"\"},\"colorscale\":[[0.0,\"#0d0887\"],[0.1111111111111111,\"#46039f\"],[0.2222222222222222,\"#7201a8\"],[0.3333333333333333,\"#9c179e\"],[0.4444444444444444,\"#bd3786\"],[0.5555555555555556,\"#d8576b\"],[0.6666666666666666,\"#ed7953\"],[0.7777777777777778,\"#fb9f3a\"],[0.8888888888888888,\"#fdca26\"],[1.0,\"#f0f921\"]],\"type\":\"contour\"}],\"heatmapgl\":[{\"colorbar\":{\"outlinewidth\":0,\"ticks\":\"\"},\"colorscale\":[[0.0,\"#0d0887\"],[0.1111111111111111,\"#46039f\"],[0.2222222222222222,\"#7201a8\"],[0.3333333333333333,\"#9c179e\"],[0.4444444444444444,\"#bd3786\"],[0.5555555555555556,\"#d8576b\"],[0.6666666666666666,\"#ed7953\"],[0.7777777777777778,\"#fb9f3a\"],[0.8888888888888888,\"#fdca26\"],[1.0,\"#f0f921\"]],\"type\":\"heatmapgl\"}],\"heatmap\":[{\"colorbar\":{\"outlinewidth\":0,\"ticks\":\"\"},\"colorscale\":[[0.0,\"#0d0887\"],[0.1111111111111111,\"#46039f\"],[0.2222222222222222,\"#7201a8\"],[0.3333333333333333,\"#9c179e\"],[0.4444444444444444,\"#bd3786\"],[0.5555555555555556,\"#d8576b\"],[0.6666666666666666,\"#ed7953\"],[0.7777777777777778,\"#fb9f3a\"],[0.8888888888888888,\"#fdca26\"],[1.0,\"#f0f921\"]],\"type\":\"heatmap\"}],\"histogram2dcontour\":[{\"colorbar\":{\"outlinewidth\":0,\"ticks\":\"\"},\"colorscale\":[[0.0,\"#0d0887\"],[0.1111111111111111,\"#46039f\"],[0.2222222222222222,\"#7201a8\"],[0.3333333333333333,\"#9c179e\"],[0.4444444444444444,\"#bd3786\"],[0.5555555555555556,\"#d8576b\"],[0.6666666666666666,\"#ed7953\"],[0.7777777777777778,\"#fb9f3a\"],[0.8888888888888888,\"#fdca26\"],[1.0,\"#f0f921\"]],\"type\":\"histogram2dcontour\"}],\"histogram2d\":[{\"colorbar\":{\"outlinewidth\":0,\"ticks\":\"\"},\"colorscale\":[[0.0,\"#0d0887\"],[0.1111111111111111,\"#46039f\"],[0.2222222222222222,\"#7201a8\"],[0.3333333333333333,\"#9c179e\"],[0.4444444444444444,\"#bd3786\"],[0.5555555555555556,\"#d8576b\"],[0.6666666666666666,\"#ed7953\"],[0.7777777777777778,\"#fb9f3a\"],[0.8888888888888888,\"#fdca26\"],[1.0,\"#f0f921\"]],\"type\":\"histogram2d\"}],\"histogram\":[{\"marker\":{\"pattern\":{\"fillmode\":\"overlay\",\"size\":10,\"solidity\":0.2}},\"type\":\"histogram\"}],\"mesh3d\":[{\"colorbar\":{\"outlinewidth\":0,\"ticks\":\"\"},\"type\":\"mesh3d\"}],\"parcoords\":[{\"line\":{\"colorbar\":{\"outlinewidth\":0,\"ticks\":\"\"}},\"type\":\"parcoords\"}],\"pie\":[{\"automargin\":true,\"type\":\"pie\"}],\"scatter3d\":[{\"line\":{\"colorbar\":{\"outlinewidth\":0,\"ticks\":\"\"}},\"marker\":{\"colorbar\":{\"outlinewidth\":0,\"ticks\":\"\"}},\"type\":\"scatter3d\"}],\"scattercarpet\":[{\"marker\":{\"colorbar\":{\"outlinewidth\":0,\"ticks\":\"\"}},\"type\":\"scattercarpet\"}],\"scattergeo\":[{\"marker\":{\"colorbar\":{\"outlinewidth\":0,\"ticks\":\"\"}},\"type\":\"scattergeo\"}],\"scattergl\":[{\"marker\":{\"line\":{\"color\":\"#283442\"}},\"type\":\"scattergl\"}],\"scattermapbox\":[{\"marker\":{\"colorbar\":{\"outlinewidth\":0,\"ticks\":\"\"}},\"type\":\"scattermapbox\"}],\"scatterpolargl\":[{\"marker\":{\"colorbar\":{\"outlinewidth\":0,\"ticks\":\"\"}},\"type\":\"scatterpolargl\"}],\"scatterpolar\":[{\"marker\":{\"colorbar\":{\"outlinewidth\":0,\"ticks\":\"\"}},\"type\":\"scatterpolar\"}],\"scatter\":[{\"marker\":{\"line\":{\"color\":\"#283442\"}},\"type\":\"scatter\"}],\"scatterternary\":[{\"marker\":{\"colorbar\":{\"outlinewidth\":0,\"ticks\":\"\"}},\"type\":\"scatterternary\"}],\"surface\":[{\"colorbar\":{\"outlinewidth\":0,\"ticks\":\"\"},\"colorscale\":[[0.0,\"#0d0887\"],[0.1111111111111111,\"#46039f\"],[0.2222222222222222,\"#7201a8\"],[0.3333333333333333,\"#9c179e\"],[0.4444444444444444,\"#bd3786\"],[0.5555555555555556,\"#d8576b\"],[0.6666666666666666,\"#ed7953\"],[0.7777777777777778,\"#fb9f3a\"],[0.8888888888888888,\"#fdca26\"],[1.0,\"#f0f921\"]],\"type\":\"surface\"}],\"table\":[{\"cells\":{\"fill\":{\"color\":\"#506784\"},\"line\":{\"color\":\"rgb(17,17,17)\"}},\"header\":{\"fill\":{\"color\":\"#2a3f5f\"},\"line\":{\"color\":\"rgb(17,17,17)\"}},\"type\":\"table\"}]},\"layout\":{\"annotationdefaults\":{\"arrowcolor\":\"#f2f5fa\",\"arrowhead\":0,\"arrowwidth\":1},\"autotypenumbers\":\"strict\",\"coloraxis\":{\"colorbar\":{\"outlinewidth\":0,\"ticks\":\"\"}},\"colorscale\":{\"diverging\":[[0,\"#8e0152\"],[0.1,\"#c51b7d\"],[0.2,\"#de77ae\"],[0.3,\"#f1b6da\"],[0.4,\"#fde0ef\"],[0.5,\"#f7f7f7\"],[0.6,\"#e6f5d0\"],[0.7,\"#b8e186\"],[0.8,\"#7fbc41\"],[0.9,\"#4d9221\"],[1,\"#276419\"]],\"sequential\":[[0.0,\"#0d0887\"],[0.1111111111111111,\"#46039f\"],[0.2222222222222222,\"#7201a8\"],[0.3333333333333333,\"#9c179e\"],[0.4444444444444444,\"#bd3786\"],[0.5555555555555556,\"#d8576b\"],[0.6666666666666666,\"#ed7953\"],[0.7777777777777778,\"#fb9f3a\"],[0.8888888888888888,\"#fdca26\"],[1.0,\"#f0f921\"]],\"sequentialminus\":[[0.0,\"#0d0887\"],[0.1111111111111111,\"#46039f\"],[0.2222222222222222,\"#7201a8\"],[0.3333333333333333,\"#9c179e\"],[0.4444444444444444,\"#bd3786\"],[0.5555555555555556,\"#d8576b\"],[0.6666666666666666,\"#ed7953\"],[0.7777777777777778,\"#fb9f3a\"],[0.8888888888888888,\"#fdca26\"],[1.0,\"#f0f921\"]]},\"colorway\":[\"#636efa\",\"#EF553B\",\"#00cc96\",\"#ab63fa\",\"#FFA15A\",\"#19d3f3\",\"#FF6692\",\"#B6E880\",\"#FF97FF\",\"#FECB52\"],\"font\":{\"color\":\"#f2f5fa\"},\"geo\":{\"bgcolor\":\"rgb(17,17,17)\",\"lakecolor\":\"rgb(17,17,17)\",\"landcolor\":\"rgb(17,17,17)\",\"showlakes\":true,\"showland\":true,\"subunitcolor\":\"#506784\"},\"hoverlabel\":{\"align\":\"left\"},\"hovermode\":\"closest\",\"mapbox\":{\"style\":\"dark\"},\"paper_bgcolor\":\"rgb(17,17,17)\",\"plot_bgcolor\":\"rgb(17,17,17)\",\"polar\":{\"angularaxis\":{\"gridcolor\":\"#506784\",\"linecolor\":\"#506784\",\"ticks\":\"\"},\"bgcolor\":\"rgb(17,17,17)\",\"radialaxis\":{\"gridcolor\":\"#506784\",\"linecolor\":\"#506784\",\"ticks\":\"\"}},\"scene\":{\"xaxis\":{\"backgroundcolor\":\"rgb(17,17,17)\",\"gridcolor\":\"#506784\",\"gridwidth\":2,\"linecolor\":\"#506784\",\"showbackground\":true,\"ticks\":\"\",\"zerolinecolor\":\"#C8D4E3\"},\"yaxis\":{\"backgroundcolor\":\"rgb(17,17,17)\",\"gridcolor\":\"#506784\",\"gridwidth\":2,\"linecolor\":\"#506784\",\"showbackground\":true,\"ticks\":\"\",\"zerolinecolor\":\"#C8D4E3\"},\"zaxis\":{\"backgroundcolor\":\"rgb(17,17,17)\",\"gridcolor\":\"#506784\",\"gridwidth\":2,\"linecolor\":\"#506784\",\"showbackground\":true,\"ticks\":\"\",\"zerolinecolor\":\"#C8D4E3\"}},\"shapedefaults\":{\"line\":{\"color\":\"#f2f5fa\"}},\"sliderdefaults\":{\"bgcolor\":\"#C8D4E3\",\"bordercolor\":\"rgb(17,17,17)\",\"borderwidth\":1,\"tickwidth\":0},\"ternary\":{\"aaxis\":{\"gridcolor\":\"#506784\",\"linecolor\":\"#506784\",\"ticks\":\"\"},\"baxis\":{\"gridcolor\":\"#506784\",\"linecolor\":\"#506784\",\"ticks\":\"\"},\"bgcolor\":\"rgb(17,17,17)\",\"caxis\":{\"gridcolor\":\"#506784\",\"linecolor\":\"#506784\",\"ticks\":\"\"}},\"title\":{\"x\":0.05},\"updatemenudefaults\":{\"bgcolor\":\"#506784\",\"borderwidth\":0},\"xaxis\":{\"automargin\":true,\"gridcolor\":\"#283442\",\"linecolor\":\"#506784\",\"ticks\":\"\",\"title\":{\"standoff\":15},\"zerolinecolor\":\"#283442\",\"zerolinewidth\":2},\"yaxis\":{\"automargin\":true,\"gridcolor\":\"#283442\",\"linecolor\":\"#506784\",\"ticks\":\"\",\"title\":{\"standoff\":15},\"zerolinecolor\":\"#283442\",\"zerolinewidth\":2}}},\"font\":{\"size\":17,\"family\":\"Franklin Gothic\"},\"title\":{\"text\":\"Salary Distribution by Work Year\",\"x\":0.5}},                        {\"responsive\": true}                    ).then(function(){\n",
              "                            \n",
              "var gd = document.getElementById('2dbc9a35-3874-4ecd-b8e0-32ae19cf6ce4');\n",
              "var x = new MutationObserver(function (mutations, observer) {{\n",
              "        var display = window.getComputedStyle(gd).display;\n",
              "        if (!display || display === 'none') {{\n",
              "            console.log([gd, 'removed!']);\n",
              "            Plotly.purge(gd);\n",
              "            observer.disconnect();\n",
              "        }}\n",
              "}});\n",
              "\n",
              "// Listen for the removal of the full notebook cells\n",
              "var notebookContainer = gd.closest('#notebook-container');\n",
              "if (notebookContainer) {{\n",
              "    x.observe(notebookContainer, {childList: true});\n",
              "}}\n",
              "\n",
              "// Listen for the clearing of the current output cell\n",
              "var outputEl = gd.closest('.output');\n",
              "if (outputEl) {{\n",
              "    x.observe(outputEl, {childList: true});\n",
              "}}\n",
              "\n",
              "                        })                };                });            </script>        </div>"
            ]
          },
          "metadata": {}
        },
        {
          "output_type": "display_data",
          "data": {
            "application/vnd.plotly.v1+json": {
              "data": [
                {
                  "alignmentgroup": "True",
                  "hovertemplate": "color=2020<br>x=%{x}<br>y=%{y}<br>text=%{text}<extra></extra>",
                  "legendgroup": "2020",
                  "marker": {
                    "color": "white",
                    "pattern": {
                      "shape": ""
                    }
                  },
                  "name": "2020",
                  "offsetgroup": "2020",
                  "orientation": "v",
                  "showlegend": true,
                  "text": [
                    95.81
                  ],
                  "textposition": "auto",
                  "x": [
                    "2020"
                  ],
                  "xaxis": "x",
                  "y": [
                    95813
                  ],
                  "yaxis": "y",
                  "type": "bar",
                  "width": 0.3
                },
                {
                  "alignmentgroup": "True",
                  "hovertemplate": "color=2021<br>x=%{x}<br>y=%{y}<br>text=%{text}<extra></extra>",
                  "legendgroup": "2021",
                  "marker": {
                    "color": "red",
                    "pattern": {
                      "shape": ""
                    }
                  },
                  "name": "2021",
                  "offsetgroup": "2021",
                  "orientation": "v",
                  "showlegend": true,
                  "text": [
                    99.85
                  ],
                  "textposition": "auto",
                  "x": [
                    "2021"
                  ],
                  "xaxis": "x",
                  "y": [
                    99853.79262672811
                  ],
                  "yaxis": "y",
                  "type": "bar",
                  "width": 0.3
                },
                {
                  "alignmentgroup": "True",
                  "hovertemplate": "color=2022<br>x=%{x}<br>y=%{y}<br>text=%{text}<extra></extra>",
                  "legendgroup": "2022",
                  "marker": {
                    "color": "blue",
                    "pattern": {
                      "shape": ""
                    }
                  },
                  "name": "2022",
                  "offsetgroup": "2022",
                  "orientation": "v",
                  "showlegend": true,
                  "text": [
                    124.52
                  ],
                  "textposition": "auto",
                  "x": [
                    "2022"
                  ],
                  "xaxis": "x",
                  "y": [
                    124522.00628930818
                  ],
                  "yaxis": "y",
                  "type": "bar",
                  "width": 0.3
                }
              ],
              "layout": {
                "barmode": "relative",
                "height": 500,
                "legend": {
                  "title": {
                    "text": "color"
                  },
                  "tracegroupgap": 0
                },
                "template": {
                  "data": {
                    "barpolar": [
                      {
                        "marker": {
                          "line": {
                            "color": "rgb(17,17,17)",
                            "width": 0.5
                          },
                          "pattern": {
                            "fillmode": "overlay",
                            "size": 10,
                            "solidity": 0.2
                          }
                        },
                        "type": "barpolar"
                      }
                    ],
                    "bar": [
                      {
                        "error_x": {
                          "color": "#f2f5fa"
                        },
                        "error_y": {
                          "color": "#f2f5fa"
                        },
                        "marker": {
                          "line": {
                            "color": "rgb(17,17,17)",
                            "width": 0.5
                          },
                          "pattern": {
                            "fillmode": "overlay",
                            "size": 10,
                            "solidity": 0.2
                          }
                        },
                        "type": "bar"
                      }
                    ],
                    "carpet": [
                      {
                        "aaxis": {
                          "endlinecolor": "#A2B1C6",
                          "gridcolor": "#506784",
                          "linecolor": "#506784",
                          "minorgridcolor": "#506784",
                          "startlinecolor": "#A2B1C6"
                        },
                        "baxis": {
                          "endlinecolor": "#A2B1C6",
                          "gridcolor": "#506784",
                          "linecolor": "#506784",
                          "minorgridcolor": "#506784",
                          "startlinecolor": "#A2B1C6"
                        },
                        "type": "carpet"
                      }
                    ],
                    "choropleth": [
                      {
                        "colorbar": {
                          "outlinewidth": 0,
                          "ticks": ""
                        },
                        "type": "choropleth"
                      }
                    ],
                    "contourcarpet": [
                      {
                        "colorbar": {
                          "outlinewidth": 0,
                          "ticks": ""
                        },
                        "type": "contourcarpet"
                      }
                    ],
                    "contour": [
                      {
                        "colorbar": {
                          "outlinewidth": 0,
                          "ticks": ""
                        },
                        "colorscale": [
                          [
                            0,
                            "#0d0887"
                          ],
                          [
                            0.1111111111111111,
                            "#46039f"
                          ],
                          [
                            0.2222222222222222,
                            "#7201a8"
                          ],
                          [
                            0.3333333333333333,
                            "#9c179e"
                          ],
                          [
                            0.4444444444444444,
                            "#bd3786"
                          ],
                          [
                            0.5555555555555556,
                            "#d8576b"
                          ],
                          [
                            0.6666666666666666,
                            "#ed7953"
                          ],
                          [
                            0.7777777777777778,
                            "#fb9f3a"
                          ],
                          [
                            0.8888888888888888,
                            "#fdca26"
                          ],
                          [
                            1,
                            "#f0f921"
                          ]
                        ],
                        "type": "contour"
                      }
                    ],
                    "heatmapgl": [
                      {
                        "colorbar": {
                          "outlinewidth": 0,
                          "ticks": ""
                        },
                        "colorscale": [
                          [
                            0,
                            "#0d0887"
                          ],
                          [
                            0.1111111111111111,
                            "#46039f"
                          ],
                          [
                            0.2222222222222222,
                            "#7201a8"
                          ],
                          [
                            0.3333333333333333,
                            "#9c179e"
                          ],
                          [
                            0.4444444444444444,
                            "#bd3786"
                          ],
                          [
                            0.5555555555555556,
                            "#d8576b"
                          ],
                          [
                            0.6666666666666666,
                            "#ed7953"
                          ],
                          [
                            0.7777777777777778,
                            "#fb9f3a"
                          ],
                          [
                            0.8888888888888888,
                            "#fdca26"
                          ],
                          [
                            1,
                            "#f0f921"
                          ]
                        ],
                        "type": "heatmapgl"
                      }
                    ],
                    "heatmap": [
                      {
                        "colorbar": {
                          "outlinewidth": 0,
                          "ticks": ""
                        },
                        "colorscale": [
                          [
                            0,
                            "#0d0887"
                          ],
                          [
                            0.1111111111111111,
                            "#46039f"
                          ],
                          [
                            0.2222222222222222,
                            "#7201a8"
                          ],
                          [
                            0.3333333333333333,
                            "#9c179e"
                          ],
                          [
                            0.4444444444444444,
                            "#bd3786"
                          ],
                          [
                            0.5555555555555556,
                            "#d8576b"
                          ],
                          [
                            0.6666666666666666,
                            "#ed7953"
                          ],
                          [
                            0.7777777777777778,
                            "#fb9f3a"
                          ],
                          [
                            0.8888888888888888,
                            "#fdca26"
                          ],
                          [
                            1,
                            "#f0f921"
                          ]
                        ],
                        "type": "heatmap"
                      }
                    ],
                    "histogram2dcontour": [
                      {
                        "colorbar": {
                          "outlinewidth": 0,
                          "ticks": ""
                        },
                        "colorscale": [
                          [
                            0,
                            "#0d0887"
                          ],
                          [
                            0.1111111111111111,
                            "#46039f"
                          ],
                          [
                            0.2222222222222222,
                            "#7201a8"
                          ],
                          [
                            0.3333333333333333,
                            "#9c179e"
                          ],
                          [
                            0.4444444444444444,
                            "#bd3786"
                          ],
                          [
                            0.5555555555555556,
                            "#d8576b"
                          ],
                          [
                            0.6666666666666666,
                            "#ed7953"
                          ],
                          [
                            0.7777777777777778,
                            "#fb9f3a"
                          ],
                          [
                            0.8888888888888888,
                            "#fdca26"
                          ],
                          [
                            1,
                            "#f0f921"
                          ]
                        ],
                        "type": "histogram2dcontour"
                      }
                    ],
                    "histogram2d": [
                      {
                        "colorbar": {
                          "outlinewidth": 0,
                          "ticks": ""
                        },
                        "colorscale": [
                          [
                            0,
                            "#0d0887"
                          ],
                          [
                            0.1111111111111111,
                            "#46039f"
                          ],
                          [
                            0.2222222222222222,
                            "#7201a8"
                          ],
                          [
                            0.3333333333333333,
                            "#9c179e"
                          ],
                          [
                            0.4444444444444444,
                            "#bd3786"
                          ],
                          [
                            0.5555555555555556,
                            "#d8576b"
                          ],
                          [
                            0.6666666666666666,
                            "#ed7953"
                          ],
                          [
                            0.7777777777777778,
                            "#fb9f3a"
                          ],
                          [
                            0.8888888888888888,
                            "#fdca26"
                          ],
                          [
                            1,
                            "#f0f921"
                          ]
                        ],
                        "type": "histogram2d"
                      }
                    ],
                    "histogram": [
                      {
                        "marker": {
                          "pattern": {
                            "fillmode": "overlay",
                            "size": 10,
                            "solidity": 0.2
                          }
                        },
                        "type": "histogram"
                      }
                    ],
                    "mesh3d": [
                      {
                        "colorbar": {
                          "outlinewidth": 0,
                          "ticks": ""
                        },
                        "type": "mesh3d"
                      }
                    ],
                    "parcoords": [
                      {
                        "line": {
                          "colorbar": {
                            "outlinewidth": 0,
                            "ticks": ""
                          }
                        },
                        "type": "parcoords"
                      }
                    ],
                    "pie": [
                      {
                        "automargin": true,
                        "type": "pie"
                      }
                    ],
                    "scatter3d": [
                      {
                        "line": {
                          "colorbar": {
                            "outlinewidth": 0,
                            "ticks": ""
                          }
                        },
                        "marker": {
                          "colorbar": {
                            "outlinewidth": 0,
                            "ticks": ""
                          }
                        },
                        "type": "scatter3d"
                      }
                    ],
                    "scattercarpet": [
                      {
                        "marker": {
                          "colorbar": {
                            "outlinewidth": 0,
                            "ticks": ""
                          }
                        },
                        "type": "scattercarpet"
                      }
                    ],
                    "scattergeo": [
                      {
                        "marker": {
                          "colorbar": {
                            "outlinewidth": 0,
                            "ticks": ""
                          }
                        },
                        "type": "scattergeo"
                      }
                    ],
                    "scattergl": [
                      {
                        "marker": {
                          "line": {
                            "color": "#283442"
                          }
                        },
                        "type": "scattergl"
                      }
                    ],
                    "scattermapbox": [
                      {
                        "marker": {
                          "colorbar": {
                            "outlinewidth": 0,
                            "ticks": ""
                          }
                        },
                        "type": "scattermapbox"
                      }
                    ],
                    "scatterpolargl": [
                      {
                        "marker": {
                          "colorbar": {
                            "outlinewidth": 0,
                            "ticks": ""
                          }
                        },
                        "type": "scatterpolargl"
                      }
                    ],
                    "scatterpolar": [
                      {
                        "marker": {
                          "colorbar": {
                            "outlinewidth": 0,
                            "ticks": ""
                          }
                        },
                        "type": "scatterpolar"
                      }
                    ],
                    "scatter": [
                      {
                        "marker": {
                          "line": {
                            "color": "#283442"
                          }
                        },
                        "type": "scatter"
                      }
                    ],
                    "scatterternary": [
                      {
                        "marker": {
                          "colorbar": {
                            "outlinewidth": 0,
                            "ticks": ""
                          }
                        },
                        "type": "scatterternary"
                      }
                    ],
                    "surface": [
                      {
                        "colorbar": {
                          "outlinewidth": 0,
                          "ticks": ""
                        },
                        "colorscale": [
                          [
                            0,
                            "#0d0887"
                          ],
                          [
                            0.1111111111111111,
                            "#46039f"
                          ],
                          [
                            0.2222222222222222,
                            "#7201a8"
                          ],
                          [
                            0.3333333333333333,
                            "#9c179e"
                          ],
                          [
                            0.4444444444444444,
                            "#bd3786"
                          ],
                          [
                            0.5555555555555556,
                            "#d8576b"
                          ],
                          [
                            0.6666666666666666,
                            "#ed7953"
                          ],
                          [
                            0.7777777777777778,
                            "#fb9f3a"
                          ],
                          [
                            0.8888888888888888,
                            "#fdca26"
                          ],
                          [
                            1,
                            "#f0f921"
                          ]
                        ],
                        "type": "surface"
                      }
                    ],
                    "table": [
                      {
                        "cells": {
                          "fill": {
                            "color": "#506784"
                          },
                          "line": {
                            "color": "rgb(17,17,17)"
                          }
                        },
                        "header": {
                          "fill": {
                            "color": "#2a3f5f"
                          },
                          "line": {
                            "color": "rgb(17,17,17)"
                          }
                        },
                        "type": "table"
                      }
                    ]
                  },
                  "layout": {
                    "annotationdefaults": {
                      "arrowcolor": "#f2f5fa",
                      "arrowhead": 0,
                      "arrowwidth": 1
                    },
                    "autotypenumbers": "strict",
                    "coloraxis": {
                      "colorbar": {
                        "outlinewidth": 0,
                        "ticks": ""
                      }
                    },
                    "colorscale": {
                      "diverging": [
                        [
                          0,
                          "#8e0152"
                        ],
                        [
                          0.1,
                          "#c51b7d"
                        ],
                        [
                          0.2,
                          "#de77ae"
                        ],
                        [
                          0.3,
                          "#f1b6da"
                        ],
                        [
                          0.4,
                          "#fde0ef"
                        ],
                        [
                          0.5,
                          "#f7f7f7"
                        ],
                        [
                          0.6,
                          "#e6f5d0"
                        ],
                        [
                          0.7,
                          "#b8e186"
                        ],
                        [
                          0.8,
                          "#7fbc41"
                        ],
                        [
                          0.9,
                          "#4d9221"
                        ],
                        [
                          1,
                          "#276419"
                        ]
                      ],
                      "sequential": [
                        [
                          0,
                          "#0d0887"
                        ],
                        [
                          0.1111111111111111,
                          "#46039f"
                        ],
                        [
                          0.2222222222222222,
                          "#7201a8"
                        ],
                        [
                          0.3333333333333333,
                          "#9c179e"
                        ],
                        [
                          0.4444444444444444,
                          "#bd3786"
                        ],
                        [
                          0.5555555555555556,
                          "#d8576b"
                        ],
                        [
                          0.6666666666666666,
                          "#ed7953"
                        ],
                        [
                          0.7777777777777778,
                          "#fb9f3a"
                        ],
                        [
                          0.8888888888888888,
                          "#fdca26"
                        ],
                        [
                          1,
                          "#f0f921"
                        ]
                      ],
                      "sequentialminus": [
                        [
                          0,
                          "#0d0887"
                        ],
                        [
                          0.1111111111111111,
                          "#46039f"
                        ],
                        [
                          0.2222222222222222,
                          "#7201a8"
                        ],
                        [
                          0.3333333333333333,
                          "#9c179e"
                        ],
                        [
                          0.4444444444444444,
                          "#bd3786"
                        ],
                        [
                          0.5555555555555556,
                          "#d8576b"
                        ],
                        [
                          0.6666666666666666,
                          "#ed7953"
                        ],
                        [
                          0.7777777777777778,
                          "#fb9f3a"
                        ],
                        [
                          0.8888888888888888,
                          "#fdca26"
                        ],
                        [
                          1,
                          "#f0f921"
                        ]
                      ]
                    },
                    "colorway": [
                      "#636efa",
                      "#EF553B",
                      "#00cc96",
                      "#ab63fa",
                      "#FFA15A",
                      "#19d3f3",
                      "#FF6692",
                      "#B6E880",
                      "#FF97FF",
                      "#FECB52"
                    ],
                    "font": {
                      "color": "#f2f5fa"
                    },
                    "geo": {
                      "bgcolor": "rgb(17,17,17)",
                      "lakecolor": "rgb(17,17,17)",
                      "landcolor": "rgb(17,17,17)",
                      "showlakes": true,
                      "showland": true,
                      "subunitcolor": "#506784"
                    },
                    "hoverlabel": {
                      "align": "left"
                    },
                    "hovermode": "closest",
                    "mapbox": {
                      "style": "dark"
                    },
                    "paper_bgcolor": "rgb(17,17,17)",
                    "plot_bgcolor": "rgb(17,17,17)",
                    "polar": {
                      "angularaxis": {
                        "gridcolor": "#506784",
                        "linecolor": "#506784",
                        "ticks": ""
                      },
                      "bgcolor": "rgb(17,17,17)",
                      "radialaxis": {
                        "gridcolor": "#506784",
                        "linecolor": "#506784",
                        "ticks": ""
                      }
                    },
                    "scene": {
                      "xaxis": {
                        "backgroundcolor": "rgb(17,17,17)",
                        "gridcolor": "#506784",
                        "gridwidth": 2,
                        "linecolor": "#506784",
                        "showbackground": true,
                        "ticks": "",
                        "zerolinecolor": "#C8D4E3"
                      },
                      "yaxis": {
                        "backgroundcolor": "rgb(17,17,17)",
                        "gridcolor": "#506784",
                        "gridwidth": 2,
                        "linecolor": "#506784",
                        "showbackground": true,
                        "ticks": "",
                        "zerolinecolor": "#C8D4E3"
                      },
                      "zaxis": {
                        "backgroundcolor": "rgb(17,17,17)",
                        "gridcolor": "#506784",
                        "gridwidth": 2,
                        "linecolor": "#506784",
                        "showbackground": true,
                        "ticks": "",
                        "zerolinecolor": "#C8D4E3"
                      }
                    },
                    "shapedefaults": {
                      "line": {
                        "color": "#f2f5fa"
                      }
                    },
                    "sliderdefaults": {
                      "bgcolor": "#C8D4E3",
                      "bordercolor": "rgb(17,17,17)",
                      "borderwidth": 1,
                      "tickwidth": 0
                    },
                    "ternary": {
                      "aaxis": {
                        "gridcolor": "#506784",
                        "linecolor": "#506784",
                        "ticks": ""
                      },
                      "baxis": {
                        "gridcolor": "#506784",
                        "linecolor": "#506784",
                        "ticks": ""
                      },
                      "bgcolor": "rgb(17,17,17)",
                      "caxis": {
                        "gridcolor": "#506784",
                        "linecolor": "#506784",
                        "ticks": ""
                      }
                    },
                    "title": {
                      "x": 0.05
                    },
                    "updatemenudefaults": {
                      "bgcolor": "#506784",
                      "borderwidth": 0
                    },
                    "xaxis": {
                      "automargin": true,
                      "gridcolor": "#283442",
                      "linecolor": "#506784",
                      "ticks": "",
                      "title": {
                        "standoff": 15
                      },
                      "zerolinecolor": "#283442",
                      "zerolinewidth": 2
                    },
                    "yaxis": {
                      "automargin": true,
                      "gridcolor": "#283442",
                      "linecolor": "#506784",
                      "ticks": "",
                      "title": {
                        "standoff": 15
                      },
                      "zerolinecolor": "#283442",
                      "zerolinewidth": 2
                    }
                  }
                },
                "title": {
                  "text": "Mean Salary by Work Year",
                  "x": 0.5
                },
                "xaxis": {
                  "anchor": "y",
                  "domain": [
                    0,
                    1
                  ],
                  "title": {
                    "text": "Work Year"
                  }
                },
                "yaxis": {
                  "anchor": "x",
                  "domain": [
                    0,
                    1
                  ],
                  "title": {
                    "text": "Mean Salary (k)"
                  }
                },
                "font": {
                  "size": 17,
                  "family": "Franklin Gothic"
                }
              },
              "config": {
                "plotlyServerURL": "https://plot.ly"
              }
            },
            "text/html": [
              "<div>                            <div id=\"a6de36d7-1a0d-409d-ba59-80526a276c2a\" class=\"plotly-graph-div\" style=\"height:500px; width:100%;\"></div>            <script type=\"text/javascript\">                require([\"plotly\"], function(Plotly) {                    window.PLOTLYENV=window.PLOTLYENV || {};                                    if (document.getElementById(\"a6de36d7-1a0d-409d-ba59-80526a276c2a\")) {                    Plotly.newPlot(                        \"a6de36d7-1a0d-409d-ba59-80526a276c2a\",                        [{\"alignmentgroup\":\"True\",\"hovertemplate\":\"color=2020<br>x=%{x}<br>y=%{y}<br>text=%{text}<extra></extra>\",\"legendgroup\":\"2020\",\"marker\":{\"color\":\"white\",\"pattern\":{\"shape\":\"\"}},\"name\":\"2020\",\"offsetgroup\":\"2020\",\"orientation\":\"v\",\"showlegend\":true,\"text\":[95.81],\"textposition\":\"auto\",\"x\":[\"2020\"],\"xaxis\":\"x\",\"y\":[95813.0],\"yaxis\":\"y\",\"type\":\"bar\",\"width\":0.3},{\"alignmentgroup\":\"True\",\"hovertemplate\":\"color=2021<br>x=%{x}<br>y=%{y}<br>text=%{text}<extra></extra>\",\"legendgroup\":\"2021\",\"marker\":{\"color\":\"red\",\"pattern\":{\"shape\":\"\"}},\"name\":\"2021\",\"offsetgroup\":\"2021\",\"orientation\":\"v\",\"showlegend\":true,\"text\":[99.85],\"textposition\":\"auto\",\"x\":[\"2021\"],\"xaxis\":\"x\",\"y\":[99853.79262672811],\"yaxis\":\"y\",\"type\":\"bar\",\"width\":0.3},{\"alignmentgroup\":\"True\",\"hovertemplate\":\"color=2022<br>x=%{x}<br>y=%{y}<br>text=%{text}<extra></extra>\",\"legendgroup\":\"2022\",\"marker\":{\"color\":\"blue\",\"pattern\":{\"shape\":\"\"}},\"name\":\"2022\",\"offsetgroup\":\"2022\",\"orientation\":\"v\",\"showlegend\":true,\"text\":[124.52],\"textposition\":\"auto\",\"x\":[\"2022\"],\"xaxis\":\"x\",\"y\":[124522.00628930818],\"yaxis\":\"y\",\"type\":\"bar\",\"width\":0.3}],                        {\"barmode\":\"relative\",\"height\":500,\"legend\":{\"title\":{\"text\":\"color\"},\"tracegroupgap\":0},\"template\":{\"data\":{\"barpolar\":[{\"marker\":{\"line\":{\"color\":\"rgb(17,17,17)\",\"width\":0.5},\"pattern\":{\"fillmode\":\"overlay\",\"size\":10,\"solidity\":0.2}},\"type\":\"barpolar\"}],\"bar\":[{\"error_x\":{\"color\":\"#f2f5fa\"},\"error_y\":{\"color\":\"#f2f5fa\"},\"marker\":{\"line\":{\"color\":\"rgb(17,17,17)\",\"width\":0.5},\"pattern\":{\"fillmode\":\"overlay\",\"size\":10,\"solidity\":0.2}},\"type\":\"bar\"}],\"carpet\":[{\"aaxis\":{\"endlinecolor\":\"#A2B1C6\",\"gridcolor\":\"#506784\",\"linecolor\":\"#506784\",\"minorgridcolor\":\"#506784\",\"startlinecolor\":\"#A2B1C6\"},\"baxis\":{\"endlinecolor\":\"#A2B1C6\",\"gridcolor\":\"#506784\",\"linecolor\":\"#506784\",\"minorgridcolor\":\"#506784\",\"startlinecolor\":\"#A2B1C6\"},\"type\":\"carpet\"}],\"choropleth\":[{\"colorbar\":{\"outlinewidth\":0,\"ticks\":\"\"},\"type\":\"choropleth\"}],\"contourcarpet\":[{\"colorbar\":{\"outlinewidth\":0,\"ticks\":\"\"},\"type\":\"contourcarpet\"}],\"contour\":[{\"colorbar\":{\"outlinewidth\":0,\"ticks\":\"\"},\"colorscale\":[[0.0,\"#0d0887\"],[0.1111111111111111,\"#46039f\"],[0.2222222222222222,\"#7201a8\"],[0.3333333333333333,\"#9c179e\"],[0.4444444444444444,\"#bd3786\"],[0.5555555555555556,\"#d8576b\"],[0.6666666666666666,\"#ed7953\"],[0.7777777777777778,\"#fb9f3a\"],[0.8888888888888888,\"#fdca26\"],[1.0,\"#f0f921\"]],\"type\":\"contour\"}],\"heatmapgl\":[{\"colorbar\":{\"outlinewidth\":0,\"ticks\":\"\"},\"colorscale\":[[0.0,\"#0d0887\"],[0.1111111111111111,\"#46039f\"],[0.2222222222222222,\"#7201a8\"],[0.3333333333333333,\"#9c179e\"],[0.4444444444444444,\"#bd3786\"],[0.5555555555555556,\"#d8576b\"],[0.6666666666666666,\"#ed7953\"],[0.7777777777777778,\"#fb9f3a\"],[0.8888888888888888,\"#fdca26\"],[1.0,\"#f0f921\"]],\"type\":\"heatmapgl\"}],\"heatmap\":[{\"colorbar\":{\"outlinewidth\":0,\"ticks\":\"\"},\"colorscale\":[[0.0,\"#0d0887\"],[0.1111111111111111,\"#46039f\"],[0.2222222222222222,\"#7201a8\"],[0.3333333333333333,\"#9c179e\"],[0.4444444444444444,\"#bd3786\"],[0.5555555555555556,\"#d8576b\"],[0.6666666666666666,\"#ed7953\"],[0.7777777777777778,\"#fb9f3a\"],[0.8888888888888888,\"#fdca26\"],[1.0,\"#f0f921\"]],\"type\":\"heatmap\"}],\"histogram2dcontour\":[{\"colorbar\":{\"outlinewidth\":0,\"ticks\":\"\"},\"colorscale\":[[0.0,\"#0d0887\"],[0.1111111111111111,\"#46039f\"],[0.2222222222222222,\"#7201a8\"],[0.3333333333333333,\"#9c179e\"],[0.4444444444444444,\"#bd3786\"],[0.5555555555555556,\"#d8576b\"],[0.6666666666666666,\"#ed7953\"],[0.7777777777777778,\"#fb9f3a\"],[0.8888888888888888,\"#fdca26\"],[1.0,\"#f0f921\"]],\"type\":\"histogram2dcontour\"}],\"histogram2d\":[{\"colorbar\":{\"outlinewidth\":0,\"ticks\":\"\"},\"colorscale\":[[0.0,\"#0d0887\"],[0.1111111111111111,\"#46039f\"],[0.2222222222222222,\"#7201a8\"],[0.3333333333333333,\"#9c179e\"],[0.4444444444444444,\"#bd3786\"],[0.5555555555555556,\"#d8576b\"],[0.6666666666666666,\"#ed7953\"],[0.7777777777777778,\"#fb9f3a\"],[0.8888888888888888,\"#fdca26\"],[1.0,\"#f0f921\"]],\"type\":\"histogram2d\"}],\"histogram\":[{\"marker\":{\"pattern\":{\"fillmode\":\"overlay\",\"size\":10,\"solidity\":0.2}},\"type\":\"histogram\"}],\"mesh3d\":[{\"colorbar\":{\"outlinewidth\":0,\"ticks\":\"\"},\"type\":\"mesh3d\"}],\"parcoords\":[{\"line\":{\"colorbar\":{\"outlinewidth\":0,\"ticks\":\"\"}},\"type\":\"parcoords\"}],\"pie\":[{\"automargin\":true,\"type\":\"pie\"}],\"scatter3d\":[{\"line\":{\"colorbar\":{\"outlinewidth\":0,\"ticks\":\"\"}},\"marker\":{\"colorbar\":{\"outlinewidth\":0,\"ticks\":\"\"}},\"type\":\"scatter3d\"}],\"scattercarpet\":[{\"marker\":{\"colorbar\":{\"outlinewidth\":0,\"ticks\":\"\"}},\"type\":\"scattercarpet\"}],\"scattergeo\":[{\"marker\":{\"colorbar\":{\"outlinewidth\":0,\"ticks\":\"\"}},\"type\":\"scattergeo\"}],\"scattergl\":[{\"marker\":{\"line\":{\"color\":\"#283442\"}},\"type\":\"scattergl\"}],\"scattermapbox\":[{\"marker\":{\"colorbar\":{\"outlinewidth\":0,\"ticks\":\"\"}},\"type\":\"scattermapbox\"}],\"scatterpolargl\":[{\"marker\":{\"colorbar\":{\"outlinewidth\":0,\"ticks\":\"\"}},\"type\":\"scatterpolargl\"}],\"scatterpolar\":[{\"marker\":{\"colorbar\":{\"outlinewidth\":0,\"ticks\":\"\"}},\"type\":\"scatterpolar\"}],\"scatter\":[{\"marker\":{\"line\":{\"color\":\"#283442\"}},\"type\":\"scatter\"}],\"scatterternary\":[{\"marker\":{\"colorbar\":{\"outlinewidth\":0,\"ticks\":\"\"}},\"type\":\"scatterternary\"}],\"surface\":[{\"colorbar\":{\"outlinewidth\":0,\"ticks\":\"\"},\"colorscale\":[[0.0,\"#0d0887\"],[0.1111111111111111,\"#46039f\"],[0.2222222222222222,\"#7201a8\"],[0.3333333333333333,\"#9c179e\"],[0.4444444444444444,\"#bd3786\"],[0.5555555555555556,\"#d8576b\"],[0.6666666666666666,\"#ed7953\"],[0.7777777777777778,\"#fb9f3a\"],[0.8888888888888888,\"#fdca26\"],[1.0,\"#f0f921\"]],\"type\":\"surface\"}],\"table\":[{\"cells\":{\"fill\":{\"color\":\"#506784\"},\"line\":{\"color\":\"rgb(17,17,17)\"}},\"header\":{\"fill\":{\"color\":\"#2a3f5f\"},\"line\":{\"color\":\"rgb(17,17,17)\"}},\"type\":\"table\"}]},\"layout\":{\"annotationdefaults\":{\"arrowcolor\":\"#f2f5fa\",\"arrowhead\":0,\"arrowwidth\":1},\"autotypenumbers\":\"strict\",\"coloraxis\":{\"colorbar\":{\"outlinewidth\":0,\"ticks\":\"\"}},\"colorscale\":{\"diverging\":[[0,\"#8e0152\"],[0.1,\"#c51b7d\"],[0.2,\"#de77ae\"],[0.3,\"#f1b6da\"],[0.4,\"#fde0ef\"],[0.5,\"#f7f7f7\"],[0.6,\"#e6f5d0\"],[0.7,\"#b8e186\"],[0.8,\"#7fbc41\"],[0.9,\"#4d9221\"],[1,\"#276419\"]],\"sequential\":[[0.0,\"#0d0887\"],[0.1111111111111111,\"#46039f\"],[0.2222222222222222,\"#7201a8\"],[0.3333333333333333,\"#9c179e\"],[0.4444444444444444,\"#bd3786\"],[0.5555555555555556,\"#d8576b\"],[0.6666666666666666,\"#ed7953\"],[0.7777777777777778,\"#fb9f3a\"],[0.8888888888888888,\"#fdca26\"],[1.0,\"#f0f921\"]],\"sequentialminus\":[[0.0,\"#0d0887\"],[0.1111111111111111,\"#46039f\"],[0.2222222222222222,\"#7201a8\"],[0.3333333333333333,\"#9c179e\"],[0.4444444444444444,\"#bd3786\"],[0.5555555555555556,\"#d8576b\"],[0.6666666666666666,\"#ed7953\"],[0.7777777777777778,\"#fb9f3a\"],[0.8888888888888888,\"#fdca26\"],[1.0,\"#f0f921\"]]},\"colorway\":[\"#636efa\",\"#EF553B\",\"#00cc96\",\"#ab63fa\",\"#FFA15A\",\"#19d3f3\",\"#FF6692\",\"#B6E880\",\"#FF97FF\",\"#FECB52\"],\"font\":{\"color\":\"#f2f5fa\"},\"geo\":{\"bgcolor\":\"rgb(17,17,17)\",\"lakecolor\":\"rgb(17,17,17)\",\"landcolor\":\"rgb(17,17,17)\",\"showlakes\":true,\"showland\":true,\"subunitcolor\":\"#506784\"},\"hoverlabel\":{\"align\":\"left\"},\"hovermode\":\"closest\",\"mapbox\":{\"style\":\"dark\"},\"paper_bgcolor\":\"rgb(17,17,17)\",\"plot_bgcolor\":\"rgb(17,17,17)\",\"polar\":{\"angularaxis\":{\"gridcolor\":\"#506784\",\"linecolor\":\"#506784\",\"ticks\":\"\"},\"bgcolor\":\"rgb(17,17,17)\",\"radialaxis\":{\"gridcolor\":\"#506784\",\"linecolor\":\"#506784\",\"ticks\":\"\"}},\"scene\":{\"xaxis\":{\"backgroundcolor\":\"rgb(17,17,17)\",\"gridcolor\":\"#506784\",\"gridwidth\":2,\"linecolor\":\"#506784\",\"showbackground\":true,\"ticks\":\"\",\"zerolinecolor\":\"#C8D4E3\"},\"yaxis\":{\"backgroundcolor\":\"rgb(17,17,17)\",\"gridcolor\":\"#506784\",\"gridwidth\":2,\"linecolor\":\"#506784\",\"showbackground\":true,\"ticks\":\"\",\"zerolinecolor\":\"#C8D4E3\"},\"zaxis\":{\"backgroundcolor\":\"rgb(17,17,17)\",\"gridcolor\":\"#506784\",\"gridwidth\":2,\"linecolor\":\"#506784\",\"showbackground\":true,\"ticks\":\"\",\"zerolinecolor\":\"#C8D4E3\"}},\"shapedefaults\":{\"line\":{\"color\":\"#f2f5fa\"}},\"sliderdefaults\":{\"bgcolor\":\"#C8D4E3\",\"bordercolor\":\"rgb(17,17,17)\",\"borderwidth\":1,\"tickwidth\":0},\"ternary\":{\"aaxis\":{\"gridcolor\":\"#506784\",\"linecolor\":\"#506784\",\"ticks\":\"\"},\"baxis\":{\"gridcolor\":\"#506784\",\"linecolor\":\"#506784\",\"ticks\":\"\"},\"bgcolor\":\"rgb(17,17,17)\",\"caxis\":{\"gridcolor\":\"#506784\",\"linecolor\":\"#506784\",\"ticks\":\"\"}},\"title\":{\"x\":0.05},\"updatemenudefaults\":{\"bgcolor\":\"#506784\",\"borderwidth\":0},\"xaxis\":{\"automargin\":true,\"gridcolor\":\"#283442\",\"linecolor\":\"#506784\",\"ticks\":\"\",\"title\":{\"standoff\":15},\"zerolinecolor\":\"#283442\",\"zerolinewidth\":2},\"yaxis\":{\"automargin\":true,\"gridcolor\":\"#283442\",\"linecolor\":\"#506784\",\"ticks\":\"\",\"title\":{\"standoff\":15},\"zerolinecolor\":\"#283442\",\"zerolinewidth\":2}}},\"title\":{\"text\":\"Mean Salary by Work Year\",\"x\":0.5},\"xaxis\":{\"anchor\":\"y\",\"domain\":[0.0,1.0],\"title\":{\"text\":\"Work Year\"}},\"yaxis\":{\"anchor\":\"x\",\"domain\":[0.0,1.0],\"title\":{\"text\":\"Mean Salary (k)\"}},\"font\":{\"size\":17,\"family\":\"Franklin Gothic\"}},                        {\"responsive\": true}                    ).then(function(){\n",
              "                            \n",
              "var gd = document.getElementById('a6de36d7-1a0d-409d-ba59-80526a276c2a');\n",
              "var x = new MutationObserver(function (mutations, observer) {{\n",
              "        var display = window.getComputedStyle(gd).display;\n",
              "        if (!display || display === 'none') {{\n",
              "            console.log([gd, 'removed!']);\n",
              "            Plotly.purge(gd);\n",
              "            observer.disconnect();\n",
              "        }}\n",
              "}});\n",
              "\n",
              "// Listen for the removal of the full notebook cells\n",
              "var notebookContainer = gd.closest('#notebook-container');\n",
              "if (notebookContainer) {{\n",
              "    x.observe(notebookContainer, {childList: true});\n",
              "}}\n",
              "\n",
              "// Listen for the clearing of the current output cell\n",
              "var outputEl = gd.closest('.output');\n",
              "if (outputEl) {{\n",
              "    x.observe(outputEl, {childList: true});\n",
              "}}\n",
              "\n",
              "                        })                };                });            </script>        </div>"
            ]
          },
          "metadata": {}
        }
      ]
    },
    {
      "cell_type": "markdown",
      "source": [
        "There are higher salary amounts in 2023 and 2022 than the levels in 2021 and 2020.\n",
        "\n",
        "The salary levels in 2021 and 2020 are about the same."
      ],
      "metadata": {
        "id": "7CKHgYz_rkWM"
      }
    },
    {
      "cell_type": "code",
      "source": [
        "salary_designation = df.groupby(['salary_in_usd', 'job_title']).size().reset_index()\n",
        "salary_designation = salary_designation[-25:]\n",
        "fig = px.bar(x = salary_designation['job_title'], y = salary_designation['salary_in_usd'],\n",
        "            text = salary_designation['salary_in_usd'], color = salary_designation['salary_in_usd'])\n",
        "\n",
        "fig.update_layout( xaxis_title = \"Job Designation\", yaxis_title = \"Salaries \")\n",
        "fig.update_layout(xaxis_tickangle = -45,\n",
        "                  title = 'Top 25 Highest Salary by Designation',\n",
        "                  title_x=0.5\n",
        "                  )\n"
      ],
      "metadata": {
        "colab": {
          "base_uri": "https://localhost:8080/",
          "height": 542
        },
        "id": "ZfNLzClOs92q",
        "outputId": "5175d1b5-3fa1-4a50-f59f-974dde3fba1f"
      },
      "execution_count": 20,
      "outputs": [
        {
          "output_type": "display_data",
          "data": {
            "application/vnd.plotly.v1+json": {
              "data": [
                {
                  "alignmentgroup": "True",
                  "hovertemplate": "x=%{x}<br>y=%{y}<br>text=%{text}<br>color=%{marker.color}<extra></extra>",
                  "legendgroup": "",
                  "marker": {
                    "color": [
                      230000,
                      235000,
                      235000,
                      240000,
                      241000,
                      242000,
                      243900,
                      250000,
                      250000,
                      256000,
                      260000,
                      260000,
                      266400,
                      270000,
                      276000,
                      324000,
                      325000,
                      380000,
                      405000,
                      412000,
                      416000,
                      423000,
                      450000,
                      450000,
                      600000
                    ],
                    "coloraxis": "coloraxis",
                    "pattern": {
                      "shape": ""
                    }
                  },
                  "name": "",
                  "offsetgroup": "",
                  "orientation": "v",
                  "showlegend": false,
                  "text": [
                    230000,
                    235000,
                    235000,
                    240000,
                    241000,
                    242000,
                    243900,
                    250000,
                    250000,
                    256000,
                    260000,
                    260000,
                    266400,
                    270000,
                    276000,
                    324000,
                    325000,
                    380000,
                    405000,
                    412000,
                    416000,
                    423000,
                    450000,
                    450000,
                    600000
                  ],
                  "textposition": "auto",
                  "x": [
                    "Head of Data",
                    "Head of Data",
                    "Principal Data Scientist",
                    "Data Science Manager",
                    "Data Science Manager",
                    "Data Engineer",
                    "Data Engineer",
                    "Director of Data Science",
                    "Machine Learning Engineer",
                    "ML Engineer",
                    "Data Scientist",
                    "Machine Learning Scientist",
                    "Data Architect",
                    "ML Engineer",
                    "Lead Data Engineer",
                    "Data Engineer",
                    "Director of Data Science",
                    "Applied Data Scientist",
                    "Data Analytics Lead",
                    "Data Scientist",
                    "Principal Data Scientist",
                    "Applied Machine Learning Scientist",
                    "Financial Data Analyst",
                    "Research Scientist",
                    "Principal Data Engineer"
                  ],
                  "xaxis": "x",
                  "y": [
                    230000,
                    235000,
                    235000,
                    240000,
                    241000,
                    242000,
                    243900,
                    250000,
                    250000,
                    256000,
                    260000,
                    260000,
                    266400,
                    270000,
                    276000,
                    324000,
                    325000,
                    380000,
                    405000,
                    412000,
                    416000,
                    423000,
                    450000,
                    450000,
                    600000
                  ],
                  "yaxis": "y",
                  "type": "bar"
                }
              ],
              "layout": {
                "template": {
                  "data": {
                    "histogram2dcontour": [
                      {
                        "type": "histogram2dcontour",
                        "colorbar": {
                          "outlinewidth": 0,
                          "ticks": ""
                        },
                        "colorscale": [
                          [
                            0,
                            "#0d0887"
                          ],
                          [
                            0.1111111111111111,
                            "#46039f"
                          ],
                          [
                            0.2222222222222222,
                            "#7201a8"
                          ],
                          [
                            0.3333333333333333,
                            "#9c179e"
                          ],
                          [
                            0.4444444444444444,
                            "#bd3786"
                          ],
                          [
                            0.5555555555555556,
                            "#d8576b"
                          ],
                          [
                            0.6666666666666666,
                            "#ed7953"
                          ],
                          [
                            0.7777777777777778,
                            "#fb9f3a"
                          ],
                          [
                            0.8888888888888888,
                            "#fdca26"
                          ],
                          [
                            1,
                            "#f0f921"
                          ]
                        ]
                      }
                    ],
                    "choropleth": [
                      {
                        "type": "choropleth",
                        "colorbar": {
                          "outlinewidth": 0,
                          "ticks": ""
                        }
                      }
                    ],
                    "histogram2d": [
                      {
                        "type": "histogram2d",
                        "colorbar": {
                          "outlinewidth": 0,
                          "ticks": ""
                        },
                        "colorscale": [
                          [
                            0,
                            "#0d0887"
                          ],
                          [
                            0.1111111111111111,
                            "#46039f"
                          ],
                          [
                            0.2222222222222222,
                            "#7201a8"
                          ],
                          [
                            0.3333333333333333,
                            "#9c179e"
                          ],
                          [
                            0.4444444444444444,
                            "#bd3786"
                          ],
                          [
                            0.5555555555555556,
                            "#d8576b"
                          ],
                          [
                            0.6666666666666666,
                            "#ed7953"
                          ],
                          [
                            0.7777777777777778,
                            "#fb9f3a"
                          ],
                          [
                            0.8888888888888888,
                            "#fdca26"
                          ],
                          [
                            1,
                            "#f0f921"
                          ]
                        ]
                      }
                    ],
                    "heatmap": [
                      {
                        "type": "heatmap",
                        "colorbar": {
                          "outlinewidth": 0,
                          "ticks": ""
                        },
                        "colorscale": [
                          [
                            0,
                            "#0d0887"
                          ],
                          [
                            0.1111111111111111,
                            "#46039f"
                          ],
                          [
                            0.2222222222222222,
                            "#7201a8"
                          ],
                          [
                            0.3333333333333333,
                            "#9c179e"
                          ],
                          [
                            0.4444444444444444,
                            "#bd3786"
                          ],
                          [
                            0.5555555555555556,
                            "#d8576b"
                          ],
                          [
                            0.6666666666666666,
                            "#ed7953"
                          ],
                          [
                            0.7777777777777778,
                            "#fb9f3a"
                          ],
                          [
                            0.8888888888888888,
                            "#fdca26"
                          ],
                          [
                            1,
                            "#f0f921"
                          ]
                        ]
                      }
                    ],
                    "heatmapgl": [
                      {
                        "type": "heatmapgl",
                        "colorbar": {
                          "outlinewidth": 0,
                          "ticks": ""
                        },
                        "colorscale": [
                          [
                            0,
                            "#0d0887"
                          ],
                          [
                            0.1111111111111111,
                            "#46039f"
                          ],
                          [
                            0.2222222222222222,
                            "#7201a8"
                          ],
                          [
                            0.3333333333333333,
                            "#9c179e"
                          ],
                          [
                            0.4444444444444444,
                            "#bd3786"
                          ],
                          [
                            0.5555555555555556,
                            "#d8576b"
                          ],
                          [
                            0.6666666666666666,
                            "#ed7953"
                          ],
                          [
                            0.7777777777777778,
                            "#fb9f3a"
                          ],
                          [
                            0.8888888888888888,
                            "#fdca26"
                          ],
                          [
                            1,
                            "#f0f921"
                          ]
                        ]
                      }
                    ],
                    "contourcarpet": [
                      {
                        "type": "contourcarpet",
                        "colorbar": {
                          "outlinewidth": 0,
                          "ticks": ""
                        }
                      }
                    ],
                    "contour": [
                      {
                        "type": "contour",
                        "colorbar": {
                          "outlinewidth": 0,
                          "ticks": ""
                        },
                        "colorscale": [
                          [
                            0,
                            "#0d0887"
                          ],
                          [
                            0.1111111111111111,
                            "#46039f"
                          ],
                          [
                            0.2222222222222222,
                            "#7201a8"
                          ],
                          [
                            0.3333333333333333,
                            "#9c179e"
                          ],
                          [
                            0.4444444444444444,
                            "#bd3786"
                          ],
                          [
                            0.5555555555555556,
                            "#d8576b"
                          ],
                          [
                            0.6666666666666666,
                            "#ed7953"
                          ],
                          [
                            0.7777777777777778,
                            "#fb9f3a"
                          ],
                          [
                            0.8888888888888888,
                            "#fdca26"
                          ],
                          [
                            1,
                            "#f0f921"
                          ]
                        ]
                      }
                    ],
                    "surface": [
                      {
                        "type": "surface",
                        "colorbar": {
                          "outlinewidth": 0,
                          "ticks": ""
                        },
                        "colorscale": [
                          [
                            0,
                            "#0d0887"
                          ],
                          [
                            0.1111111111111111,
                            "#46039f"
                          ],
                          [
                            0.2222222222222222,
                            "#7201a8"
                          ],
                          [
                            0.3333333333333333,
                            "#9c179e"
                          ],
                          [
                            0.4444444444444444,
                            "#bd3786"
                          ],
                          [
                            0.5555555555555556,
                            "#d8576b"
                          ],
                          [
                            0.6666666666666666,
                            "#ed7953"
                          ],
                          [
                            0.7777777777777778,
                            "#fb9f3a"
                          ],
                          [
                            0.8888888888888888,
                            "#fdca26"
                          ],
                          [
                            1,
                            "#f0f921"
                          ]
                        ]
                      }
                    ],
                    "mesh3d": [
                      {
                        "type": "mesh3d",
                        "colorbar": {
                          "outlinewidth": 0,
                          "ticks": ""
                        }
                      }
                    ],
                    "scatter": [
                      {
                        "fillpattern": {
                          "fillmode": "overlay",
                          "size": 10,
                          "solidity": 0.2
                        },
                        "type": "scatter"
                      }
                    ],
                    "parcoords": [
                      {
                        "type": "parcoords",
                        "line": {
                          "colorbar": {
                            "outlinewidth": 0,
                            "ticks": ""
                          }
                        }
                      }
                    ],
                    "scatterpolargl": [
                      {
                        "type": "scatterpolargl",
                        "marker": {
                          "colorbar": {
                            "outlinewidth": 0,
                            "ticks": ""
                          }
                        }
                      }
                    ],
                    "bar": [
                      {
                        "error_x": {
                          "color": "#2a3f5f"
                        },
                        "error_y": {
                          "color": "#2a3f5f"
                        },
                        "marker": {
                          "line": {
                            "color": "#E5ECF6",
                            "width": 0.5
                          },
                          "pattern": {
                            "fillmode": "overlay",
                            "size": 10,
                            "solidity": 0.2
                          }
                        },
                        "type": "bar"
                      }
                    ],
                    "scattergeo": [
                      {
                        "type": "scattergeo",
                        "marker": {
                          "colorbar": {
                            "outlinewidth": 0,
                            "ticks": ""
                          }
                        }
                      }
                    ],
                    "scatterpolar": [
                      {
                        "type": "scatterpolar",
                        "marker": {
                          "colorbar": {
                            "outlinewidth": 0,
                            "ticks": ""
                          }
                        }
                      }
                    ],
                    "histogram": [
                      {
                        "marker": {
                          "pattern": {
                            "fillmode": "overlay",
                            "size": 10,
                            "solidity": 0.2
                          }
                        },
                        "type": "histogram"
                      }
                    ],
                    "scattergl": [
                      {
                        "type": "scattergl",
                        "marker": {
                          "colorbar": {
                            "outlinewidth": 0,
                            "ticks": ""
                          }
                        }
                      }
                    ],
                    "scatter3d": [
                      {
                        "type": "scatter3d",
                        "line": {
                          "colorbar": {
                            "outlinewidth": 0,
                            "ticks": ""
                          }
                        },
                        "marker": {
                          "colorbar": {
                            "outlinewidth": 0,
                            "ticks": ""
                          }
                        }
                      }
                    ],
                    "scattermapbox": [
                      {
                        "type": "scattermapbox",
                        "marker": {
                          "colorbar": {
                            "outlinewidth": 0,
                            "ticks": ""
                          }
                        }
                      }
                    ],
                    "scatterternary": [
                      {
                        "type": "scatterternary",
                        "marker": {
                          "colorbar": {
                            "outlinewidth": 0,
                            "ticks": ""
                          }
                        }
                      }
                    ],
                    "scattercarpet": [
                      {
                        "type": "scattercarpet",
                        "marker": {
                          "colorbar": {
                            "outlinewidth": 0,
                            "ticks": ""
                          }
                        }
                      }
                    ],
                    "carpet": [
                      {
                        "aaxis": {
                          "endlinecolor": "#2a3f5f",
                          "gridcolor": "white",
                          "linecolor": "white",
                          "minorgridcolor": "white",
                          "startlinecolor": "#2a3f5f"
                        },
                        "baxis": {
                          "endlinecolor": "#2a3f5f",
                          "gridcolor": "white",
                          "linecolor": "white",
                          "minorgridcolor": "white",
                          "startlinecolor": "#2a3f5f"
                        },
                        "type": "carpet"
                      }
                    ],
                    "table": [
                      {
                        "cells": {
                          "fill": {
                            "color": "#EBF0F8"
                          },
                          "line": {
                            "color": "white"
                          }
                        },
                        "header": {
                          "fill": {
                            "color": "#C8D4E3"
                          },
                          "line": {
                            "color": "white"
                          }
                        },
                        "type": "table"
                      }
                    ],
                    "barpolar": [
                      {
                        "marker": {
                          "line": {
                            "color": "#E5ECF6",
                            "width": 0.5
                          },
                          "pattern": {
                            "fillmode": "overlay",
                            "size": 10,
                            "solidity": 0.2
                          }
                        },
                        "type": "barpolar"
                      }
                    ],
                    "pie": [
                      {
                        "automargin": true,
                        "type": "pie"
                      }
                    ]
                  },
                  "layout": {
                    "autotypenumbers": "strict",
                    "colorway": [
                      "#636efa",
                      "#EF553B",
                      "#00cc96",
                      "#ab63fa",
                      "#FFA15A",
                      "#19d3f3",
                      "#FF6692",
                      "#B6E880",
                      "#FF97FF",
                      "#FECB52"
                    ],
                    "font": {
                      "color": "#2a3f5f"
                    },
                    "hovermode": "closest",
                    "hoverlabel": {
                      "align": "left"
                    },
                    "paper_bgcolor": "white",
                    "plot_bgcolor": "#E5ECF6",
                    "polar": {
                      "bgcolor": "#E5ECF6",
                      "angularaxis": {
                        "gridcolor": "white",
                        "linecolor": "white",
                        "ticks": ""
                      },
                      "radialaxis": {
                        "gridcolor": "white",
                        "linecolor": "white",
                        "ticks": ""
                      }
                    },
                    "ternary": {
                      "bgcolor": "#E5ECF6",
                      "aaxis": {
                        "gridcolor": "white",
                        "linecolor": "white",
                        "ticks": ""
                      },
                      "baxis": {
                        "gridcolor": "white",
                        "linecolor": "white",
                        "ticks": ""
                      },
                      "caxis": {
                        "gridcolor": "white",
                        "linecolor": "white",
                        "ticks": ""
                      }
                    },
                    "coloraxis": {
                      "colorbar": {
                        "outlinewidth": 0,
                        "ticks": ""
                      }
                    },
                    "colorscale": {
                      "sequential": [
                        [
                          0,
                          "#0d0887"
                        ],
                        [
                          0.1111111111111111,
                          "#46039f"
                        ],
                        [
                          0.2222222222222222,
                          "#7201a8"
                        ],
                        [
                          0.3333333333333333,
                          "#9c179e"
                        ],
                        [
                          0.4444444444444444,
                          "#bd3786"
                        ],
                        [
                          0.5555555555555556,
                          "#d8576b"
                        ],
                        [
                          0.6666666666666666,
                          "#ed7953"
                        ],
                        [
                          0.7777777777777778,
                          "#fb9f3a"
                        ],
                        [
                          0.8888888888888888,
                          "#fdca26"
                        ],
                        [
                          1,
                          "#f0f921"
                        ]
                      ],
                      "sequentialminus": [
                        [
                          0,
                          "#0d0887"
                        ],
                        [
                          0.1111111111111111,
                          "#46039f"
                        ],
                        [
                          0.2222222222222222,
                          "#7201a8"
                        ],
                        [
                          0.3333333333333333,
                          "#9c179e"
                        ],
                        [
                          0.4444444444444444,
                          "#bd3786"
                        ],
                        [
                          0.5555555555555556,
                          "#d8576b"
                        ],
                        [
                          0.6666666666666666,
                          "#ed7953"
                        ],
                        [
                          0.7777777777777778,
                          "#fb9f3a"
                        ],
                        [
                          0.8888888888888888,
                          "#fdca26"
                        ],
                        [
                          1,
                          "#f0f921"
                        ]
                      ],
                      "diverging": [
                        [
                          0,
                          "#8e0152"
                        ],
                        [
                          0.1,
                          "#c51b7d"
                        ],
                        [
                          0.2,
                          "#de77ae"
                        ],
                        [
                          0.3,
                          "#f1b6da"
                        ],
                        [
                          0.4,
                          "#fde0ef"
                        ],
                        [
                          0.5,
                          "#f7f7f7"
                        ],
                        [
                          0.6,
                          "#e6f5d0"
                        ],
                        [
                          0.7,
                          "#b8e186"
                        ],
                        [
                          0.8,
                          "#7fbc41"
                        ],
                        [
                          0.9,
                          "#4d9221"
                        ],
                        [
                          1,
                          "#276419"
                        ]
                      ]
                    },
                    "xaxis": {
                      "gridcolor": "white",
                      "linecolor": "white",
                      "ticks": "",
                      "title": {
                        "standoff": 15
                      },
                      "zerolinecolor": "white",
                      "automargin": true,
                      "zerolinewidth": 2
                    },
                    "yaxis": {
                      "gridcolor": "white",
                      "linecolor": "white",
                      "ticks": "",
                      "title": {
                        "standoff": 15
                      },
                      "zerolinecolor": "white",
                      "automargin": true,
                      "zerolinewidth": 2
                    },
                    "scene": {
                      "xaxis": {
                        "backgroundcolor": "#E5ECF6",
                        "gridcolor": "white",
                        "linecolor": "white",
                        "showbackground": true,
                        "ticks": "",
                        "zerolinecolor": "white",
                        "gridwidth": 2
                      },
                      "yaxis": {
                        "backgroundcolor": "#E5ECF6",
                        "gridcolor": "white",
                        "linecolor": "white",
                        "showbackground": true,
                        "ticks": "",
                        "zerolinecolor": "white",
                        "gridwidth": 2
                      },
                      "zaxis": {
                        "backgroundcolor": "#E5ECF6",
                        "gridcolor": "white",
                        "linecolor": "white",
                        "showbackground": true,
                        "ticks": "",
                        "zerolinecolor": "white",
                        "gridwidth": 2
                      }
                    },
                    "shapedefaults": {
                      "line": {
                        "color": "#2a3f5f"
                      }
                    },
                    "annotationdefaults": {
                      "arrowcolor": "#2a3f5f",
                      "arrowhead": 0,
                      "arrowwidth": 1
                    },
                    "geo": {
                      "bgcolor": "white",
                      "landcolor": "#E5ECF6",
                      "subunitcolor": "white",
                      "showland": true,
                      "showlakes": true,
                      "lakecolor": "white"
                    },
                    "title": {
                      "x": 0.05
                    },
                    "mapbox": {
                      "style": "light"
                    }
                  }
                },
                "xaxis": {
                  "anchor": "y",
                  "domain": [
                    0,
                    1
                  ],
                  "title": {
                    "text": "Job Designation"
                  },
                  "tickangle": -45
                },
                "yaxis": {
                  "anchor": "x",
                  "domain": [
                    0,
                    1
                  ],
                  "title": {
                    "text": "Salaries "
                  }
                },
                "coloraxis": {
                  "colorbar": {
                    "title": {
                      "text": "color"
                    }
                  },
                  "colorscale": [
                    [
                      0,
                      "#0d0887"
                    ],
                    [
                      0.1111111111111111,
                      "#46039f"
                    ],
                    [
                      0.2222222222222222,
                      "#7201a8"
                    ],
                    [
                      0.3333333333333333,
                      "#9c179e"
                    ],
                    [
                      0.4444444444444444,
                      "#bd3786"
                    ],
                    [
                      0.5555555555555556,
                      "#d8576b"
                    ],
                    [
                      0.6666666666666666,
                      "#ed7953"
                    ],
                    [
                      0.7777777777777778,
                      "#fb9f3a"
                    ],
                    [
                      0.8888888888888888,
                      "#fdca26"
                    ],
                    [
                      1,
                      "#f0f921"
                    ]
                  ]
                },
                "legend": {
                  "tracegroupgap": 0
                },
                "margin": {
                  "t": 60
                },
                "barmode": "relative",
                "title": {
                  "text": "Top 25 Highest Salary by Designation",
                  "x": 0.5
                }
              },
              "config": {
                "plotlyServerURL": "https://plot.ly"
              }
            },
            "text/html": [
              "<div>                            <div id=\"c6fc861c-14f8-49de-bfd3-9c416e57cb5e\" class=\"plotly-graph-div\" style=\"height:525px; width:100%;\"></div>            <script type=\"text/javascript\">                require([\"plotly\"], function(Plotly) {                    window.PLOTLYENV=window.PLOTLYENV || {};                                    if (document.getElementById(\"c6fc861c-14f8-49de-bfd3-9c416e57cb5e\")) {                    Plotly.newPlot(                        \"c6fc861c-14f8-49de-bfd3-9c416e57cb5e\",                        [{\"alignmentgroup\":\"True\",\"hovertemplate\":\"x=%{x}<br>y=%{y}<br>text=%{text}<br>color=%{marker.color}<extra></extra>\",\"legendgroup\":\"\",\"marker\":{\"color\":[230000,235000,235000,240000,241000,242000,243900,250000,250000,256000,260000,260000,266400,270000,276000,324000,325000,380000,405000,412000,416000,423000,450000,450000,600000],\"coloraxis\":\"coloraxis\",\"pattern\":{\"shape\":\"\"}},\"name\":\"\",\"offsetgroup\":\"\",\"orientation\":\"v\",\"showlegend\":false,\"text\":[230000.0,235000.0,235000.0,240000.0,241000.0,242000.0,243900.0,250000.0,250000.0,256000.0,260000.0,260000.0,266400.0,270000.0,276000.0,324000.0,325000.0,380000.0,405000.0,412000.0,416000.0,423000.0,450000.0,450000.0,600000.0],\"textposition\":\"auto\",\"x\":[\"Head of Data\",\"Head of Data\",\"Principal Data Scientist\",\"Data Science Manager\",\"Data Science Manager\",\"Data Engineer\",\"Data Engineer\",\"Director of Data Science\",\"Machine Learning Engineer\",\"ML Engineer\",\"Data Scientist\",\"Machine Learning Scientist\",\"Data Architect\",\"ML Engineer\",\"Lead Data Engineer\",\"Data Engineer\",\"Director of Data Science\",\"Applied Data Scientist\",\"Data Analytics Lead\",\"Data Scientist\",\"Principal Data Scientist\",\"Applied Machine Learning Scientist\",\"Financial Data Analyst\",\"Research Scientist\",\"Principal Data Engineer\"],\"xaxis\":\"x\",\"y\":[230000,235000,235000,240000,241000,242000,243900,250000,250000,256000,260000,260000,266400,270000,276000,324000,325000,380000,405000,412000,416000,423000,450000,450000,600000],\"yaxis\":\"y\",\"type\":\"bar\"}],                        {\"template\":{\"data\":{\"histogram2dcontour\":[{\"type\":\"histogram2dcontour\",\"colorbar\":{\"outlinewidth\":0,\"ticks\":\"\"},\"colorscale\":[[0.0,\"#0d0887\"],[0.1111111111111111,\"#46039f\"],[0.2222222222222222,\"#7201a8\"],[0.3333333333333333,\"#9c179e\"],[0.4444444444444444,\"#bd3786\"],[0.5555555555555556,\"#d8576b\"],[0.6666666666666666,\"#ed7953\"],[0.7777777777777778,\"#fb9f3a\"],[0.8888888888888888,\"#fdca26\"],[1.0,\"#f0f921\"]]}],\"choropleth\":[{\"type\":\"choropleth\",\"colorbar\":{\"outlinewidth\":0,\"ticks\":\"\"}}],\"histogram2d\":[{\"type\":\"histogram2d\",\"colorbar\":{\"outlinewidth\":0,\"ticks\":\"\"},\"colorscale\":[[0.0,\"#0d0887\"],[0.1111111111111111,\"#46039f\"],[0.2222222222222222,\"#7201a8\"],[0.3333333333333333,\"#9c179e\"],[0.4444444444444444,\"#bd3786\"],[0.5555555555555556,\"#d8576b\"],[0.6666666666666666,\"#ed7953\"],[0.7777777777777778,\"#fb9f3a\"],[0.8888888888888888,\"#fdca26\"],[1.0,\"#f0f921\"]]}],\"heatmap\":[{\"type\":\"heatmap\",\"colorbar\":{\"outlinewidth\":0,\"ticks\":\"\"},\"colorscale\":[[0.0,\"#0d0887\"],[0.1111111111111111,\"#46039f\"],[0.2222222222222222,\"#7201a8\"],[0.3333333333333333,\"#9c179e\"],[0.4444444444444444,\"#bd3786\"],[0.5555555555555556,\"#d8576b\"],[0.6666666666666666,\"#ed7953\"],[0.7777777777777778,\"#fb9f3a\"],[0.8888888888888888,\"#fdca26\"],[1.0,\"#f0f921\"]]}],\"heatmapgl\":[{\"type\":\"heatmapgl\",\"colorbar\":{\"outlinewidth\":0,\"ticks\":\"\"},\"colorscale\":[[0.0,\"#0d0887\"],[0.1111111111111111,\"#46039f\"],[0.2222222222222222,\"#7201a8\"],[0.3333333333333333,\"#9c179e\"],[0.4444444444444444,\"#bd3786\"],[0.5555555555555556,\"#d8576b\"],[0.6666666666666666,\"#ed7953\"],[0.7777777777777778,\"#fb9f3a\"],[0.8888888888888888,\"#fdca26\"],[1.0,\"#f0f921\"]]}],\"contourcarpet\":[{\"type\":\"contourcarpet\",\"colorbar\":{\"outlinewidth\":0,\"ticks\":\"\"}}],\"contour\":[{\"type\":\"contour\",\"colorbar\":{\"outlinewidth\":0,\"ticks\":\"\"},\"colorscale\":[[0.0,\"#0d0887\"],[0.1111111111111111,\"#46039f\"],[0.2222222222222222,\"#7201a8\"],[0.3333333333333333,\"#9c179e\"],[0.4444444444444444,\"#bd3786\"],[0.5555555555555556,\"#d8576b\"],[0.6666666666666666,\"#ed7953\"],[0.7777777777777778,\"#fb9f3a\"],[0.8888888888888888,\"#fdca26\"],[1.0,\"#f0f921\"]]}],\"surface\":[{\"type\":\"surface\",\"colorbar\":{\"outlinewidth\":0,\"ticks\":\"\"},\"colorscale\":[[0.0,\"#0d0887\"],[0.1111111111111111,\"#46039f\"],[0.2222222222222222,\"#7201a8\"],[0.3333333333333333,\"#9c179e\"],[0.4444444444444444,\"#bd3786\"],[0.5555555555555556,\"#d8576b\"],[0.6666666666666666,\"#ed7953\"],[0.7777777777777778,\"#fb9f3a\"],[0.8888888888888888,\"#fdca26\"],[1.0,\"#f0f921\"]]}],\"mesh3d\":[{\"type\":\"mesh3d\",\"colorbar\":{\"outlinewidth\":0,\"ticks\":\"\"}}],\"scatter\":[{\"fillpattern\":{\"fillmode\":\"overlay\",\"size\":10,\"solidity\":0.2},\"type\":\"scatter\"}],\"parcoords\":[{\"type\":\"parcoords\",\"line\":{\"colorbar\":{\"outlinewidth\":0,\"ticks\":\"\"}}}],\"scatterpolargl\":[{\"type\":\"scatterpolargl\",\"marker\":{\"colorbar\":{\"outlinewidth\":0,\"ticks\":\"\"}}}],\"bar\":[{\"error_x\":{\"color\":\"#2a3f5f\"},\"error_y\":{\"color\":\"#2a3f5f\"},\"marker\":{\"line\":{\"color\":\"#E5ECF6\",\"width\":0.5},\"pattern\":{\"fillmode\":\"overlay\",\"size\":10,\"solidity\":0.2}},\"type\":\"bar\"}],\"scattergeo\":[{\"type\":\"scattergeo\",\"marker\":{\"colorbar\":{\"outlinewidth\":0,\"ticks\":\"\"}}}],\"scatterpolar\":[{\"type\":\"scatterpolar\",\"marker\":{\"colorbar\":{\"outlinewidth\":0,\"ticks\":\"\"}}}],\"histogram\":[{\"marker\":{\"pattern\":{\"fillmode\":\"overlay\",\"size\":10,\"solidity\":0.2}},\"type\":\"histogram\"}],\"scattergl\":[{\"type\":\"scattergl\",\"marker\":{\"colorbar\":{\"outlinewidth\":0,\"ticks\":\"\"}}}],\"scatter3d\":[{\"type\":\"scatter3d\",\"line\":{\"colorbar\":{\"outlinewidth\":0,\"ticks\":\"\"}},\"marker\":{\"colorbar\":{\"outlinewidth\":0,\"ticks\":\"\"}}}],\"scattermapbox\":[{\"type\":\"scattermapbox\",\"marker\":{\"colorbar\":{\"outlinewidth\":0,\"ticks\":\"\"}}}],\"scatterternary\":[{\"type\":\"scatterternary\",\"marker\":{\"colorbar\":{\"outlinewidth\":0,\"ticks\":\"\"}}}],\"scattercarpet\":[{\"type\":\"scattercarpet\",\"marker\":{\"colorbar\":{\"outlinewidth\":0,\"ticks\":\"\"}}}],\"carpet\":[{\"aaxis\":{\"endlinecolor\":\"#2a3f5f\",\"gridcolor\":\"white\",\"linecolor\":\"white\",\"minorgridcolor\":\"white\",\"startlinecolor\":\"#2a3f5f\"},\"baxis\":{\"endlinecolor\":\"#2a3f5f\",\"gridcolor\":\"white\",\"linecolor\":\"white\",\"minorgridcolor\":\"white\",\"startlinecolor\":\"#2a3f5f\"},\"type\":\"carpet\"}],\"table\":[{\"cells\":{\"fill\":{\"color\":\"#EBF0F8\"},\"line\":{\"color\":\"white\"}},\"header\":{\"fill\":{\"color\":\"#C8D4E3\"},\"line\":{\"color\":\"white\"}},\"type\":\"table\"}],\"barpolar\":[{\"marker\":{\"line\":{\"color\":\"#E5ECF6\",\"width\":0.5},\"pattern\":{\"fillmode\":\"overlay\",\"size\":10,\"solidity\":0.2}},\"type\":\"barpolar\"}],\"pie\":[{\"automargin\":true,\"type\":\"pie\"}]},\"layout\":{\"autotypenumbers\":\"strict\",\"colorway\":[\"#636efa\",\"#EF553B\",\"#00cc96\",\"#ab63fa\",\"#FFA15A\",\"#19d3f3\",\"#FF6692\",\"#B6E880\",\"#FF97FF\",\"#FECB52\"],\"font\":{\"color\":\"#2a3f5f\"},\"hovermode\":\"closest\",\"hoverlabel\":{\"align\":\"left\"},\"paper_bgcolor\":\"white\",\"plot_bgcolor\":\"#E5ECF6\",\"polar\":{\"bgcolor\":\"#E5ECF6\",\"angularaxis\":{\"gridcolor\":\"white\",\"linecolor\":\"white\",\"ticks\":\"\"},\"radialaxis\":{\"gridcolor\":\"white\",\"linecolor\":\"white\",\"ticks\":\"\"}},\"ternary\":{\"bgcolor\":\"#E5ECF6\",\"aaxis\":{\"gridcolor\":\"white\",\"linecolor\":\"white\",\"ticks\":\"\"},\"baxis\":{\"gridcolor\":\"white\",\"linecolor\":\"white\",\"ticks\":\"\"},\"caxis\":{\"gridcolor\":\"white\",\"linecolor\":\"white\",\"ticks\":\"\"}},\"coloraxis\":{\"colorbar\":{\"outlinewidth\":0,\"ticks\":\"\"}},\"colorscale\":{\"sequential\":[[0.0,\"#0d0887\"],[0.1111111111111111,\"#46039f\"],[0.2222222222222222,\"#7201a8\"],[0.3333333333333333,\"#9c179e\"],[0.4444444444444444,\"#bd3786\"],[0.5555555555555556,\"#d8576b\"],[0.6666666666666666,\"#ed7953\"],[0.7777777777777778,\"#fb9f3a\"],[0.8888888888888888,\"#fdca26\"],[1.0,\"#f0f921\"]],\"sequentialminus\":[[0.0,\"#0d0887\"],[0.1111111111111111,\"#46039f\"],[0.2222222222222222,\"#7201a8\"],[0.3333333333333333,\"#9c179e\"],[0.4444444444444444,\"#bd3786\"],[0.5555555555555556,\"#d8576b\"],[0.6666666666666666,\"#ed7953\"],[0.7777777777777778,\"#fb9f3a\"],[0.8888888888888888,\"#fdca26\"],[1.0,\"#f0f921\"]],\"diverging\":[[0,\"#8e0152\"],[0.1,\"#c51b7d\"],[0.2,\"#de77ae\"],[0.3,\"#f1b6da\"],[0.4,\"#fde0ef\"],[0.5,\"#f7f7f7\"],[0.6,\"#e6f5d0\"],[0.7,\"#b8e186\"],[0.8,\"#7fbc41\"],[0.9,\"#4d9221\"],[1,\"#276419\"]]},\"xaxis\":{\"gridcolor\":\"white\",\"linecolor\":\"white\",\"ticks\":\"\",\"title\":{\"standoff\":15},\"zerolinecolor\":\"white\",\"automargin\":true,\"zerolinewidth\":2},\"yaxis\":{\"gridcolor\":\"white\",\"linecolor\":\"white\",\"ticks\":\"\",\"title\":{\"standoff\":15},\"zerolinecolor\":\"white\",\"automargin\":true,\"zerolinewidth\":2},\"scene\":{\"xaxis\":{\"backgroundcolor\":\"#E5ECF6\",\"gridcolor\":\"white\",\"linecolor\":\"white\",\"showbackground\":true,\"ticks\":\"\",\"zerolinecolor\":\"white\",\"gridwidth\":2},\"yaxis\":{\"backgroundcolor\":\"#E5ECF6\",\"gridcolor\":\"white\",\"linecolor\":\"white\",\"showbackground\":true,\"ticks\":\"\",\"zerolinecolor\":\"white\",\"gridwidth\":2},\"zaxis\":{\"backgroundcolor\":\"#E5ECF6\",\"gridcolor\":\"white\",\"linecolor\":\"white\",\"showbackground\":true,\"ticks\":\"\",\"zerolinecolor\":\"white\",\"gridwidth\":2}},\"shapedefaults\":{\"line\":{\"color\":\"#2a3f5f\"}},\"annotationdefaults\":{\"arrowcolor\":\"#2a3f5f\",\"arrowhead\":0,\"arrowwidth\":1},\"geo\":{\"bgcolor\":\"white\",\"landcolor\":\"#E5ECF6\",\"subunitcolor\":\"white\",\"showland\":true,\"showlakes\":true,\"lakecolor\":\"white\"},\"title\":{\"x\":0.05},\"mapbox\":{\"style\":\"light\"}}},\"xaxis\":{\"anchor\":\"y\",\"domain\":[0.0,1.0],\"title\":{\"text\":\"Job Designation\"},\"tickangle\":-45},\"yaxis\":{\"anchor\":\"x\",\"domain\":[0.0,1.0],\"title\":{\"text\":\"Salaries \"}},\"coloraxis\":{\"colorbar\":{\"title\":{\"text\":\"color\"}},\"colorscale\":[[0.0,\"#0d0887\"],[0.1111111111111111,\"#46039f\"],[0.2222222222222222,\"#7201a8\"],[0.3333333333333333,\"#9c179e\"],[0.4444444444444444,\"#bd3786\"],[0.5555555555555556,\"#d8576b\"],[0.6666666666666666,\"#ed7953\"],[0.7777777777777778,\"#fb9f3a\"],[0.8888888888888888,\"#fdca26\"],[1.0,\"#f0f921\"]]},\"legend\":{\"tracegroupgap\":0},\"margin\":{\"t\":60},\"barmode\":\"relative\",\"title\":{\"text\":\"Top 25 Highest Salary by Designation\",\"x\":0.5}},                        {\"responsive\": true}                    ).then(function(){\n",
              "                            \n",
              "var gd = document.getElementById('c6fc861c-14f8-49de-bfd3-9c416e57cb5e');\n",
              "var x = new MutationObserver(function (mutations, observer) {{\n",
              "        var display = window.getComputedStyle(gd).display;\n",
              "        if (!display || display === 'none') {{\n",
              "            console.log([gd, 'removed!']);\n",
              "            Plotly.purge(gd);\n",
              "            observer.disconnect();\n",
              "        }}\n",
              "}});\n",
              "\n",
              "// Listen for the removal of the full notebook cells\n",
              "var notebookContainer = gd.closest('#notebook-container');\n",
              "if (notebookContainer) {{\n",
              "    x.observe(notebookContainer, {childList: true});\n",
              "}}\n",
              "\n",
              "// Listen for the clearing of the current output cell\n",
              "var outputEl = gd.closest('.output');\n",
              "if (outputEl) {{\n",
              "    x.observe(outputEl, {childList: true});\n",
              "}}\n",
              "\n",
              "                        })                };                });            </script>        </div>"
            ]
          },
          "metadata": {}
        }
      ]
    },
    {
      "cell_type": "markdown",
      "source": [
        "After performing data cleaning and loading it into our file, we have successfully utilized visualization libraries such as Matplotlib and Plotly to derive various insights from the data."
      ],
      "metadata": {
        "id": "f5MRmAPwroXw"
      }
    }
  ]
}